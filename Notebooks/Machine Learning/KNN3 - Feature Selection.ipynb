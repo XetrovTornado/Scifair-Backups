{
 "cells": [
  {
   "cell_type": "markdown",
   "metadata": {},
   "source": [
    "# CSE-CIC-IDS 2017 K Nearest Neighbors Classifier"
   ]
  },
  {
   "cell_type": "code",
   "execution_count": 1,
   "metadata": {},
   "outputs": [],
   "source": [
    "model_id = \"knn3-featureselection\""
   ]
  },
  {
   "cell_type": "code",
   "execution_count": 2,
   "metadata": {},
   "outputs": [],
   "source": [
    "import numpy as np\n",
    "import pandas as pd\n",
    "import matplotlib.pyplot as plt\n",
    "import seaborn as sns\n",
    "from tqdm import tqdm\n",
    "\n",
    "import glob"
   ]
  },
  {
   "cell_type": "code",
   "execution_count": 3,
   "metadata": {},
   "outputs": [],
   "source": [
    "NOTEBOOK_PATH = \"C:/Users/Xetrov/Desktop/SciFair20/Code/\""
   ]
  },
  {
   "cell_type": "code",
   "execution_count": 4,
   "metadata": {},
   "outputs": [],
   "source": [
    "selected_features = [\n",
    "    'Destination Port',\n",
    "    'Init_Win_bytes_forward',\n",
    "    'Avg Fwd Segment Size',\n",
    "    'Subflow Fwd Bytes',\n",
    "    'Packet Length Std',\n",
    "    'Packet Length Variance',\n",
    "    'Fwd Packet Length Mean',\n",
    "    'Init_Win_bytes_backward',\n",
    "    'Fwd Packet Length Max',\n",
    "    'Packet Length Mean',\n",
    "    'Total Length of Fwd Packets',\n",
    "    'Average Packet Size',\n",
    "    'Max Packet Length'\n",
    "]"
   ]
  },
  {
   "cell_type": "code",
   "execution_count": 5,
   "metadata": {},
   "outputs": [],
   "source": [
    "x_scaled = pd.read_csv(NOTEBOOK_PATH + \"IDS2017/x_scaled_powertransform.csv\")[selected_features]\n",
    "\n",
    "y_df_enc = pd.read_csv(NOTEBOOK_PATH + \"IDS2017/y_all_binary.csv\")"
   ]
  },
  {
   "cell_type": "markdown",
   "metadata": {},
   "source": [
    "# Split data into train and test"
   ]
  },
  {
   "cell_type": "code",
   "execution_count": 6,
   "metadata": {},
   "outputs": [],
   "source": [
    "from sklearn.model_selection import train_test_split"
   ]
  },
  {
   "cell_type": "code",
   "execution_count": 7,
   "metadata": {},
   "outputs": [],
   "source": [
    "x_train, x_valtest, y_train, y_valtest = train_test_split(x_scaled, y_df_enc, test_size = 0.4, random_state = 42)"
   ]
  },
  {
   "cell_type": "code",
   "execution_count": 8,
   "metadata": {},
   "outputs": [],
   "source": [
    "x_val, x_test, y_val, y_test = train_test_split(x_valtest, y_valtest, test_size = 0.5, random_state = 42)"
   ]
  },
  {
   "cell_type": "code",
   "execution_count": 9,
   "metadata": {},
   "outputs": [],
   "source": [
    "del x_train\n",
    "del y_train\n",
    "del x_valtest \n",
    "del y_valtest"
   ]
  },
  {
   "cell_type": "markdown",
   "metadata": {},
   "source": [
    "# ADASYN"
   ]
  },
  {
   "cell_type": "code",
   "execution_count": 10,
   "metadata": {},
   "outputs": [],
   "source": [
    "x_train_res = pd.read_csv(NOTEBOOK_PATH + \"IDS2017/x_adasyn_binary.csv\")[selected_features]"
   ]
  },
  {
   "cell_type": "code",
   "execution_count": 11,
   "metadata": {},
   "outputs": [],
   "source": [
    "y_train_res = pd.read_csv(NOTEBOOK_PATH + \"IDS2017/y_adasyn_binary.csv\")['IsAttack']"
   ]
  },
  {
   "cell_type": "markdown",
   "metadata": {},
   "source": [
    "# Train model"
   ]
  },
  {
   "cell_type": "code",
   "execution_count": 12,
   "metadata": {},
   "outputs": [],
   "source": [
    "from sklearn.neighbors import KNeighborsClassifier"
   ]
  },
  {
   "cell_type": "code",
   "execution_count": 13,
   "metadata": {},
   "outputs": [
    {
     "name": "stdout",
     "output_type": "stream",
     "text": [
      "Wall time: 46min 5s\n"
     ]
    }
   ],
   "source": [
    "%%time\n",
    "clf = KNeighborsClassifier(n_neighbors=5, weights='distance', n_jobs=12).fit(x_train_res, y_train_res)"
   ]
  },
  {
   "cell_type": "markdown",
   "metadata": {},
   "source": [
    "**Save model**"
   ]
  },
  {
   "cell_type": "code",
   "execution_count": 14,
   "metadata": {},
   "outputs": [],
   "source": [
    "import pickle"
   ]
  },
  {
   "cell_type": "code",
   "execution_count": 15,
   "metadata": {},
   "outputs": [],
   "source": [
    "import time\n",
    "\n",
    "model_filename = model_id  + \" [\" + time.strftime(\"%Y%m%d %H%M\") + \"]\""
   ]
  },
  {
   "cell_type": "code",
   "execution_count": 16,
   "metadata": {},
   "outputs": [],
   "source": [
    "save_file = open(NOTEBOOK_PATH + \"Models/\" + model_filename + \".pkl\", \"wb\")\n",
    "saved_model = pickle.dump(clf, save_file)\n",
    "save_file.close()"
   ]
  },
  {
   "cell_type": "markdown",
   "metadata": {},
   "source": [
    "**Test model**"
   ]
  },
  {
   "cell_type": "code",
   "execution_count": 17,
   "metadata": {},
   "outputs": [],
   "source": [
    "pred = clf.predict(x_val)"
   ]
  },
  {
   "cell_type": "code",
   "execution_count": 18,
   "metadata": {},
   "outputs": [
    {
     "data": {
      "text/html": [
       "<div>\n",
       "<style scoped>\n",
       "    .dataframe tbody tr th:only-of-type {\n",
       "        vertical-align: middle;\n",
       "    }\n",
       "\n",
       "    .dataframe tbody tr th {\n",
       "        vertical-align: top;\n",
       "    }\n",
       "\n",
       "    .dataframe thead th {\n",
       "        text-align: right;\n",
       "    }\n",
       "</style>\n",
       "<table border=\"1\" class=\"dataframe\">\n",
       "  <thead>\n",
       "    <tr style=\"text-align: right;\">\n",
       "      <th>Actual</th>\n",
       "      <th>Attack</th>\n",
       "      <th>Benign</th>\n",
       "      <th>All</th>\n",
       "    </tr>\n",
       "    <tr>\n",
       "      <th>Pred</th>\n",
       "      <th></th>\n",
       "      <th></th>\n",
       "      <th></th>\n",
       "    </tr>\n",
       "  </thead>\n",
       "  <tbody>\n",
       "    <tr>\n",
       "      <th>Attack</th>\n",
       "      <td>111481</td>\n",
       "      <td>898</td>\n",
       "      <td>112379</td>\n",
       "    </tr>\n",
       "    <tr>\n",
       "      <th>Benign</th>\n",
       "      <td>461</td>\n",
       "      <td>453309</td>\n",
       "      <td>453770</td>\n",
       "    </tr>\n",
       "    <tr>\n",
       "      <th>All</th>\n",
       "      <td>111942</td>\n",
       "      <td>454207</td>\n",
       "      <td>566149</td>\n",
       "    </tr>\n",
       "  </tbody>\n",
       "</table>\n",
       "</div>"
      ],
      "text/plain": [
       "Actual  Attack  Benign     All\n",
       "Pred                          \n",
       "Attack  111481     898  112379\n",
       "Benign     461  453309  453770\n",
       "All     111942  454207  566149"
      ]
     },
     "execution_count": 18,
     "metadata": {},
     "output_type": "execute_result"
    }
   ],
   "source": [
    "pred_series = pd.Series(pred, name=\"Pred\").replace({0: 'Benign', 1: 'Attack'})\n",
    "y_series = pd.Series(y_val.to_numpy().ravel(), name=\"Actual\").replace({0: 'Benign', 1: 'Attack'})\n",
    "\n",
    "matrix = pd.crosstab(pred_series, y_series, margins=True)\n",
    "matrix"
   ]
  },
  {
   "cell_type": "markdown",
   "metadata": {},
   "source": [
    "# Test Set"
   ]
  },
  {
   "cell_type": "code",
   "execution_count": 19,
   "metadata": {},
   "outputs": [],
   "source": [
    "from sklearn.metrics import f1_score, precision_score, recall_score"
   ]
  },
  {
   "cell_type": "code",
   "execution_count": 20,
   "metadata": {},
   "outputs": [
    {
     "name": "stdout",
     "output_type": "stream",
     "text": [
      "Precision: 0.9921254205741284\n",
      "Recall: 0.9956267567057894\n",
      "F1: 0.9938730049168351\n"
     ]
    }
   ],
   "source": [
    "pred = clf.predict(x_test)\n",
    "y_test_npy = y_test.to_numpy().ravel()\n",
    "\n",
    "precision = precision_score(y_test_npy, pred)\n",
    "print(\"Precision:\", precision)\n",
    "\n",
    "recall = recall_score(y_test_npy, pred)\n",
    "print(\"Recall:\", recall)\n",
    "\n",
    "f1 = f1_score(y_test_npy, pred)\n",
    "print(\"F1:\", f1)"
   ]
  },
  {
   "cell_type": "code",
   "execution_count": 21,
   "metadata": {},
   "outputs": [
    {
     "data": {
      "text/html": [
       "<div>\n",
       "<style scoped>\n",
       "    .dataframe tbody tr th:only-of-type {\n",
       "        vertical-align: middle;\n",
       "    }\n",
       "\n",
       "    .dataframe tbody tr th {\n",
       "        vertical-align: top;\n",
       "    }\n",
       "\n",
       "    .dataframe thead th {\n",
       "        text-align: right;\n",
       "    }\n",
       "</style>\n",
       "<table border=\"1\" class=\"dataframe\">\n",
       "  <thead>\n",
       "    <tr style=\"text-align: right;\">\n",
       "      <th>Actual</th>\n",
       "      <th>Attack</th>\n",
       "      <th>Benign</th>\n",
       "      <th>All</th>\n",
       "    </tr>\n",
       "    <tr>\n",
       "      <th>Pred</th>\n",
       "      <th></th>\n",
       "      <th></th>\n",
       "      <th></th>\n",
       "    </tr>\n",
       "  </thead>\n",
       "  <tbody>\n",
       "    <tr>\n",
       "      <th>Attack</th>\n",
       "      <td>110872</td>\n",
       "      <td>880</td>\n",
       "      <td>111752</td>\n",
       "    </tr>\n",
       "    <tr>\n",
       "      <th>Benign</th>\n",
       "      <td>487</td>\n",
       "      <td>453910</td>\n",
       "      <td>454397</td>\n",
       "    </tr>\n",
       "    <tr>\n",
       "      <th>All</th>\n",
       "      <td>111359</td>\n",
       "      <td>454790</td>\n",
       "      <td>566149</td>\n",
       "    </tr>\n",
       "  </tbody>\n",
       "</table>\n",
       "</div>"
      ],
      "text/plain": [
       "Actual  Attack  Benign     All\n",
       "Pred                          \n",
       "Attack  110872     880  111752\n",
       "Benign     487  453910  454397\n",
       "All     111359  454790  566149"
      ]
     },
     "execution_count": 21,
     "metadata": {},
     "output_type": "execute_result"
    }
   ],
   "source": [
    "pred_series = pd.Series(pred, name=\"Pred\").replace({0: 'Benign', 1: 'Attack'})\n",
    "y_series = pd.Series(y_test.to_numpy().ravel(), name=\"Actual\").replace({0: 'Benign', 1: 'Attack'})\n",
    "\n",
    "matrix = pd.crosstab(pred_series, y_series, margins=True)\n",
    "matrix"
   ]
  },
  {
   "cell_type": "markdown",
   "metadata": {},
   "source": [
    "# Log results"
   ]
  },
  {
   "cell_type": "code",
   "execution_count": 18,
   "metadata": {},
   "outputs": [],
   "source": [
    "model_log = open(NOTEBOOK_PATH + \"model_log.txt\", \"a\")\n",
    "\n",
    "model_log.write(\"\\n\" + model_filename)\n",
    "model_log.write(\"\\n\\tF1 Micro: \" + str(f1_micro))\n",
    "model_log.write(\"\\n\\tF1 Macro: \" + str(f1_macro))\n",
    "\n",
    "model_log.close()"
   ]
  },
  {
   "cell_type": "code",
   "execution_count": null,
   "metadata": {},
   "outputs": [],
   "source": []
  }
 ],
 "metadata": {
  "kernelspec": {
   "display_name": "Python 3",
   "language": "python",
   "name": "python3"
  },
  "language_info": {
   "codemirror_mode": {
    "name": "ipython",
    "version": 3
   },
   "file_extension": ".py",
   "mimetype": "text/x-python",
   "name": "python",
   "nbconvert_exporter": "python",
   "pygments_lexer": "ipython3",
   "version": "3.6.7"
  }
 },
 "nbformat": 4,
 "nbformat_minor": 4
}

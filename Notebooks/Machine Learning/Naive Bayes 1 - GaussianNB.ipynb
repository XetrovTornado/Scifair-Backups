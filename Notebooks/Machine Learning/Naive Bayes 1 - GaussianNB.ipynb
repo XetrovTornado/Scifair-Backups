{
 "cells": [
  {
   "cell_type": "markdown",
   "metadata": {},
   "source": [
    "# CSE-CIC-IDS 2017 Naive Bayes"
   ]
  },
  {
   "cell_type": "code",
   "execution_count": 1,
   "metadata": {},
   "outputs": [],
   "source": [
    "model_id = \"naivebayes1-gaussiannb\""
   ]
  },
  {
   "cell_type": "code",
   "execution_count": 2,
   "metadata": {},
   "outputs": [],
   "source": [
    "import numpy as np\n",
    "import pandas as pd\n",
    "import matplotlib.pyplot as plt\n",
    "import seaborn as sns\n",
    "from tqdm import tqdm\n",
    "\n",
    "import glob"
   ]
  },
  {
   "cell_type": "code",
   "execution_count": 3,
   "metadata": {},
   "outputs": [],
   "source": [
    "NOTEBOOK_PATH = \"C:/Users/Xetrov/Desktop/SciFair20/Code/\""
   ]
  },
  {
   "cell_type": "code",
   "execution_count": 4,
   "metadata": {},
   "outputs": [],
   "source": [
    "x_scaled = pd.read_csv(NOTEBOOK_PATH + \"IDS2017/x_scaled_powertransform.csv\")\n",
    "\n",
    "y_df_enc = pd.read_csv(NOTEBOOK_PATH + \"IDS2017/y_grouped_1henc.csv\")"
   ]
  },
  {
   "cell_type": "markdown",
   "metadata": {},
   "source": [
    "# Split data into train and test"
   ]
  },
  {
   "cell_type": "code",
   "execution_count": 5,
   "metadata": {},
   "outputs": [],
   "source": [
    "from sklearn.model_selection import train_test_split"
   ]
  },
  {
   "cell_type": "code",
   "execution_count": 6,
   "metadata": {},
   "outputs": [],
   "source": [
    "x_train, x_valtest, y_train, y_valtest = train_test_split(x_scaled, y_df_enc, test_size = 0.4, random_state = 42)"
   ]
  },
  {
   "cell_type": "code",
   "execution_count": 7,
   "metadata": {},
   "outputs": [],
   "source": [
    "x_val, x_test, y_val, y_test = train_test_split(x_valtest, y_valtest, test_size = 0.5, random_state = 42)"
   ]
  },
  {
   "cell_type": "code",
   "execution_count": 8,
   "metadata": {},
   "outputs": [],
   "source": [
    "del x_valtest \n",
    "del y_valtest"
   ]
  },
  {
   "cell_type": "code",
   "execution_count": 9,
   "metadata": {},
   "outputs": [
    {
     "name": "stdout",
     "output_type": "stream",
     "text": [
      "Train:\n",
      "BENIGN          1364100\n",
      "Botnet             1185\n",
      "Brute Force        8273\n",
      "DoS/DDoS         228292\n",
      "Infiltration         24\n",
      "PortScan          95267\n",
      "Web Attack         1304\n",
      "dtype: int64\n",
      "\n",
      "Validation:\n",
      "BENIGN          454207\n",
      "Botnet             397\n",
      "Brute Force       2810\n",
      "DoS/DDoS         76510\n",
      "Infiltration         7\n",
      "PortScan         31787\n",
      "Web Attack         431\n",
      "dtype: int64\n",
      "\n",
      "Test:\n",
      "BENIGN          454790\n",
      "Botnet             384\n",
      "Brute Force       2752\n",
      "DoS/DDoS         75897\n",
      "Infiltration         5\n",
      "PortScan         31876\n",
      "Web Attack         445\n",
      "dtype: int64\n"
     ]
    }
   ],
   "source": [
    "print(\"Train:\")\n",
    "print(y_train.sum(axis=0))\n",
    "print(\"\\nValidation:\")\n",
    "print(y_val.sum(axis=0))\n",
    "print(\"\\nTest:\")\n",
    "print(y_test.sum(axis=0))"
   ]
  },
  {
   "cell_type": "markdown",
   "metadata": {},
   "source": [
    "# ADASYN"
   ]
  },
  {
   "cell_type": "code",
   "execution_count": 10,
   "metadata": {},
   "outputs": [],
   "source": [
    "x_train_res = pd.read_csv(NOTEBOOK_PATH + \"IDS2017/x_adasyn.csv\").to_numpy()"
   ]
  },
  {
   "cell_type": "code",
   "execution_count": 11,
   "metadata": {},
   "outputs": [],
   "source": [
    "y_train_res = pd.read_csv(NOTEBOOK_PATH + \"IDS2017/y_adasyn.csv\")\n",
    "\n",
    "y_train_res2 = pd.get_dummies(y_train_res[y_train_res.columns[0]])"
   ]
  },
  {
   "cell_type": "markdown",
   "metadata": {},
   "source": [
    "# Train model"
   ]
  },
  {
   "cell_type": "code",
   "execution_count": 26,
   "metadata": {},
   "outputs": [],
   "source": [
    "from sklearn.naive_bayes import GaussianNB, MultinomialNB, BernoulliNB, ComplementNB"
   ]
  },
  {
   "cell_type": "code",
   "execution_count": 27,
   "metadata": {},
   "outputs": [
    {
     "name": "stderr",
     "output_type": "stream",
     "text": [
      "C:\\Users\\Xetrov\\AppData\\Local\\Continuum\\anaconda3\\lib\\site-packages\\sklearn\\utils\\validation.py:724: DataConversionWarning: A column-vector y was passed when a 1d array was expected. Please change the shape of y to (n_samples, ), for example using ravel().\n",
      "  y = column_or_1d(y, warn=True)\n"
     ]
    },
    {
     "ename": "ValueError",
     "evalue": "Input X must be non-negative",
     "output_type": "error",
     "traceback": [
      "\u001b[1;31m---------------------------------------------------------------------------\u001b[0m",
      "\u001b[1;31mValueError\u001b[0m                                Traceback (most recent call last)",
      "\u001b[1;32m<timed exec>\u001b[0m in \u001b[0;36m<module>\u001b[1;34m\u001b[0m\n",
      "\u001b[1;32m~\\AppData\\Local\\Continuum\\anaconda3\\lib\\site-packages\\sklearn\\naive_bayes.py\u001b[0m in \u001b[0;36mfit\u001b[1;34m(self, X, y, sample_weight)\u001b[0m\n\u001b[0;32m    611\u001b[0m         self.feature_count_ = np.zeros((n_effective_classes, n_features),\n\u001b[0;32m    612\u001b[0m                                        dtype=np.float64)\n\u001b[1;32m--> 613\u001b[1;33m         \u001b[0mself\u001b[0m\u001b[1;33m.\u001b[0m\u001b[0m_count\u001b[0m\u001b[1;33m(\u001b[0m\u001b[0mX\u001b[0m\u001b[1;33m,\u001b[0m \u001b[0mY\u001b[0m\u001b[1;33m)\u001b[0m\u001b[1;33m\u001b[0m\u001b[1;33m\u001b[0m\u001b[0m\n\u001b[0m\u001b[0;32m    614\u001b[0m         \u001b[0malpha\u001b[0m \u001b[1;33m=\u001b[0m \u001b[0mself\u001b[0m\u001b[1;33m.\u001b[0m\u001b[0m_check_alpha\u001b[0m\u001b[1;33m(\u001b[0m\u001b[1;33m)\u001b[0m\u001b[1;33m\u001b[0m\u001b[1;33m\u001b[0m\u001b[0m\n\u001b[0;32m    615\u001b[0m         \u001b[0mself\u001b[0m\u001b[1;33m.\u001b[0m\u001b[0m_update_feature_log_prob\u001b[0m\u001b[1;33m(\u001b[0m\u001b[0malpha\u001b[0m\u001b[1;33m)\u001b[0m\u001b[1;33m\u001b[0m\u001b[1;33m\u001b[0m\u001b[0m\n",
      "\u001b[1;32m~\\AppData\\Local\\Continuum\\anaconda3\\lib\\site-packages\\sklearn\\naive_bayes.py\u001b[0m in \u001b[0;36m_count\u001b[1;34m(self, X, Y)\u001b[0m\n\u001b[0;32m    816\u001b[0m         \u001b[1;34m\"\"\"Count feature occurrences.\"\"\"\u001b[0m\u001b[1;33m\u001b[0m\u001b[1;33m\u001b[0m\u001b[0m\n\u001b[0;32m    817\u001b[0m         \u001b[1;32mif\u001b[0m \u001b[0mnp\u001b[0m\u001b[1;33m.\u001b[0m\u001b[0many\u001b[0m\u001b[1;33m(\u001b[0m\u001b[1;33m(\u001b[0m\u001b[0mX\u001b[0m\u001b[1;33m.\u001b[0m\u001b[0mdata\u001b[0m \u001b[1;32mif\u001b[0m \u001b[0missparse\u001b[0m\u001b[1;33m(\u001b[0m\u001b[0mX\u001b[0m\u001b[1;33m)\u001b[0m \u001b[1;32melse\u001b[0m \u001b[0mX\u001b[0m\u001b[1;33m)\u001b[0m \u001b[1;33m<\u001b[0m \u001b[1;36m0\u001b[0m\u001b[1;33m)\u001b[0m\u001b[1;33m:\u001b[0m\u001b[1;33m\u001b[0m\u001b[1;33m\u001b[0m\u001b[0m\n\u001b[1;32m--> 818\u001b[1;33m             \u001b[1;32mraise\u001b[0m \u001b[0mValueError\u001b[0m\u001b[1;33m(\u001b[0m\u001b[1;34m\"Input X must be non-negative\"\u001b[0m\u001b[1;33m)\u001b[0m\u001b[1;33m\u001b[0m\u001b[1;33m\u001b[0m\u001b[0m\n\u001b[0m\u001b[0;32m    819\u001b[0m         \u001b[0mself\u001b[0m\u001b[1;33m.\u001b[0m\u001b[0mfeature_count_\u001b[0m \u001b[1;33m+=\u001b[0m \u001b[0msafe_sparse_dot\u001b[0m\u001b[1;33m(\u001b[0m\u001b[0mY\u001b[0m\u001b[1;33m.\u001b[0m\u001b[0mT\u001b[0m\u001b[1;33m,\u001b[0m \u001b[0mX\u001b[0m\u001b[1;33m)\u001b[0m\u001b[1;33m\u001b[0m\u001b[1;33m\u001b[0m\u001b[0m\n\u001b[0;32m    820\u001b[0m         \u001b[0mself\u001b[0m\u001b[1;33m.\u001b[0m\u001b[0mclass_count_\u001b[0m \u001b[1;33m+=\u001b[0m \u001b[0mY\u001b[0m\u001b[1;33m.\u001b[0m\u001b[0msum\u001b[0m\u001b[1;33m(\u001b[0m\u001b[0maxis\u001b[0m\u001b[1;33m=\u001b[0m\u001b[1;36m0\u001b[0m\u001b[1;33m)\u001b[0m\u001b[1;33m\u001b[0m\u001b[1;33m\u001b[0m\u001b[0m\n",
      "\u001b[1;31mValueError\u001b[0m: Input X must be non-negative"
     ]
    }
   ],
   "source": [
    "%%time\n",
    "clf = ComplementNB().fit(x_train_res, y_train_res)"
   ]
  },
  {
   "cell_type": "markdown",
   "metadata": {},
   "source": [
    "**Save model**"
   ]
  },
  {
   "cell_type": "code",
   "execution_count": 14,
   "metadata": {},
   "outputs": [],
   "source": [
    "import pickle"
   ]
  },
  {
   "cell_type": "code",
   "execution_count": 15,
   "metadata": {},
   "outputs": [],
   "source": [
    "import time\n",
    "\n",
    "model_filename = model_id  + \" [\" + time.strftime(\"%Y%m%d %H%M\") + \"]\""
   ]
  },
  {
   "cell_type": "code",
   "execution_count": 16,
   "metadata": {},
   "outputs": [],
   "source": [
    "save_file = open(NOTEBOOK_PATH + \"Models/\" + model_filename + \".pkl\", \"wb\")\n",
    "saved_model = pickle.dump(clf, save_file)\n",
    "save_file.close()"
   ]
  },
  {
   "cell_type": "markdown",
   "metadata": {},
   "source": [
    "**Test model**"
   ]
  },
  {
   "cell_type": "code",
   "execution_count": 17,
   "metadata": {},
   "outputs": [
    {
     "name": "stderr",
     "output_type": "stream",
     "text": [
      "[Parallel(n_jobs=1)]: Using backend SequentialBackend with 1 concurrent workers.\n",
      "[Parallel(n_jobs=1)]: Done   1 out of   1 | elapsed:    0.2s remaining:    0.0s\n",
      "[Parallel(n_jobs=1)]: Done 100 out of 100 | elapsed:   26.9s finished\n"
     ]
    }
   ],
   "source": [
    "pred = clf.predict(x_val)"
   ]
  },
  {
   "cell_type": "code",
   "execution_count": 18,
   "metadata": {},
   "outputs": [
    {
     "data": {
      "text/html": [
       "<div>\n",
       "<style scoped>\n",
       "    .dataframe tbody tr th:only-of-type {\n",
       "        vertical-align: middle;\n",
       "    }\n",
       "\n",
       "    .dataframe tbody tr th {\n",
       "        vertical-align: top;\n",
       "    }\n",
       "\n",
       "    .dataframe thead th {\n",
       "        text-align: right;\n",
       "    }\n",
       "</style>\n",
       "<table border=\"1\" class=\"dataframe\">\n",
       "  <thead>\n",
       "    <tr style=\"text-align: right;\">\n",
       "      <th>Actual</th>\n",
       "      <th>BENIGN</th>\n",
       "      <th>Botnet</th>\n",
       "      <th>Brute Force</th>\n",
       "      <th>DoS/DDoS</th>\n",
       "      <th>Infiltration</th>\n",
       "      <th>PortScan</th>\n",
       "      <th>Web Attack</th>\n",
       "      <th>All</th>\n",
       "    </tr>\n",
       "    <tr>\n",
       "      <th>Pred</th>\n",
       "      <th></th>\n",
       "      <th></th>\n",
       "      <th></th>\n",
       "      <th></th>\n",
       "      <th></th>\n",
       "      <th></th>\n",
       "      <th></th>\n",
       "      <th></th>\n",
       "    </tr>\n",
       "  </thead>\n",
       "  <tbody>\n",
       "    <tr>\n",
       "      <th>BENIGN</th>\n",
       "      <td>453692</td>\n",
       "      <td>24</td>\n",
       "      <td>0</td>\n",
       "      <td>26</td>\n",
       "      <td>0</td>\n",
       "      <td>97</td>\n",
       "      <td>14</td>\n",
       "      <td>453853</td>\n",
       "    </tr>\n",
       "    <tr>\n",
       "      <th>Botnet</th>\n",
       "      <td>173</td>\n",
       "      <td>373</td>\n",
       "      <td>0</td>\n",
       "      <td>0</td>\n",
       "      <td>0</td>\n",
       "      <td>0</td>\n",
       "      <td>0</td>\n",
       "      <td>546</td>\n",
       "    </tr>\n",
       "    <tr>\n",
       "      <th>Brute Force</th>\n",
       "      <td>0</td>\n",
       "      <td>0</td>\n",
       "      <td>2810</td>\n",
       "      <td>0</td>\n",
       "      <td>0</td>\n",
       "      <td>0</td>\n",
       "      <td>0</td>\n",
       "      <td>2810</td>\n",
       "    </tr>\n",
       "    <tr>\n",
       "      <th>DoS/DDoS</th>\n",
       "      <td>150</td>\n",
       "      <td>0</td>\n",
       "      <td>0</td>\n",
       "      <td>76473</td>\n",
       "      <td>0</td>\n",
       "      <td>2</td>\n",
       "      <td>6</td>\n",
       "      <td>76631</td>\n",
       "    </tr>\n",
       "    <tr>\n",
       "      <th>Infiltration</th>\n",
       "      <td>0</td>\n",
       "      <td>0</td>\n",
       "      <td>0</td>\n",
       "      <td>0</td>\n",
       "      <td>7</td>\n",
       "      <td>0</td>\n",
       "      <td>0</td>\n",
       "      <td>7</td>\n",
       "    </tr>\n",
       "    <tr>\n",
       "      <th>PortScan</th>\n",
       "      <td>191</td>\n",
       "      <td>0</td>\n",
       "      <td>0</td>\n",
       "      <td>11</td>\n",
       "      <td>0</td>\n",
       "      <td>31688</td>\n",
       "      <td>20</td>\n",
       "      <td>31910</td>\n",
       "    </tr>\n",
       "    <tr>\n",
       "      <th>Web Attack</th>\n",
       "      <td>1</td>\n",
       "      <td>0</td>\n",
       "      <td>0</td>\n",
       "      <td>0</td>\n",
       "      <td>0</td>\n",
       "      <td>0</td>\n",
       "      <td>391</td>\n",
       "      <td>392</td>\n",
       "    </tr>\n",
       "    <tr>\n",
       "      <th>All</th>\n",
       "      <td>454207</td>\n",
       "      <td>397</td>\n",
       "      <td>2810</td>\n",
       "      <td>76510</td>\n",
       "      <td>7</td>\n",
       "      <td>31787</td>\n",
       "      <td>431</td>\n",
       "      <td>566149</td>\n",
       "    </tr>\n",
       "  </tbody>\n",
       "</table>\n",
       "</div>"
      ],
      "text/plain": [
       "Actual        BENIGN  Botnet  Brute Force  DoS/DDoS  Infiltration  PortScan  \\\n",
       "Pred                                                                          \n",
       "BENIGN        453692      24            0        26             0        97   \n",
       "Botnet           173     373            0         0             0         0   \n",
       "Brute Force        0       0         2810         0             0         0   \n",
       "DoS/DDoS         150       0            0     76473             0         2   \n",
       "Infiltration       0       0            0         0             7         0   \n",
       "PortScan         191       0            0        11             0     31688   \n",
       "Web Attack         1       0            0         0             0         0   \n",
       "All           454207     397         2810     76510             7     31787   \n",
       "\n",
       "Actual        Web Attack     All  \n",
       "Pred                              \n",
       "BENIGN                14  453853  \n",
       "Botnet                 0     546  \n",
       "Brute Force            0    2810  \n",
       "DoS/DDoS               6   76631  \n",
       "Infiltration           0       7  \n",
       "PortScan              20   31910  \n",
       "Web Attack           391     392  \n",
       "All                  431  566149  "
      ]
     },
     "execution_count": 18,
     "metadata": {},
     "output_type": "execute_result"
    }
   ],
   "source": [
    "pred_index = list(pred.argmax(1))\n",
    "y_index = list(np.argmax(y_val.to_numpy(), axis=1))\n",
    "\n",
    "atktypes = sorted(y_val.columns)\n",
    "pred_series = pd.Series(pred_index, name=\"Pred\").replace(dict(enumerate(atktypes)))\n",
    "y_series = pd.Series(y_index, name=\"Actual\").replace(dict(enumerate(atktypes)))\n",
    "\n",
    "matrix = pd.crosstab(pred_series, y_series, margins=True)\n",
    "matrix"
   ]
  },
  {
   "cell_type": "markdown",
   "metadata": {},
   "source": [
    "# Test Set"
   ]
  },
  {
   "cell_type": "code",
   "execution_count": 15,
   "metadata": {},
   "outputs": [],
   "source": [
    "from sklearn.metrics import f1_score"
   ]
  },
  {
   "cell_type": "code",
   "execution_count": 17,
   "metadata": {},
   "outputs": [
    {
     "data": {
      "text/plain": [
       "(566149,)"
      ]
     },
     "execution_count": 17,
     "metadata": {},
     "output_type": "execute_result"
    }
   ],
   "source": [
    "pred.shape"
   ]
  },
  {
   "cell_type": "code",
   "execution_count": 23,
   "metadata": {},
   "outputs": [
    {
     "name": "stdout",
     "output_type": "stream",
     "text": [
      "0.5144511427203793\n",
      "0.23757896640421614\n"
     ]
    }
   ],
   "source": [
    "pred = clf.predict(x_test)\n",
    "pred_index = pred\n",
    "y_index = list(np.argmax(y_test.to_numpy(), axis=1))\n",
    "f1_micro = f1_score(y_index, pred_index, average='micro')\n",
    "f1_macro = f1_score(y_index, pred_index, average='macro')\n",
    "\n",
    "print(f1_micro)\n",
    "print(f1_macro)"
   ]
  },
  {
   "cell_type": "code",
   "execution_count": 24,
   "metadata": {},
   "outputs": [
    {
     "data": {
      "text/html": [
       "<div>\n",
       "<style scoped>\n",
       "    .dataframe tbody tr th:only-of-type {\n",
       "        vertical-align: middle;\n",
       "    }\n",
       "\n",
       "    .dataframe tbody tr th {\n",
       "        vertical-align: top;\n",
       "    }\n",
       "\n",
       "    .dataframe thead th {\n",
       "        text-align: right;\n",
       "    }\n",
       "</style>\n",
       "<table border=\"1\" class=\"dataframe\">\n",
       "  <thead>\n",
       "    <tr style=\"text-align: right;\">\n",
       "      <th>Actual</th>\n",
       "      <th>BENIGN</th>\n",
       "      <th>Botnet</th>\n",
       "      <th>Brute Force</th>\n",
       "      <th>DoS/DDoS</th>\n",
       "      <th>Infiltration</th>\n",
       "      <th>PortScan</th>\n",
       "      <th>Web Attack</th>\n",
       "      <th>All</th>\n",
       "    </tr>\n",
       "    <tr>\n",
       "      <th>Pred</th>\n",
       "      <th></th>\n",
       "      <th></th>\n",
       "      <th></th>\n",
       "      <th></th>\n",
       "      <th></th>\n",
       "      <th></th>\n",
       "      <th></th>\n",
       "      <th></th>\n",
       "    </tr>\n",
       "  </thead>\n",
       "  <tbody>\n",
       "    <tr>\n",
       "      <th>BENIGN</th>\n",
       "      <td>243819</td>\n",
       "      <td>116</td>\n",
       "      <td>0</td>\n",
       "      <td>34423</td>\n",
       "      <td>1</td>\n",
       "      <td>9</td>\n",
       "      <td>0</td>\n",
       "      <td>278368</td>\n",
       "    </tr>\n",
       "    <tr>\n",
       "      <th>Botnet</th>\n",
       "      <td>25618</td>\n",
       "      <td>241</td>\n",
       "      <td>0</td>\n",
       "      <td>0</td>\n",
       "      <td>0</td>\n",
       "      <td>0</td>\n",
       "      <td>0</td>\n",
       "      <td>25859</td>\n",
       "    </tr>\n",
       "    <tr>\n",
       "      <th>Brute Force</th>\n",
       "      <td>25352</td>\n",
       "      <td>0</td>\n",
       "      <td>1358</td>\n",
       "      <td>12230</td>\n",
       "      <td>0</td>\n",
       "      <td>81</td>\n",
       "      <td>33</td>\n",
       "      <td>39054</td>\n",
       "    </tr>\n",
       "    <tr>\n",
       "      <th>DoS/DDoS</th>\n",
       "      <td>57081</td>\n",
       "      <td>0</td>\n",
       "      <td>3</td>\n",
       "      <td>14213</td>\n",
       "      <td>0</td>\n",
       "      <td>180</td>\n",
       "      <td>375</td>\n",
       "      <td>71852</td>\n",
       "    </tr>\n",
       "    <tr>\n",
       "      <th>Infiltration</th>\n",
       "      <td>61293</td>\n",
       "      <td>27</td>\n",
       "      <td>0</td>\n",
       "      <td>1693</td>\n",
       "      <td>4</td>\n",
       "      <td>2</td>\n",
       "      <td>0</td>\n",
       "      <td>63019</td>\n",
       "    </tr>\n",
       "    <tr>\n",
       "      <th>PortScan</th>\n",
       "      <td>24295</td>\n",
       "      <td>0</td>\n",
       "      <td>0</td>\n",
       "      <td>2</td>\n",
       "      <td>0</td>\n",
       "      <td>31584</td>\n",
       "      <td>0</td>\n",
       "      <td>55881</td>\n",
       "    </tr>\n",
       "    <tr>\n",
       "      <th>Web Attack</th>\n",
       "      <td>17332</td>\n",
       "      <td>0</td>\n",
       "      <td>1391</td>\n",
       "      <td>13336</td>\n",
       "      <td>0</td>\n",
       "      <td>20</td>\n",
       "      <td>37</td>\n",
       "      <td>32116</td>\n",
       "    </tr>\n",
       "    <tr>\n",
       "      <th>All</th>\n",
       "      <td>454790</td>\n",
       "      <td>384</td>\n",
       "      <td>2752</td>\n",
       "      <td>75897</td>\n",
       "      <td>5</td>\n",
       "      <td>31876</td>\n",
       "      <td>445</td>\n",
       "      <td>566149</td>\n",
       "    </tr>\n",
       "  </tbody>\n",
       "</table>\n",
       "</div>"
      ],
      "text/plain": [
       "Actual        BENIGN  Botnet  Brute Force  DoS/DDoS  Infiltration  PortScan  \\\n",
       "Pred                                                                          \n",
       "BENIGN        243819     116            0     34423             1         9   \n",
       "Botnet         25618     241            0         0             0         0   \n",
       "Brute Force    25352       0         1358     12230             0        81   \n",
       "DoS/DDoS       57081       0            3     14213             0       180   \n",
       "Infiltration   61293      27            0      1693             4         2   \n",
       "PortScan       24295       0            0         2             0     31584   \n",
       "Web Attack     17332       0         1391     13336             0        20   \n",
       "All           454790     384         2752     75897             5     31876   \n",
       "\n",
       "Actual        Web Attack     All  \n",
       "Pred                              \n",
       "BENIGN                 0  278368  \n",
       "Botnet                 0   25859  \n",
       "Brute Force           33   39054  \n",
       "DoS/DDoS             375   71852  \n",
       "Infiltration           0   63019  \n",
       "PortScan               0   55881  \n",
       "Web Attack            37   32116  \n",
       "All                  445  566149  "
      ]
     },
     "execution_count": 24,
     "metadata": {},
     "output_type": "execute_result"
    }
   ],
   "source": [
    "pred = clf.predict(x_test)\n",
    "pred_index = pred\n",
    "y_index = list(np.argmax(y_test.to_numpy(), axis=1))\n",
    "\n",
    "atktypes = sorted(y_val.columns)\n",
    "pred_series = pd.Series(pred_index, name=\"Pred\").replace(dict(enumerate(atktypes)))\n",
    "y_series = pd.Series(y_index, name=\"Actual\").replace(dict(enumerate(atktypes)))\n",
    "\n",
    "matrix = pd.crosstab(pred_series, y_series, margins=True)\n",
    "# matrix.to_csv(NOTEBOOK_PATH + \"Confusion Matrices/test_\" + model_filename + \".csv\")\n",
    "matrix"
   ]
  },
  {
   "cell_type": "markdown",
   "metadata": {},
   "source": [
    "# Log results"
   ]
  },
  {
   "cell_type": "code",
   "execution_count": 22,
   "metadata": {},
   "outputs": [],
   "source": [
    "model_log = open(NOTEBOOK_PATH + \"model_log.txt\", \"a\")\n",
    "\n",
    "model_log.write(\"\\n\" + model_filename)\n",
    "model_log.write(\"\\n\\tF1 Micro: \" + str(f1_micro))\n",
    "model_log.write(\"\\n\\tF1 Macro: \" + str(f1_macro))\n",
    "\n",
    "model_log.close()"
   ]
  },
  {
   "cell_type": "code",
   "execution_count": null,
   "metadata": {},
   "outputs": [],
   "source": []
  }
 ],
 "metadata": {
  "kernelspec": {
   "display_name": "Python 3",
   "language": "python",
   "name": "python3"
  },
  "language_info": {
   "codemirror_mode": {
    "name": "ipython",
    "version": 3
   },
   "file_extension": ".py",
   "mimetype": "text/x-python",
   "name": "python",
   "nbconvert_exporter": "python",
   "pygments_lexer": "ipython3",
   "version": "3.6.7"
  }
 },
 "nbformat": 4,
 "nbformat_minor": 4
}

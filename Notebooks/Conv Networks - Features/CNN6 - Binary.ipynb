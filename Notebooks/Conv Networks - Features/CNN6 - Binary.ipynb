{
 "cells": [
  {
   "cell_type": "markdown",
   "metadata": {},
   "source": [
    "# CSE-CIC-IDS 2017"
   ]
  },
  {
   "cell_type": "code",
   "execution_count": 1,
   "metadata": {},
   "outputs": [],
   "source": [
    "model_id = \"cnn6-binary\""
   ]
  },
  {
   "cell_type": "code",
   "execution_count": 2,
   "metadata": {},
   "outputs": [
    {
     "name": "stderr",
     "output_type": "stream",
     "text": [
      "Using TensorFlow backend.\n",
      "C:\\Users\\Xetrov\\AppData\\Local\\Continuum\\anaconda3\\lib\\site-packages\\tensorflow\\python\\framework\\dtypes.py:517: FutureWarning: Passing (type, 1) or '1type' as a synonym of type is deprecated; in a future version of numpy, it will be understood as (type, (1,)) / '(1,)type'.\n",
      "  _np_qint8 = np.dtype([(\"qint8\", np.int8, 1)])\n",
      "C:\\Users\\Xetrov\\AppData\\Local\\Continuum\\anaconda3\\lib\\site-packages\\tensorflow\\python\\framework\\dtypes.py:518: FutureWarning: Passing (type, 1) or '1type' as a synonym of type is deprecated; in a future version of numpy, it will be understood as (type, (1,)) / '(1,)type'.\n",
      "  _np_quint8 = np.dtype([(\"quint8\", np.uint8, 1)])\n",
      "C:\\Users\\Xetrov\\AppData\\Local\\Continuum\\anaconda3\\lib\\site-packages\\tensorflow\\python\\framework\\dtypes.py:519: FutureWarning: Passing (type, 1) or '1type' as a synonym of type is deprecated; in a future version of numpy, it will be understood as (type, (1,)) / '(1,)type'.\n",
      "  _np_qint16 = np.dtype([(\"qint16\", np.int16, 1)])\n",
      "C:\\Users\\Xetrov\\AppData\\Local\\Continuum\\anaconda3\\lib\\site-packages\\tensorflow\\python\\framework\\dtypes.py:520: FutureWarning: Passing (type, 1) or '1type' as a synonym of type is deprecated; in a future version of numpy, it will be understood as (type, (1,)) / '(1,)type'.\n",
      "  _np_quint16 = np.dtype([(\"quint16\", np.uint16, 1)])\n",
      "C:\\Users\\Xetrov\\AppData\\Local\\Continuum\\anaconda3\\lib\\site-packages\\tensorflow\\python\\framework\\dtypes.py:521: FutureWarning: Passing (type, 1) or '1type' as a synonym of type is deprecated; in a future version of numpy, it will be understood as (type, (1,)) / '(1,)type'.\n",
      "  _np_qint32 = np.dtype([(\"qint32\", np.int32, 1)])\n",
      "C:\\Users\\Xetrov\\AppData\\Local\\Continuum\\anaconda3\\lib\\site-packages\\tensorflow\\python\\framework\\dtypes.py:526: FutureWarning: Passing (type, 1) or '1type' as a synonym of type is deprecated; in a future version of numpy, it will be understood as (type, (1,)) / '(1,)type'.\n",
      "  np_resource = np.dtype([(\"resource\", np.ubyte, 1)])\n"
     ]
    }
   ],
   "source": [
    "import numpy as np\n",
    "np.random.seed(42)\n",
    "np.set_printoptions(suppress=True)\n",
    "import pandas as pd\n",
    "import matplotlib.pyplot as plt\n",
    "import seaborn as sns\n",
    "from tqdm import tqdm\n",
    "\n",
    "import glob, time, os\n",
    "\n",
    "import keras"
   ]
  },
  {
   "cell_type": "code",
   "execution_count": 3,
   "metadata": {},
   "outputs": [],
   "source": [
    "NOTEBOOK_PATH = \"C:/Users/Xetrov/Desktop/SciFair20/Code/\""
   ]
  },
  {
   "cell_type": "code",
   "execution_count": 4,
   "metadata": {},
   "outputs": [],
   "source": [
    "x_scaled = pd.read_csv(NOTEBOOK_PATH + \"IDS2017/x_scaled_powertransform.csv\")"
   ]
  },
  {
   "cell_type": "code",
   "execution_count": 5,
   "metadata": {},
   "outputs": [],
   "source": [
    "y_df_enc = pd.read_csv(NOTEBOOK_PATH + \"IDS2017/y_all_binary.csv\")"
   ]
  },
  {
   "cell_type": "markdown",
   "metadata": {},
   "source": [
    "# Reshape into images"
   ]
  },
  {
   "cell_type": "code",
   "execution_count": 6,
   "metadata": {},
   "outputs": [],
   "source": [
    "x_img = x_scaled.to_numpy().reshape((len(x_scaled), 4, 17))"
   ]
  },
  {
   "cell_type": "code",
   "execution_count": 7,
   "metadata": {},
   "outputs": [],
   "source": [
    "x_img = np.expand_dims(x_img, -1)"
   ]
  },
  {
   "cell_type": "markdown",
   "metadata": {},
   "source": [
    "# Split data into train and test"
   ]
  },
  {
   "cell_type": "code",
   "execution_count": 8,
   "metadata": {},
   "outputs": [],
   "source": [
    "from sklearn.model_selection import train_test_split"
   ]
  },
  {
   "cell_type": "code",
   "execution_count": 9,
   "metadata": {},
   "outputs": [],
   "source": [
    "from sklearn.model_selection import train_test_split\n",
    "\n",
    "x_train, x_valtest, y_train, y_valtest = train_test_split(x_img, y_df_enc, test_size = 0.4, random_state = 42)\n",
    "\n",
    "x_val, x_test, y_val, y_test = train_test_split(x_valtest, y_valtest, test_size = 0.5, random_state = 42)\n",
    "\n",
    "del x_train\n",
    "del y_train\n",
    "del x_valtest \n",
    "del y_valtest"
   ]
  },
  {
   "cell_type": "markdown",
   "metadata": {},
   "source": [
    "# Read ADASYN data"
   ]
  },
  {
   "cell_type": "code",
   "execution_count": 10,
   "metadata": {},
   "outputs": [],
   "source": [
    "x_train_res = pd.read_csv(NOTEBOOK_PATH + \"IDS2017/x_adasyn_binary.csv\")"
   ]
  },
  {
   "cell_type": "code",
   "execution_count": 11,
   "metadata": {},
   "outputs": [],
   "source": [
    "y_train_res = pd.read_csv(NOTEBOOK_PATH + \"IDS2017/y_adasyn_binary.csv\")['IsAttack']"
   ]
  },
  {
   "cell_type": "code",
   "execution_count": 13,
   "metadata": {},
   "outputs": [],
   "source": [
    "x_train_resimg = np.expand_dims(x_train_res.to_numpy().reshape((len(x_train_res), 4, 17)), -1)"
   ]
  },
  {
   "cell_type": "markdown",
   "metadata": {},
   "source": [
    "# Train model"
   ]
  },
  {
   "cell_type": "code",
   "execution_count": 14,
   "metadata": {},
   "outputs": [],
   "source": [
    "from keras.models import Model, Sequential\n",
    "from keras.layers import Dense, BatchNormalization, Dropout, InputLayer, Conv2D, Flatten\n",
    "from keras.optimizers import SGD, Adam"
   ]
  },
  {
   "cell_type": "code",
   "execution_count": 15,
   "metadata": {},
   "outputs": [],
   "source": [
    "def addDenseBlock(model, units, **params):\n",
    "    model.add(Dense(units=units, activation=params['hidden_activation'], input_dim=x_train_res.shape[1]))\n",
    "    if params['batch_normalization']: model.add(BatchNormalization())\n",
    "    if params['dropout_rate'] > 0: model.add(Dropout(params['dropout_rate']))\n",
    "\n",
    "def addConvBlock(model, units, **params):\n",
    "    model.add(Conv2D(filters=units, kernel_size=params['kernel_size'], activation=params['hidden_activation'], padding=params['padding'],input_shape=(4,17,1)))\n",
    "    if params['batch_normalization']: model.add(BatchNormalization())\n",
    "    if params['dropout_rate'] > 0: model.add(Dropout(params['dropout_rate']))\n",
    "        \n",
    "def createModel(**in_params):\n",
    "    \"\"\"\n",
    "    Supported parameters:\n",
    "    batch_normalization - True or False\n",
    "    dropout_rate - 0 to 1\n",
    "    num_units - integer\n",
    "    learning_rate - float\n",
    "    activation_function - string\n",
    "    \"\"\"\n",
    "    \n",
    "    model = Sequential()\n",
    "\n",
    "    # Set default values\n",
    "    params = {\n",
    "        'batch_normalization': True,\n",
    "        'dropout_rate': 0,\n",
    "        'num_layers': 6,\n",
    "        'num_units': 128,\n",
    "        'learning_rate': 0.001,\n",
    "        'hidden_activation': 'relu',\n",
    "        'final_activation': 'sigmoid',\n",
    "        'kernel_size': (2,2),\n",
    "        'padding':'same'\n",
    "    }\n",
    "    \n",
    "    # Replace defaults with specified parameters\n",
    "    for param in in_params:\n",
    "        params[param] = in_params[param]    \n",
    "    \n",
    "    # InputLayer causes serialization issues\n",
    "#     model.add( InputLayer(input_shape = (x_train.shape[1],) ) )\n",
    "    \n",
    "#     for i in range(params['num_layers']):\n",
    "#         addDenseBlock(model, params['num_units'], **params)\n",
    "\n",
    "    addConvBlock(model, 64, **params)\n",
    "    addConvBlock(model, 128, **params)\n",
    "    addConvBlock(model, 256, **params)\n",
    "    addConvBlock(model, 128, **params)\n",
    "    addConvBlock(model, 64, **params)\n",
    "    \n",
    "    model.add(Flatten())\n",
    "\n",
    "    model.add(Dense(units=1, activation=params['final_activation']))\n",
    "\n",
    "    # optim = SGD(lr=0.001, nesterov=True)\n",
    "    optim = Adam(lr=params['learning_rate'])\n",
    "\n",
    "    model.compile(loss='binary_crossentropy', optimizer=optim, metrics=['accuracy'])\n",
    "    \n",
    "#     print(params)\n",
    "    \n",
    "    return model"
   ]
  },
  {
   "cell_type": "markdown",
   "metadata": {},
   "source": [
    "Ensure a GPU is available"
   ]
  },
  {
   "cell_type": "code",
   "execution_count": 16,
   "metadata": {},
   "outputs": [
    {
     "data": {
      "text/plain": [
       "['/job:localhost/replica:0/task:0/device:GPU:0']"
      ]
     },
     "execution_count": 16,
     "metadata": {},
     "output_type": "execute_result"
    }
   ],
   "source": [
    "import keras.backend as K\n",
    "\n",
    "K.tensorflow_backend._get_available_gpus()"
   ]
  },
  {
   "cell_type": "markdown",
   "metadata": {},
   "source": [
    "### Callbacks"
   ]
  },
  {
   "cell_type": "code",
   "execution_count": 17,
   "metadata": {},
   "outputs": [],
   "source": [
    "from keras.callbacks import CSVLogger, EarlyStopping, ModelCheckpoint\n",
    "\n",
    "def timestamp():\n",
    "    return time.strftime(\"%m-%d-%Y, %I%M%p\")\n",
    "\n",
    "csv_callback = CSVLogger(NOTEBOOK_PATH + 'Loss Logs/%s (%s)' % (model_id, timestamp()), append=True)\n",
    "early_stop = EarlyStopping(monitor = 'val_loss', min_delta=0.0001, patience=5)"
   ]
  },
  {
   "cell_type": "markdown",
   "metadata": {},
   "source": [
    "### Model Saving"
   ]
  },
  {
   "cell_type": "code",
   "execution_count": 18,
   "metadata": {},
   "outputs": [
    {
     "name": "stdout",
     "output_type": "stream",
     "text": [
      "Created C:/Users/Xetrov/Desktop/SciFair20/Code/Models/cnn6-binary/\n"
     ]
    }
   ],
   "source": [
    "savedir = NOTEBOOK_PATH + \"Models/%s/\" % model_id\n",
    "if not os.path.exists(savedir):\n",
    "    os.makedirs(savedir)\n",
    "    print(\"Created \" + savedir)\n",
    "else:\n",
    "    print(\"Using \" + savedir)"
   ]
  },
  {
   "cell_type": "markdown",
   "metadata": {},
   "source": [
    "### Training"
   ]
  },
  {
   "cell_type": "code",
   "execution_count": 19,
   "metadata": {},
   "outputs": [],
   "source": [
    "import itertools\n",
    "\n",
    "trainEpochs = 400\n",
    "\n",
    "parameters = {'batch_size': 1000, 'batch_normalization':True, 'dropout_rate':0, 'final_activation': 'sigmoid'}"
   ]
  },
  {
   "cell_type": "code",
   "execution_count": 20,
   "metadata": {},
   "outputs": [
    {
     "name": "stdout",
     "output_type": "stream",
     "text": [
      "_________________________________________________________________\n",
      "Layer (type)                 Output Shape              Param #   \n",
      "=================================================================\n",
      "conv2d_1 (Conv2D)            (None, 4, 17, 64)         320       \n",
      "_________________________________________________________________\n",
      "batch_normalization_1 (Batch (None, 4, 17, 64)         256       \n",
      "_________________________________________________________________\n",
      "conv2d_2 (Conv2D)            (None, 4, 17, 128)        32896     \n",
      "_________________________________________________________________\n",
      "batch_normalization_2 (Batch (None, 4, 17, 128)        512       \n",
      "_________________________________________________________________\n",
      "conv2d_3 (Conv2D)            (None, 4, 17, 256)        131328    \n",
      "_________________________________________________________________\n",
      "batch_normalization_3 (Batch (None, 4, 17, 256)        1024      \n",
      "_________________________________________________________________\n",
      "conv2d_4 (Conv2D)            (None, 4, 17, 128)        131200    \n",
      "_________________________________________________________________\n",
      "batch_normalization_4 (Batch (None, 4, 17, 128)        512       \n",
      "_________________________________________________________________\n",
      "conv2d_5 (Conv2D)            (None, 4, 17, 64)         32832     \n",
      "_________________________________________________________________\n",
      "batch_normalization_5 (Batch (None, 4, 17, 64)         256       \n",
      "_________________________________________________________________\n",
      "flatten_1 (Flatten)          (None, 4352)              0         \n",
      "_________________________________________________________________\n",
      "dense_1 (Dense)              (None, 1)                 4353      \n",
      "=================================================================\n",
      "Total params: 335,489\n",
      "Trainable params: 334,209\n",
      "Non-trainable params: 1,280\n",
      "_________________________________________________________________\n",
      "Train on 2727615 samples, validate on 566149 samples\n",
      "Epoch 1/400\n",
      " - 145s - loss: 0.0380 - acc: 0.9881 - val_loss: 0.0241 - val_acc: 0.9934\n",
      "Epoch 2/400\n",
      " - 144s - loss: 0.0191 - acc: 0.9952 - val_loss: 0.0169 - val_acc: 0.9960\n",
      "Epoch 3/400\n",
      " - 145s - loss: 0.0169 - acc: 0.9960 - val_loss: 0.0186 - val_acc: 0.9958\n",
      "Epoch 4/400\n",
      " - 145s - loss: 0.0162 - acc: 0.9962 - val_loss: 0.0212 - val_acc: 0.9942\n",
      "Epoch 5/400\n",
      " - 145s - loss: 0.0153 - acc: 0.9964 - val_loss: 0.0152 - val_acc: 0.9964\n",
      "Epoch 6/400\n",
      " - 145s - loss: 0.0140 - acc: 0.9968 - val_loss: 0.0144 - val_acc: 0.9964\n",
      "Epoch 7/400\n",
      " - 145s - loss: 0.0135 - acc: 0.9969 - val_loss: 0.0138 - val_acc: 0.9966\n",
      "Epoch 8/400\n",
      " - 145s - loss: 0.0130 - acc: 0.9970 - val_loss: 0.0145 - val_acc: 0.9966\n",
      "Epoch 9/400\n",
      " - 145s - loss: 0.0127 - acc: 0.9971 - val_loss: 0.0180 - val_acc: 0.9959\n",
      "Epoch 10/400\n",
      " - 145s - loss: 0.0125 - acc: 0.9972 - val_loss: 0.0139 - val_acc: 0.9967\n",
      "Epoch 11/400\n",
      " - 144s - loss: 0.0123 - acc: 0.9972 - val_loss: 0.0140 - val_acc: 0.9966\n",
      "Epoch 12/400\n",
      " - 144s - loss: 0.0121 - acc: 0.9973 - val_loss: 0.0145 - val_acc: 0.9966\n",
      "Epoch 13/400\n",
      " - 145s - loss: 0.0116 - acc: 0.9974 - val_loss: 0.0139 - val_acc: 0.9964\n",
      "Epoch 14/400\n",
      " - 145s - loss: 0.0117 - acc: 0.9974 - val_loss: 0.0126 - val_acc: 0.9968\n",
      "Epoch 15/400\n",
      " - 144s - loss: 0.0119 - acc: 0.9973 - val_loss: 0.0120 - val_acc: 0.9973\n",
      "Epoch 16/400\n",
      " - 145s - loss: 0.0112 - acc: 0.9975 - val_loss: 0.0134 - val_acc: 0.9968\n",
      "Epoch 17/400\n",
      " - 145s - loss: 0.0114 - acc: 0.9975 - val_loss: 0.0134 - val_acc: 0.9970\n",
      "Epoch 18/400\n",
      " - 145s - loss: 0.0110 - acc: 0.9975 - val_loss: 0.0121 - val_acc: 0.9972\n",
      "Epoch 19/400\n",
      " - 145s - loss: 0.0111 - acc: 0.9975 - val_loss: 0.0112 - val_acc: 0.9976\n",
      "Epoch 20/400\n",
      " - 145s - loss: 0.0108 - acc: 0.9977 - val_loss: 0.0121 - val_acc: 0.9970\n",
      "Epoch 21/400\n",
      " - 145s - loss: 0.0110 - acc: 0.9976 - val_loss: 0.0169 - val_acc: 0.9966\n",
      "Epoch 22/400\n",
      " - 145s - loss: 0.0107 - acc: 0.9976 - val_loss: 0.0134 - val_acc: 0.9968\n",
      "Epoch 23/400\n",
      " - 145s - loss: 0.0106 - acc: 0.9977 - val_loss: 0.0129 - val_acc: 0.9966\n",
      "Epoch 24/400\n",
      " - 144s - loss: 0.0106 - acc: 0.9977 - val_loss: 0.0116 - val_acc: 0.9970\n",
      "Epoch 25/400\n",
      " - 145s - loss: 0.0104 - acc: 0.9977 - val_loss: 0.0152 - val_acc: 0.9968\n",
      "Epoch 26/400\n",
      " - 145s - loss: 0.0102 - acc: 0.9978 - val_loss: 0.0130 - val_acc: 0.9968\n",
      "Epoch 27/400\n",
      " - 145s - loss: 0.0105 - acc: 0.9977 - val_loss: 0.0104 - val_acc: 0.9971\n",
      "Epoch 28/400\n",
      " - 145s - loss: 0.0105 - acc: 0.9977 - val_loss: 0.0147 - val_acc: 0.9954\n",
      "Epoch 29/400\n",
      " - 145s - loss: 0.0103 - acc: 0.9977 - val_loss: 0.0110 - val_acc: 0.9973\n",
      "Epoch 30/400\n",
      " - 145s - loss: 0.0098 - acc: 0.9979 - val_loss: 0.0125 - val_acc: 0.9953\n",
      "Epoch 31/400\n",
      " - 144s - loss: 0.0101 - acc: 0.9978 - val_loss: 0.0182 - val_acc: 0.9968\n",
      "Epoch 32/400\n",
      " - 145s - loss: 0.0099 - acc: 0.9979 - val_loss: 0.0140 - val_acc: 0.9969\n",
      "Epoch 33/400\n",
      " - 145s - loss: 0.0102 - acc: 0.9978 - val_loss: 0.0137 - val_acc: 0.9966\n",
      "Epoch 34/400\n",
      " - 145s - loss: 0.0101 - acc: 0.9978 - val_loss: 0.0116 - val_acc: 0.9972\n",
      "Epoch 35/400\n",
      " - 145s - loss: 0.0100 - acc: 0.9979 - val_loss: 0.0107 - val_acc: 0.9978\n",
      "Epoch 36/400\n",
      " - 145s - loss: 0.0099 - acc: 0.9979 - val_loss: 0.0121 - val_acc: 0.9970\n",
      "Epoch 37/400\n",
      " - 146s - loss: 0.0094 - acc: 0.9980 - val_loss: 0.0146 - val_acc: 0.9970\n",
      "Epoch 38/400\n",
      " - 146s - loss: 0.0098 - acc: 0.9979 - val_loss: 0.0105 - val_acc: 0.9976\n",
      "Epoch 39/400\n",
      " - 146s - loss: 0.0098 - acc: 0.9979 - val_loss: 0.0109 - val_acc: 0.9979\n",
      "Epoch 40/400\n",
      " - 144s - loss: 0.0096 - acc: 0.9980 - val_loss: 0.0121 - val_acc: 0.9977\n",
      "Epoch 41/400\n",
      " - 145s - loss: 0.0096 - acc: 0.9980 - val_loss: 0.0118 - val_acc: 0.9955\n",
      "Epoch 42/400\n",
      " - 145s - loss: 0.0096 - acc: 0.9980 - val_loss: 0.0151 - val_acc: 0.9969\n",
      "Epoch 43/400\n",
      " - 145s - loss: 0.0099 - acc: 0.9979 - val_loss: 0.0095 - val_acc: 0.9976\n",
      "Epoch 44/400\n",
      " - 145s - loss: 0.0095 - acc: 0.9980 - val_loss: 0.0114 - val_acc: 0.9973\n",
      "Epoch 45/400\n",
      " - 146s - loss: 0.0093 - acc: 0.9980 - val_loss: 0.0096 - val_acc: 0.9981\n",
      "Epoch 46/400\n",
      " - 146s - loss: 0.0095 - acc: 0.9980 - val_loss: 0.0114 - val_acc: 0.9974\n",
      "Epoch 47/400\n",
      " - 145s - loss: 0.0094 - acc: 0.9980 - val_loss: 0.0111 - val_acc: 0.9974\n",
      "Epoch 48/400\n",
      " - 145s - loss: 0.0090 - acc: 0.9981 - val_loss: 0.0100 - val_acc: 0.9979\n",
      "Epoch 49/400\n",
      " - 145s - loss: 0.0089 - acc: 0.9982 - val_loss: 0.0158 - val_acc: 0.9970\n",
      "Epoch 50/400\n",
      " - 145s - loss: 0.0092 - acc: 0.9981 - val_loss: 0.0173 - val_acc: 0.9952\n",
      "Epoch 51/400\n",
      " - 145s - loss: 0.0087 - acc: 0.9982 - val_loss: 0.0104 - val_acc: 0.9980\n",
      "Epoch 52/400\n",
      " - 145s - loss: 0.0086 - acc: 0.9982 - val_loss: 0.0111 - val_acc: 0.9971\n",
      "Epoch 53/400\n",
      " - 145s - loss: 0.0092 - acc: 0.9981 - val_loss: 0.0095 - val_acc: 0.9979\n",
      "Epoch 54/400\n",
      " - 145s - loss: 0.0090 - acc: 0.9981 - val_loss: 0.0144 - val_acc: 0.9949\n",
      "Epoch 55/400\n",
      " - 145s - loss: 0.0089 - acc: 0.9982 - val_loss: 0.0154 - val_acc: 0.9967\n",
      "Epoch 56/400\n",
      " - 145s - loss: 0.0092 - acc: 0.9981 - val_loss: 0.0139 - val_acc: 0.9952\n",
      "Epoch 57/400\n",
      " - 144s - loss: 0.0088 - acc: 0.9982 - val_loss: 0.0093 - val_acc: 0.9980\n",
      "Epoch 58/400\n",
      " - 145s - loss: 0.0092 - acc: 0.9981 - val_loss: 0.0103 - val_acc: 0.9975\n",
      "Epoch 59/400\n",
      " - 145s - loss: 0.0094 - acc: 0.9980 - val_loss: 0.0154 - val_acc: 0.9969\n",
      "Epoch 60/400\n",
      " - 145s - loss: 0.0094 - acc: 0.9980 - val_loss: 0.0113 - val_acc: 0.9971\n",
      "Epoch 61/400\n",
      " - 145s - loss: 0.0091 - acc: 0.9981 - val_loss: 0.0105 - val_acc: 0.9977\n",
      "Epoch 62/400\n",
      " - 145s - loss: 0.0090 - acc: 0.9981 - val_loss: 0.0148 - val_acc: 0.9970\n",
      "Epoch 63/400\n",
      " - 145s - loss: 0.0087 - acc: 0.9982 - val_loss: 0.0124 - val_acc: 0.9953\n",
      "Epoch 64/400\n",
      " - 145s - loss: 0.0085 - acc: 0.9983 - val_loss: 0.0144 - val_acc: 0.9967\n",
      "Epoch 65/400\n",
      " - 146s - loss: 0.0092 - acc: 0.9981 - val_loss: 0.0109 - val_acc: 0.9973\n",
      "Epoch 66/400\n",
      " - 146s - loss: 0.0090 - acc: 0.9981 - val_loss: 0.0132 - val_acc: 0.9973\n",
      "Epoch 67/400\n",
      " - 145s - loss: 0.0087 - acc: 0.9982 - val_loss: 0.0139 - val_acc: 0.9972\n",
      "Epoch 68/400\n",
      " - 145s - loss: 0.0089 - acc: 0.9982 - val_loss: 0.0154 - val_acc: 0.9970\n",
      "Epoch 69/400\n",
      " - 145s - loss: 0.0085 - acc: 0.9982 - val_loss: 0.0098 - val_acc: 0.9981\n",
      "Epoch 70/400\n",
      " - 146s - loss: 0.0089 - acc: 0.9982 - val_loss: 0.0128 - val_acc: 0.9973\n",
      "Epoch 71/400\n",
      " - 146s - loss: 0.0087 - acc: 0.9982 - val_loss: 0.0141 - val_acc: 0.9954\n",
      "Epoch 72/400\n",
      " - 146s - loss: 0.0089 - acc: 0.9982 - val_loss: 0.0094 - val_acc: 0.9977\n",
      "Epoch 73/400\n",
      " - 146s - loss: 0.0080 - acc: 0.9984 - val_loss: 0.0086 - val_acc: 0.9982\n",
      "Epoch 74/400\n",
      " - 145s - loss: 0.0091 - acc: 0.9981 - val_loss: 0.0104 - val_acc: 0.9979\n",
      "Epoch 75/400\n",
      " - 145s - loss: 0.0087 - acc: 0.9982 - val_loss: 0.0103 - val_acc: 0.9979\n",
      "Epoch 76/400\n",
      " - 146s - loss: 0.0085 - acc: 0.9983 - val_loss: 0.0112 - val_acc: 0.9979\n",
      "Epoch 77/400\n",
      " - 145s - loss: 0.0085 - acc: 0.9983 - val_loss: 0.0101 - val_acc: 0.9976\n",
      "Epoch 78/400\n",
      " - 145s - loss: 0.0088 - acc: 0.9982 - val_loss: 0.0117 - val_acc: 0.9955\n",
      "Epoch 79/400\n",
      " - 145s - loss: 0.0082 - acc: 0.9984 - val_loss: 0.0093 - val_acc: 0.9975\n",
      "Epoch 80/400\n",
      " - 145s - loss: 0.0085 - acc: 0.9983 - val_loss: 0.0099 - val_acc: 0.9979\n",
      "Epoch 81/400\n",
      " - 145s - loss: 0.0086 - acc: 0.9983 - val_loss: 0.0098 - val_acc: 0.9974\n",
      "Epoch 82/400\n",
      " - 145s - loss: 0.0088 - acc: 0.9982 - val_loss: 0.0124 - val_acc: 0.9970\n",
      "Epoch 83/400\n",
      " - 145s - loss: 0.0094 - acc: 0.9981 - val_loss: 0.0133 - val_acc: 0.9970\n",
      "Epoch 84/400\n",
      " - 145s - loss: 0.0087 - acc: 0.9982 - val_loss: 0.0102 - val_acc: 0.9979\n",
      "Epoch 85/400\n",
      " - 146s - loss: 0.0083 - acc: 0.9983 - val_loss: 0.0120 - val_acc: 0.9973\n",
      "Epoch 86/400\n",
      " - 145s - loss: 0.0086 - acc: 0.9983 - val_loss: 0.0101 - val_acc: 0.9979\n",
      "Epoch 87/400\n",
      " - 145s - loss: 0.0082 - acc: 0.9984 - val_loss: 0.0122 - val_acc: 0.9972\n",
      "Epoch 88/400\n",
      " - 145s - loss: 0.0078 - acc: 0.9984 - val_loss: 0.0119 - val_acc: 0.9973\n",
      "Epoch 89/400\n",
      " - 146s - loss: 0.0080 - acc: 0.9984 - val_loss: 0.0159 - val_acc: 0.9954\n",
      "Epoch 90/400\n",
      " - 145s - loss: 0.0085 - acc: 0.9983 - val_loss: 0.0106 - val_acc: 0.9976\n",
      "Epoch 91/400\n",
      " - 145s - loss: 0.0082 - acc: 0.9984 - val_loss: 0.0092 - val_acc: 0.9981\n",
      "Epoch 92/400\n",
      " - 146s - loss: 0.0087 - acc: 0.9982 - val_loss: 0.0115 - val_acc: 0.9971\n",
      "Epoch 93/400\n",
      " - 146s - loss: 0.0083 - acc: 0.9983 - val_loss: 0.0105 - val_acc: 0.9977\n",
      "Epoch 94/400\n",
      " - 145s - loss: 0.0084 - acc: 0.9983 - val_loss: 0.0137 - val_acc: 0.9971\n",
      "Epoch 95/400\n",
      " - 145s - loss: 0.0084 - acc: 0.9983 - val_loss: 0.0105 - val_acc: 0.9979\n",
      "Epoch 96/400\n",
      " - 145s - loss: 0.0077 - acc: 0.9985 - val_loss: 0.0093 - val_acc: 0.9981\n",
      "Epoch 97/400\n",
      " - 145s - loss: 0.0080 - acc: 0.9984 - val_loss: 0.0142 - val_acc: 0.9972\n",
      "Epoch 98/400\n",
      " - 145s - loss: 0.0081 - acc: 0.9984 - val_loss: 0.0088 - val_acc: 0.9981\n",
      "Epoch 99/400\n",
      " - 145s - loss: 0.0087 - acc: 0.9982 - val_loss: 0.0096 - val_acc: 0.9959\n",
      "Epoch 100/400\n",
      " - 145s - loss: 0.0091 - acc: 0.9981 - val_loss: 0.0103 - val_acc: 0.9974\n",
      "Epoch 101/400\n",
      " - 145s - loss: 0.0082 - acc: 0.9983 - val_loss: 0.0109 - val_acc: 0.9978\n",
      "Epoch 102/400\n",
      " - 145s - loss: 0.0082 - acc: 0.9984 - val_loss: 0.0112 - val_acc: 0.9974\n",
      "Epoch 103/400\n",
      " - 144s - loss: 0.0079 - acc: 0.9985 - val_loss: 0.0108 - val_acc: 0.9979\n",
      "Epoch 104/400\n",
      " - 145s - loss: 0.0079 - acc: 0.9984 - val_loss: 0.0117 - val_acc: 0.9974\n",
      "Epoch 105/400\n",
      " - 146s - loss: 0.0079 - acc: 0.9985 - val_loss: 0.0111 - val_acc: 0.9979\n",
      "Epoch 106/400\n",
      " - 145s - loss: 0.0080 - acc: 0.9984 - val_loss: 0.0106 - val_acc: 0.9975\n",
      "Epoch 107/400\n",
      " - 145s - loss: 0.0083 - acc: 0.9984 - val_loss: 0.0099 - val_acc: 0.9975\n",
      "Epoch 108/400\n",
      " - 145s - loss: 0.0084 - acc: 0.9983 - val_loss: 0.0100 - val_acc: 0.9979\n",
      "Epoch 109/400\n",
      " - 145s - loss: 0.0078 - acc: 0.9985 - val_loss: 0.0108 - val_acc: 0.9974\n",
      "Epoch 110/400\n",
      " - 145s - loss: 0.0084 - acc: 0.9983 - val_loss: 0.0112 - val_acc: 0.9973\n",
      "Epoch 111/400\n",
      " - 145s - loss: 0.0087 - acc: 0.9983 - val_loss: 0.0107 - val_acc: 0.9972\n",
      "Epoch 112/400\n",
      " - 146s - loss: 0.0085 - acc: 0.9983 - val_loss: 0.0093 - val_acc: 0.9982\n",
      "Epoch 113/400\n",
      " - 145s - loss: 0.0080 - acc: 0.9984 - val_loss: 0.0097 - val_acc: 0.9980\n",
      "Epoch 114/400\n",
      " - 146s - loss: 0.0078 - acc: 0.9985 - val_loss: 0.0084 - val_acc: 0.9983\n",
      "Epoch 115/400\n",
      " - 145s - loss: 0.0084 - acc: 0.9983 - val_loss: 0.0122 - val_acc: 0.9954\n",
      "Epoch 116/400\n",
      " - 145s - loss: 0.0077 - acc: 0.9985 - val_loss: 0.0098 - val_acc: 0.9981\n",
      "Epoch 117/400\n",
      " - 145s - loss: 0.0076 - acc: 0.9985 - val_loss: 0.0098 - val_acc: 0.9980\n",
      "Epoch 118/400\n",
      " - 146s - loss: 0.0077 - acc: 0.9985 - val_loss: 0.0103 - val_acc: 0.9975\n",
      "Epoch 119/400\n",
      " - 145s - loss: 0.0075 - acc: 0.9985 - val_loss: 0.0126 - val_acc: 0.9973\n",
      "Epoch 120/400\n",
      " - 144s - loss: 0.0077 - acc: 0.9985 - val_loss: 0.0097 - val_acc: 0.9979\n",
      "Epoch 121/400\n",
      " - 144s - loss: 0.0080 - acc: 0.9984 - val_loss: 0.0099 - val_acc: 0.9974\n",
      "Epoch 122/400\n",
      " - 145s - loss: 0.0082 - acc: 0.9983 - val_loss: 0.0100 - val_acc: 0.9980\n",
      "Epoch 123/400\n",
      " - 145s - loss: 0.0082 - acc: 0.9984 - val_loss: 0.0109 - val_acc: 0.9972\n",
      "Epoch 124/400\n",
      " - 146s - loss: 0.0078 - acc: 0.9985 - val_loss: 0.0102 - val_acc: 0.9974\n",
      "Epoch 125/400\n",
      " - 145s - loss: 0.0082 - acc: 0.9983 - val_loss: 0.0127 - val_acc: 0.9956\n",
      "Epoch 126/400\n",
      " - 146s - loss: 0.0082 - acc: 0.9984 - val_loss: 0.0106 - val_acc: 0.9979\n",
      "Epoch 127/400\n",
      " - 145s - loss: 0.0077 - acc: 0.9985 - val_loss: 0.0102 - val_acc: 0.9974\n",
      "Epoch 128/400\n",
      " - 145s - loss: 0.0072 - acc: 0.9986 - val_loss: 0.0087 - val_acc: 0.9983\n",
      "Epoch 129/400\n",
      " - 145s - loss: 0.0075 - acc: 0.9985 - val_loss: 0.0090 - val_acc: 0.9979\n",
      "Epoch 130/400\n",
      " - 146s - loss: 0.0078 - acc: 0.9985 - val_loss: 0.0116 - val_acc: 0.9977\n",
      "Epoch 131/400\n",
      " - 145s - loss: 0.0083 - acc: 0.9984 - val_loss: 0.0102 - val_acc: 0.9979\n",
      "Epoch 132/400\n",
      " - 145s - loss: 0.0075 - acc: 0.9986 - val_loss: 0.0123 - val_acc: 0.9971\n",
      "Epoch 133/400\n",
      " - 145s - loss: 0.0079 - acc: 0.9985 - val_loss: 0.0095 - val_acc: 0.9980\n",
      "Epoch 134/400\n",
      " - 145s - loss: 0.0087 - acc: 0.9982 - val_loss: 0.0095 - val_acc: 0.9978\n",
      "Epoch 135/400\n",
      " - 145s - loss: 0.0080 - acc: 0.9984 - val_loss: 0.0097 - val_acc: 0.9977\n",
      "Epoch 136/400\n",
      " - 146s - loss: 0.0075 - acc: 0.9986 - val_loss: 0.0098 - val_acc: 0.9981\n",
      "Epoch 137/400\n",
      " - 145s - loss: 0.0077 - acc: 0.9985 - val_loss: 0.0113 - val_acc: 0.9973\n",
      "Epoch 138/400\n",
      " - 145s - loss: 0.0076 - acc: 0.9985 - val_loss: 0.0096 - val_acc: 0.9975\n",
      "Epoch 139/400\n",
      " - 145s - loss: 0.0086 - acc: 0.9983 - val_loss: 0.0117 - val_acc: 0.9956\n",
      "Epoch 140/400\n",
      " - 146s - loss: 0.0079 - acc: 0.9984 - val_loss: 0.0152 - val_acc: 0.9973\n",
      "Epoch 141/400\n",
      " - 145s - loss: 0.0083 - acc: 0.9983 - val_loss: 0.0112 - val_acc: 0.9957\n",
      "Epoch 142/400\n",
      " - 145s - loss: 0.0082 - acc: 0.9984 - val_loss: 0.0091 - val_acc: 0.9981\n",
      "Epoch 143/400\n",
      " - 146s - loss: 0.0077 - acc: 0.9985 - val_loss: 0.0091 - val_acc: 0.9981\n",
      "Epoch 144/400\n",
      " - 146s - loss: 0.0079 - acc: 0.9985 - val_loss: 0.0157 - val_acc: 0.9968\n",
      "Epoch 145/400\n",
      " - 146s - loss: 0.0079 - acc: 0.9984 - val_loss: 0.0150 - val_acc: 0.9951\n",
      "Epoch 146/400\n",
      " - 146s - loss: 0.0074 - acc: 0.9986 - val_loss: 0.0091 - val_acc: 0.9983\n",
      "Epoch 147/400\n",
      " - 146s - loss: 0.0073 - acc: 0.9986 - val_loss: 0.0119 - val_acc: 0.9957\n",
      "Epoch 148/400\n",
      " - 146s - loss: 0.0070 - acc: 0.9987 - val_loss: 0.0093 - val_acc: 0.9981\n",
      "Epoch 149/400\n",
      " - 145s - loss: 0.0080 - acc: 0.9984 - val_loss: 0.0098 - val_acc: 0.9983\n",
      "Epoch 150/400\n",
      " - 145s - loss: 0.0076 - acc: 0.9985 - val_loss: 0.0095 - val_acc: 0.9981\n",
      "Epoch 151/400\n",
      " - 145s - loss: 0.0073 - acc: 0.9986 - val_loss: 0.0082 - val_acc: 0.9982\n",
      "Epoch 152/400\n",
      " - 145s - loss: 0.0073 - acc: 0.9986 - val_loss: 0.0099 - val_acc: 0.9974\n",
      "Epoch 153/400\n",
      " - 146s - loss: 0.0074 - acc: 0.9986 - val_loss: 0.0083 - val_acc: 0.9982\n",
      "Epoch 154/400\n",
      " - 145s - loss: 0.0072 - acc: 0.9986 - val_loss: 0.0098 - val_acc: 0.9981\n",
      "Epoch 155/400\n",
      " - 145s - loss: 0.0080 - acc: 0.9984 - val_loss: 0.0093 - val_acc: 0.9980\n",
      "Epoch 156/400\n",
      " - 145s - loss: 0.0074 - acc: 0.9986 - val_loss: 0.0108 - val_acc: 0.9959\n",
      "Epoch 157/400\n",
      " - 145s - loss: 0.0074 - acc: 0.9986 - val_loss: 0.0127 - val_acc: 0.9953\n",
      "Epoch 158/400\n",
      " - 145s - loss: 0.0077 - acc: 0.9985 - val_loss: 0.0091 - val_acc: 0.9980\n",
      "Epoch 159/400\n",
      " - 145s - loss: 0.0068 - acc: 0.9987 - val_loss: 0.0092 - val_acc: 0.9980\n",
      "Epoch 160/400\n",
      " - 145s - loss: 0.0074 - acc: 0.9986 - val_loss: 0.0102 - val_acc: 0.9974\n",
      "Epoch 161/400\n",
      " - 146s - loss: 0.0076 - acc: 0.9985 - val_loss: 0.0299 - val_acc: 0.9964\n",
      "Epoch 162/400\n",
      " - 145s - loss: 0.0082 - acc: 0.9984 - val_loss: 0.0109 - val_acc: 0.9975\n",
      "Epoch 163/400\n",
      " - 146s - loss: 0.0073 - acc: 0.9986 - val_loss: 0.0087 - val_acc: 0.9982\n",
      "Epoch 164/400\n",
      " - 146s - loss: 0.0078 - acc: 0.9985 - val_loss: 0.0092 - val_acc: 0.9981\n",
      "Epoch 165/400\n",
      " - 146s - loss: 0.0074 - acc: 0.9986 - val_loss: 0.0087 - val_acc: 0.9982\n",
      "Epoch 166/400\n",
      " - 146s - loss: 0.0074 - acc: 0.9986 - val_loss: 0.0089 - val_acc: 0.9981\n",
      "Epoch 167/400\n",
      " - 145s - loss: 0.0070 - acc: 0.9987 - val_loss: 0.0089 - val_acc: 0.9983\n",
      "Epoch 168/400\n",
      " - 145s - loss: 0.0077 - acc: 0.9985 - val_loss: 0.0095 - val_acc: 0.9977\n",
      "Epoch 169/400\n",
      " - 145s - loss: 0.0075 - acc: 0.9985 - val_loss: 0.0118 - val_acc: 0.9976\n",
      "Epoch 170/400\n",
      " - 145s - loss: 0.0075 - acc: 0.9986 - val_loss: 0.0125 - val_acc: 0.9948\n",
      "Epoch 171/400\n",
      " - 146s - loss: 0.0076 - acc: 0.9985 - val_loss: 0.0085 - val_acc: 0.9982\n",
      "Epoch 172/400\n",
      " - 146s - loss: 0.0074 - acc: 0.9986 - val_loss: 0.0087 - val_acc: 0.9982\n",
      "Epoch 173/400\n",
      " - 145s - loss: 0.0078 - acc: 0.9985 - val_loss: 0.0122 - val_acc: 0.9979\n",
      "Epoch 174/400\n",
      " - 145s - loss: 0.0074 - acc: 0.9986 - val_loss: 0.0098 - val_acc: 0.9976\n",
      "Epoch 175/400\n",
      " - 145s - loss: 0.0076 - acc: 0.9985 - val_loss: 0.0120 - val_acc: 0.9957\n",
      "Epoch 176/400\n",
      " - 146s - loss: 0.0079 - acc: 0.9985 - val_loss: 0.0092 - val_acc: 0.9981\n",
      "Epoch 177/400\n",
      " - 146s - loss: 0.0081 - acc: 0.9984 - val_loss: 0.0103 - val_acc: 0.9973\n",
      "Epoch 178/400\n",
      " - 145s - loss: 0.0076 - acc: 0.9985 - val_loss: 0.0143 - val_acc: 0.9973\n",
      "Epoch 179/400\n",
      " - 146s - loss: 0.0078 - acc: 0.9985 - val_loss: 0.0082 - val_acc: 0.9982\n",
      "Epoch 180/400\n",
      " - 146s - loss: 0.0076 - acc: 0.9985 - val_loss: 0.0114 - val_acc: 0.9974\n",
      "Epoch 181/400\n",
      " - 145s - loss: 0.0078 - acc: 0.9985 - val_loss: 0.0102 - val_acc: 0.9958\n",
      "Epoch 182/400\n",
      " - 145s - loss: 0.0077 - acc: 0.9985 - val_loss: 0.0095 - val_acc: 0.9976\n",
      "Epoch 183/400\n",
      " - 145s - loss: 0.0076 - acc: 0.9986 - val_loss: 0.0111 - val_acc: 0.9980\n",
      "Epoch 184/400\n",
      " - 145s - loss: 0.0082 - acc: 0.9984 - val_loss: 0.0110 - val_acc: 0.9975\n",
      "Epoch 185/400\n",
      " - 145s - loss: 0.0080 - acc: 0.9984 - val_loss: 0.0141 - val_acc: 0.9972\n",
      "Epoch 186/400\n",
      " - 145s - loss: 0.0078 - acc: 0.9985 - val_loss: 0.0105 - val_acc: 0.9976\n",
      "Epoch 187/400\n",
      " - 145s - loss: 0.0077 - acc: 0.9985 - val_loss: 0.0109 - val_acc: 0.9975\n",
      "Epoch 188/400\n",
      " - 145s - loss: 0.0072 - acc: 0.9986 - val_loss: 0.0135 - val_acc: 0.9967\n",
      "Epoch 189/400\n",
      " - 145s - loss: 0.0074 - acc: 0.9986 - val_loss: 0.0127 - val_acc: 0.9972\n",
      "Epoch 190/400\n",
      " - 145s - loss: 0.0078 - acc: 0.9985 - val_loss: 0.0116 - val_acc: 0.9974\n",
      "Epoch 191/400\n",
      " - 145s - loss: 0.0081 - acc: 0.9984 - val_loss: 0.0099 - val_acc: 0.9980\n",
      "Epoch 192/400\n",
      " - 145s - loss: 0.0076 - acc: 0.9985 - val_loss: 0.0092 - val_acc: 0.9976\n",
      "Epoch 193/400\n",
      " - 145s - loss: 0.0073 - acc: 0.9986 - val_loss: 0.0087 - val_acc: 0.9982\n",
      "Epoch 194/400\n",
      " - 145s - loss: 0.0066 - acc: 0.9988 - val_loss: 0.0087 - val_acc: 0.9982\n",
      "Epoch 195/400\n",
      " - 145s - loss: 0.0077 - acc: 0.9985 - val_loss: 0.0137 - val_acc: 0.9973\n",
      "Epoch 196/400\n",
      " - 145s - loss: 0.0072 - acc: 0.9986 - val_loss: 0.0088 - val_acc: 0.9982\n",
      "Epoch 197/400\n",
      " - 145s - loss: 0.0066 - acc: 0.9987 - val_loss: 0.0083 - val_acc: 0.9982\n",
      "Epoch 198/400\n",
      " - 145s - loss: 0.0069 - acc: 0.9987 - val_loss: 0.0124 - val_acc: 0.9974\n",
      "Epoch 199/400\n",
      " - 146s - loss: 0.0069 - acc: 0.9987 - val_loss: 0.0097 - val_acc: 0.9982\n",
      "Epoch 200/400\n",
      " - 146s - loss: 0.0073 - acc: 0.9986 - val_loss: 0.0113 - val_acc: 0.9958\n",
      "Epoch 201/400\n",
      " - 145s - loss: 0.0067 - acc: 0.9987 - val_loss: 0.0081 - val_acc: 0.9981\n",
      "Epoch 202/400\n",
      " - 146s - loss: 0.0074 - acc: 0.9986 - val_loss: 0.0102 - val_acc: 0.9975\n",
      "Epoch 203/400\n",
      " - 146s - loss: 0.0073 - acc: 0.9986 - val_loss: 0.0102 - val_acc: 0.9959\n",
      "Epoch 204/400\n",
      " - 146s - loss: 0.0072 - acc: 0.9986 - val_loss: 0.0102 - val_acc: 0.9978\n",
      "Epoch 205/400\n",
      " - 146s - loss: 0.0076 - acc: 0.9986 - val_loss: 0.0094 - val_acc: 0.9977\n",
      "Epoch 206/400\n",
      " - 145s - loss: 0.0069 - acc: 0.9987 - val_loss: 0.0095 - val_acc: 0.9981\n",
      "Epoch 207/400\n",
      " - 145s - loss: 0.0076 - acc: 0.9985 - val_loss: 0.0088 - val_acc: 0.9982\n",
      "Epoch 208/400\n",
      " - 145s - loss: 0.0068 - acc: 0.9987 - val_loss: 0.0095 - val_acc: 0.9980\n",
      "Epoch 209/400\n",
      " - 145s - loss: 0.0071 - acc: 0.9986 - val_loss: 0.0107 - val_acc: 0.9976\n",
      "Epoch 210/400\n",
      " - 145s - loss: 0.0063 - acc: 0.9988 - val_loss: 0.0071 - val_acc: 0.9982\n",
      "Epoch 211/400\n",
      " - 145s - loss: 0.0064 - acc: 0.9988 - val_loss: 0.0088 - val_acc: 0.9982\n",
      "Epoch 212/400\n"
     ]
    },
    {
     "ename": "KeyboardInterrupt",
     "evalue": "",
     "output_type": "error",
     "traceback": [
      "\u001b[1;31m---------------------------------------------------------------------------\u001b[0m",
      "\u001b[1;31mKeyboardInterrupt\u001b[0m                         Traceback (most recent call last)",
      "\u001b[1;32m<timed exec>\u001b[0m in \u001b[0;36m<module>\u001b[1;34m\u001b[0m\n",
      "\u001b[1;32m~\\AppData\\Local\\Continuum\\anaconda3\\lib\\site-packages\\keras\\engine\\training.py\u001b[0m in \u001b[0;36mfit\u001b[1;34m(self, x, y, batch_size, epochs, verbose, callbacks, validation_split, validation_data, shuffle, class_weight, sample_weight, initial_epoch, steps_per_epoch, validation_steps, **kwargs)\u001b[0m\n\u001b[0;32m   1040\u001b[0m                                         \u001b[0minitial_epoch\u001b[0m\u001b[1;33m=\u001b[0m\u001b[0minitial_epoch\u001b[0m\u001b[1;33m,\u001b[0m\u001b[1;33m\u001b[0m\u001b[1;33m\u001b[0m\u001b[0m\n\u001b[0;32m   1041\u001b[0m                                         \u001b[0msteps_per_epoch\u001b[0m\u001b[1;33m=\u001b[0m\u001b[0msteps_per_epoch\u001b[0m\u001b[1;33m,\u001b[0m\u001b[1;33m\u001b[0m\u001b[1;33m\u001b[0m\u001b[0m\n\u001b[1;32m-> 1042\u001b[1;33m                                         validation_steps=validation_steps)\n\u001b[0m\u001b[0;32m   1043\u001b[0m \u001b[1;33m\u001b[0m\u001b[0m\n\u001b[0;32m   1044\u001b[0m     def evaluate(self, x=None, y=None,\n",
      "\u001b[1;32m~\\AppData\\Local\\Continuum\\anaconda3\\lib\\site-packages\\keras\\engine\\training_arrays.py\u001b[0m in \u001b[0;36mfit_loop\u001b[1;34m(model, f, ins, out_labels, batch_size, epochs, verbose, callbacks, val_f, val_ins, shuffle, callback_metrics, initial_epoch, steps_per_epoch, validation_steps)\u001b[0m\n\u001b[0;32m    197\u001b[0m                     \u001b[0mins_batch\u001b[0m\u001b[1;33m[\u001b[0m\u001b[0mi\u001b[0m\u001b[1;33m]\u001b[0m \u001b[1;33m=\u001b[0m \u001b[0mins_batch\u001b[0m\u001b[1;33m[\u001b[0m\u001b[0mi\u001b[0m\u001b[1;33m]\u001b[0m\u001b[1;33m.\u001b[0m\u001b[0mtoarray\u001b[0m\u001b[1;33m(\u001b[0m\u001b[1;33m)\u001b[0m\u001b[1;33m\u001b[0m\u001b[1;33m\u001b[0m\u001b[0m\n\u001b[0;32m    198\u001b[0m \u001b[1;33m\u001b[0m\u001b[0m\n\u001b[1;32m--> 199\u001b[1;33m                 \u001b[0mouts\u001b[0m \u001b[1;33m=\u001b[0m \u001b[0mf\u001b[0m\u001b[1;33m(\u001b[0m\u001b[0mins_batch\u001b[0m\u001b[1;33m)\u001b[0m\u001b[1;33m\u001b[0m\u001b[1;33m\u001b[0m\u001b[0m\n\u001b[0m\u001b[0;32m    200\u001b[0m                 \u001b[1;32mif\u001b[0m \u001b[1;32mnot\u001b[0m \u001b[0misinstance\u001b[0m\u001b[1;33m(\u001b[0m\u001b[0mouts\u001b[0m\u001b[1;33m,\u001b[0m \u001b[0mlist\u001b[0m\u001b[1;33m)\u001b[0m\u001b[1;33m:\u001b[0m\u001b[1;33m\u001b[0m\u001b[1;33m\u001b[0m\u001b[0m\n\u001b[0;32m    201\u001b[0m                     \u001b[0mouts\u001b[0m \u001b[1;33m=\u001b[0m \u001b[1;33m[\u001b[0m\u001b[0mouts\u001b[0m\u001b[1;33m]\u001b[0m\u001b[1;33m\u001b[0m\u001b[1;33m\u001b[0m\u001b[0m\n",
      "\u001b[1;32m~\\AppData\\Local\\Continuum\\anaconda3\\lib\\site-packages\\keras\\backend\\tensorflow_backend.py\u001b[0m in \u001b[0;36m__call__\u001b[1;34m(self, inputs)\u001b[0m\n\u001b[0;32m   2665\u001b[0m                     \u001b[1;34m'In order to feed symbolic tensors to a Keras model '\u001b[0m\u001b[1;33m\u001b[0m\u001b[1;33m\u001b[0m\u001b[0m\n\u001b[0;32m   2666\u001b[0m                     'in TensorFlow, you need tensorflow 1.8 or higher.')\n\u001b[1;32m-> 2667\u001b[1;33m             \u001b[1;32mreturn\u001b[0m \u001b[0mself\u001b[0m\u001b[1;33m.\u001b[0m\u001b[0m_legacy_call\u001b[0m\u001b[1;33m(\u001b[0m\u001b[0minputs\u001b[0m\u001b[1;33m)\u001b[0m\u001b[1;33m\u001b[0m\u001b[1;33m\u001b[0m\u001b[0m\n\u001b[0m\u001b[0;32m   2668\u001b[0m \u001b[1;33m\u001b[0m\u001b[0m\n\u001b[0;32m   2669\u001b[0m \u001b[1;33m\u001b[0m\u001b[0m\n",
      "\u001b[1;32m~\\AppData\\Local\\Continuum\\anaconda3\\lib\\site-packages\\keras\\backend\\tensorflow_backend.py\u001b[0m in \u001b[0;36m_legacy_call\u001b[1;34m(self, inputs)\u001b[0m\n\u001b[0;32m   2647\u001b[0m         \u001b[0msession\u001b[0m \u001b[1;33m=\u001b[0m \u001b[0mget_session\u001b[0m\u001b[1;33m(\u001b[0m\u001b[1;33m)\u001b[0m\u001b[1;33m\u001b[0m\u001b[1;33m\u001b[0m\u001b[0m\n\u001b[0;32m   2648\u001b[0m         updated = session.run(fetches=fetches, feed_dict=feed_dict,\n\u001b[1;32m-> 2649\u001b[1;33m                               **self.session_kwargs)\n\u001b[0m\u001b[0;32m   2650\u001b[0m         \u001b[1;32mreturn\u001b[0m \u001b[0mupdated\u001b[0m\u001b[1;33m[\u001b[0m\u001b[1;33m:\u001b[0m\u001b[0mlen\u001b[0m\u001b[1;33m(\u001b[0m\u001b[0mself\u001b[0m\u001b[1;33m.\u001b[0m\u001b[0moutputs\u001b[0m\u001b[1;33m)\u001b[0m\u001b[1;33m]\u001b[0m\u001b[1;33m\u001b[0m\u001b[1;33m\u001b[0m\u001b[0m\n\u001b[0;32m   2651\u001b[0m \u001b[1;33m\u001b[0m\u001b[0m\n",
      "\u001b[1;32m~\\AppData\\Local\\Continuum\\anaconda3\\lib\\site-packages\\tensorflow\\python\\client\\session.py\u001b[0m in \u001b[0;36mrun\u001b[1;34m(self, fetches, feed_dict, options, run_metadata)\u001b[0m\n\u001b[0;32m    903\u001b[0m     \u001b[1;32mtry\u001b[0m\u001b[1;33m:\u001b[0m\u001b[1;33m\u001b[0m\u001b[1;33m\u001b[0m\u001b[0m\n\u001b[0;32m    904\u001b[0m       result = self._run(None, fetches, feed_dict, options_ptr,\n\u001b[1;32m--> 905\u001b[1;33m                          run_metadata_ptr)\n\u001b[0m\u001b[0;32m    906\u001b[0m       \u001b[1;32mif\u001b[0m \u001b[0mrun_metadata\u001b[0m\u001b[1;33m:\u001b[0m\u001b[1;33m\u001b[0m\u001b[1;33m\u001b[0m\u001b[0m\n\u001b[0;32m    907\u001b[0m         \u001b[0mproto_data\u001b[0m \u001b[1;33m=\u001b[0m \u001b[0mtf_session\u001b[0m\u001b[1;33m.\u001b[0m\u001b[0mTF_GetBuffer\u001b[0m\u001b[1;33m(\u001b[0m\u001b[0mrun_metadata_ptr\u001b[0m\u001b[1;33m)\u001b[0m\u001b[1;33m\u001b[0m\u001b[1;33m\u001b[0m\u001b[0m\n",
      "\u001b[1;32m~\\AppData\\Local\\Continuum\\anaconda3\\lib\\site-packages\\tensorflow\\python\\client\\session.py\u001b[0m in \u001b[0;36m_run\u001b[1;34m(self, handle, fetches, feed_dict, options, run_metadata)\u001b[0m\n\u001b[0;32m   1138\u001b[0m     \u001b[1;32mif\u001b[0m \u001b[0mfinal_fetches\u001b[0m \u001b[1;32mor\u001b[0m \u001b[0mfinal_targets\u001b[0m \u001b[1;32mor\u001b[0m \u001b[1;33m(\u001b[0m\u001b[0mhandle\u001b[0m \u001b[1;32mand\u001b[0m \u001b[0mfeed_dict_tensor\u001b[0m\u001b[1;33m)\u001b[0m\u001b[1;33m:\u001b[0m\u001b[1;33m\u001b[0m\u001b[1;33m\u001b[0m\u001b[0m\n\u001b[0;32m   1139\u001b[0m       results = self._do_run(handle, final_targets, final_fetches,\n\u001b[1;32m-> 1140\u001b[1;33m                              feed_dict_tensor, options, run_metadata)\n\u001b[0m\u001b[0;32m   1141\u001b[0m     \u001b[1;32melse\u001b[0m\u001b[1;33m:\u001b[0m\u001b[1;33m\u001b[0m\u001b[1;33m\u001b[0m\u001b[0m\n\u001b[0;32m   1142\u001b[0m       \u001b[0mresults\u001b[0m \u001b[1;33m=\u001b[0m \u001b[1;33m[\u001b[0m\u001b[1;33m]\u001b[0m\u001b[1;33m\u001b[0m\u001b[1;33m\u001b[0m\u001b[0m\n",
      "\u001b[1;32m~\\AppData\\Local\\Continuum\\anaconda3\\lib\\site-packages\\tensorflow\\python\\client\\session.py\u001b[0m in \u001b[0;36m_do_run\u001b[1;34m(self, handle, target_list, fetch_list, feed_dict, options, run_metadata)\u001b[0m\n\u001b[0;32m   1319\u001b[0m     \u001b[1;32mif\u001b[0m \u001b[0mhandle\u001b[0m \u001b[1;32mis\u001b[0m \u001b[1;32mNone\u001b[0m\u001b[1;33m:\u001b[0m\u001b[1;33m\u001b[0m\u001b[1;33m\u001b[0m\u001b[0m\n\u001b[0;32m   1320\u001b[0m       return self._do_call(_run_fn, feeds, fetches, targets, options,\n\u001b[1;32m-> 1321\u001b[1;33m                            run_metadata)\n\u001b[0m\u001b[0;32m   1322\u001b[0m     \u001b[1;32melse\u001b[0m\u001b[1;33m:\u001b[0m\u001b[1;33m\u001b[0m\u001b[1;33m\u001b[0m\u001b[0m\n\u001b[0;32m   1323\u001b[0m       \u001b[1;32mreturn\u001b[0m \u001b[0mself\u001b[0m\u001b[1;33m.\u001b[0m\u001b[0m_do_call\u001b[0m\u001b[1;33m(\u001b[0m\u001b[0m_prun_fn\u001b[0m\u001b[1;33m,\u001b[0m \u001b[0mhandle\u001b[0m\u001b[1;33m,\u001b[0m \u001b[0mfeeds\u001b[0m\u001b[1;33m,\u001b[0m \u001b[0mfetches\u001b[0m\u001b[1;33m)\u001b[0m\u001b[1;33m\u001b[0m\u001b[1;33m\u001b[0m\u001b[0m\n",
      "\u001b[1;32m~\\AppData\\Local\\Continuum\\anaconda3\\lib\\site-packages\\tensorflow\\python\\client\\session.py\u001b[0m in \u001b[0;36m_do_call\u001b[1;34m(self, fn, *args)\u001b[0m\n\u001b[0;32m   1325\u001b[0m   \u001b[1;32mdef\u001b[0m \u001b[0m_do_call\u001b[0m\u001b[1;33m(\u001b[0m\u001b[0mself\u001b[0m\u001b[1;33m,\u001b[0m \u001b[0mfn\u001b[0m\u001b[1;33m,\u001b[0m \u001b[1;33m*\u001b[0m\u001b[0margs\u001b[0m\u001b[1;33m)\u001b[0m\u001b[1;33m:\u001b[0m\u001b[1;33m\u001b[0m\u001b[1;33m\u001b[0m\u001b[0m\n\u001b[0;32m   1326\u001b[0m     \u001b[1;32mtry\u001b[0m\u001b[1;33m:\u001b[0m\u001b[1;33m\u001b[0m\u001b[1;33m\u001b[0m\u001b[0m\n\u001b[1;32m-> 1327\u001b[1;33m       \u001b[1;32mreturn\u001b[0m \u001b[0mfn\u001b[0m\u001b[1;33m(\u001b[0m\u001b[1;33m*\u001b[0m\u001b[0margs\u001b[0m\u001b[1;33m)\u001b[0m\u001b[1;33m\u001b[0m\u001b[1;33m\u001b[0m\u001b[0m\n\u001b[0m\u001b[0;32m   1328\u001b[0m     \u001b[1;32mexcept\u001b[0m \u001b[0merrors\u001b[0m\u001b[1;33m.\u001b[0m\u001b[0mOpError\u001b[0m \u001b[1;32mas\u001b[0m \u001b[0me\u001b[0m\u001b[1;33m:\u001b[0m\u001b[1;33m\u001b[0m\u001b[1;33m\u001b[0m\u001b[0m\n\u001b[0;32m   1329\u001b[0m       \u001b[0mmessage\u001b[0m \u001b[1;33m=\u001b[0m \u001b[0mcompat\u001b[0m\u001b[1;33m.\u001b[0m\u001b[0mas_text\u001b[0m\u001b[1;33m(\u001b[0m\u001b[0me\u001b[0m\u001b[1;33m.\u001b[0m\u001b[0mmessage\u001b[0m\u001b[1;33m)\u001b[0m\u001b[1;33m\u001b[0m\u001b[1;33m\u001b[0m\u001b[0m\n",
      "\u001b[1;32m~\\AppData\\Local\\Continuum\\anaconda3\\lib\\site-packages\\tensorflow\\python\\client\\session.py\u001b[0m in \u001b[0;36m_run_fn\u001b[1;34m(feed_dict, fetch_list, target_list, options, run_metadata)\u001b[0m\n\u001b[0;32m   1310\u001b[0m       \u001b[0mself\u001b[0m\u001b[1;33m.\u001b[0m\u001b[0m_extend_graph\u001b[0m\u001b[1;33m(\u001b[0m\u001b[1;33m)\u001b[0m\u001b[1;33m\u001b[0m\u001b[1;33m\u001b[0m\u001b[0m\n\u001b[0;32m   1311\u001b[0m       return self._call_tf_sessionrun(\n\u001b[1;32m-> 1312\u001b[1;33m           options, feed_dict, fetch_list, target_list, run_metadata)\n\u001b[0m\u001b[0;32m   1313\u001b[0m \u001b[1;33m\u001b[0m\u001b[0m\n\u001b[0;32m   1314\u001b[0m     \u001b[1;32mdef\u001b[0m \u001b[0m_prun_fn\u001b[0m\u001b[1;33m(\u001b[0m\u001b[0mhandle\u001b[0m\u001b[1;33m,\u001b[0m \u001b[0mfeed_dict\u001b[0m\u001b[1;33m,\u001b[0m \u001b[0mfetch_list\u001b[0m\u001b[1;33m)\u001b[0m\u001b[1;33m:\u001b[0m\u001b[1;33m\u001b[0m\u001b[1;33m\u001b[0m\u001b[0m\n",
      "\u001b[1;32m~\\AppData\\Local\\Continuum\\anaconda3\\lib\\site-packages\\tensorflow\\python\\client\\session.py\u001b[0m in \u001b[0;36m_call_tf_sessionrun\u001b[1;34m(self, options, feed_dict, fetch_list, target_list, run_metadata)\u001b[0m\n\u001b[0;32m   1418\u001b[0m         return tf_session.TF_Run(\n\u001b[0;32m   1419\u001b[0m             \u001b[0mself\u001b[0m\u001b[1;33m.\u001b[0m\u001b[0m_session\u001b[0m\u001b[1;33m,\u001b[0m \u001b[0moptions\u001b[0m\u001b[1;33m,\u001b[0m \u001b[0mfeed_dict\u001b[0m\u001b[1;33m,\u001b[0m \u001b[0mfetch_list\u001b[0m\u001b[1;33m,\u001b[0m \u001b[0mtarget_list\u001b[0m\u001b[1;33m,\u001b[0m\u001b[1;33m\u001b[0m\u001b[1;33m\u001b[0m\u001b[0m\n\u001b[1;32m-> 1420\u001b[1;33m             status, run_metadata)\n\u001b[0m\u001b[0;32m   1421\u001b[0m \u001b[1;33m\u001b[0m\u001b[0m\n\u001b[0;32m   1422\u001b[0m   \u001b[1;32mdef\u001b[0m \u001b[0m_call_tf_sessionprun\u001b[0m\u001b[1;33m(\u001b[0m\u001b[0mself\u001b[0m\u001b[1;33m,\u001b[0m \u001b[0mhandle\u001b[0m\u001b[1;33m,\u001b[0m \u001b[0mfeed_dict\u001b[0m\u001b[1;33m,\u001b[0m \u001b[0mfetch_list\u001b[0m\u001b[1;33m)\u001b[0m\u001b[1;33m:\u001b[0m\u001b[1;33m\u001b[0m\u001b[1;33m\u001b[0m\u001b[0m\n",
      "\u001b[1;31mKeyboardInterrupt\u001b[0m: "
     ]
    }
   ],
   "source": [
    "%%time\n",
    "# print(model_id)\n",
    "model = createModel(**parameters)\n",
    "# model = keras.models.load_model(NOTEBOOK_PATH + \"Models/cnn4-adasyn-run1/cnn(4).h5\")\n",
    "model.summary()\n",
    "model_checkpoint = ModelCheckpoint(NOTEBOOK_PATH + \"Models/%s/cnn({epoch}).h5\" % (model_id), monitor='val_loss')\n",
    "model.fit(x_train_resimg, y_train_res, validation_data=(x_val, y_val), batch_size=parameters['batch_size'], epochs=trainEpochs, verbose=2, callbacks=[csv_callback, model_checkpoint])"
   ]
  },
  {
   "cell_type": "code",
   "execution_count": 43,
   "metadata": {},
   "outputs": [
    {
     "data": {
      "text/plain": [
       "(2547668, 10)"
      ]
     },
     "execution_count": 43,
     "metadata": {},
     "output_type": "execute_result"
    }
   ],
   "source": [
    "y_train.shape"
   ]
  },
  {
   "cell_type": "markdown",
   "metadata": {},
   "source": [
    "# Graph the losses"
   ]
  },
  {
   "cell_type": "code",
   "execution_count": 21,
   "metadata": {},
   "outputs": [
    {
     "name": "stdout",
     "output_type": "stream",
     "text": [
      "C:/Users/Xetrov/Desktop/SciFair20/Code/Loss Logs\\cnn6-binary (10-28-2019, 0727AM)\n"
     ]
    }
   ],
   "source": [
    "def most_recent_file(pattern):\n",
    "    return max(glob.iglob(pattern, recursive=True), key=os.path.getctime)\n",
    "\n",
    "logpath = most_recent_file(NOTEBOOK_PATH + \"Loss Logs/%s**\" % model_id)\n",
    "log_df = pd.read_csv(logpath)\n",
    "log_df['epoch'] += 1\n",
    "\n",
    "print(logpath)"
   ]
  },
  {
   "cell_type": "code",
   "execution_count": 22,
   "metadata": {},
   "outputs": [
    {
     "data": {
      "image/png": "[encoded data removed]",
      "text/plain": [
       "<Figure size 864x432 with 1 Axes>"
      ]
     },
     "metadata": {
      "needs_background": "light"
     },
     "output_type": "display_data"
    }
   ],
   "source": [
    "plot_df = log_df[:]\n",
    "\n",
    "metric = 'loss'\n",
    "\n",
    "plt.figure(figsize=(12,6))\n",
    "sns.lineplot(x='epoch', y=metric, data=plot_df, label=metric)\n",
    "sns.lineplot(x='epoch', y='val_'+metric, data=plot_df, label='val_'+metric)\n",
    "plt.legend()\n",
    "\n",
    "minEpoch = plot_df.loc[plot_df.idxmin()[metric]]\n",
    "plt.plot((minEpoch['epoch']), (minEpoch[metric]), 'go', markersize=8)\n",
    "minEpoch = plot_df.loc[plot_df.idxmin()['val_'+metric]]\n",
    "plt.plot((minEpoch['epoch']), (minEpoch['val_'+metric]), 'ro', markersize=8)\n",
    "\n",
    "plt.xticks(list(range(0, plot_df['epoch'].max()+1, 5)))\n",
    "# plt.yticks(list(np.arange(0.0,0.4,0.05)))\n",
    "\n",
    "plt.grid(True)"
   ]
  },
  {
   "cell_type": "markdown",
   "metadata": {},
   "source": [
    "# Validation data"
   ]
  },
  {
   "cell_type": "code",
   "execution_count": 23,
   "metadata": {},
   "outputs": [
    {
     "name": "stdout",
     "output_type": "stream",
     "text": [
      "Loading...\n"
     ]
    }
   ],
   "source": [
    "print(\"Loading...\")\n",
    "model = keras.models.load_model(NOTEBOOK_PATH + \"Models/%s/cnn(210).h5\" % model_id)"
   ]
  },
  {
   "cell_type": "code",
   "execution_count": 26,
   "metadata": {},
   "outputs": [
    {
     "name": "stdout",
     "output_type": "stream",
     "text": [
      "Loading...\n",
      "Predicting...\n",
      "Plotting...\n",
      "Done!\n"
     ]
    },
    {
     "data": {
      "text/html": [
       "<div>\n",
       "<style scoped>\n",
       "    .dataframe tbody tr th:only-of-type {\n",
       "        vertical-align: middle;\n",
       "    }\n",
       "\n",
       "    .dataframe tbody tr th {\n",
       "        vertical-align: top;\n",
       "    }\n",
       "\n",
       "    .dataframe thead th {\n",
       "        text-align: right;\n",
       "    }\n",
       "</style>\n",
       "<table border=\"1\" class=\"dataframe\">\n",
       "  <thead>\n",
       "    <tr style=\"text-align: right;\">\n",
       "      <th>Actual</th>\n",
       "      <th>BENIGN</th>\n",
       "      <th>Botnet</th>\n",
       "      <th>Brute Force</th>\n",
       "      <th>DoS/DDoS</th>\n",
       "      <th>Infiltration</th>\n",
       "      <th>PortScan</th>\n",
       "      <th>Web Attack</th>\n",
       "      <th>All</th>\n",
       "    </tr>\n",
       "    <tr>\n",
       "      <th>Pred</th>\n",
       "      <th></th>\n",
       "      <th></th>\n",
       "      <th></th>\n",
       "      <th></th>\n",
       "      <th></th>\n",
       "      <th></th>\n",
       "      <th></th>\n",
       "      <th></th>\n",
       "    </tr>\n",
       "  </thead>\n",
       "  <tbody>\n",
       "    <tr>\n",
       "      <th>BENIGN</th>\n",
       "      <td>452960</td>\n",
       "      <td>10</td>\n",
       "      <td>0</td>\n",
       "      <td>10</td>\n",
       "      <td>0</td>\n",
       "      <td>1</td>\n",
       "      <td>2</td>\n",
       "      <td>452983</td>\n",
       "    </tr>\n",
       "    <tr>\n",
       "      <th>Botnet</th>\n",
       "      <td>647</td>\n",
       "      <td>387</td>\n",
       "      <td>0</td>\n",
       "      <td>0</td>\n",
       "      <td>0</td>\n",
       "      <td>0</td>\n",
       "      <td>0</td>\n",
       "      <td>1034</td>\n",
       "    </tr>\n",
       "    <tr>\n",
       "      <th>Brute Force</th>\n",
       "      <td>32</td>\n",
       "      <td>0</td>\n",
       "      <td>2810</td>\n",
       "      <td>0</td>\n",
       "      <td>0</td>\n",
       "      <td>0</td>\n",
       "      <td>0</td>\n",
       "      <td>2842</td>\n",
       "    </tr>\n",
       "    <tr>\n",
       "      <th>DoS/DDoS</th>\n",
       "      <td>361</td>\n",
       "      <td>0</td>\n",
       "      <td>0</td>\n",
       "      <td>76478</td>\n",
       "      <td>0</td>\n",
       "      <td>4</td>\n",
       "      <td>9</td>\n",
       "      <td>76852</td>\n",
       "    </tr>\n",
       "    <tr>\n",
       "      <th>Infiltration</th>\n",
       "      <td>8</td>\n",
       "      <td>0</td>\n",
       "      <td>0</td>\n",
       "      <td>0</td>\n",
       "      <td>7</td>\n",
       "      <td>0</td>\n",
       "      <td>0</td>\n",
       "      <td>15</td>\n",
       "    </tr>\n",
       "    <tr>\n",
       "      <th>PortScan</th>\n",
       "      <td>195</td>\n",
       "      <td>0</td>\n",
       "      <td>0</td>\n",
       "      <td>20</td>\n",
       "      <td>0</td>\n",
       "      <td>31780</td>\n",
       "      <td>53</td>\n",
       "      <td>32048</td>\n",
       "    </tr>\n",
       "    <tr>\n",
       "      <th>Web Attack</th>\n",
       "      <td>4</td>\n",
       "      <td>0</td>\n",
       "      <td>0</td>\n",
       "      <td>2</td>\n",
       "      <td>0</td>\n",
       "      <td>2</td>\n",
       "      <td>367</td>\n",
       "      <td>375</td>\n",
       "    </tr>\n",
       "    <tr>\n",
       "      <th>All</th>\n",
       "      <td>454207</td>\n",
       "      <td>397</td>\n",
       "      <td>2810</td>\n",
       "      <td>76510</td>\n",
       "      <td>7</td>\n",
       "      <td>31787</td>\n",
       "      <td>431</td>\n",
       "      <td>566149</td>\n",
       "    </tr>\n",
       "  </tbody>\n",
       "</table>\n",
       "</div>"
      ],
      "text/plain": [
       "Actual        BENIGN  Botnet  Brute Force  DoS/DDoS  Infiltration  PortScan  \\\n",
       "Pred                                                                          \n",
       "BENIGN        452960      10            0        10             0         1   \n",
       "Botnet           647     387            0         0             0         0   \n",
       "Brute Force       32       0         2810         0             0         0   \n",
       "DoS/DDoS         361       0            0     76478             0         4   \n",
       "Infiltration       8       0            0         0             7         0   \n",
       "PortScan         195       0            0        20             0     31780   \n",
       "Web Attack         4       0            0         2             0         2   \n",
       "All           454207     397         2810     76510             7     31787   \n",
       "\n",
       "Actual        Web Attack     All  \n",
       "Pred                              \n",
       "BENIGN                 2  452983  \n",
       "Botnet                 0    1034  \n",
       "Brute Force            0    2842  \n",
       "DoS/DDoS               9   76852  \n",
       "Infiltration           0      15  \n",
       "PortScan              53   32048  \n",
       "Web Attack           367     375  \n",
       "All                  431  566149  "
      ]
     },
     "execution_count": 26,
     "metadata": {},
     "output_type": "execute_result"
    }
   ],
   "source": [
    "print(\"Predicting...\")\n",
    "pred = model.predict(x_val)\n",
    "\n",
    "print(\"Plotting...\")\n",
    "pred_index = list(pred.argmax(1))\n",
    "y_index = list(np.argmax(y_val.to_numpy(), axis=1))\n",
    "\n",
    "atktypes = sorted(y_val.columns)\n",
    "pred_series = pd.Series(pred_index, name=\"Pred\").replace(dict(enumerate(atktypes)))\n",
    "y_series = pd.Series(y_index, name=\"Actual\").replace(dict(enumerate(atktypes)))\n",
    "\n",
    "matrix = pd.crosstab(pred_series, y_series, margins=True)\n",
    "print(\"Done!\")\n",
    "matrix"
   ]
  },
  {
   "cell_type": "markdown",
   "metadata": {},
   "source": [
    "# Test data"
   ]
  },
  {
   "cell_type": "code",
   "execution_count": 25,
   "metadata": {},
   "outputs": [],
   "source": [
    "from sklearn.metrics import f1_score, precision_score, recall_score"
   ]
  },
  {
   "cell_type": "code",
   "execution_count": 24,
   "metadata": {},
   "outputs": [],
   "source": [
    "# model = keras.models.load_model(NOTEBOOK_PATH + \"Models/%s/cnn(50).h5\" % model_id)\n",
    "pred = model.predict(x_test, batch_size=1000)"
   ]
  },
  {
   "cell_type": "code",
   "execution_count": 26,
   "metadata": {},
   "outputs": [
    {
     "name": "stdout",
     "output_type": "stream",
     "text": [
      "Precision: 0.9913537483415403\n",
      "Recall: 0.9997575409261936\n",
      "F1: 0.9955379098818753\n"
     ]
    }
   ],
   "source": [
    "pred = pred.round().astype('int').ravel()\n",
    "y_test_npy = y_test.to_numpy().ravel()\n",
    "\n",
    "precision = precision_score(y_test_npy, pred)\n",
    "print(\"Precision:\", precision)\n",
    "\n",
    "recall = recall_score(y_test_npy, pred)\n",
    "print(\"Recall:\", recall)\n",
    "\n",
    "f1 = f1_score(y_test_npy, pred)\n",
    "print(\"F1:\", f1)"
   ]
  },
  {
   "cell_type": "code",
   "execution_count": 27,
   "metadata": {},
   "outputs": [
    {
     "data": {
      "text/html": [
       "<div>\n",
       "<style scoped>\n",
       "    .dataframe tbody tr th:only-of-type {\n",
       "        vertical-align: middle;\n",
       "    }\n",
       "\n",
       "    .dataframe tbody tr th {\n",
       "        vertical-align: top;\n",
       "    }\n",
       "\n",
       "    .dataframe thead th {\n",
       "        text-align: right;\n",
       "    }\n",
       "</style>\n",
       "<table border=\"1\" class=\"dataframe\">\n",
       "  <thead>\n",
       "    <tr style=\"text-align: right;\">\n",
       "      <th>Actual</th>\n",
       "      <th>Attack</th>\n",
       "      <th>Benign</th>\n",
       "      <th>All</th>\n",
       "    </tr>\n",
       "    <tr>\n",
       "      <th>Pred</th>\n",
       "      <th></th>\n",
       "      <th></th>\n",
       "      <th></th>\n",
       "    </tr>\n",
       "  </thead>\n",
       "  <tbody>\n",
       "    <tr>\n",
       "      <th>Attack</th>\n",
       "      <td>111332</td>\n",
       "      <td>971</td>\n",
       "      <td>112303</td>\n",
       "    </tr>\n",
       "    <tr>\n",
       "      <th>Benign</th>\n",
       "      <td>27</td>\n",
       "      <td>453819</td>\n",
       "      <td>453846</td>\n",
       "    </tr>\n",
       "    <tr>\n",
       "      <th>All</th>\n",
       "      <td>111359</td>\n",
       "      <td>454790</td>\n",
       "      <td>566149</td>\n",
       "    </tr>\n",
       "  </tbody>\n",
       "</table>\n",
       "</div>"
      ],
      "text/plain": [
       "Actual  Attack  Benign     All\n",
       "Pred                          \n",
       "Attack  111332     971  112303\n",
       "Benign      27  453819  453846\n",
       "All     111359  454790  566149"
      ]
     },
     "execution_count": 27,
     "metadata": {},
     "output_type": "execute_result"
    }
   ],
   "source": [
    "pred_series = pd.Series(pred, name=\"Pred\").replace({0: 'Benign', 1: 'Attack'})\n",
    "y_series = pd.Series(y_test.to_numpy().ravel(), name=\"Actual\").replace({0: 'Benign', 1: 'Attack'})\n",
    "\n",
    "matrix = pd.crosstab(pred_series, y_series, margins=True)\n",
    "matrix"
   ]
  },
  {
   "cell_type": "markdown",
   "metadata": {},
   "source": [
    "# Log results"
   ]
  },
  {
   "cell_type": "code",
   "execution_count": 31,
   "metadata": {},
   "outputs": [],
   "source": [
    "model_log = open(NOTEBOOK_PATH + \"model_log.txt\", \"a\")\n",
    "\n",
    "model_log.write(\"\\n\" + model_id)\n",
    "model_log.write(\"\\n\\tF1 Micro: \" + str(f1_micro))\n",
    "model_log.write(\"\\n\\tF1 Macro: \" + str(f1_macro))\n",
    "\n",
    "model_log.close()"
   ]
  }
 ],
 "metadata": {
  "kernelspec": {
   "display_name": "Python 3",
   "language": "python",
   "name": "python3"
  },
  "language_info": {
   "codemirror_mode": {
    "name": "ipython",
    "version": 3
   },
   "file_extension": ".py",
   "mimetype": "text/x-python",
   "name": "python",
   "nbconvert_exporter": "python",
   "pygments_lexer": "ipython3",
   "version": "3.6.7"
  }
 },
 "nbformat": 4,
 "nbformat_minor": 4
}

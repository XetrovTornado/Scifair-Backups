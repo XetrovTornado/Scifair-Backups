{
 "cells": [
  {
   "cell_type": "markdown",
   "metadata": {},
   "source": [
    "# CSE-CIC-IDS 2017"
   ]
  },
  {
   "cell_type": "code",
   "execution_count": 1,
   "metadata": {},
   "outputs": [],
   "source": [
    "model_id = \"cnn8-pooling\""
   ]
  },
  {
   "cell_type": "code",
   "execution_count": 2,
   "metadata": {},
   "outputs": [
    {
     "name": "stderr",
     "output_type": "stream",
     "text": [
      "Using TensorFlow backend.\n",
      "C:\\Users\\Xetrov\\AppData\\Local\\Continuum\\anaconda3\\lib\\site-packages\\tensorflow\\python\\framework\\dtypes.py:517: FutureWarning: Passing (type, 1) or '1type' as a synonym of type is deprecated; in a future version of numpy, it will be understood as (type, (1,)) / '(1,)type'.\n",
      "  _np_qint8 = np.dtype([(\"qint8\", np.int8, 1)])\n",
      "C:\\Users\\Xetrov\\AppData\\Local\\Continuum\\anaconda3\\lib\\site-packages\\tensorflow\\python\\framework\\dtypes.py:518: FutureWarning: Passing (type, 1) or '1type' as a synonym of type is deprecated; in a future version of numpy, it will be understood as (type, (1,)) / '(1,)type'.\n",
      "  _np_quint8 = np.dtype([(\"quint8\", np.uint8, 1)])\n",
      "C:\\Users\\Xetrov\\AppData\\Local\\Continuum\\anaconda3\\lib\\site-packages\\tensorflow\\python\\framework\\dtypes.py:519: FutureWarning: Passing (type, 1) or '1type' as a synonym of type is deprecated; in a future version of numpy, it will be understood as (type, (1,)) / '(1,)type'.\n",
      "  _np_qint16 = np.dtype([(\"qint16\", np.int16, 1)])\n",
      "C:\\Users\\Xetrov\\AppData\\Local\\Continuum\\anaconda3\\lib\\site-packages\\tensorflow\\python\\framework\\dtypes.py:520: FutureWarning: Passing (type, 1) or '1type' as a synonym of type is deprecated; in a future version of numpy, it will be understood as (type, (1,)) / '(1,)type'.\n",
      "  _np_quint16 = np.dtype([(\"quint16\", np.uint16, 1)])\n",
      "C:\\Users\\Xetrov\\AppData\\Local\\Continuum\\anaconda3\\lib\\site-packages\\tensorflow\\python\\framework\\dtypes.py:521: FutureWarning: Passing (type, 1) or '1type' as a synonym of type is deprecated; in a future version of numpy, it will be understood as (type, (1,)) / '(1,)type'.\n",
      "  _np_qint32 = np.dtype([(\"qint32\", np.int32, 1)])\n",
      "C:\\Users\\Xetrov\\AppData\\Local\\Continuum\\anaconda3\\lib\\site-packages\\tensorflow\\python\\framework\\dtypes.py:526: FutureWarning: Passing (type, 1) or '1type' as a synonym of type is deprecated; in a future version of numpy, it will be understood as (type, (1,)) / '(1,)type'.\n",
      "  np_resource = np.dtype([(\"resource\", np.ubyte, 1)])\n"
     ]
    }
   ],
   "source": [
    "import numpy as np\n",
    "np.random.seed(42)\n",
    "np.set_printoptions(suppress=True)\n",
    "import pandas as pd\n",
    "import matplotlib.pyplot as plt\n",
    "import seaborn as sns\n",
    "from tqdm import tqdm\n",
    "\n",
    "import glob, time, os\n",
    "\n",
    "import keras"
   ]
  },
  {
   "cell_type": "code",
   "execution_count": 3,
   "metadata": {},
   "outputs": [],
   "source": [
    "NOTEBOOK_PATH = \"C:/Users/Xetrov/Desktop/SciFair20/Code/\""
   ]
  },
  {
   "cell_type": "code",
   "execution_count": 4,
   "metadata": {},
   "outputs": [],
   "source": [
    "x_scaled = pd.read_csv(NOTEBOOK_PATH + \"IDS2017/x_scaled_powertransform.csv\")"
   ]
  },
  {
   "cell_type": "code",
   "execution_count": 5,
   "metadata": {},
   "outputs": [],
   "source": [
    "y_df_enc = pd.read_csv(NOTEBOOK_PATH + \"IDS2017/y_all_binary.csv\")"
   ]
  },
  {
   "cell_type": "markdown",
   "metadata": {},
   "source": [
    "# Reshape into images"
   ]
  },
  {
   "cell_type": "code",
   "execution_count": 6,
   "metadata": {},
   "outputs": [],
   "source": [
    "x_img = x_scaled.to_numpy().reshape((len(x_scaled), 4, 17))"
   ]
  },
  {
   "cell_type": "code",
   "execution_count": 7,
   "metadata": {},
   "outputs": [],
   "source": [
    "x_img = np.expand_dims(x_img, -1)"
   ]
  },
  {
   "cell_type": "markdown",
   "metadata": {},
   "source": [
    "# Split data into train and test"
   ]
  },
  {
   "cell_type": "code",
   "execution_count": 8,
   "metadata": {},
   "outputs": [],
   "source": [
    "from sklearn.model_selection import train_test_split"
   ]
  },
  {
   "cell_type": "code",
   "execution_count": 9,
   "metadata": {},
   "outputs": [],
   "source": [
    "from sklearn.model_selection import train_test_split\n",
    "\n",
    "x_train, x_valtest, y_train, y_valtest = train_test_split(x_img, y_df_enc, test_size = 0.4, random_state = 42)\n",
    "\n",
    "x_val, x_test, y_val, y_test = train_test_split(x_valtest, y_valtest, test_size = 0.5, random_state = 42)\n",
    "\n",
    "del x_train\n",
    "del y_train\n",
    "del x_valtest \n",
    "del y_valtest"
   ]
  },
  {
   "cell_type": "markdown",
   "metadata": {},
   "source": [
    "# Read ADASYN data"
   ]
  },
  {
   "cell_type": "code",
   "execution_count": 10,
   "metadata": {},
   "outputs": [],
   "source": [
    "x_train_res = pd.read_csv(NOTEBOOK_PATH + \"IDS2017/x_adasyn_binary.csv\")"
   ]
  },
  {
   "cell_type": "code",
   "execution_count": 11,
   "metadata": {},
   "outputs": [],
   "source": [
    "y_train_res = pd.read_csv(NOTEBOOK_PATH + \"IDS2017/y_adasyn_binary.csv\")['IsAttack']"
   ]
  },
  {
   "cell_type": "code",
   "execution_count": 12,
   "metadata": {},
   "outputs": [],
   "source": [
    "x_train_resimg = np.expand_dims(x_train_res.to_numpy().reshape((len(x_train_res), 4, 17)), -1)"
   ]
  },
  {
   "cell_type": "markdown",
   "metadata": {},
   "source": [
    "# Train model"
   ]
  },
  {
   "cell_type": "code",
   "execution_count": 14,
   "metadata": {},
   "outputs": [],
   "source": [
    "from keras.models import Model, Sequential\n",
    "from keras.layers import Dense, BatchNormalization, Dropout, InputLayer, Conv2D, MaxPooling2D, Flatten\n",
    "from keras.optimizers import SGD, Adam"
   ]
  },
  {
   "cell_type": "code",
   "execution_count": 22,
   "metadata": {},
   "outputs": [],
   "source": [
    "def addDenseBlock(model, units, **params):\n",
    "    model.add(Dense(units=units, activation=params['hidden_activation'], input_dim=x_train_res.shape[1]))\n",
    "    if params['batch_normalization']: model.add(BatchNormalization())\n",
    "    if params['dropout_rate'] > 0: model.add(Dropout(params['dropout_rate']))\n",
    "\n",
    "def addConvBlock(model, units, **params):\n",
    "    model.add(Conv2D(filters=units, kernel_size=params['kernel_size'], activation=params['hidden_activation'], padding=params['padding'],input_shape=(4,17,1)))\n",
    "#     model.add(MaxPooling2D((1,2)))\n",
    "    if params['batch_normalization']: model.add(BatchNormalization())\n",
    "    if params['dropout_rate'] > 0: model.add(Dropout(params['dropout_rate']))\n",
    "        \n",
    "def createModel(**in_params):\n",
    "    \"\"\"\n",
    "    Supported parameters:\n",
    "    batch_normalization - True or False\n",
    "    dropout_rate - 0 to 1\n",
    "    num_units - integer\n",
    "    learning_rate - float\n",
    "    activation_function - string\n",
    "    \"\"\"\n",
    "    \n",
    "    model = Sequential()\n",
    "\n",
    "    # Set default values\n",
    "    params = {\n",
    "        'batch_normalization': True,\n",
    "        'dropout_rate': 0,\n",
    "        'num_layers': 6,\n",
    "        'num_units': 128,\n",
    "        'learning_rate': 0.001,\n",
    "        'hidden_activation': 'relu',\n",
    "        'final_activation': 'sigmoid',\n",
    "        'kernel_size': (2,2),\n",
    "        'padding':'same'\n",
    "    }\n",
    "    \n",
    "    # Replace defaults with specified parameters\n",
    "    for param in in_params:\n",
    "        params[param] = in_params[param]    \n",
    "    \n",
    "    # InputLayer causes serialization issues\n",
    "#     model.add( InputLayer(input_shape = (x_train.shape[1],) ) )\n",
    "    \n",
    "#     for i in range(params['num_layers']):\n",
    "#         addDenseBlock(model, params['num_units'], **params)\n",
    "\n",
    "    addConvBlock(model, 256, **params)\n",
    "    addConvBlock(model, 128, **params)\n",
    "    model.add(MaxPooling2D())\n",
    "    addConvBlock(model, 64, **params)\n",
    "    addConvBlock(model, 32, **params)\n",
    "    addConvBlock(model, 64, **params)\n",
    "    model.add(MaxPooling2D())\n",
    "    addConvBlock(model, 128, **params)\n",
    "    addConvBlock(model, 256, **params)\n",
    "    \n",
    "    model.add(Flatten())\n",
    "\n",
    "    model.add(Dense(units=1, activation=params['final_activation']))\n",
    "\n",
    "    # optim = SGD(lr=0.001, nesterov=True)\n",
    "    optim = Adam(lr=params['learning_rate'])\n",
    "\n",
    "    model.compile(loss='binary_crossentropy', optimizer=optim, metrics=['accuracy'])\n",
    "    \n",
    "#     print(params)\n",
    "    \n",
    "    return model"
   ]
  },
  {
   "cell_type": "markdown",
   "metadata": {},
   "source": [
    "Ensure a GPU is available"
   ]
  },
  {
   "cell_type": "code",
   "execution_count": 16,
   "metadata": {},
   "outputs": [
    {
     "data": {
      "text/plain": [
       "['/job:localhost/replica:0/task:0/device:GPU:0']"
      ]
     },
     "execution_count": 16,
     "metadata": {},
     "output_type": "execute_result"
    }
   ],
   "source": [
    "import keras.backend as K\n",
    "\n",
    "K.tensorflow_backend._get_available_gpus()"
   ]
  },
  {
   "cell_type": "markdown",
   "metadata": {},
   "source": [
    "### Callbacks"
   ]
  },
  {
   "cell_type": "code",
   "execution_count": 17,
   "metadata": {},
   "outputs": [
    {
     "name": "stdout",
     "output_type": "stream",
     "text": [
      "Created C:/Users/Xetrov/Desktop/SciFair20/Code/Models/cnn8-pooling/\n"
     ]
    }
   ],
   "source": [
    "from keras.callbacks import CSVLogger, EarlyStopping, ModelCheckpoint\n",
    "\n",
    "def timestamp():\n",
    "    return time.strftime(\"%m-%d-%Y, %I%M%p\")\n",
    "\n",
    "csv_callback = CSVLogger(NOTEBOOK_PATH + 'Loss Logs/%s (%s)' % (model_id, timestamp()), append=True)\n",
    "early_stop = EarlyStopping(monitor = 'val_loss', min_delta=0.0001, patience=5)\n",
    "\n",
    "savedir = NOTEBOOK_PATH + \"Models/%s/\" % model_id\n",
    "if not os.path.exists(savedir):\n",
    "    os.makedirs(savedir)\n",
    "    print(\"Created \" + savedir)\n",
    "else:\n",
    "    print(\"Using \" + savedir)"
   ]
  },
  {
   "cell_type": "markdown",
   "metadata": {},
   "source": [
    "### Training"
   ]
  },
  {
   "cell_type": "code",
   "execution_count": 18,
   "metadata": {},
   "outputs": [],
   "source": [
    "import itertools\n",
    "\n",
    "trainEpochs = 200\n",
    "\n",
    "parameters = {'batch_size': 1000, 'batch_normalization':True, 'dropout_rate':0, 'final_activation': 'sigmoid'}"
   ]
  },
  {
   "cell_type": "code",
   "execution_count": 23,
   "metadata": {},
   "outputs": [
    {
     "name": "stdout",
     "output_type": "stream",
     "text": [
      "_________________________________________________________________\n",
      "Layer (type)                 Output Shape              Param #   \n",
      "=================================================================\n",
      "conv2d_9 (Conv2D)            (None, 4, 17, 256)        1280      \n",
      "_________________________________________________________________\n",
      "batch_normalization_7 (Batch (None, 4, 17, 256)        1024      \n",
      "_________________________________________________________________\n",
      "conv2d_10 (Conv2D)           (None, 4, 17, 128)        131200    \n",
      "_________________________________________________________________\n",
      "batch_normalization_8 (Batch (None, 4, 17, 128)        512       \n",
      "_________________________________________________________________\n",
      "max_pooling2d_9 (MaxPooling2 (None, 2, 8, 128)         0         \n",
      "_________________________________________________________________\n",
      "conv2d_11 (Conv2D)           (None, 2, 8, 64)          32832     \n",
      "_________________________________________________________________\n",
      "batch_normalization_9 (Batch (None, 2, 8, 64)          256       \n",
      "_________________________________________________________________\n",
      "conv2d_12 (Conv2D)           (None, 2, 8, 32)          8224      \n",
      "_________________________________________________________________\n",
      "batch_normalization_10 (Batc (None, 2, 8, 32)          128       \n",
      "_________________________________________________________________\n",
      "conv2d_13 (Conv2D)           (None, 2, 8, 64)          8256      \n",
      "_________________________________________________________________\n",
      "batch_normalization_11 (Batc (None, 2, 8, 64)          256       \n",
      "_________________________________________________________________\n",
      "max_pooling2d_10 (MaxPooling (None, 1, 4, 64)          0         \n",
      "_________________________________________________________________\n",
      "conv2d_14 (Conv2D)           (None, 1, 4, 128)         32896     \n",
      "_________________________________________________________________\n",
      "batch_normalization_12 (Batc (None, 1, 4, 128)         512       \n",
      "_________________________________________________________________\n",
      "conv2d_15 (Conv2D)           (None, 1, 4, 256)         131328    \n",
      "_________________________________________________________________\n",
      "batch_normalization_13 (Batc (None, 1, 4, 256)         1024      \n",
      "_________________________________________________________________\n",
      "flatten_1 (Flatten)          (None, 1024)              0         \n",
      "_________________________________________________________________\n",
      "dense_1 (Dense)              (None, 1)                 1025      \n",
      "=================================================================\n",
      "Total params: 350,753\n",
      "Trainable params: 348,897\n",
      "Non-trainable params: 1,856\n",
      "_________________________________________________________________\n",
      "Train on 2727615 samples, validate on 566149 samples\n",
      "Epoch 1/200\n",
      " - 114s - loss: 0.0405 - acc: 0.9868 - val_loss: 0.0368 - val_acc: 0.9871\n",
      "Epoch 2/200\n",
      " - 111s - loss: 0.0211 - acc: 0.9943 - val_loss: 0.0295 - val_acc: 0.9923\n",
      "Epoch 3/200\n",
      " - 111s - loss: 0.0184 - acc: 0.9952 - val_loss: 0.0211 - val_acc: 0.9944\n",
      "Epoch 4/200\n",
      " - 111s - loss: 0.0172 - acc: 0.9956 - val_loss: 0.0214 - val_acc: 0.9935\n",
      "Epoch 5/200\n",
      " - 111s - loss: 0.0148 - acc: 0.9964 - val_loss: 0.0163 - val_acc: 0.9959\n",
      "Epoch 6/200\n",
      " - 111s - loss: 0.0158 - acc: 0.9960 - val_loss: 0.0351 - val_acc: 0.9878\n",
      "Epoch 7/200\n",
      " - 111s - loss: 0.0147 - acc: 0.9964 - val_loss: 0.0170 - val_acc: 0.9959\n",
      "Epoch 8/200\n",
      " - 111s - loss: 0.0138 - acc: 0.9967 - val_loss: 0.0180 - val_acc: 0.9954\n",
      "Epoch 9/200\n",
      " - 111s - loss: 0.0128 - acc: 0.9970 - val_loss: 0.0128 - val_acc: 0.9966\n",
      "Epoch 10/200\n",
      " - 111s - loss: 0.0128 - acc: 0.9970 - val_loss: 0.0189 - val_acc: 0.9960\n",
      "Epoch 11/200\n",
      " - 111s - loss: 0.0124 - acc: 0.9971 - val_loss: 0.0150 - val_acc: 0.9961\n",
      "Epoch 12/200\n",
      " - 111s - loss: 0.0121 - acc: 0.9972 - val_loss: 0.0145 - val_acc: 0.9964\n",
      "Epoch 13/200\n",
      " - 111s - loss: 0.0118 - acc: 0.9973 - val_loss: 0.0153 - val_acc: 0.9964\n",
      "Epoch 14/200\n",
      " - 111s - loss: 0.0124 - acc: 0.9971 - val_loss: 0.0180 - val_acc: 0.9927\n",
      "Epoch 15/200\n",
      " - 111s - loss: 0.0118 - acc: 0.9973 - val_loss: 0.0146 - val_acc: 0.9965\n",
      "Epoch 16/200\n",
      " - 111s - loss: 0.0117 - acc: 0.9973 - val_loss: 0.0139 - val_acc: 0.9963\n",
      "Epoch 17/200\n",
      " - 111s - loss: 0.0116 - acc: 0.9974 - val_loss: 0.0187 - val_acc: 0.9954\n",
      "Epoch 18/200\n",
      " - 111s - loss: 0.0110 - acc: 0.9975 - val_loss: 0.0145 - val_acc: 0.9964\n",
      "Epoch 19/200\n",
      " - 111s - loss: 0.0112 - acc: 0.9974 - val_loss: 0.0218 - val_acc: 0.9942\n",
      "Epoch 20/200\n",
      " - 111s - loss: 0.0110 - acc: 0.9975 - val_loss: 0.0167 - val_acc: 0.9966\n",
      "Epoch 21/200\n",
      " - 111s - loss: 0.0108 - acc: 0.9976 - val_loss: 0.0162 - val_acc: 0.9964\n",
      "Epoch 22/200\n",
      " - 111s - loss: 0.0108 - acc: 0.9976 - val_loss: 0.0130 - val_acc: 0.9963\n",
      "Epoch 23/200\n",
      " - 111s - loss: 0.0103 - acc: 0.9977 - val_loss: 0.0128 - val_acc: 0.9969\n",
      "Epoch 24/200\n",
      " - 111s - loss: 0.0110 - acc: 0.9975 - val_loss: 0.0172 - val_acc: 0.9954\n",
      "Epoch 25/200\n",
      " - 111s - loss: 0.0109 - acc: 0.9976 - val_loss: 0.0149 - val_acc: 0.9949\n",
      "Epoch 26/200\n",
      " - 111s - loss: 0.0105 - acc: 0.9976 - val_loss: 0.0145 - val_acc: 0.9968\n",
      "Epoch 27/200\n",
      " - 111s - loss: 0.0104 - acc: 0.9977 - val_loss: 0.0121 - val_acc: 0.9970\n",
      "Epoch 28/200\n",
      " - 111s - loss: 0.0103 - acc: 0.9977 - val_loss: 0.0107 - val_acc: 0.9975\n",
      "Epoch 29/200\n",
      " - 111s - loss: 0.0093 - acc: 0.9980 - val_loss: 0.0183 - val_acc: 0.9966\n",
      "Epoch 30/200\n",
      " - 111s - loss: 0.0098 - acc: 0.9979 - val_loss: 0.0203 - val_acc: 0.9947\n",
      "Epoch 31/200\n",
      " - 111s - loss: 0.0090 - acc: 0.9981 - val_loss: 0.0251 - val_acc: 0.9946\n",
      "Epoch 32/200\n",
      " - 111s - loss: 0.0099 - acc: 0.9979 - val_loss: 0.0149 - val_acc: 0.9950\n",
      "Epoch 33/200\n",
      " - 111s - loss: 0.0095 - acc: 0.9979 - val_loss: 0.0127 - val_acc: 0.9971\n",
      "Epoch 34/200\n",
      " - 111s - loss: 0.0096 - acc: 0.9979 - val_loss: 0.0137 - val_acc: 0.9968\n",
      "Epoch 35/200\n",
      " - 111s - loss: 0.0095 - acc: 0.9979 - val_loss: 0.0120 - val_acc: 0.9971\n",
      "Epoch 36/200\n",
      " - 111s - loss: 0.0089 - acc: 0.9981 - val_loss: 0.0120 - val_acc: 0.9969\n",
      "Epoch 37/200\n",
      " - 111s - loss: 0.0092 - acc: 0.9981 - val_loss: 0.0241 - val_acc: 0.9966\n",
      "Epoch 38/200\n",
      " - 111s - loss: 0.0097 - acc: 0.9979 - val_loss: 0.0147 - val_acc: 0.9949\n",
      "Epoch 39/200\n",
      " - 111s - loss: 0.0094 - acc: 0.9980 - val_loss: 0.0125 - val_acc: 0.9967\n",
      "Epoch 40/200\n",
      " - 111s - loss: 0.0088 - acc: 0.9981 - val_loss: 0.0152 - val_acc: 0.9968\n",
      "Epoch 41/200\n",
      " - 111s - loss: 0.0100 - acc: 0.9978 - val_loss: 0.0156 - val_acc: 0.9971\n",
      "Epoch 42/200\n",
      " - 111s - loss: 0.0095 - acc: 0.9980 - val_loss: 0.0129 - val_acc: 0.9972\n",
      "Epoch 43/200\n",
      " - 111s - loss: 0.0093 - acc: 0.9980 - val_loss: 0.0193 - val_acc: 0.9955\n",
      "Epoch 44/200\n",
      " - 111s - loss: 0.0098 - acc: 0.9979 - val_loss: 0.0113 - val_acc: 0.9971\n",
      "Epoch 45/200\n",
      " - 111s - loss: 0.0092 - acc: 0.9980 - val_loss: 0.0136 - val_acc: 0.9970\n",
      "Epoch 46/200\n",
      " - 111s - loss: 0.0090 - acc: 0.9981 - val_loss: 0.0109 - val_acc: 0.9977\n",
      "Epoch 47/200\n",
      " - 111s - loss: 0.0088 - acc: 0.9981 - val_loss: 0.0136 - val_acc: 0.9972\n",
      "Epoch 48/200\n",
      " - 111s - loss: 0.0081 - acc: 0.9983 - val_loss: 0.0098 - val_acc: 0.9978\n",
      "Epoch 49/200\n",
      " - 111s - loss: 0.0091 - acc: 0.9981 - val_loss: 0.0101 - val_acc: 0.9975\n",
      "Epoch 50/200\n",
      " - 111s - loss: 0.0087 - acc: 0.9982 - val_loss: 0.0121 - val_acc: 0.9972\n",
      "Epoch 51/200\n",
      " - 111s - loss: 0.0076 - acc: 0.9984 - val_loss: 0.0150 - val_acc: 0.9969\n",
      "Epoch 52/200\n",
      " - 111s - loss: 0.0075 - acc: 0.9984 - val_loss: 0.0102 - val_acc: 0.9978\n",
      "Epoch 53/200\n",
      " - 111s - loss: 0.0072 - acc: 0.9985 - val_loss: 0.0582 - val_acc: 0.9939\n",
      "Epoch 54/200\n",
      " - 111s - loss: 0.0071 - acc: 0.9985 - val_loss: 0.0648 - val_acc: 0.9931\n",
      "Epoch 55/200\n",
      " - 111s - loss: 0.0074 - acc: 0.9984 - val_loss: 0.0103 - val_acc: 0.9978\n",
      "Epoch 56/200\n",
      " - 111s - loss: 0.0069 - acc: 0.9985 - val_loss: 0.0643 - val_acc: 0.9938\n",
      "Epoch 57/200\n",
      " - 111s - loss: 0.0071 - acc: 0.9985 - val_loss: 0.0229 - val_acc: 0.9962\n",
      "Epoch 58/200\n",
      " - 111s - loss: 0.0071 - acc: 0.9985 - val_loss: 0.0099 - val_acc: 0.9978\n",
      "Epoch 59/200\n",
      " - 111s - loss: 0.0070 - acc: 0.9985 - val_loss: 0.0154 - val_acc: 0.9955\n",
      "Epoch 60/200\n",
      " - 111s - loss: 0.0069 - acc: 0.9986 - val_loss: 0.0090 - val_acc: 0.9979\n",
      "Epoch 61/200\n",
      " - 111s - loss: 0.0069 - acc: 0.9985 - val_loss: 0.0289 - val_acc: 0.9949\n",
      "Epoch 62/200\n",
      " - 111s - loss: 0.0070 - acc: 0.9986 - val_loss: 0.0125 - val_acc: 0.9973\n",
      "Epoch 63/200\n",
      " - 111s - loss: 0.0070 - acc: 0.9986 - val_loss: 0.0260 - val_acc: 0.9928\n",
      "Epoch 64/200\n",
      " - 111s - loss: 0.0068 - acc: 0.9986 - val_loss: 0.0127 - val_acc: 0.9971\n",
      "Epoch 65/200\n",
      " - 111s - loss: 0.0066 - acc: 0.9986 - val_loss: 0.0277 - val_acc: 0.9954\n",
      "Epoch 66/200\n",
      " - 111s - loss: 0.0065 - acc: 0.9986 - val_loss: 0.0106 - val_acc: 0.9976\n",
      "Epoch 67/200\n",
      " - 111s - loss: 0.0072 - acc: 0.9985 - val_loss: 0.1195 - val_acc: 0.9858\n",
      "Epoch 68/200\n",
      " - 111s - loss: 0.0065 - acc: 0.9987 - val_loss: 0.0544 - val_acc: 0.9947\n",
      "Epoch 69/200\n",
      " - 111s - loss: 0.0065 - acc: 0.9987 - val_loss: 0.1565 - val_acc: 0.9846\n",
      "Epoch 70/200\n",
      " - 111s - loss: 0.0065 - acc: 0.9986 - val_loss: 0.0111 - val_acc: 0.9963\n",
      "Epoch 71/200\n",
      " - 111s - loss: 0.0064 - acc: 0.9987 - val_loss: 0.0093 - val_acc: 0.9979\n",
      "Epoch 72/200\n",
      " - 111s - loss: 0.0064 - acc: 0.9987 - val_loss: 0.0118 - val_acc: 0.9966\n",
      "Epoch 73/200\n",
      " - 111s - loss: 0.0072 - acc: 0.9985 - val_loss: 0.0144 - val_acc: 0.9966\n",
      "Epoch 74/200\n",
      " - 111s - loss: 0.0079 - acc: 0.9984 - val_loss: 0.0271 - val_acc: 0.9942\n",
      "Epoch 75/200\n",
      " - 111s - loss: 0.0066 - acc: 0.9987 - val_loss: 0.0093 - val_acc: 0.9979\n",
      "Epoch 76/200\n",
      " - 111s - loss: 0.0065 - acc: 0.9986 - val_loss: 0.0232 - val_acc: 0.9950\n",
      "Epoch 77/200\n",
      " - 111s - loss: 0.0064 - acc: 0.9987 - val_loss: 0.0169 - val_acc: 0.9957\n",
      "Epoch 78/200\n",
      " - 111s - loss: 0.0064 - acc: 0.9987 - val_loss: 0.0128 - val_acc: 0.9953\n",
      "Epoch 79/200\n",
      " - 111s - loss: 0.0066 - acc: 0.9987 - val_loss: 0.0853 - val_acc: 0.9843\n",
      "Epoch 80/200\n",
      " - 111s - loss: 0.0071 - acc: 0.9985 - val_loss: 0.0150 - val_acc: 0.9953\n",
      "Epoch 81/200\n",
      " - 111s - loss: 0.0064 - acc: 0.9987 - val_loss: 0.2080 - val_acc: 0.9850\n",
      "Epoch 82/200\n",
      " - 111s - loss: 0.0063 - acc: 0.9987 - val_loss: 0.0579 - val_acc: 0.9943\n",
      "Epoch 83/200\n",
      " - 111s - loss: 0.0063 - acc: 0.9987 - val_loss: 0.2000 - val_acc: 0.9847\n",
      "Epoch 84/200\n",
      " - 111s - loss: 0.0062 - acc: 0.9987 - val_loss: 0.0344 - val_acc: 0.9951\n",
      "Epoch 85/200\n",
      " - 111s - loss: 0.0063 - acc: 0.9987 - val_loss: 0.0179 - val_acc: 0.9952\n",
      "Epoch 86/200\n",
      " - 111s - loss: 0.0062 - acc: 0.9987 - val_loss: 0.0551 - val_acc: 0.9947\n",
      "Epoch 87/200\n",
      " - 111s - loss: 0.0065 - acc: 0.9987 - val_loss: 0.2306 - val_acc: 0.9839\n",
      "Epoch 88/200\n",
      " - 111s - loss: 0.0082 - acc: 0.9986 - val_loss: 0.0092 - val_acc: 0.9979\n",
      "Epoch 89/200\n",
      " - 111s - loss: 0.0062 - acc: 0.9987 - val_loss: 0.0094 - val_acc: 0.9978\n",
      "Epoch 90/200\n",
      " - 111s - loss: 0.0062 - acc: 0.9988 - val_loss: 0.0374 - val_acc: 0.9950\n",
      "Epoch 91/200\n",
      " - 111s - loss: 0.0061 - acc: 0.9988 - val_loss: 0.0092 - val_acc: 0.9979\n",
      "Epoch 92/200\n",
      " - 111s - loss: 0.0061 - acc: 0.9988 - val_loss: 0.0094 - val_acc: 0.9979\n",
      "Epoch 93/200\n",
      " - 111s - loss: 0.0061 - acc: 0.9988 - val_loss: 0.0098 - val_acc: 0.9979\n",
      "Epoch 94/200\n",
      " - 111s - loss: 0.0061 - acc: 0.9988 - val_loss: 0.0282 - val_acc: 0.9951\n",
      "Epoch 95/200\n",
      " - 111s - loss: 0.0060 - acc: 0.9988 - val_loss: 0.0232 - val_acc: 0.9952\n",
      "Epoch 96/200\n",
      " - 111s - loss: 0.0060 - acc: 0.9988 - val_loss: 0.1512 - val_acc: 0.9849\n",
      "Epoch 97/200\n",
      " - 111s - loss: 0.0062 - acc: 0.9987 - val_loss: 0.0190 - val_acc: 0.9951\n",
      "Epoch 98/200\n",
      " - 111s - loss: 0.0060 - acc: 0.9988 - val_loss: 0.0091 - val_acc: 0.9981\n",
      "Epoch 99/200\n",
      " - 111s - loss: 0.0063 - acc: 0.9987 - val_loss: 0.0090 - val_acc: 0.9979\n",
      "Epoch 100/200\n",
      " - 111s - loss: 0.0060 - acc: 0.9988 - val_loss: 0.0136 - val_acc: 0.9976\n",
      "Epoch 101/200\n",
      " - 111s - loss: 0.0060 - acc: 0.9988 - val_loss: 0.1983 - val_acc: 0.9845\n",
      "Epoch 102/200\n",
      " - 111s - loss: 0.0060 - acc: 0.9988 - val_loss: 0.0152 - val_acc: 0.9971\n",
      "Epoch 103/200\n",
      " - 111s - loss: 0.0060 - acc: 0.9988 - val_loss: 0.0093 - val_acc: 0.9980\n",
      "Epoch 104/200\n",
      " - 111s - loss: 0.0061 - acc: 0.9988 - val_loss: 0.0136 - val_acc: 0.9951\n",
      "Epoch 105/200\n",
      " - 111s - loss: 0.0060 - acc: 0.9988 - val_loss: 0.0085 - val_acc: 0.9983\n",
      "Epoch 106/200\n",
      " - 111s - loss: 0.0059 - acc: 0.9988 - val_loss: 0.0084 - val_acc: 0.9982\n",
      "Epoch 107/200\n",
      " - 111s - loss: 0.0059 - acc: 0.9988 - val_loss: 0.2062 - val_acc: 0.9850\n",
      "Epoch 108/200\n",
      " - 111s - loss: 0.0060 - acc: 0.9988 - val_loss: 0.0092 - val_acc: 0.9980\n",
      "Epoch 109/200\n",
      " - 111s - loss: 0.0059 - acc: 0.9988 - val_loss: 0.0104 - val_acc: 0.9973\n",
      "Epoch 110/200\n",
      " - 111s - loss: 0.0060 - acc: 0.9988 - val_loss: 0.0420 - val_acc: 0.9953\n",
      "Epoch 111/200\n",
      " - 111s - loss: 0.0059 - acc: 0.9988 - val_loss: 0.0082 - val_acc: 0.9982\n",
      "Epoch 112/200\n",
      " - 111s - loss: 0.0058 - acc: 0.9988 - val_loss: 0.0344 - val_acc: 0.9864\n",
      "Epoch 113/200\n",
      " - 111s - loss: 0.0059 - acc: 0.9988 - val_loss: 0.0086 - val_acc: 0.9981\n",
      "Epoch 114/200\n",
      " - 111s - loss: 0.0059 - acc: 0.9988 - val_loss: 0.2209 - val_acc: 0.9850\n",
      "Epoch 115/200\n",
      " - 111s - loss: 0.0059 - acc: 0.9988 - val_loss: 0.0086 - val_acc: 0.9981\n",
      "Epoch 116/200\n",
      " - 111s - loss: 0.0058 - acc: 0.9988 - val_loss: 0.0304 - val_acc: 0.9952\n",
      "Epoch 117/200\n",
      " - 111s - loss: 0.0059 - acc: 0.9988 - val_loss: 0.0102 - val_acc: 0.9979\n",
      "Epoch 118/200\n",
      " - 111s - loss: 0.0059 - acc: 0.9988 - val_loss: 0.0088 - val_acc: 0.9982\n",
      "Epoch 119/200\n",
      " - 111s - loss: 0.0059 - acc: 0.9988 - val_loss: 0.2001 - val_acc: 0.9849\n",
      "Epoch 120/200\n",
      " - 111s - loss: 0.0058 - acc: 0.9988 - val_loss: 0.1207 - val_acc: 0.9875\n",
      "Epoch 121/200\n",
      " - 111s - loss: 0.0059 - acc: 0.9988 - val_loss: 0.0107 - val_acc: 0.9978\n",
      "Epoch 122/200\n",
      " - 111s - loss: 0.0059 - acc: 0.9988 - val_loss: 0.0097 - val_acc: 0.9981\n",
      "Epoch 123/200\n",
      " - 111s - loss: 0.0058 - acc: 0.9988 - val_loss: 0.1681 - val_acc: 0.9848\n",
      "Epoch 124/200\n",
      " - 111s - loss: 0.0058 - acc: 0.9988 - val_loss: 0.0099 - val_acc: 0.9977\n",
      "Epoch 125/200\n",
      " - 111s - loss: 0.0058 - acc: 0.9989 - val_loss: 0.0084 - val_acc: 0.9983\n",
      "Epoch 126/200\n",
      " - 111s - loss: 0.0059 - acc: 0.9988 - val_loss: 0.0515 - val_acc: 0.9878\n",
      "Epoch 127/200\n",
      " - 111s - loss: 0.0058 - acc: 0.9989 - val_loss: 0.0158 - val_acc: 0.9973\n",
      "Epoch 128/200\n",
      " - 111s - loss: 0.0059 - acc: 0.9988 - val_loss: 0.1864 - val_acc: 0.9849\n",
      "Epoch 129/200\n",
      " - 111s - loss: 0.0057 - acc: 0.9989 - val_loss: 0.0083 - val_acc: 0.9983\n",
      "Epoch 130/200\n",
      " - 111s - loss: 0.0057 - acc: 0.9989 - val_loss: 0.1842 - val_acc: 0.9847\n",
      "Epoch 131/200\n",
      " - 111s - loss: 0.0057 - acc: 0.9989 - val_loss: 0.0136 - val_acc: 0.9975\n",
      "Epoch 132/200\n",
      " - 111s - loss: 0.0067 - acc: 0.9986 - val_loss: 0.0362 - val_acc: 0.9889\n",
      "Epoch 133/200\n",
      " - 112s - loss: 0.0065 - acc: 0.9987 - val_loss: 0.1960 - val_acc: 0.9850\n",
      "Epoch 134/200\n",
      " - 111s - loss: 0.0061 - acc: 0.9988 - val_loss: 0.0812 - val_acc: 0.9858\n",
      "Epoch 135/200\n",
      " - 111s - loss: 0.0057 - acc: 0.9989 - val_loss: 0.0097 - val_acc: 0.9975\n",
      "Epoch 136/200\n",
      " - 111s - loss: 0.0058 - acc: 0.9988 - val_loss: 0.2215 - val_acc: 0.9846\n",
      "Epoch 137/200\n",
      " - 111s - loss: 0.0057 - acc: 0.9989 - val_loss: 0.0110 - val_acc: 0.9976\n",
      "Epoch 138/200\n",
      " - 111s - loss: 0.0058 - acc: 0.9989 - val_loss: 0.0089 - val_acc: 0.9980\n",
      "Epoch 139/200\n",
      " - 111s - loss: 0.0057 - acc: 0.9989 - val_loss: 0.0083 - val_acc: 0.9983\n",
      "Epoch 140/200\n",
      " - 111s - loss: 0.0059 - acc: 0.9989 - val_loss: 0.0606 - val_acc: 0.9936\n",
      "Epoch 141/200\n",
      " - 111s - loss: 0.0057 - acc: 0.9989 - val_loss: 0.0091 - val_acc: 0.9984\n",
      "Epoch 142/200\n",
      " - 111s - loss: 0.0058 - acc: 0.9989 - val_loss: 0.0101 - val_acc: 0.9977\n",
      "Epoch 143/200\n",
      " - 111s - loss: 0.0058 - acc: 0.9989 - val_loss: 0.0220 - val_acc: 0.9948\n",
      "Epoch 144/200\n",
      " - 111s - loss: 0.0058 - acc: 0.9988 - val_loss: 0.0085 - val_acc: 0.9980\n",
      "Epoch 145/200\n",
      " - 111s - loss: 0.0056 - acc: 0.9989 - val_loss: 0.0093 - val_acc: 0.9980\n",
      "Epoch 146/200\n",
      " - 111s - loss: 0.0058 - acc: 0.9989 - val_loss: 0.0423 - val_acc: 0.9947\n",
      "Epoch 147/200\n",
      " - 111s - loss: 0.0058 - acc: 0.9988 - val_loss: 0.0116 - val_acc: 0.9958\n",
      "Epoch 148/200\n",
      " - 111s - loss: 0.0057 - acc: 0.9989 - val_loss: 0.0444 - val_acc: 0.9950\n",
      "Epoch 149/200\n",
      " - 111s - loss: 0.0057 - acc: 0.9989 - val_loss: 0.2265 - val_acc: 0.9831\n",
      "Epoch 150/200\n",
      " - 111s - loss: 0.0058 - acc: 0.9989 - val_loss: 0.0103 - val_acc: 0.9979\n",
      "Epoch 151/200\n",
      " - 111s - loss: 0.0057 - acc: 0.9989 - val_loss: 0.0550 - val_acc: 0.9951\n",
      "Epoch 152/200\n",
      " - 111s - loss: 0.0057 - acc: 0.9989 - val_loss: 0.2233 - val_acc: 0.9848\n",
      "Epoch 153/200\n",
      " - 111s - loss: 0.0058 - acc: 0.9989 - val_loss: 0.0458 - val_acc: 0.9948\n",
      "Epoch 154/200\n",
      " - 111s - loss: 0.0058 - acc: 0.9989 - val_loss: 0.0512 - val_acc: 0.9953\n",
      "Epoch 155/200\n",
      " - 111s - loss: 0.0056 - acc: 0.9989 - val_loss: 0.0744 - val_acc: 0.9889\n",
      "Epoch 156/200\n",
      " - 111s - loss: 0.0057 - acc: 0.9989 - val_loss: 0.0202 - val_acc: 0.9953\n",
      "Epoch 157/200\n",
      " - 111s - loss: 0.0057 - acc: 0.9989 - val_loss: 0.0207 - val_acc: 0.9956\n",
      "Epoch 158/200\n",
      " - 111s - loss: 0.0057 - acc: 0.9989 - val_loss: 0.0083 - val_acc: 0.9983\n",
      "Epoch 159/200\n",
      " - 111s - loss: 0.0057 - acc: 0.9989 - val_loss: 0.1952 - val_acc: 0.9843\n",
      "Epoch 160/200\n",
      " - 111s - loss: 0.0057 - acc: 0.9989 - val_loss: 0.0257 - val_acc: 0.9954\n",
      "Epoch 161/200\n",
      " - 111s - loss: 0.0056 - acc: 0.9989 - val_loss: 0.1003 - val_acc: 0.9871\n",
      "Epoch 162/200\n",
      " - 111s - loss: 0.0056 - acc: 0.9989 - val_loss: 0.0615 - val_acc: 0.9883\n",
      "Epoch 163/200\n",
      " - 111s - loss: 0.0056 - acc: 0.9989 - val_loss: 0.0091 - val_acc: 0.9981\n",
      "Epoch 164/200\n",
      " - 111s - loss: 0.0056 - acc: 0.9989 - val_loss: 0.0511 - val_acc: 0.9953\n",
      "Epoch 165/200\n",
      " - 111s - loss: 0.0056 - acc: 0.9989 - val_loss: 0.0245 - val_acc: 0.9954\n",
      "Epoch 166/200\n",
      " - 111s - loss: 0.0057 - acc: 0.9989 - val_loss: 0.0088 - val_acc: 0.9980\n",
      "Epoch 167/200\n",
      " - 111s - loss: 0.0056 - acc: 0.9989 - val_loss: 0.0117 - val_acc: 0.9977\n",
      "Epoch 168/200\n",
      " - 111s - loss: 0.0056 - acc: 0.9989 - val_loss: 0.0097 - val_acc: 0.9977\n",
      "Epoch 169/200\n",
      " - 111s - loss: 0.0056 - acc: 0.9989 - val_loss: 0.0253 - val_acc: 0.9909\n",
      "Epoch 170/200\n",
      " - 111s - loss: 0.0057 - acc: 0.9989 - val_loss: 0.0102 - val_acc: 0.9977\n",
      "Epoch 171/200\n",
      " - 111s - loss: 0.0056 - acc: 0.9989 - val_loss: 0.0091 - val_acc: 0.9982\n",
      "Epoch 172/200\n",
      " - 111s - loss: 0.0056 - acc: 0.9989 - val_loss: 0.0081 - val_acc: 0.9984\n",
      "Epoch 173/200\n",
      " - 111s - loss: 0.0056 - acc: 0.9989 - val_loss: 0.0092 - val_acc: 0.9983\n",
      "Epoch 174/200\n",
      " - 111s - loss: 0.0056 - acc: 0.9989 - val_loss: 0.0137 - val_acc: 0.9957\n",
      "Epoch 175/200\n",
      " - 111s - loss: 0.0056 - acc: 0.9989 - val_loss: 0.2277 - val_acc: 0.9844\n",
      "Epoch 176/200\n",
      " - 111s - loss: 0.0056 - acc: 0.9989 - val_loss: 0.2077 - val_acc: 0.9849\n",
      "Epoch 177/200\n",
      " - 111s - loss: 0.0055 - acc: 0.9989 - val_loss: 0.0100 - val_acc: 0.9977\n",
      "Epoch 178/200\n",
      " - 111s - loss: 0.0055 - acc: 0.9989 - val_loss: 0.2261 - val_acc: 0.9844\n",
      "Epoch 179/200\n",
      " - 111s - loss: 0.0057 - acc: 0.9989 - val_loss: 0.2183 - val_acc: 0.9847\n",
      "Epoch 180/200\n",
      " - 111s - loss: 0.0055 - acc: 0.9989 - val_loss: 0.0102 - val_acc: 0.9978\n",
      "Epoch 181/200\n",
      " - 111s - loss: 0.0056 - acc: 0.9989 - val_loss: 0.0135 - val_acc: 0.9975\n",
      "Epoch 182/200\n",
      " - 112s - loss: 0.0056 - acc: 0.9989 - val_loss: 0.2380 - val_acc: 0.9830\n",
      "Epoch 183/200\n",
      " - 111s - loss: 0.0056 - acc: 0.9989 - val_loss: 0.0131 - val_acc: 0.9976\n",
      "Epoch 184/200\n",
      " - 111s - loss: 0.0056 - acc: 0.9989 - val_loss: 0.1653 - val_acc: 0.9849\n",
      "Epoch 185/200\n",
      " - 112s - loss: 0.0055 - acc: 0.9989 - val_loss: 0.0106 - val_acc: 0.9982\n",
      "Epoch 186/200\n",
      " - 110s - loss: 0.0056 - acc: 0.9989 - val_loss: 0.0337 - val_acc: 0.9952\n",
      "Epoch 187/200\n",
      " - 111s - loss: 0.0055 - acc: 0.9989 - val_loss: 0.2171 - val_acc: 0.9851\n",
      "Epoch 188/200\n",
      " - 111s - loss: 0.0055 - acc: 0.9989 - val_loss: 0.0332 - val_acc: 0.9953\n",
      "Epoch 189/200\n",
      " - 111s - loss: 0.0056 - acc: 0.9989 - val_loss: 0.0129 - val_acc: 0.9963\n",
      "Epoch 190/200\n",
      " - 111s - loss: 0.0055 - acc: 0.9989 - val_loss: 0.0371 - val_acc: 0.9956\n",
      "Epoch 191/200\n",
      " - 111s - loss: 0.0056 - acc: 0.9989 - val_loss: 0.0100 - val_acc: 0.9982\n",
      "Epoch 192/200\n",
      " - 111s - loss: 0.0055 - acc: 0.9989 - val_loss: 0.0619 - val_acc: 0.9889\n",
      "Epoch 193/200\n",
      " - 111s - loss: 0.0055 - acc: 0.9989 - val_loss: 0.0101 - val_acc: 0.9981\n",
      "Epoch 194/200\n",
      " - 111s - loss: 0.0055 - acc: 0.9989 - val_loss: 0.2281 - val_acc: 0.9843\n",
      "Epoch 195/200\n",
      " - 111s - loss: 0.0056 - acc: 0.9989 - val_loss: 0.0098 - val_acc: 0.9978\n",
      "Epoch 196/200\n",
      " - 111s - loss: 0.0055 - acc: 0.9989 - val_loss: 0.0142 - val_acc: 0.9973\n",
      "Epoch 197/200\n",
      " - 111s - loss: 0.0056 - acc: 0.9989 - val_loss: 0.0693 - val_acc: 0.9869\n",
      "Epoch 198/200\n",
      " - 111s - loss: 0.0054 - acc: 0.9990 - val_loss: 0.0092 - val_acc: 0.9979\n",
      "Epoch 199/200\n",
      " - 111s - loss: 0.0056 - acc: 0.9989 - val_loss: 0.0095 - val_acc: 0.9980\n",
      "Epoch 200/200\n",
      " - 111s - loss: 0.0055 - acc: 0.9989 - val_loss: 0.1482 - val_acc: 0.9854\n",
      "Wall time: 6h 10min 32s\n"
     ]
    },
    {
     "data": {
      "text/plain": [
       "<keras.callbacks.History at 0x16a3475a898>"
      ]
     },
     "execution_count": 23,
     "metadata": {},
     "output_type": "execute_result"
    }
   ],
   "source": [
    "%%time\n",
    "# print(model_id)\n",
    "model = createModel(**parameters)\n",
    "# model = keras.models.load_model(NOTEBOOK_PATH + \"Models/cnn4-adasyn-run1/cnn(4).h5\")\n",
    "model.summary()\n",
    "model_checkpoint = ModelCheckpoint(NOTEBOOK_PATH + \"Models/%s/cnn({epoch}).h5\" % (model_id), monitor='val_loss')\n",
    "model.fit(x_train_resimg, y_train_res, validation_data=(x_val, y_val), batch_size=parameters['batch_size'], epochs=trainEpochs, verbose=2, callbacks=[csv_callback, model_checkpoint])"
   ]
  },
  {
   "cell_type": "code",
   "execution_count": 43,
   "metadata": {},
   "outputs": [
    {
     "data": {
      "text/plain": [
       "(2547668, 10)"
      ]
     },
     "execution_count": 43,
     "metadata": {},
     "output_type": "execute_result"
    }
   ],
   "source": [
    "y_train.shape"
   ]
  },
  {
   "cell_type": "markdown",
   "metadata": {},
   "source": [
    "# Graph the losses"
   ]
  },
  {
   "cell_type": "code",
   "execution_count": 24,
   "metadata": {},
   "outputs": [
    {
     "name": "stdout",
     "output_type": "stream",
     "text": [
      "C:/Users/Xetrov/Desktop/SciFair20/Code/Loss Logs\\cnn8-pooling (11-18-2019, 0738AM)\n"
     ]
    }
   ],
   "source": [
    "def most_recent_file(pattern):\n",
    "    return max(glob.iglob(pattern, recursive=True), key=os.path.getctime)\n",
    "\n",
    "logpath = most_recent_file(NOTEBOOK_PATH + \"Loss Logs/%s**\" % model_id)\n",
    "log_df = pd.read_csv(logpath)\n",
    "log_df['epoch'] += 1\n",
    "\n",
    "print(logpath)"
   ]
  },
  {
   "cell_type": "code",
   "execution_count": 36,
   "metadata": {},
   "outputs": [
    {
     "data": {
      "image/png": "[encoded data removed]",
      "text/plain": [
       "<Figure size 864x432 with 1 Axes>"
      ]
     },
     "metadata": {
      "needs_background": "light"
     },
     "output_type": "display_data"
    }
   ],
   "source": [
    "plot_df = log_df[:]\n",
    "\n",
    "metric = 'loss'\n",
    "\n",
    "plt.figure(figsize=(12,6))\n",
    "sns.lineplot(x='epoch', y=metric, data=plot_df, label=metric)\n",
    "# sns.lineplot(x='epoch', y='val_'+metric, data=plot_df, label='val_'+metric)\n",
    "plt.legend()\n",
    "\n",
    "minEpoch = plot_df.loc[plot_df.idxmin()[metric]]\n",
    "plt.plot((minEpoch['epoch']), (minEpoch[metric]), 'go', markersize=8)\n",
    "# minEpoch = plot_df.loc[plot_df.idxmin()['val_'+metric]]\n",
    "# plt.plot((minEpoch['epoch']), (minEpoch['val_'+metric]), 'ro', markersize=8)\n",
    "# print(minEpoch)\n",
    "\n",
    "plt.xticks(list(range(0, plot_df['epoch'].max()+1, 5)))\n",
    "# plt.yticks(list(np.arange(0.0,0.4,0.05)))\n",
    "\n",
    "plt.grid(True)"
   ]
  },
  {
   "cell_type": "markdown",
   "metadata": {},
   "source": [
    "# Validation data"
   ]
  },
  {
   "cell_type": "code",
   "execution_count": 26,
   "metadata": {},
   "outputs": [
    {
     "name": "stdout",
     "output_type": "stream",
     "text": [
      "Loading...\n",
      "Done!\n"
     ]
    }
   ],
   "source": [
    "print(\"Loading...\")\n",
    "model = keras.models.load_model(NOTEBOOK_PATH + \"Models/%s/cnn(172).h5\" % model_id)\n",
    "print(\"Done!\")"
   ]
  },
  {
   "cell_type": "code",
   "execution_count": 27,
   "metadata": {},
   "outputs": [
    {
     "name": "stdout",
     "output_type": "stream",
     "text": [
      "Predicting...\n",
      "Plotting...\n",
      "Done!\n"
     ]
    },
    {
     "data": {
      "text/html": [
       "<div>\n",
       "<style scoped>\n",
       "    .dataframe tbody tr th:only-of-type {\n",
       "        vertical-align: middle;\n",
       "    }\n",
       "\n",
       "    .dataframe tbody tr th {\n",
       "        vertical-align: top;\n",
       "    }\n",
       "\n",
       "    .dataframe thead th {\n",
       "        text-align: right;\n",
       "    }\n",
       "</style>\n",
       "<table border=\"1\" class=\"dataframe\">\n",
       "  <thead>\n",
       "    <tr style=\"text-align: right;\">\n",
       "      <th>Actual</th>\n",
       "      <th>IsAttack</th>\n",
       "      <th>All</th>\n",
       "    </tr>\n",
       "    <tr>\n",
       "      <th>Pred</th>\n",
       "      <th></th>\n",
       "      <th></th>\n",
       "    </tr>\n",
       "  </thead>\n",
       "  <tbody>\n",
       "    <tr>\n",
       "      <th>IsAttack</th>\n",
       "      <td>566149</td>\n",
       "      <td>566149</td>\n",
       "    </tr>\n",
       "    <tr>\n",
       "      <th>All</th>\n",
       "      <td>566149</td>\n",
       "      <td>566149</td>\n",
       "    </tr>\n",
       "  </tbody>\n",
       "</table>\n",
       "</div>"
      ],
      "text/plain": [
       "Actual    IsAttack     All\n",
       "Pred                      \n",
       "IsAttack    566149  566149\n",
       "All         566149  566149"
      ]
     },
     "execution_count": 27,
     "metadata": {},
     "output_type": "execute_result"
    }
   ],
   "source": [
    "print(\"Predicting...\")\n",
    "pred = model.predict(x_val).round()\n",
    "\n",
    "print(\"Plotting...\")\n",
    "pred_index = list(pred.argmax(1))\n",
    "y_index = list(np.argmax(y_val.to_numpy(), axis=1))\n",
    "\n",
    "atktypes = sorted(y_val.columns)\n",
    "pred_series = pd.Series(pred_index, name=\"Pred\").replace(dict(enumerate(atktypes)))\n",
    "y_series = pd.Series(y_index, name=\"Actual\").replace(dict(enumerate(atktypes)))\n",
    "\n",
    "matrix = pd.crosstab(pred_series, y_series, margins=True)\n",
    "print(\"Done!\")\n",
    "matrix"
   ]
  },
  {
   "cell_type": "markdown",
   "metadata": {},
   "source": [
    "# Test data"
   ]
  },
  {
   "cell_type": "code",
   "execution_count": 28,
   "metadata": {},
   "outputs": [],
   "source": [
    "from sklearn.metrics import f1_score, precision_score, recall_score"
   ]
  },
  {
   "cell_type": "code",
   "execution_count": 32,
   "metadata": {},
   "outputs": [],
   "source": [
    "# model = keras.models.load_model(NOTEBOOK_PATH + \"Models/%s/cnn(50).h5\" % model_id)\n",
    "pred = model.predict(x_test, batch_size=1000)"
   ]
  },
  {
   "cell_type": "code",
   "execution_count": 33,
   "metadata": {},
   "outputs": [
    {
     "name": "stdout",
     "output_type": "stream",
     "text": [
      "Precision: 0.9920065587210494\n",
      "Recall: 0.9996497813378353\n",
      "F1: 0.9958135041328229\n"
     ]
    }
   ],
   "source": [
    "pred = pred.round().astype('int').ravel()\n",
    "y_test_npy = y_test.to_numpy().ravel()\n",
    "\n",
    "precision = precision_score(y_test_npy, pred)\n",
    "print(\"Precision:\", precision)\n",
    "\n",
    "recall = recall_score(y_test_npy, pred)\n",
    "print(\"Recall:\", recall)\n",
    "\n",
    "f1 = f1_score(y_test_npy, pred)\n",
    "print(\"F1:\", f1)"
   ]
  },
  {
   "cell_type": "code",
   "execution_count": 34,
   "metadata": {},
   "outputs": [
    {
     "data": {
      "text/html": [
       "<div>\n",
       "<style scoped>\n",
       "    .dataframe tbody tr th:only-of-type {\n",
       "        vertical-align: middle;\n",
       "    }\n",
       "\n",
       "    .dataframe tbody tr th {\n",
       "        vertical-align: top;\n",
       "    }\n",
       "\n",
       "    .dataframe thead th {\n",
       "        text-align: right;\n",
       "    }\n",
       "</style>\n",
       "<table border=\"1\" class=\"dataframe\">\n",
       "  <thead>\n",
       "    <tr style=\"text-align: right;\">\n",
       "      <th>Actual</th>\n",
       "      <th>Attack</th>\n",
       "      <th>Benign</th>\n",
       "      <th>All</th>\n",
       "    </tr>\n",
       "    <tr>\n",
       "      <th>Pred</th>\n",
       "      <th></th>\n",
       "      <th></th>\n",
       "      <th></th>\n",
       "    </tr>\n",
       "  </thead>\n",
       "  <tbody>\n",
       "    <tr>\n",
       "      <th>Attack</th>\n",
       "      <td>111320</td>\n",
       "      <td>897</td>\n",
       "      <td>112217</td>\n",
       "    </tr>\n",
       "    <tr>\n",
       "      <th>Benign</th>\n",
       "      <td>39</td>\n",
       "      <td>453893</td>\n",
       "      <td>453932</td>\n",
       "    </tr>\n",
       "    <tr>\n",
       "      <th>All</th>\n",
       "      <td>111359</td>\n",
       "      <td>454790</td>\n",
       "      <td>566149</td>\n",
       "    </tr>\n",
       "  </tbody>\n",
       "</table>\n",
       "</div>"
      ],
      "text/plain": [
       "Actual  Attack  Benign     All\n",
       "Pred                          \n",
       "Attack  111320     897  112217\n",
       "Benign      39  453893  453932\n",
       "All     111359  454790  566149"
      ]
     },
     "execution_count": 34,
     "metadata": {},
     "output_type": "execute_result"
    }
   ],
   "source": [
    "pred_series = pd.Series(pred, name=\"Pred\").replace({0: 'Benign', 1: 'Attack'})\n",
    "y_series = pd.Series(y_test.to_numpy().ravel(), name=\"Actual\").replace({0: 'Benign', 1: 'Attack'})\n",
    "\n",
    "matrix = pd.crosstab(pred_series, y_series, margins=True)\n",
    "matrix"
   ]
  },
  {
   "cell_type": "markdown",
   "metadata": {},
   "source": [
    "# Log results"
   ]
  },
  {
   "cell_type": "code",
   "execution_count": 31,
   "metadata": {},
   "outputs": [],
   "source": [
    "model_log = open(NOTEBOOK_PATH + \"model_log.txt\", \"a\")\n",
    "\n",
    "model_log.write(\"\\n\" + model_id)\n",
    "model_log.write(\"\\n\\tF1 Micro: \" + str(f1_micro))\n",
    "model_log.write(\"\\n\\tF1 Macro: \" + str(f1_macro))\n",
    "\n",
    "model_log.close()"
   ]
  }
 ],
 "metadata": {
  "kernelspec": {
   "display_name": "Python 3",
   "language": "python",
   "name": "python3"
  },
  "language_info": {
   "codemirror_mode": {
    "name": "ipython",
    "version": 3
   },
   "file_extension": ".py",
   "mimetype": "text/x-python",
   "name": "python",
   "nbconvert_exporter": "python",
   "pygments_lexer": "ipython3",
   "version": "3.6.7"
  }
 },
 "nbformat": 4,
 "nbformat_minor": 4
}

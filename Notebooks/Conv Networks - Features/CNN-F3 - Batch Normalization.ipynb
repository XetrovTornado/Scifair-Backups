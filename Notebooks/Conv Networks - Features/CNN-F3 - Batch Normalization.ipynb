{
 "cells": [
  {
   "cell_type": "markdown",
   "metadata": {},
   "source": [
    "# CSE-CIC-IDS 2017"
   ]
  },
  {
   "cell_type": "code",
   "execution_count": 1,
   "metadata": {},
   "outputs": [],
   "source": [
    "model_id = \"cnnfeatures3-classweights-bn\""
   ]
  },
  {
   "cell_type": "code",
   "execution_count": 2,
   "metadata": {},
   "outputs": [
    {
     "name": "stderr",
     "output_type": "stream",
     "text": [
      "Using TensorFlow backend.\n",
      "C:\\Users\\Xetrov\\AppData\\Local\\Continuum\\anaconda3\\lib\\site-packages\\tensorflow\\python\\framework\\dtypes.py:517: FutureWarning: Passing (type, 1) or '1type' as a synonym of type is deprecated; in a future version of numpy, it will be understood as (type, (1,)) / '(1,)type'.\n",
      "  _np_qint8 = np.dtype([(\"qint8\", np.int8, 1)])\n",
      "C:\\Users\\Xetrov\\AppData\\Local\\Continuum\\anaconda3\\lib\\site-packages\\tensorflow\\python\\framework\\dtypes.py:518: FutureWarning: Passing (type, 1) or '1type' as a synonym of type is deprecated; in a future version of numpy, it will be understood as (type, (1,)) / '(1,)type'.\n",
      "  _np_quint8 = np.dtype([(\"quint8\", np.uint8, 1)])\n",
      "C:\\Users\\Xetrov\\AppData\\Local\\Continuum\\anaconda3\\lib\\site-packages\\tensorflow\\python\\framework\\dtypes.py:519: FutureWarning: Passing (type, 1) or '1type' as a synonym of type is deprecated; in a future version of numpy, it will be understood as (type, (1,)) / '(1,)type'.\n",
      "  _np_qint16 = np.dtype([(\"qint16\", np.int16, 1)])\n",
      "C:\\Users\\Xetrov\\AppData\\Local\\Continuum\\anaconda3\\lib\\site-packages\\tensorflow\\python\\framework\\dtypes.py:520: FutureWarning: Passing (type, 1) or '1type' as a synonym of type is deprecated; in a future version of numpy, it will be understood as (type, (1,)) / '(1,)type'.\n",
      "  _np_quint16 = np.dtype([(\"quint16\", np.uint16, 1)])\n",
      "C:\\Users\\Xetrov\\AppData\\Local\\Continuum\\anaconda3\\lib\\site-packages\\tensorflow\\python\\framework\\dtypes.py:521: FutureWarning: Passing (type, 1) or '1type' as a synonym of type is deprecated; in a future version of numpy, it will be understood as (type, (1,)) / '(1,)type'.\n",
      "  _np_qint32 = np.dtype([(\"qint32\", np.int32, 1)])\n",
      "C:\\Users\\Xetrov\\AppData\\Local\\Continuum\\anaconda3\\lib\\site-packages\\tensorflow\\python\\framework\\dtypes.py:526: FutureWarning: Passing (type, 1) or '1type' as a synonym of type is deprecated; in a future version of numpy, it will be understood as (type, (1,)) / '(1,)type'.\n",
      "  np_resource = np.dtype([(\"resource\", np.ubyte, 1)])\n"
     ]
    }
   ],
   "source": [
    "import numpy as np\n",
    "np.random.seed(42)\n",
    "np.set_printoptions(suppress=True)\n",
    "import pandas as pd\n",
    "import matplotlib.pyplot as plt\n",
    "import seaborn as sns\n",
    "from tqdm import tqdm\n",
    "\n",
    "import glob, time, os\n",
    "\n",
    "import keras"
   ]
  },
  {
   "cell_type": "code",
   "execution_count": 3,
   "metadata": {},
   "outputs": [],
   "source": [
    "NOTEBOOK_PATH = \"C:/Users/Xetrov/Desktop/SciFair20/Code/\""
   ]
  },
  {
   "cell_type": "code",
   "execution_count": 4,
   "metadata": {},
   "outputs": [],
   "source": [
    "x_scaled = pd.read_csv(NOTEBOOK_PATH + \"IDS2017/x_scaled_powertransform.csv\")"
   ]
  },
  {
   "cell_type": "code",
   "execution_count": 5,
   "metadata": {},
   "outputs": [],
   "source": [
    "y_df_enc = pd.read_csv(NOTEBOOK_PATH + \"IDS2017/y_grouped_1henc.csv\")"
   ]
  },
  {
   "cell_type": "markdown",
   "metadata": {},
   "source": [
    "# Reshape into images"
   ]
  },
  {
   "cell_type": "code",
   "execution_count": 6,
   "metadata": {},
   "outputs": [],
   "source": [
    "x_img = x_scaled.to_numpy().reshape((len(x_scaled), 4, 17))"
   ]
  },
  {
   "cell_type": "code",
   "execution_count": 7,
   "metadata": {},
   "outputs": [],
   "source": [
    "x_img = np.expand_dims(x_img, -1)"
   ]
  },
  {
   "cell_type": "markdown",
   "metadata": {},
   "source": [
    "# Split data into train and test"
   ]
  },
  {
   "cell_type": "code",
   "execution_count": 8,
   "metadata": {},
   "outputs": [],
   "source": [
    "from sklearn.model_selection import train_test_split"
   ]
  },
  {
   "cell_type": "code",
   "execution_count": 9,
   "metadata": {},
   "outputs": [],
   "source": [
    "from sklearn.model_selection import train_test_split\n",
    "\n",
    "x_train, x_valtest, y_train, y_valtest = train_test_split(x_img, y_df_enc, test_size = 0.4, random_state = 42)\n",
    "\n",
    "x_val, x_test, y_val, y_test = train_test_split(x_valtest, y_valtest, test_size = 0.5, random_state = 42)\n",
    "\n",
    "del x_valtest \n",
    "del y_valtest"
   ]
  },
  {
   "cell_type": "markdown",
   "metadata": {},
   "source": [
    "# Train model"
   ]
  },
  {
   "cell_type": "code",
   "execution_count": 10,
   "metadata": {},
   "outputs": [],
   "source": [
    "from keras.models import Model, Sequential\n",
    "from keras.layers import Dense, BatchNormalization, Dropout, InputLayer, Conv2D, Flatten\n",
    "from keras.optimizers import SGD, Adam"
   ]
  },
  {
   "cell_type": "code",
   "execution_count": 13,
   "metadata": {},
   "outputs": [],
   "source": [
    "def addDenseBlock(model, units, **params):\n",
    "    model.add(Dense(units=units, activation=params['hidden_activation'], input_dim=x_train.shape[1]))\n",
    "    if params['batch_normalization']: model.add(BatchNormalization())\n",
    "    if params['dropout_rate'] > 0: model.add(Dropout(params['dropout_rate']))\n",
    "\n",
    "def addConvBlock(model, units, **params):\n",
    "    model.add(Conv2D(filters=units, kernel_size=params['kernel_size'], activation=params['hidden_activation'], padding=params['padding'],input_shape=(4,17,1)))\n",
    "    if params['batch_normalization']: model.add(BatchNormalization())\n",
    "    if params['dropout_rate'] > 0: model.add(Dropout(params['dropout_rate']))\n",
    "        \n",
    "def createModel(**in_params):\n",
    "    \"\"\"\n",
    "    Supported parameters:\n",
    "    batch_normalization - True or False\n",
    "    dropout_rate - 0 to 1\n",
    "    num_units - integer\n",
    "    learning_rate - float\n",
    "    activation_function - string\n",
    "    \"\"\"\n",
    "    \n",
    "    model = Sequential()\n",
    "\n",
    "    # Set default values\n",
    "    params = {\n",
    "        'batch_normalization': False,\n",
    "        'dropout_rate': 0,\n",
    "        'num_layers': 6,\n",
    "        'num_units': 128,\n",
    "        'learning_rate': 0.001,\n",
    "        'hidden_activation': 'relu',\n",
    "        'final_activation': 'softmax',\n",
    "        'kernel_size': (2,2),\n",
    "        'padding':'same'\n",
    "    }\n",
    "    \n",
    "    # Replace defaults with specified parameters\n",
    "    for param in in_params:\n",
    "        params[param] = in_params[param]    \n",
    "    \n",
    "    # InputLayer causes serialization issues\n",
    "#     model.add( InputLayer(input_shape = (x_train.shape[1],) ) )\n",
    "    \n",
    "#     for i in range(params['num_layers']):\n",
    "#         addDenseBlock(model, params['num_units'], **params)\n",
    "\n",
    "    addConvBlock(model, 64, **params)\n",
    "    addConvBlock(model, 128, **params)\n",
    "    addConvBlock(model, 256, **params)\n",
    "    addConvBlock(model, 128, **params)\n",
    "    addConvBlock(model, 64, **params)\n",
    "    \n",
    "    model.add(Flatten())\n",
    "\n",
    "    model.add(Dense(units=y_train.shape[1], activation=params['final_activation']))\n",
    "\n",
    "    # optim = SGD(lr=0.001, nesterov=True)\n",
    "    optim = Adam(lr=params['learning_rate'])\n",
    "\n",
    "    model.compile(loss='categorical_crossentropy', optimizer=optim, metrics=['accuracy'])\n",
    "    \n",
    "#     print(params)\n",
    "    \n",
    "    return model"
   ]
  },
  {
   "cell_type": "markdown",
   "metadata": {},
   "source": [
    "Ensure a GPU is available"
   ]
  },
  {
   "cell_type": "code",
   "execution_count": 14,
   "metadata": {},
   "outputs": [
    {
     "data": {
      "text/plain": [
       "['/job:localhost/replica:0/task:0/device:GPU:0']"
      ]
     },
     "execution_count": 14,
     "metadata": {},
     "output_type": "execute_result"
    }
   ],
   "source": [
    "import keras.backend as K\n",
    "\n",
    "K.tensorflow_backend._get_available_gpus()"
   ]
  },
  {
   "cell_type": "markdown",
   "metadata": {},
   "source": [
    "### Callbacks"
   ]
  },
  {
   "cell_type": "code",
   "execution_count": 15,
   "metadata": {},
   "outputs": [],
   "source": [
    "from keras.callbacks import CSVLogger, EarlyStopping, ModelCheckpoint\n",
    "\n",
    "def timestamp():\n",
    "    return time.strftime(\"%m-%d-%Y, %I%M%p\")\n",
    "\n",
    "csv_callback = CSVLogger(NOTEBOOK_PATH + 'Loss Logs/%s (%s)' % (model_id, timestamp()), append=True)\n",
    "early_stop = EarlyStopping(monitor = 'val_loss', min_delta=0.0001, patience=5)"
   ]
  },
  {
   "cell_type": "markdown",
   "metadata": {},
   "source": [
    "### Model Saving"
   ]
  },
  {
   "cell_type": "code",
   "execution_count": 16,
   "metadata": {},
   "outputs": [
    {
     "name": "stdout",
     "output_type": "stream",
     "text": [
      "Created C:/Users/Xetrov/Desktop/SciFair20/Code/Models/cnnfeatures3-classweights-bn/\n"
     ]
    }
   ],
   "source": [
    "savedir = NOTEBOOK_PATH + \"Models/%s/\" % model_id\n",
    "if not os.path.exists(savedir):\n",
    "    os.makedirs(savedir)\n",
    "    print(\"Created \" + savedir)\n",
    "else:\n",
    "    print(\"Using \" + savedir)"
   ]
  },
  {
   "cell_type": "markdown",
   "metadata": {},
   "source": [
    "### Class weights"
   ]
  },
  {
   "cell_type": "code",
   "execution_count": 19,
   "metadata": {},
   "outputs": [
    {
     "data": {
      "text/plain": [
       "{0: 0.17787185690198665,\n",
       " 1: 204.75527426160338,\n",
       " 2: 29.328538619605947,\n",
       " 3: 1.0628274315350517,\n",
       " 4: 10109.791666666666,\n",
       " 5: 2.5468945175139344,\n",
       " 6: 186.06978527607362}"
      ]
     },
     "execution_count": 19,
     "metadata": {},
     "output_type": "execute_result"
    }
   ],
   "source": [
    "from sklearn.utils.class_weight import compute_class_weight, compute_sample_weight\n",
    "\n",
    "# https://stackoverflow.com/a/50695814\n",
    "y_integers = np.argmax(y_train.to_numpy(), axis=1)\n",
    "class_weights = compute_class_weight('balanced', np.unique(y_integers), y_integers)\n",
    "d_class_weights = dict(enumerate(class_weights))\n",
    "\n",
    "d_class_weights"
   ]
  },
  {
   "cell_type": "markdown",
   "metadata": {},
   "source": [
    "### Training"
   ]
  },
  {
   "cell_type": "code",
   "execution_count": 18,
   "metadata": {},
   "outputs": [],
   "source": [
    "import itertools\n",
    "\n",
    "trainEpochs = 50\n",
    "\n",
    "parameters = {'batch_size': 250, 'batch_normalization':True, 'dropout_rate':0}"
   ]
  },
  {
   "cell_type": "code",
   "execution_count": 22,
   "metadata": {},
   "outputs": [
    {
     "name": "stdout",
     "output_type": "stream",
     "text": [
      "cnnfeatures3-classweights-bn\n",
      "_________________________________________________________________\n",
      "Layer (type)                 Output Shape              Param #   \n",
      "=================================================================\n",
      "conv2d_6 (Conv2D)            (None, 4, 17, 64)         320       \n",
      "_________________________________________________________________\n",
      "batch_normalization_6 (Batch (None, 4, 17, 64)         256       \n",
      "_________________________________________________________________\n",
      "conv2d_7 (Conv2D)            (None, 4, 17, 128)        32896     \n",
      "_________________________________________________________________\n",
      "batch_normalization_7 (Batch (None, 4, 17, 128)        512       \n",
      "_________________________________________________________________\n",
      "conv2d_8 (Conv2D)            (None, 4, 17, 256)        131328    \n",
      "_________________________________________________________________\n",
      "batch_normalization_8 (Batch (None, 4, 17, 256)        1024      \n",
      "_________________________________________________________________\n",
      "conv2d_9 (Conv2D)            (None, 4, 17, 128)        131200    \n",
      "_________________________________________________________________\n",
      "batch_normalization_9 (Batch (None, 4, 17, 128)        512       \n",
      "_________________________________________________________________\n",
      "conv2d_10 (Conv2D)           (None, 4, 17, 64)         32832     \n",
      "_________________________________________________________________\n",
      "batch_normalization_10 (Batc (None, 4, 17, 64)         256       \n",
      "_________________________________________________________________\n",
      "flatten_2 (Flatten)          (None, 4352)              0         \n",
      "_________________________________________________________________\n",
      "dense_2 (Dense)              (None, 7)                 30471     \n",
      "=================================================================\n",
      "Total params: 361,607\n",
      "Trainable params: 360,327\n",
      "Non-trainable params: 1,280\n",
      "_________________________________________________________________\n",
      "Train on 1698445 samples, validate on 566149 samples\n",
      "Epoch 1/50\n",
      " - 146s - loss: 2.5094 - acc: 0.7072 - val_loss: 4.2367 - val_acc: 0.5793\n",
      "Epoch 2/50\n",
      " - 145s - loss: 2.2299 - acc: 0.7102 - val_loss: 2.5899 - val_acc: 0.7887\n",
      "Epoch 3/50\n",
      " - 146s - loss: 1.4475 - acc: 0.7709 - val_loss: 2.2684 - val_acc: 0.7902\n",
      "Epoch 4/50\n",
      " - 146s - loss: 2.1719 - acc: 0.6259 - val_loss: 5.9622 - val_acc: 0.6144\n",
      "Epoch 5/50\n",
      " - 146s - loss: 3.5595 - acc: 0.6798 - val_loss: 3.0444 - val_acc: 0.7467\n",
      "Epoch 6/50\n",
      " - 145s - loss: 3.9825 - acc: 0.7649 - val_loss: 2.6147 - val_acc: 0.7691\n",
      "Epoch 7/50\n",
      " - 145s - loss: 2.5981 - acc: 0.8137 - val_loss: 2.8925 - val_acc: 0.7619\n",
      "Epoch 8/50\n",
      " - 145s - loss: 1.4029 - acc: 0.8901 - val_loss: 1.1701 - val_acc: 0.9054\n",
      "Epoch 9/50\n",
      " - 145s - loss: 2.2297 - acc: 0.9128 - val_loss: 0.7786 - val_acc: 0.9153\n",
      "Epoch 10/50\n",
      " - 145s - loss: 1.0026 - acc: 0.9101 - val_loss: 0.7590 - val_acc: 0.9167\n",
      "Epoch 11/50\n",
      " - 145s - loss: 1.1158 - acc: 0.9408 - val_loss: 0.5042 - val_acc: 0.9443\n",
      "Epoch 12/50\n",
      " - 145s - loss: 1.4481 - acc: 0.9631 - val_loss: 0.2877 - val_acc: 0.9690\n",
      "Epoch 13/50\n",
      " - 145s - loss: 1.6773 - acc: 0.9561 - val_loss: 0.2552 - val_acc: 0.9757\n",
      "Epoch 14/50\n",
      " - 145s - loss: 1.1755 - acc: 0.9435 - val_loss: 0.5430 - val_acc: 0.9519\n",
      "Epoch 15/50\n",
      " - 145s - loss: 1.2861 - acc: 0.9612 - val_loss: 0.3520 - val_acc: 0.9709\n",
      "Epoch 16/50\n",
      " - 145s - loss: 0.8684 - acc: 0.9470 - val_loss: 0.2381 - val_acc: 0.9726\n",
      "Epoch 17/50\n",
      " - 146s - loss: 0.8906 - acc: 0.9638 - val_loss: 0.3984 - val_acc: 0.9649\n",
      "Epoch 18/50\n",
      " - 145s - loss: 1.4521 - acc: 0.9680 - val_loss: 0.4848 - val_acc: 0.9578\n",
      "Epoch 19/50\n",
      " - 145s - loss: 0.9738 - acc: 0.9570 - val_loss: 0.4591 - val_acc: 0.9589\n",
      "Epoch 20/50\n",
      " - 145s - loss: 0.8817 - acc: 0.9684 - val_loss: 0.6734 - val_acc: 0.9456\n",
      "Epoch 21/50\n",
      " - 145s - loss: 1.1793 - acc: 0.9465 - val_loss: 0.8702 - val_acc: 0.9315\n",
      "Epoch 22/50\n",
      " - 145s - loss: 0.9096 - acc: 0.9579 - val_loss: 0.5216 - val_acc: 0.9625\n",
      "Epoch 23/50\n",
      " - 145s - loss: 1.2169 - acc: 0.9690 - val_loss: 0.9650 - val_acc: 0.9330\n",
      "Epoch 24/50\n",
      " - 145s - loss: 1.0313 - acc: 0.9640 - val_loss: 0.5192 - val_acc: 0.9630\n",
      "Epoch 25/50\n",
      " - 145s - loss: 1.5234 - acc: 0.9425 - val_loss: 0.4541 - val_acc: 0.9672\n",
      "Epoch 26/50\n",
      " - 145s - loss: 1.5095 - acc: 0.9679 - val_loss: 1.6154 - val_acc: 0.8759\n",
      "Epoch 27/50\n",
      " - 145s - loss: 0.8044 - acc: 0.9419 - val_loss: 0.5958 - val_acc: 0.9571\n",
      "Epoch 28/50\n",
      " - 145s - loss: 1.1601 - acc: 0.9635 - val_loss: 0.4487 - val_acc: 0.9661\n",
      "Epoch 29/50\n",
      " - 145s - loss: 1.3935 - acc: 0.9705 - val_loss: 0.9507 - val_acc: 0.9249\n",
      "Epoch 30/50\n",
      " - 145s - loss: 1.3690 - acc: 0.9412 - val_loss: 1.9574 - val_acc: 0.8580\n",
      "Epoch 31/50\n",
      " - 145s - loss: 1.2962 - acc: 0.9644 - val_loss: 0.5825 - val_acc: 0.9614\n",
      "Epoch 32/50\n",
      " - 145s - loss: 0.8224 - acc: 0.9552 - val_loss: 0.4726 - val_acc: 0.9676\n",
      "Epoch 33/50\n",
      " - 146s - loss: 0.9250 - acc: 0.9383 - val_loss: 0.7438 - val_acc: 0.9483\n",
      "Epoch 34/50\n",
      " - 145s - loss: 1.2941 - acc: 0.9294 - val_loss: 2.4157 - val_acc: 0.8418\n",
      "Epoch 35/50\n",
      " - 145s - loss: 1.4780 - acc: 0.8329 - val_loss: 0.6058 - val_acc: 0.9587\n",
      "Epoch 36/50\n",
      " - 146s - loss: 1.5828 - acc: 0.9546 - val_loss: 0.4922 - val_acc: 0.9660\n",
      "Epoch 37/50\n",
      " - 146s - loss: 0.8803 - acc: 0.9665 - val_loss: 2.2456 - val_acc: 0.8428\n",
      "Epoch 38/50\n",
      " - 145s - loss: 0.3229 - acc: 0.9674 - val_loss: 0.3933 - val_acc: 0.9728\n",
      "Epoch 39/50\n",
      " - 145s - loss: 1.2308 - acc: 0.9739 - val_loss: 0.5702 - val_acc: 0.9623\n",
      "Epoch 40/50\n",
      " - 145s - loss: 1.4927 - acc: 0.9602 - val_loss: 0.6974 - val_acc: 0.9518\n",
      "Epoch 41/50\n",
      " - 145s - loss: 1.5016 - acc: 0.9647 - val_loss: 0.6518 - val_acc: 0.9568\n",
      "Epoch 42/50\n",
      " - 145s - loss: 0.9223 - acc: 0.9623 - val_loss: 0.4844 - val_acc: 0.9676\n",
      "Epoch 43/50\n",
      " - 145s - loss: 0.8273 - acc: 0.9670 - val_loss: 1.3310 - val_acc: 0.9112\n",
      "Epoch 44/50\n",
      " - 145s - loss: 1.4732 - acc: 0.9587 - val_loss: 1.3326 - val_acc: 0.9103\n",
      "Epoch 45/50\n",
      " - 145s - loss: 0.8229 - acc: 0.9186 - val_loss: 0.9496 - val_acc: 0.9367\n",
      "Epoch 46/50\n",
      " - 145s - loss: 0.6576 - acc: 0.9637 - val_loss: 0.7809 - val_acc: 0.9498\n",
      "Epoch 47/50\n",
      " - 145s - loss: 1.5793 - acc: 0.9472 - val_loss: 0.5267 - val_acc: 0.9654\n",
      "Epoch 48/50\n",
      " - 145s - loss: 1.1313 - acc: 0.9592 - val_loss: 1.2615 - val_acc: 0.9198\n",
      "Epoch 49/50\n",
      " - 145s - loss: 1.2380 - acc: 0.9570 - val_loss: 0.4867 - val_acc: 0.9674\n",
      "Epoch 50/50\n",
      " - 145s - loss: 1.3883 - acc: 0.9720 - val_loss: 0.3593 - val_acc: 0.9765\n",
      "Wall time: 2h 1min 9s\n"
     ]
    },
    {
     "data": {
      "text/plain": [
       "<keras.callbacks.History at 0x224bc8fab00>"
      ]
     },
     "execution_count": 22,
     "metadata": {},
     "output_type": "execute_result"
    }
   ],
   "source": [
    "%%time\n",
    "print(model_id)\n",
    "model = createModel(**parameters)\n",
    "model.summary()\n",
    "model_checkpoint = ModelCheckpoint(NOTEBOOK_PATH + \"Models/%s/cnn({epoch}).h5\" % (model_id), monitor='val_loss')\n",
    "model.fit(x_train, y_train, validation_data=(x_val, y_val), batch_size=parameters['batch_size'], epochs=trainEpochs, verbose=2, callbacks=[csv_callback, model_checkpoint], class_weight=d_class_weights)"
   ]
  },
  {
   "cell_type": "code",
   "execution_count": 43,
   "metadata": {},
   "outputs": [
    {
     "data": {
      "text/plain": [
       "(2547668, 10)"
      ]
     },
     "execution_count": 43,
     "metadata": {},
     "output_type": "execute_result"
    }
   ],
   "source": [
    "y_train.shape"
   ]
  },
  {
   "cell_type": "markdown",
   "metadata": {},
   "source": [
    "# Graph the losses"
   ]
  },
  {
   "cell_type": "code",
   "execution_count": 23,
   "metadata": {},
   "outputs": [
    {
     "name": "stdout",
     "output_type": "stream",
     "text": [
      "C:/Users/Xetrov/Desktop/SciFair20/Code/Loss Logs\\cnnfeatures3-classweights-bn (10-13-2019, 0745PM)\n"
     ]
    }
   ],
   "source": [
    "def most_recent_file(pattern):\n",
    "    return max(glob.iglob(pattern, recursive=True), key=os.path.getctime)\n",
    "\n",
    "logpath = most_recent_file(NOTEBOOK_PATH + \"Loss Logs/%s**\" % model_id)\n",
    "log_df = pd.read_csv(logpath)\n",
    "log_df['epoch'] += 1\n",
    "\n",
    "print(logpath)"
   ]
  },
  {
   "cell_type": "code",
   "execution_count": 24,
   "metadata": {},
   "outputs": [
    {
     "data": {
      "image/png": "[encoded data removed]",
      "text/plain": [
       "<Figure size 864x432 with 1 Axes>"
      ]
     },
     "metadata": {
      "needs_background": "light"
     },
     "output_type": "display_data"
    }
   ],
   "source": [
    "plot_df = log_df[:]\n",
    "\n",
    "metric = 'loss'\n",
    "\n",
    "plt.figure(figsize=(12,6))\n",
    "sns.lineplot(x='epoch', y=metric, data=plot_df, label=metric)\n",
    "sns.lineplot(x='epoch', y='val_'+metric, data=plot_df, label='val_'+metric)\n",
    "plt.legend()\n",
    "\n",
    "minEpoch = plot_df.loc[plot_df.idxmin()[metric]]\n",
    "plt.plot((minEpoch['epoch']), (minEpoch[metric]), 'go', markersize=8)\n",
    "minEpoch = plot_df.loc[plot_df.idxmin()['val_'+metric]]\n",
    "plt.plot((minEpoch['epoch']), (minEpoch['val_'+metric]), 'ro', markersize=8)\n",
    "\n",
    "plt.xticks(list(range(0, plot_df['epoch'].max()+1, 5)))\n",
    "# plt.yticks(list(np.arange(0.0,0.4,0.05)))\n",
    "\n",
    "plt.grid(True)"
   ]
  },
  {
   "cell_type": "markdown",
   "metadata": {},
   "source": [
    "# Validation data"
   ]
  },
  {
   "cell_type": "code",
   "execution_count": 11,
   "metadata": {},
   "outputs": [
    {
     "name": "stdout",
     "output_type": "stream",
     "text": [
      "Loading...\n",
      "Predicting...\n",
      "Plotting...\n",
      "Done!\n"
     ]
    },
    {
     "data": {
      "text/html": [
       "<div>\n",
       "<style scoped>\n",
       "    .dataframe tbody tr th:only-of-type {\n",
       "        vertical-align: middle;\n",
       "    }\n",
       "\n",
       "    .dataframe tbody tr th {\n",
       "        vertical-align: top;\n",
       "    }\n",
       "\n",
       "    .dataframe thead th {\n",
       "        text-align: right;\n",
       "    }\n",
       "</style>\n",
       "<table border=\"1\" class=\"dataframe\">\n",
       "  <thead>\n",
       "    <tr style=\"text-align: right;\">\n",
       "      <th>Actual</th>\n",
       "      <th>BENIGN</th>\n",
       "      <th>Botnet</th>\n",
       "      <th>Brute Force</th>\n",
       "      <th>DoS/DDoS</th>\n",
       "      <th>Infiltration</th>\n",
       "      <th>PortScan</th>\n",
       "      <th>Web Attack</th>\n",
       "      <th>All</th>\n",
       "    </tr>\n",
       "    <tr>\n",
       "      <th>Pred</th>\n",
       "      <th></th>\n",
       "      <th></th>\n",
       "      <th></th>\n",
       "      <th></th>\n",
       "      <th></th>\n",
       "      <th></th>\n",
       "      <th></th>\n",
       "      <th></th>\n",
       "    </tr>\n",
       "  </thead>\n",
       "  <tbody>\n",
       "    <tr>\n",
       "      <th>BENIGN</th>\n",
       "      <td>439118</td>\n",
       "      <td>0</td>\n",
       "      <td>0</td>\n",
       "      <td>41</td>\n",
       "      <td>2</td>\n",
       "      <td>1</td>\n",
       "      <td>3</td>\n",
       "      <td>439165</td>\n",
       "    </tr>\n",
       "    <tr>\n",
       "      <th>Botnet</th>\n",
       "      <td>8573</td>\n",
       "      <td>397</td>\n",
       "      <td>0</td>\n",
       "      <td>16</td>\n",
       "      <td>0</td>\n",
       "      <td>0</td>\n",
       "      <td>0</td>\n",
       "      <td>8986</td>\n",
       "    </tr>\n",
       "    <tr>\n",
       "      <th>Brute Force</th>\n",
       "      <td>1080</td>\n",
       "      <td>0</td>\n",
       "      <td>2810</td>\n",
       "      <td>117</td>\n",
       "      <td>0</td>\n",
       "      <td>0</td>\n",
       "      <td>0</td>\n",
       "      <td>4007</td>\n",
       "    </tr>\n",
       "    <tr>\n",
       "      <th>DoS/DDoS</th>\n",
       "      <td>1333</td>\n",
       "      <td>0</td>\n",
       "      <td>0</td>\n",
       "      <td>76220</td>\n",
       "      <td>0</td>\n",
       "      <td>17</td>\n",
       "      <td>3</td>\n",
       "      <td>77573</td>\n",
       "    </tr>\n",
       "    <tr>\n",
       "      <th>Infiltration</th>\n",
       "      <td>946</td>\n",
       "      <td>0</td>\n",
       "      <td>0</td>\n",
       "      <td>2</td>\n",
       "      <td>5</td>\n",
       "      <td>0</td>\n",
       "      <td>0</td>\n",
       "      <td>953</td>\n",
       "    </tr>\n",
       "    <tr>\n",
       "      <th>PortScan</th>\n",
       "      <td>280</td>\n",
       "      <td>0</td>\n",
       "      <td>0</td>\n",
       "      <td>3</td>\n",
       "      <td>0</td>\n",
       "      <td>31765</td>\n",
       "      <td>0</td>\n",
       "      <td>32048</td>\n",
       "    </tr>\n",
       "    <tr>\n",
       "      <th>Web Attack</th>\n",
       "      <td>2877</td>\n",
       "      <td>0</td>\n",
       "      <td>0</td>\n",
       "      <td>111</td>\n",
       "      <td>0</td>\n",
       "      <td>4</td>\n",
       "      <td>425</td>\n",
       "      <td>3417</td>\n",
       "    </tr>\n",
       "    <tr>\n",
       "      <th>All</th>\n",
       "      <td>454207</td>\n",
       "      <td>397</td>\n",
       "      <td>2810</td>\n",
       "      <td>76510</td>\n",
       "      <td>7</td>\n",
       "      <td>31787</td>\n",
       "      <td>431</td>\n",
       "      <td>566149</td>\n",
       "    </tr>\n",
       "  </tbody>\n",
       "</table>\n",
       "</div>"
      ],
      "text/plain": [
       "Actual        BENIGN  Botnet  Brute Force  DoS/DDoS  Infiltration  PortScan  \\\n",
       "Pred                                                                          \n",
       "BENIGN        439118       0            0        41             2         1   \n",
       "Botnet          8573     397            0        16             0         0   \n",
       "Brute Force     1080       0         2810       117             0         0   \n",
       "DoS/DDoS        1333       0            0     76220             0        17   \n",
       "Infiltration     946       0            0         2             5         0   \n",
       "PortScan         280       0            0         3             0     31765   \n",
       "Web Attack      2877       0            0       111             0         4   \n",
       "All           454207     397         2810     76510             7     31787   \n",
       "\n",
       "Actual        Web Attack     All  \n",
       "Pred                              \n",
       "BENIGN                 3  439165  \n",
       "Botnet                 0    8986  \n",
       "Brute Force            0    4007  \n",
       "DoS/DDoS               3   77573  \n",
       "Infiltration           0     953  \n",
       "PortScan               0   32048  \n",
       "Web Attack           425    3417  \n",
       "All                  431  566149  "
      ]
     },
     "execution_count": 11,
     "metadata": {},
     "output_type": "execute_result"
    }
   ],
   "source": [
    "print(\"Loading...\")\n",
    "model = keras.models.load_model(NOTEBOOK_PATH + \"Models/%s/cnn(38).h5\" % model_id)\n",
    "print(\"Predicting...\")\n",
    "pred = model.predict(x_val)\n",
    "\n",
    "print(\"Plotting...\")\n",
    "pred_index = list(pred.argmax(1))\n",
    "y_index = list(np.argmax(y_val.to_numpy(), axis=1))\n",
    "\n",
    "atktypes = sorted(y_val.columns)\n",
    "pred_series = pd.Series(pred_index, name=\"Pred\").replace(dict(enumerate(atktypes)))\n",
    "y_series = pd.Series(y_index, name=\"Actual\").replace(dict(enumerate(atktypes)))\n",
    "\n",
    "matrix = pd.crosstab(pred_series, y_series, margins=True)\n",
    "print(\"Done!\")\n",
    "matrix"
   ]
  },
  {
   "cell_type": "markdown",
   "metadata": {},
   "source": [
    "# Test data"
   ]
  },
  {
   "cell_type": "code",
   "execution_count": 13,
   "metadata": {},
   "outputs": [],
   "source": [
    "from sklearn.metrics import f1_score"
   ]
  },
  {
   "cell_type": "code",
   "execution_count": 16,
   "metadata": {},
   "outputs": [
    {
     "name": "stdout",
     "output_type": "stream",
     "text": [
      "Micro: 0.9765132500454827\n",
      "Macro: 0.5950801822175681\n"
     ]
    }
   ],
   "source": [
    "model = keras.models.load_model(NOTEBOOK_PATH + \"Models/%s/cnn(50).h5\" % model_id)\n",
    "pred = model.predict(x_test, batch_size=256).argmax(axis=1)\n",
    "pred_f1 = np.zeros((len(x_test), y_test.shape[1]))\n",
    "for j in range(len(pred)):\n",
    "    pred_f1[j,pred[j]] = 1\n",
    "f1_micro = f1_score(y_test, pred_f1.astype('uint8'), average='micro')\n",
    "f1_macro = f1_score(y_test, pred_f1.astype('uint8'), average='macro')\n",
    "print(\"Micro:\", f1_micro)\n",
    "print(\"Macro:\", f1_macro)"
   ]
  },
  {
   "cell_type": "code",
   "execution_count": 17,
   "metadata": {},
   "outputs": [
    {
     "name": "stdout",
     "output_type": "stream",
     "text": [
      "Done!\n"
     ]
    },
    {
     "data": {
      "text/html": [
       "<div>\n",
       "<style scoped>\n",
       "    .dataframe tbody tr th:only-of-type {\n",
       "        vertical-align: middle;\n",
       "    }\n",
       "\n",
       "    .dataframe tbody tr th {\n",
       "        vertical-align: top;\n",
       "    }\n",
       "\n",
       "    .dataframe thead th {\n",
       "        text-align: right;\n",
       "    }\n",
       "</style>\n",
       "<table border=\"1\" class=\"dataframe\">\n",
       "  <thead>\n",
       "    <tr style=\"text-align: right;\">\n",
       "      <th>Actual</th>\n",
       "      <th>BENIGN</th>\n",
       "      <th>Botnet</th>\n",
       "      <th>Brute Force</th>\n",
       "      <th>DoS/DDoS</th>\n",
       "      <th>Infiltration</th>\n",
       "      <th>PortScan</th>\n",
       "      <th>Web Attack</th>\n",
       "      <th>All</th>\n",
       "    </tr>\n",
       "    <tr>\n",
       "      <th>Pred</th>\n",
       "      <th></th>\n",
       "      <th></th>\n",
       "      <th></th>\n",
       "      <th></th>\n",
       "      <th></th>\n",
       "      <th></th>\n",
       "      <th></th>\n",
       "      <th></th>\n",
       "    </tr>\n",
       "  </thead>\n",
       "  <tbody>\n",
       "    <tr>\n",
       "      <th>BENIGN</th>\n",
       "      <td>441859</td>\n",
       "      <td>8</td>\n",
       "      <td>2</td>\n",
       "      <td>106</td>\n",
       "      <td>3</td>\n",
       "      <td>13</td>\n",
       "      <td>5</td>\n",
       "      <td>441996</td>\n",
       "    </tr>\n",
       "    <tr>\n",
       "      <th>Botnet</th>\n",
       "      <td>8049</td>\n",
       "      <td>281</td>\n",
       "      <td>0</td>\n",
       "      <td>3</td>\n",
       "      <td>0</td>\n",
       "      <td>0</td>\n",
       "      <td>0</td>\n",
       "      <td>8333</td>\n",
       "    </tr>\n",
       "    <tr>\n",
       "      <th>Brute Force</th>\n",
       "      <td>720</td>\n",
       "      <td>0</td>\n",
       "      <td>2748</td>\n",
       "      <td>103</td>\n",
       "      <td>0</td>\n",
       "      <td>0</td>\n",
       "      <td>0</td>\n",
       "      <td>3571</td>\n",
       "    </tr>\n",
       "    <tr>\n",
       "      <th>DoS/DDoS</th>\n",
       "      <td>989</td>\n",
       "      <td>0</td>\n",
       "      <td>2</td>\n",
       "      <td>75674</td>\n",
       "      <td>0</td>\n",
       "      <td>13</td>\n",
       "      <td>1</td>\n",
       "      <td>76679</td>\n",
       "    </tr>\n",
       "    <tr>\n",
       "      <th>Infiltration</th>\n",
       "      <td>315</td>\n",
       "      <td>95</td>\n",
       "      <td>0</td>\n",
       "      <td>0</td>\n",
       "      <td>2</td>\n",
       "      <td>0</td>\n",
       "      <td>0</td>\n",
       "      <td>412</td>\n",
       "    </tr>\n",
       "    <tr>\n",
       "      <th>PortScan</th>\n",
       "      <td>225</td>\n",
       "      <td>0</td>\n",
       "      <td>0</td>\n",
       "      <td>1</td>\n",
       "      <td>0</td>\n",
       "      <td>31849</td>\n",
       "      <td>0</td>\n",
       "      <td>32075</td>\n",
       "    </tr>\n",
       "    <tr>\n",
       "      <th>Web Attack</th>\n",
       "      <td>2633</td>\n",
       "      <td>0</td>\n",
       "      <td>0</td>\n",
       "      <td>10</td>\n",
       "      <td>0</td>\n",
       "      <td>1</td>\n",
       "      <td>439</td>\n",
       "      <td>3083</td>\n",
       "    </tr>\n",
       "    <tr>\n",
       "      <th>All</th>\n",
       "      <td>454790</td>\n",
       "      <td>384</td>\n",
       "      <td>2752</td>\n",
       "      <td>75897</td>\n",
       "      <td>5</td>\n",
       "      <td>31876</td>\n",
       "      <td>445</td>\n",
       "      <td>566149</td>\n",
       "    </tr>\n",
       "  </tbody>\n",
       "</table>\n",
       "</div>"
      ],
      "text/plain": [
       "Actual        BENIGN  Botnet  Brute Force  DoS/DDoS  Infiltration  PortScan  \\\n",
       "Pred                                                                          \n",
       "BENIGN        441859       8            2       106             3        13   \n",
       "Botnet          8049     281            0         3             0         0   \n",
       "Brute Force      720       0         2748       103             0         0   \n",
       "DoS/DDoS         989       0            2     75674             0        13   \n",
       "Infiltration     315      95            0         0             2         0   \n",
       "PortScan         225       0            0         1             0     31849   \n",
       "Web Attack      2633       0            0        10             0         1   \n",
       "All           454790     384         2752     75897             5     31876   \n",
       "\n",
       "Actual        Web Attack     All  \n",
       "Pred                              \n",
       "BENIGN                 5  441996  \n",
       "Botnet                 0    8333  \n",
       "Brute Force            0    3571  \n",
       "DoS/DDoS               1   76679  \n",
       "Infiltration           0     412  \n",
       "PortScan               0   32075  \n",
       "Web Attack           439    3083  \n",
       "All                  445  566149  "
      ]
     },
     "execution_count": 17,
     "metadata": {},
     "output_type": "execute_result"
    }
   ],
   "source": [
    "pred_index = pred\n",
    "y_index = list(np.argmax(y_test.to_numpy(), axis=1))\n",
    "\n",
    "atktypes = sorted(y_test.columns)\n",
    "pred_series = pd.Series(pred_index, name=\"Pred\").replace(dict(enumerate(atktypes)))\n",
    "y_series = pd.Series(y_index, name=\"Actual\").replace(dict(enumerate(atktypes)))\n",
    "\n",
    "matrix = pd.crosstab(pred_series, y_series, margins=True)\n",
    "print(\"Done!\")\n",
    "matrix.to_csv(NOTEBOOK_PATH + \"Confusion Matrices/%s.csv\" % model_id)\n",
    "matrix"
   ]
  },
  {
   "cell_type": "markdown",
   "metadata": {},
   "source": [
    "# Log results"
   ]
  },
  {
   "cell_type": "code",
   "execution_count": 55,
   "metadata": {},
   "outputs": [],
   "source": [
    "model_log = open(NOTEBOOK_PATH + \"model_log.txt\", \"a\")\n",
    "\n",
    "model_log.write(\"\\n\" + model_id)\n",
    "model_log.write(\"\\n\\tF1 Micro: \" + str(f1_micro))\n",
    "model_log.write(\"\\n\\tF1 Macro: \" + str(f1_macro))\n",
    "\n",
    "model_log.close()"
   ]
  }
 ],
 "metadata": {
  "kernelspec": {
   "display_name": "Python 3",
   "language": "python",
   "name": "python3"
  },
  "language_info": {
   "codemirror_mode": {
    "name": "ipython",
    "version": 3
   },
   "file_extension": ".py",
   "mimetype": "text/x-python",
   "name": "python",
   "nbconvert_exporter": "python",
   "pygments_lexer": "ipython3",
   "version": "3.6.7"
  }
 },
 "nbformat": 4,
 "nbformat_minor": 4
}

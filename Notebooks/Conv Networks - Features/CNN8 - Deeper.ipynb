{
 "cells": [
  {
   "cell_type": "markdown",
   "metadata": {},
   "source": [
    "# CSE-CIC-IDS 2017"
   ]
  },
  {
   "cell_type": "code",
   "execution_count": 23,
   "metadata": {},
   "outputs": [],
   "source": [
    "model_id = \"cnn8-10deep\""
   ]
  },
  {
   "cell_type": "code",
   "execution_count": 2,
   "metadata": {},
   "outputs": [
    {
     "name": "stderr",
     "output_type": "stream",
     "text": [
      "Using TensorFlow backend.\n",
      "C:\\Users\\Xetrov\\AppData\\Local\\Continuum\\anaconda3\\lib\\site-packages\\tensorflow\\python\\framework\\dtypes.py:517: FutureWarning: Passing (type, 1) or '1type' as a synonym of type is deprecated; in a future version of numpy, it will be understood as (type, (1,)) / '(1,)type'.\n",
      "  _np_qint8 = np.dtype([(\"qint8\", np.int8, 1)])\n",
      "C:\\Users\\Xetrov\\AppData\\Local\\Continuum\\anaconda3\\lib\\site-packages\\tensorflow\\python\\framework\\dtypes.py:518: FutureWarning: Passing (type, 1) or '1type' as a synonym of type is deprecated; in a future version of numpy, it will be understood as (type, (1,)) / '(1,)type'.\n",
      "  _np_quint8 = np.dtype([(\"quint8\", np.uint8, 1)])\n",
      "C:\\Users\\Xetrov\\AppData\\Local\\Continuum\\anaconda3\\lib\\site-packages\\tensorflow\\python\\framework\\dtypes.py:519: FutureWarning: Passing (type, 1) or '1type' as a synonym of type is deprecated; in a future version of numpy, it will be understood as (type, (1,)) / '(1,)type'.\n",
      "  _np_qint16 = np.dtype([(\"qint16\", np.int16, 1)])\n",
      "C:\\Users\\Xetrov\\AppData\\Local\\Continuum\\anaconda3\\lib\\site-packages\\tensorflow\\python\\framework\\dtypes.py:520: FutureWarning: Passing (type, 1) or '1type' as a synonym of type is deprecated; in a future version of numpy, it will be understood as (type, (1,)) / '(1,)type'.\n",
      "  _np_quint16 = np.dtype([(\"quint16\", np.uint16, 1)])\n",
      "C:\\Users\\Xetrov\\AppData\\Local\\Continuum\\anaconda3\\lib\\site-packages\\tensorflow\\python\\framework\\dtypes.py:521: FutureWarning: Passing (type, 1) or '1type' as a synonym of type is deprecated; in a future version of numpy, it will be understood as (type, (1,)) / '(1,)type'.\n",
      "  _np_qint32 = np.dtype([(\"qint32\", np.int32, 1)])\n",
      "C:\\Users\\Xetrov\\AppData\\Local\\Continuum\\anaconda3\\lib\\site-packages\\tensorflow\\python\\framework\\dtypes.py:526: FutureWarning: Passing (type, 1) or '1type' as a synonym of type is deprecated; in a future version of numpy, it will be understood as (type, (1,)) / '(1,)type'.\n",
      "  np_resource = np.dtype([(\"resource\", np.ubyte, 1)])\n"
     ]
    }
   ],
   "source": [
    "import numpy as np\n",
    "np.random.seed(42)\n",
    "np.set_printoptions(suppress=True)\n",
    "import pandas as pd\n",
    "import matplotlib.pyplot as plt\n",
    "import seaborn as sns\n",
    "from tqdm import tqdm\n",
    "\n",
    "import glob, time, os\n",
    "\n",
    "import keras"
   ]
  },
  {
   "cell_type": "code",
   "execution_count": 3,
   "metadata": {},
   "outputs": [],
   "source": [
    "NOTEBOOK_PATH = \"C:/Users/Xetrov/Desktop/SciFair20/Code/\""
   ]
  },
  {
   "cell_type": "code",
   "execution_count": 4,
   "metadata": {},
   "outputs": [],
   "source": [
    "x_scaled = pd.read_csv(NOTEBOOK_PATH + \"IDS2017/x_scaled_powertransform.csv\")"
   ]
  },
  {
   "cell_type": "code",
   "execution_count": 5,
   "metadata": {},
   "outputs": [],
   "source": [
    "y_df_enc = pd.read_csv(NOTEBOOK_PATH + \"IDS2017/y_all_binary.csv\")"
   ]
  },
  {
   "cell_type": "markdown",
   "metadata": {},
   "source": [
    "# Reshape into images"
   ]
  },
  {
   "cell_type": "code",
   "execution_count": 6,
   "metadata": {},
   "outputs": [],
   "source": [
    "x_img = x_scaled.to_numpy().reshape((len(x_scaled), 4, 17))"
   ]
  },
  {
   "cell_type": "code",
   "execution_count": 7,
   "metadata": {},
   "outputs": [],
   "source": [
    "x_img = np.expand_dims(x_img, -1)"
   ]
  },
  {
   "cell_type": "markdown",
   "metadata": {},
   "source": [
    "# Split data into train and test"
   ]
  },
  {
   "cell_type": "code",
   "execution_count": 8,
   "metadata": {},
   "outputs": [],
   "source": [
    "from sklearn.model_selection import train_test_split"
   ]
  },
  {
   "cell_type": "code",
   "execution_count": 9,
   "metadata": {},
   "outputs": [],
   "source": [
    "from sklearn.model_selection import train_test_split\n",
    "\n",
    "x_train, x_valtest, y_train, y_valtest = train_test_split(x_img, y_df_enc, test_size = 0.4, random_state = 42)\n",
    "\n",
    "x_val, x_test, y_val, y_test = train_test_split(x_valtest, y_valtest, test_size = 0.5, random_state = 42)\n",
    "\n",
    "del x_train\n",
    "del y_train\n",
    "del x_valtest \n",
    "del y_valtest"
   ]
  },
  {
   "cell_type": "markdown",
   "metadata": {},
   "source": [
    "# Read ADASYN data"
   ]
  },
  {
   "cell_type": "code",
   "execution_count": 10,
   "metadata": {},
   "outputs": [],
   "source": [
    "x_train_res = pd.read_csv(NOTEBOOK_PATH + \"IDS2017/x_adasyn_binary.csv\")"
   ]
  },
  {
   "cell_type": "code",
   "execution_count": 11,
   "metadata": {},
   "outputs": [],
   "source": [
    "y_train_res = pd.read_csv(NOTEBOOK_PATH + \"IDS2017/y_adasyn_binary.csv\")['IsAttack']"
   ]
  },
  {
   "cell_type": "code",
   "execution_count": 12,
   "metadata": {},
   "outputs": [],
   "source": [
    "x_train_resimg = np.expand_dims(x_train_res.to_numpy().reshape((len(x_train_res), 4, 17)), -1)"
   ]
  },
  {
   "cell_type": "markdown",
   "metadata": {},
   "source": [
    "# Train model"
   ]
  },
  {
   "cell_type": "code",
   "execution_count": 13,
   "metadata": {},
   "outputs": [],
   "source": [
    "from keras.models import Model, Sequential\n",
    "from keras.layers import Dense, BatchNormalization, Dropout, InputLayer, Conv2D, Flatten\n",
    "from keras.optimizers import SGD, Adam"
   ]
  },
  {
   "cell_type": "code",
   "execution_count": 24,
   "metadata": {},
   "outputs": [],
   "source": [
    "def addDenseBlock(model, units, **params):\n",
    "    model.add(Dense(units=units, activation=params['hidden_activation'], input_dim=x_train_res.shape[1]))\n",
    "    if params['batch_normalization']: model.add(BatchNormalization())\n",
    "    if params['dropout_rate'] > 0: model.add(Dropout(params['dropout_rate']))\n",
    "\n",
    "def addConvBlock(model, units, **params):\n",
    "    model.add(Conv2D(filters=units, kernel_size=params['kernel_size'], activation=params['hidden_activation'], padding=params['padding'],input_shape=(4,17,1)))\n",
    "    if params['batch_normalization']: model.add(BatchNormalization())\n",
    "    if params['dropout_rate'] > 0: model.add(Dropout(params['dropout_rate']))\n",
    "        \n",
    "def createModel(**in_params):\n",
    "    \"\"\"\n",
    "    Supported parameters:\n",
    "    batch_normalization - True or False\n",
    "    dropout_rate - 0 to 1\n",
    "    num_units - integer\n",
    "    learning_rate - float\n",
    "    activation_function - string\n",
    "    \"\"\"\n",
    "    \n",
    "    model = Sequential()\n",
    "\n",
    "    # Set default values\n",
    "    params = {\n",
    "        'batch_normalization': True,\n",
    "        'dropout_rate': 0,\n",
    "        'learning_rate': 0.001,\n",
    "        'hidden_activation': 'relu',\n",
    "        'final_activation': 'sigmoid',\n",
    "        'kernel_size': (2,2),\n",
    "        'padding':'same'\n",
    "    }\n",
    "    \n",
    "    # Replace defaults with specified parameters\n",
    "    for param in in_params:\n",
    "        params[param] = in_params[param]    \n",
    "    \n",
    "    # InputLayer causes serialization issues\n",
    "#     model.add( InputLayer(input_shape = (x_train.shape[1],) ) )\n",
    "    \n",
    "#     for i in range(params['num_layers']):\n",
    "#         addDenseBlock(model, params['num_units'], **params)\n",
    "\n",
    "    addConvBlock(model, 64, **params)\n",
    "    addConvBlock(model, 128, **params)\n",
    "    addConvBlock(model, 128, **params)\n",
    "    \n",
    "    addConvBlock(model, 256, **params)\n",
    "    addConvBlock(model, 256, **params)\n",
    "    addConvBlock(model, 256, **params)\n",
    "    addConvBlock(model, 256, **params)\n",
    "    \n",
    "    addConvBlock(model, 128, **params)\n",
    "    addConvBlock(model, 128, **params)\n",
    "    addConvBlock(model, 64, **params)\n",
    "    \n",
    "    model.add(Flatten())\n",
    "\n",
    "    model.add(Dense(units=1, activation=params['final_activation']))\n",
    "\n",
    "    # optim = SGD(lr=0.001, nesterov=True)\n",
    "    optim = Adam(lr=params['learning_rate'])\n",
    "\n",
    "    model.compile(loss='binary_crossentropy', optimizer=optim, metrics=['accuracy'])\n",
    "    \n",
    "#     print(params)\n",
    "    \n",
    "    return model"
   ]
  },
  {
   "cell_type": "markdown",
   "metadata": {},
   "source": [
    "Ensure a GPU is available"
   ]
  },
  {
   "cell_type": "code",
   "execution_count": 15,
   "metadata": {},
   "outputs": [
    {
     "data": {
      "text/plain": [
       "['/job:localhost/replica:0/task:0/device:GPU:0']"
      ]
     },
     "execution_count": 15,
     "metadata": {},
     "output_type": "execute_result"
    }
   ],
   "source": [
    "import keras.backend as K\n",
    "\n",
    "K.tensorflow_backend._get_available_gpus()"
   ]
  },
  {
   "cell_type": "markdown",
   "metadata": {},
   "source": [
    "### Callbacks"
   ]
  },
  {
   "cell_type": "code",
   "execution_count": 25,
   "metadata": {},
   "outputs": [
    {
     "name": "stdout",
     "output_type": "stream",
     "text": [
      "Created C:/Users/Xetrov/Desktop/SciFair20/Code/Models/cnn8-10deep/\n"
     ]
    }
   ],
   "source": [
    "from keras.callbacks import CSVLogger, EarlyStopping, ModelCheckpoint\n",
    "\n",
    "def timestamp():\n",
    "    return time.strftime(\"%m-%d-%Y, %I%M%p\")\n",
    "\n",
    "csv_callback = CSVLogger(NOTEBOOK_PATH + 'Loss Logs/%s (%s)' % (model_id, timestamp()), append=True)\n",
    "early_stop = EarlyStopping(monitor = 'val_loss', min_delta=0.0001, patience=5)\n",
    "\n",
    "savedir = NOTEBOOK_PATH + \"Models/%s/\" % model_id\n",
    "if not os.path.exists(savedir):\n",
    "    os.makedirs(savedir)\n",
    "    print(\"Created \" + savedir)\n",
    "else:\n",
    "    print(\"Using \" + savedir)"
   ]
  },
  {
   "cell_type": "markdown",
   "metadata": {},
   "source": [
    "### Training"
   ]
  },
  {
   "cell_type": "code",
   "execution_count": 28,
   "metadata": {},
   "outputs": [],
   "source": [
    "import itertools\n",
    "\n",
    "trainEpochs = 100\n",
    "\n",
    "parameters = {'batch_size': 1000, 'batch_normalization':True, 'dropout_rate':0, 'final_activation': 'sigmoid'}"
   ]
  },
  {
   "cell_type": "code",
   "execution_count": 29,
   "metadata": {},
   "outputs": [
    {
     "name": "stdout",
     "output_type": "stream",
     "text": [
      "cnn8-10deep\n",
      "_________________________________________________________________\n",
      "Layer (type)                 Output Shape              Param #   \n",
      "=================================================================\n",
      "conv2d_35 (Conv2D)           (None, 4, 17, 64)         320       \n",
      "_________________________________________________________________\n",
      "batch_normalization_35 (Batc (None, 4, 17, 64)         256       \n",
      "_________________________________________________________________\n",
      "conv2d_36 (Conv2D)           (None, 4, 17, 128)        32896     \n",
      "_________________________________________________________________\n",
      "batch_normalization_36 (Batc (None, 4, 17, 128)        512       \n",
      "_________________________________________________________________\n",
      "conv2d_37 (Conv2D)           (None, 4, 17, 128)        65664     \n",
      "_________________________________________________________________\n",
      "batch_normalization_37 (Batc (None, 4, 17, 128)        512       \n",
      "_________________________________________________________________\n",
      "conv2d_38 (Conv2D)           (None, 4, 17, 256)        131328    \n",
      "_________________________________________________________________\n",
      "batch_normalization_38 (Batc (None, 4, 17, 256)        1024      \n",
      "_________________________________________________________________\n",
      "conv2d_39 (Conv2D)           (None, 4, 17, 256)        262400    \n",
      "_________________________________________________________________\n",
      "batch_normalization_39 (Batc (None, 4, 17, 256)        1024      \n",
      "_________________________________________________________________\n",
      "conv2d_40 (Conv2D)           (None, 4, 17, 256)        262400    \n",
      "_________________________________________________________________\n",
      "batch_normalization_40 (Batc (None, 4, 17, 256)        1024      \n",
      "_________________________________________________________________\n",
      "conv2d_41 (Conv2D)           (None, 4, 17, 256)        262400    \n",
      "_________________________________________________________________\n",
      "batch_normalization_41 (Batc (None, 4, 17, 256)        1024      \n",
      "_________________________________________________________________\n",
      "conv2d_42 (Conv2D)           (None, 4, 17, 128)        131200    \n",
      "_________________________________________________________________\n",
      "batch_normalization_42 (Batc (None, 4, 17, 128)        512       \n",
      "_________________________________________________________________\n",
      "conv2d_43 (Conv2D)           (None, 4, 17, 128)        65664     \n",
      "_________________________________________________________________\n",
      "batch_normalization_43 (Batc (None, 4, 17, 128)        512       \n",
      "_________________________________________________________________\n",
      "conv2d_44 (Conv2D)           (None, 4, 17, 64)         32832     \n",
      "_________________________________________________________________\n",
      "batch_normalization_44 (Batc (None, 4, 17, 64)         256       \n",
      "_________________________________________________________________\n",
      "flatten_4 (Flatten)          (None, 4352)              0         \n",
      "_________________________________________________________________\n",
      "dense_4 (Dense)              (None, 1)                 4353      \n",
      "=================================================================\n",
      "Total params: 1,258,113\n",
      "Trainable params: 1,254,785\n",
      "Non-trainable params: 3,328\n",
      "_________________________________________________________________\n",
      "Train on 2727615 samples, validate on 566149 samples\n",
      "Epoch 1/100\n",
      " - 396s - loss: 0.0471 - acc: 0.9847 - val_loss: 0.0268 - val_acc: 0.9939\n",
      "Epoch 2/100\n",
      " - 397s - loss: 0.0239 - acc: 0.9933 - val_loss: 0.0248 - val_acc: 0.9931\n",
      "Epoch 3/100\n",
      " - 397s - loss: 0.0168 - acc: 0.9958 - val_loss: 0.0239 - val_acc: 0.9947\n",
      "Epoch 4/100\n",
      " - 397s - loss: 0.0162 - acc: 0.9960 - val_loss: 0.0143 - val_acc: 0.9961\n",
      "Epoch 5/100\n",
      " - 395s - loss: 0.0141 - acc: 0.9966 - val_loss: 0.0198 - val_acc: 0.9944\n",
      "Epoch 6/100\n",
      " - 396s - loss: 0.0144 - acc: 0.9964 - val_loss: 0.0175 - val_acc: 0.9952\n",
      "Epoch 7/100\n",
      " - 397s - loss: 0.0133 - acc: 0.9968 - val_loss: 0.0142 - val_acc: 0.9964\n",
      "Epoch 8/100\n",
      " - 395s - loss: 0.0132 - acc: 0.9969 - val_loss: 0.0134 - val_acc: 0.9965\n",
      "Epoch 9/100\n",
      " - 396s - loss: 0.0123 - acc: 0.9971 - val_loss: 0.0159 - val_acc: 0.9967\n",
      "Epoch 10/100\n",
      " - 397s - loss: 0.0121 - acc: 0.9972 - val_loss: 0.0179 - val_acc: 0.9952\n",
      "Epoch 11/100\n",
      " - 396s - loss: 0.0116 - acc: 0.9973 - val_loss: 0.0136 - val_acc: 0.9962\n",
      "Epoch 12/100\n",
      " - 395s - loss: 0.0119 - acc: 0.9972 - val_loss: 0.0149 - val_acc: 0.9966\n",
      "Epoch 13/100\n",
      " - 395s - loss: 0.0112 - acc: 0.9974 - val_loss: 0.0148 - val_acc: 0.9963\n",
      "Epoch 14/100\n",
      " - 395s - loss: 0.0118 - acc: 0.9973 - val_loss: 0.0144 - val_acc: 0.9966\n",
      "Epoch 15/100\n",
      " - 394s - loss: 0.0109 - acc: 0.9976 - val_loss: 0.0130 - val_acc: 0.9966\n",
      "Epoch 16/100\n",
      " - 396s - loss: 0.0106 - acc: 0.9975 - val_loss: 0.0111 - val_acc: 0.9976\n",
      "Epoch 17/100\n",
      " - 394s - loss: 0.0105 - acc: 0.9977 - val_loss: 0.0141 - val_acc: 0.9967\n",
      "Epoch 18/100\n",
      " - 396s - loss: 0.0100 - acc: 0.9978 - val_loss: 0.0142 - val_acc: 0.9970\n",
      "Epoch 19/100\n",
      " - 397s - loss: 0.0107 - acc: 0.9976 - val_loss: 0.0115 - val_acc: 0.9970\n",
      "Epoch 20/100\n",
      " - 397s - loss: 0.0111 - acc: 0.9975 - val_loss: 0.0117 - val_acc: 0.9968\n",
      "Epoch 21/100\n",
      " - 394s - loss: 0.0107 - acc: 0.9977 - val_loss: 0.0351 - val_acc: 0.9935\n",
      "Epoch 22/100\n",
      " - 395s - loss: 0.0100 - acc: 0.9978 - val_loss: 0.0101 - val_acc: 0.9976\n",
      "Epoch 23/100\n",
      " - 393s - loss: 0.0099 - acc: 0.9978 - val_loss: 0.0133 - val_acc: 0.9970\n",
      "Epoch 24/100\n",
      " - 395s - loss: 0.0101 - acc: 0.9978 - val_loss: 0.0113 - val_acc: 0.9972\n",
      "Epoch 25/100\n",
      " - 395s - loss: 0.0098 - acc: 0.9979 - val_loss: 0.0151 - val_acc: 0.9970\n",
      "Epoch 26/100\n",
      " - 395s - loss: 0.0099 - acc: 0.9979 - val_loss: 0.0104 - val_acc: 0.9971\n",
      "Epoch 27/100\n",
      " - 394s - loss: 0.0094 - acc: 0.9980 - val_loss: 0.0113 - val_acc: 0.9973\n",
      "Epoch 28/100\n",
      " - 395s - loss: 0.0096 - acc: 0.9979 - val_loss: 0.0104 - val_acc: 0.9970\n",
      "Epoch 29/100\n",
      " - 396s - loss: 0.0093 - acc: 0.9980 - val_loss: 0.0129 - val_acc: 0.9969\n",
      "Epoch 30/100\n",
      " - 395s - loss: 0.0095 - acc: 0.9980 - val_loss: 0.0194 - val_acc: 0.9969\n",
      "Epoch 31/100\n",
      " - 396s - loss: 0.0092 - acc: 0.9980 - val_loss: 0.0103 - val_acc: 0.9976\n",
      "Epoch 32/100\n",
      " - 396s - loss: 0.0088 - acc: 0.9981 - val_loss: 0.0225 - val_acc: 0.9965\n",
      "Epoch 33/100\n",
      " - 394s - loss: 0.0089 - acc: 0.9981 - val_loss: 0.0184 - val_acc: 0.9968\n",
      "Epoch 34/100\n",
      " - 393s - loss: 0.0088 - acc: 0.9982 - val_loss: 0.0098 - val_acc: 0.9972\n",
      "Epoch 35/100\n",
      " - 395s - loss: 0.0091 - acc: 0.9981 - val_loss: 0.0135 - val_acc: 0.9970\n",
      "Epoch 36/100\n",
      " - 394s - loss: 0.0086 - acc: 0.9982 - val_loss: 0.0113 - val_acc: 0.9973\n",
      "Epoch 37/100\n",
      " - 394s - loss: 0.0084 - acc: 0.9983 - val_loss: 0.0228 - val_acc: 0.9970\n",
      "Epoch 38/100\n",
      " - 394s - loss: 0.0090 - acc: 0.9981 - val_loss: 0.0105 - val_acc: 0.9972\n",
      "Epoch 39/100\n",
      " - 394s - loss: 0.0081 - acc: 0.9983 - val_loss: 0.0124 - val_acc: 0.9973\n",
      "Epoch 40/100\n",
      " - 394s - loss: 0.0085 - acc: 0.9982 - val_loss: 0.0109 - val_acc: 0.9958\n",
      "Epoch 41/100\n",
      " - 395s - loss: 0.0086 - acc: 0.9982 - val_loss: 0.0101 - val_acc: 0.9972\n",
      "Epoch 42/100\n",
      " - 394s - loss: 0.0087 - acc: 0.9982 - val_loss: 0.0272 - val_acc: 0.9952\n",
      "Epoch 43/100\n",
      " - 394s - loss: 0.0077 - acc: 0.9985 - val_loss: 0.0170 - val_acc: 0.9969\n",
      "Epoch 44/100\n",
      " - 394s - loss: 0.0086 - acc: 0.9982 - val_loss: 0.0097 - val_acc: 0.9979\n",
      "Epoch 45/100\n",
      " - 393s - loss: 0.0085 - acc: 0.9982 - val_loss: 0.0148 - val_acc: 0.9973\n",
      "Epoch 46/100\n",
      " - 393s - loss: 0.0084 - acc: 0.9982 - val_loss: 0.0102 - val_acc: 0.9968\n",
      "Epoch 47/100\n",
      " - 394s - loss: 0.0086 - acc: 0.9982 - val_loss: 0.0130 - val_acc: 0.9972\n",
      "Epoch 48/100\n",
      " - 393s - loss: 0.0085 - acc: 0.9982 - val_loss: 0.0092 - val_acc: 0.9981\n",
      "Epoch 49/100\n",
      " - 396s - loss: 0.0089 - acc: 0.9981 - val_loss: 0.0131 - val_acc: 0.9974\n",
      "Epoch 50/100\n",
      " - 394s - loss: 0.0086 - acc: 0.9982 - val_loss: 0.0119 - val_acc: 0.9974\n",
      "Epoch 51/100\n",
      " - 394s - loss: 0.0083 - acc: 0.9983 - val_loss: 0.0136 - val_acc: 0.9974\n",
      "Epoch 52/100\n",
      " - 394s - loss: 0.0081 - acc: 0.9984 - val_loss: 0.0152 - val_acc: 0.9970\n",
      "Epoch 53/100\n",
      " - 394s - loss: 0.0088 - acc: 0.9982 - val_loss: 0.0150 - val_acc: 0.9970\n",
      "Epoch 54/100\n",
      " - 393s - loss: 0.0089 - acc: 0.9982 - val_loss: 0.0093 - val_acc: 0.9977\n",
      "Epoch 55/100\n",
      " - 392s - loss: 0.0088 - acc: 0.9982 - val_loss: 0.0124 - val_acc: 0.9969\n",
      "Epoch 56/100\n",
      " - 394s - loss: 0.0084 - acc: 0.9982 - val_loss: 0.0132 - val_acc: 0.9976\n",
      "Epoch 57/100\n",
      " - 395s - loss: 0.0082 - acc: 0.9984 - val_loss: 0.0135 - val_acc: 0.9969\n"
     ]
    },
    {
     "name": "stdout",
     "output_type": "stream",
     "text": [
      "Epoch 58/100\n",
      " - 394s - loss: 0.0083 - acc: 0.9983 - val_loss: 0.0099 - val_acc: 0.9978\n",
      "Epoch 59/100\n",
      " - 393s - loss: 0.0080 - acc: 0.9984 - val_loss: 0.0210 - val_acc: 0.9971\n",
      "Epoch 60/100\n",
      " - 394s - loss: 0.0079 - acc: 0.9984 - val_loss: 0.0109 - val_acc: 0.9957\n",
      "Epoch 61/100\n",
      " - 392s - loss: 0.0071 - acc: 0.9986 - val_loss: 0.0134 - val_acc: 0.9947\n",
      "Epoch 62/100\n",
      " - 393s - loss: 0.0086 - acc: 0.9983 - val_loss: 0.0123 - val_acc: 0.9952\n",
      "Epoch 63/100\n",
      " - 392s - loss: 0.0078 - acc: 0.9984 - val_loss: 0.0111 - val_acc: 0.9975\n",
      "Epoch 64/100\n",
      " - 397s - loss: 0.0079 - acc: 0.9984 - val_loss: 0.0171 - val_acc: 0.9971\n",
      "Epoch 65/100\n",
      " - 393s - loss: 0.0081 - acc: 0.9984 - val_loss: 0.0139 - val_acc: 0.9958\n",
      "Epoch 66/100\n",
      " - 393s - loss: 0.0077 - acc: 0.9985 - val_loss: 0.0133 - val_acc: 0.9973\n",
      "Epoch 67/100\n",
      " - 395s - loss: 0.0068 - acc: 0.9987 - val_loss: 0.0130 - val_acc: 0.9975\n",
      "Epoch 68/100\n",
      " - 393s - loss: 0.0067 - acc: 0.9987 - val_loss: 0.0105 - val_acc: 0.9975\n",
      "Epoch 69/100\n",
      " - 395s - loss: 0.0075 - acc: 0.9985 - val_loss: 0.0091 - val_acc: 0.9981\n",
      "Epoch 70/100\n",
      " - 394s - loss: 0.0068 - acc: 0.9986 - val_loss: 0.0089 - val_acc: 0.9980\n",
      "Epoch 71/100\n",
      " - 395s - loss: 0.0067 - acc: 0.9987 - val_loss: 0.0102 - val_acc: 0.9980\n",
      "Epoch 72/100\n",
      " - 394s - loss: 0.0064 - acc: 0.9987 - val_loss: 0.0197 - val_acc: 0.9956\n",
      "Epoch 73/100\n",
      " - 394s - loss: 0.0066 - acc: 0.9987 - val_loss: 0.0085 - val_acc: 0.9981\n",
      "Epoch 74/100\n",
      " - 393s - loss: 0.0065 - acc: 0.9987 - val_loss: 0.0099 - val_acc: 0.9981\n",
      "Epoch 75/100\n",
      " - 395s - loss: 0.0065 - acc: 0.9987 - val_loss: 0.0106 - val_acc: 0.9976\n",
      "Epoch 76/100\n",
      " - 394s - loss: 0.0062 - acc: 0.9987 - val_loss: 0.0503 - val_acc: 0.9953\n",
      "Epoch 77/100\n",
      " - 394s - loss: 0.0071 - acc: 0.9986 - val_loss: 0.0098 - val_acc: 0.9977\n",
      "Epoch 78/100\n",
      " - 394s - loss: 0.0066 - acc: 0.9987 - val_loss: 0.0411 - val_acc: 0.9952\n",
      "Epoch 79/100\n",
      " - 394s - loss: 0.0061 - acc: 0.9988 - val_loss: 0.0093 - val_acc: 0.9981\n",
      "Epoch 80/100\n",
      " - 394s - loss: 0.0061 - acc: 0.9988 - val_loss: 0.0086 - val_acc: 0.9982\n",
      "Epoch 81/100\n",
      " - 395s - loss: 0.0066 - acc: 0.9987 - val_loss: 0.0119 - val_acc: 0.9974\n",
      "Epoch 82/100\n",
      " - 397s - loss: 0.0069 - acc: 0.9986 - val_loss: 0.0097 - val_acc: 0.9981\n",
      "Epoch 83/100\n",
      " - 395s - loss: 0.0066 - acc: 0.9987 - val_loss: 0.0098 - val_acc: 0.9981\n",
      "Epoch 84/100\n",
      " - 393s - loss: 0.0060 - acc: 0.9988 - val_loss: 0.0081 - val_acc: 0.9983\n",
      "Epoch 85/100\n",
      " - 394s - loss: 0.0066 - acc: 0.9987 - val_loss: 0.0102 - val_acc: 0.9976\n",
      "Epoch 86/100\n",
      " - 395s - loss: 0.0069 - acc: 0.9987 - val_loss: 0.0197 - val_acc: 0.9954\n",
      "Epoch 87/100\n",
      " - 400s - loss: 0.0061 - acc: 0.9988 - val_loss: 0.0092 - val_acc: 0.9982\n",
      "Epoch 88/100\n",
      " - 393s - loss: 0.0070 - acc: 0.9986 - val_loss: 0.0131 - val_acc: 0.9956\n",
      "Epoch 89/100\n",
      " - 394s - loss: 0.0077 - acc: 0.9985 - val_loss: 0.0126 - val_acc: 0.9978\n",
      "Epoch 90/100\n",
      " - 396s - loss: 0.0080 - acc: 0.9984 - val_loss: 0.0091 - val_acc: 0.9978\n",
      "Epoch 91/100\n",
      " - 393s - loss: 0.0074 - acc: 0.9985 - val_loss: 0.0086 - val_acc: 0.9982\n",
      "Epoch 92/100\n",
      " - 395s - loss: 0.0077 - acc: 0.9985 - val_loss: 0.0138 - val_acc: 0.9975\n",
      "Epoch 93/100\n",
      " - 394s - loss: 0.0077 - acc: 0.9985 - val_loss: 0.0084 - val_acc: 0.9983\n",
      "Epoch 94/100\n",
      " - 395s - loss: 0.0078 - acc: 0.9985 - val_loss: 0.0118 - val_acc: 0.9977\n",
      "Epoch 95/100\n",
      " - 397s - loss: 0.0081 - acc: 0.9984 - val_loss: 0.0160 - val_acc: 0.9972\n",
      "Epoch 96/100\n",
      " - 399s - loss: 0.0079 - acc: 0.9984 - val_loss: 0.0159 - val_acc: 0.9956\n",
      "Epoch 97/100\n",
      " - 408s - loss: 0.0078 - acc: 0.9984 - val_loss: 0.0116 - val_acc: 0.9961\n",
      "Epoch 98/100\n",
      " - 399s - loss: 0.0078 - acc: 0.9984 - val_loss: 0.0160 - val_acc: 0.9972\n",
      "Epoch 99/100\n",
      " - 404s - loss: 0.0079 - acc: 0.9984 - val_loss: 0.0122 - val_acc: 0.9959\n",
      "Epoch 100/100\n",
      " - 402s - loss: 0.0077 - acc: 0.9985 - val_loss: 0.0133 - val_acc: 0.9973\n",
      "Wall time: 10h 58min 38s\n"
     ]
    },
    {
     "data": {
      "text/plain": [
       "<keras.callbacks.History at 0x10539d1f9b0>"
      ]
     },
     "execution_count": 29,
     "metadata": {},
     "output_type": "execute_result"
    }
   ],
   "source": [
    "%%time\n",
    "print(model_id)\n",
    "model = createModel(**parameters)\n",
    "# model = keras.models.load_model(NOTEBOOK_PATH + \"Models/cnn4-adasyn-run1/cnn(4).h5\")\n",
    "model.summary()\n",
    "model_checkpoint = ModelCheckpoint(NOTEBOOK_PATH + \"Models/%s/cnn({epoch}).h5\" % (model_id), monitor='val_loss')\n",
    "model.fit(x_train_resimg, y_train_res, validation_data=(x_val, y_val), batch_size=parameters['batch_size'], epochs=trainEpochs, verbose=2, callbacks=[csv_callback, model_checkpoint])"
   ]
  },
  {
   "cell_type": "markdown",
   "metadata": {},
   "source": [
    "# Graph the losses"
   ]
  },
  {
   "cell_type": "code",
   "execution_count": 31,
   "metadata": {},
   "outputs": [
    {
     "name": "stdout",
     "output_type": "stream",
     "text": [
      "C:/Users/Xetrov/Desktop/SciFair20/Code/Loss Logs\\cnn8-10deep (11-10-2019, 1100PM)\n"
     ]
    }
   ],
   "source": [
    "def most_recent_file(pattern):\n",
    "    return max(glob.iglob(pattern, recursive=True), key=os.path.getctime)\n",
    "\n",
    "logpath = most_recent_file(NOTEBOOK_PATH + \"Loss Logs/%s**\" % model_id)\n",
    "log_df = pd.read_csv(logpath)\n",
    "log_df['epoch'] += 1\n",
    "\n",
    "print(logpath)"
   ]
  },
  {
   "cell_type": "code",
   "execution_count": 32,
   "metadata": {},
   "outputs": [
    {
     "name": "stdout",
     "output_type": "stream",
     "text": [
      "epoch       84.000000\n",
      "acc          0.998808\n",
      "loss         0.006039\n",
      "val_acc      0.998303\n",
      "val_loss     0.008070\n",
      "Name: 84, dtype: float64\n"
     ]
    },
    {
     "data": {
      "image/png": "[encoded data removed]",
      "text/plain": [
       "<Figure size 864x432 with 1 Axes>"
      ]
     },
     "metadata": {
      "needs_background": "light"
     },
     "output_type": "display_data"
    }
   ],
   "source": [
    "plot_df = log_df[:]\n",
    "\n",
    "metric = 'loss'\n",
    "\n",
    "plt.figure(figsize=(12,6))\n",
    "sns.lineplot(x='epoch', y=metric, data=plot_df, label=metric)\n",
    "sns.lineplot(x='epoch', y='val_'+metric, data=plot_df, label='val_'+metric)\n",
    "plt.legend()\n",
    "\n",
    "minEpoch = plot_df.loc[plot_df.idxmin()[metric]]\n",
    "plt.plot((minEpoch['epoch']), (minEpoch[metric]), 'go', markersize=8)\n",
    "minEpoch = plot_df.loc[plot_df.idxmin()['val_'+metric]]\n",
    "plt.plot((minEpoch['epoch']), (minEpoch['val_'+metric]), 'ro', markersize=8)\n",
    "print(minEpoch)\n",
    "\n",
    "plt.xticks(list(range(0, plot_df['epoch'].max()+1, 5)))\n",
    "# plt.yticks(list(np.arange(0.0,0.4,0.05)))\n",
    "\n",
    "plt.grid(True)"
   ]
  },
  {
   "cell_type": "markdown",
   "metadata": {},
   "source": [
    "# Validation data"
   ]
  },
  {
   "cell_type": "code",
   "execution_count": 33,
   "metadata": {},
   "outputs": [
    {
     "name": "stdout",
     "output_type": "stream",
     "text": [
      "Loading...\n",
      "Done!\n"
     ]
    }
   ],
   "source": [
    "print(\"Loading...\")\n",
    "model = keras.models.load_model(NOTEBOOK_PATH + \"Models/%s/cnn(84).h5\" % model_id)\n",
    "print(\"Done!\")"
   ]
  },
  {
   "cell_type": "code",
   "execution_count": 37,
   "metadata": {},
   "outputs": [
    {
     "name": "stdout",
     "output_type": "stream",
     "text": [
      "Predicting...\n",
      "Plotting...\n",
      "Done!\n"
     ]
    },
    {
     "data": {
      "text/html": [
       "<div>\n",
       "<style scoped>\n",
       "    .dataframe tbody tr th:only-of-type {\n",
       "        vertical-align: middle;\n",
       "    }\n",
       "\n",
       "    .dataframe tbody tr th {\n",
       "        vertical-align: top;\n",
       "    }\n",
       "\n",
       "    .dataframe thead th {\n",
       "        text-align: right;\n",
       "    }\n",
       "</style>\n",
       "<table border=\"1\" class=\"dataframe\">\n",
       "  <thead>\n",
       "    <tr style=\"text-align: right;\">\n",
       "      <th>Actual</th>\n",
       "      <th>Attack</th>\n",
       "      <th>Benign</th>\n",
       "      <th>All</th>\n",
       "    </tr>\n",
       "    <tr>\n",
       "      <th>Pred</th>\n",
       "      <th></th>\n",
       "      <th></th>\n",
       "      <th></th>\n",
       "    </tr>\n",
       "  </thead>\n",
       "  <tbody>\n",
       "    <tr>\n",
       "      <th>Attack</th>\n",
       "      <td>111916</td>\n",
       "      <td>935</td>\n",
       "      <td>112851</td>\n",
       "    </tr>\n",
       "    <tr>\n",
       "      <th>Benign</th>\n",
       "      <td>26</td>\n",
       "      <td>453272</td>\n",
       "      <td>453298</td>\n",
       "    </tr>\n",
       "    <tr>\n",
       "      <th>All</th>\n",
       "      <td>111942</td>\n",
       "      <td>454207</td>\n",
       "      <td>566149</td>\n",
       "    </tr>\n",
       "  </tbody>\n",
       "</table>\n",
       "</div>"
      ],
      "text/plain": [
       "Actual  Attack  Benign     All\n",
       "Pred                          \n",
       "Attack  111916     935  112851\n",
       "Benign      26  453272  453298\n",
       "All     111942  454207  566149"
      ]
     },
     "execution_count": 37,
     "metadata": {},
     "output_type": "execute_result"
    }
   ],
   "source": [
    "print(\"Predicting...\")\n",
    "pred = model.predict(x_val)\n",
    "\n",
    "print(\"Plotting...\")\n",
    "pred_series = pd.Series(pred.round().astype('int').ravel(), name=\"Pred\").replace({0: 'Benign', 1: 'Attack'})\n",
    "y_series = pd.Series(y_val.to_numpy().ravel(), name=\"Actual\").replace({0: 'Benign', 1: 'Attack'})\n",
    "\n",
    "matrix = pd.crosstab(pred_series, y_series, margins=True)\n",
    "print(\"Done!\")\n",
    "matrix"
   ]
  },
  {
   "cell_type": "markdown",
   "metadata": {},
   "source": [
    "# Test data"
   ]
  },
  {
   "cell_type": "code",
   "execution_count": 38,
   "metadata": {},
   "outputs": [],
   "source": [
    "from sklearn.metrics import f1_score, precision_score, recall_score"
   ]
  },
  {
   "cell_type": "code",
   "execution_count": 39,
   "metadata": {},
   "outputs": [],
   "source": [
    "# model = keras.models.load_model(NOTEBOOK_PATH + \"Models/%s/cnn(50).h5\" % model_id)\n",
    "pred = model.predict(x_test, batch_size=1000)"
   ]
  },
  {
   "cell_type": "code",
   "execution_count": 40,
   "metadata": {},
   "outputs": [
    {
     "name": "stdout",
     "output_type": "stream",
     "text": [
      "Precision: 0.9916983619407306\n",
      "Recall: 0.9997844808232833\n",
      "F1: 0.9957250051425148\n"
     ]
    }
   ],
   "source": [
    "pred = pred.round().astype('int').ravel()\n",
    "y_test_npy = y_test.to_numpy().ravel()\n",
    "\n",
    "precision = precision_score(y_test_npy, pred)\n",
    "print(\"Precision:\", precision)\n",
    "\n",
    "recall = recall_score(y_test_npy, pred)\n",
    "print(\"Recall:\", recall)\n",
    "\n",
    "f1 = f1_score(y_test_npy, pred)\n",
    "print(\"F1:\", f1)"
   ]
  },
  {
   "cell_type": "code",
   "execution_count": 41,
   "metadata": {},
   "outputs": [
    {
     "data": {
      "text/html": [
       "<div>\n",
       "<style scoped>\n",
       "    .dataframe tbody tr th:only-of-type {\n",
       "        vertical-align: middle;\n",
       "    }\n",
       "\n",
       "    .dataframe tbody tr th {\n",
       "        vertical-align: top;\n",
       "    }\n",
       "\n",
       "    .dataframe thead th {\n",
       "        text-align: right;\n",
       "    }\n",
       "</style>\n",
       "<table border=\"1\" class=\"dataframe\">\n",
       "  <thead>\n",
       "    <tr style=\"text-align: right;\">\n",
       "      <th>Actual</th>\n",
       "      <th>Attack</th>\n",
       "      <th>Benign</th>\n",
       "      <th>All</th>\n",
       "    </tr>\n",
       "    <tr>\n",
       "      <th>Pred</th>\n",
       "      <th></th>\n",
       "      <th></th>\n",
       "      <th></th>\n",
       "    </tr>\n",
       "  </thead>\n",
       "  <tbody>\n",
       "    <tr>\n",
       "      <th>Attack</th>\n",
       "      <td>111335</td>\n",
       "      <td>932</td>\n",
       "      <td>112267</td>\n",
       "    </tr>\n",
       "    <tr>\n",
       "      <th>Benign</th>\n",
       "      <td>24</td>\n",
       "      <td>453858</td>\n",
       "      <td>453882</td>\n",
       "    </tr>\n",
       "    <tr>\n",
       "      <th>All</th>\n",
       "      <td>111359</td>\n",
       "      <td>454790</td>\n",
       "      <td>566149</td>\n",
       "    </tr>\n",
       "  </tbody>\n",
       "</table>\n",
       "</div>"
      ],
      "text/plain": [
       "Actual  Attack  Benign     All\n",
       "Pred                          \n",
       "Attack  111335     932  112267\n",
       "Benign      24  453858  453882\n",
       "All     111359  454790  566149"
      ]
     },
     "execution_count": 41,
     "metadata": {},
     "output_type": "execute_result"
    }
   ],
   "source": [
    "pred_series = pd.Series(pred, name=\"Pred\").replace({0: 'Benign', 1: 'Attack'})\n",
    "y_series = pd.Series(y_test.to_numpy().ravel(), name=\"Actual\").replace({0: 'Benign', 1: 'Attack'})\n",
    "\n",
    "matrix = pd.crosstab(pred_series, y_series, margins=True)\n",
    "matrix"
   ]
  },
  {
   "cell_type": "markdown",
   "metadata": {},
   "source": [
    "# Log results"
   ]
  },
  {
   "cell_type": "code",
   "execution_count": 31,
   "metadata": {},
   "outputs": [],
   "source": [
    "model_log = open(NOTEBOOK_PATH + \"model_log.txt\", \"a\")\n",
    "\n",
    "model_log.write(\"\\n\" + model_id)\n",
    "model_log.write(\"\\n\\tF1 Micro: \" + str(f1_micro))\n",
    "model_log.write(\"\\n\\tF1 Macro: \" + str(f1_macro))\n",
    "\n",
    "model_log.close()"
   ]
  }
 ],
 "metadata": {
  "kernelspec": {
   "display_name": "Python 3",
   "language": "python",
   "name": "python3"
  },
  "language_info": {
   "codemirror_mode": {
    "name": "ipython",
    "version": 3
   },
   "file_extension": ".py",
   "mimetype": "text/x-python",
   "name": "python",
   "nbconvert_exporter": "python",
   "pygments_lexer": "ipython3",
   "version": "3.6.7"
  },
  "varInspector": {
   "cols": {
    "lenName": 16,
    "lenType": 16,
    "lenVar": 40
   },
   "kernels_config": {
    "python": {
     "delete_cmd_postfix": "",
     "delete_cmd_prefix": "del ",
     "library": "var_list.py",
     "varRefreshCmd": "print(var_dic_list())"
    },
    "r": {
     "delete_cmd_postfix": ") ",
     "delete_cmd_prefix": "rm(",
     "library": "var_list.r",
     "varRefreshCmd": "cat(var_dic_list()) "
    }
   },
   "types_to_exclude": [
    "module",
    "function",
    "builtin_function_or_method",
    "instance",
    "_Feature"
   ],
   "window_display": false
  }
 },
 "nbformat": 4,
 "nbformat_minor": 4
}

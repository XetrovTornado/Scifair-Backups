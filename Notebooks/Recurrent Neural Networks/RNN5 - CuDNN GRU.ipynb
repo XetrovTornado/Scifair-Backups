{
 "cells": [
  {
   "cell_type": "markdown",
   "metadata": {},
   "source": [
    "# CSE-CIC-IDS 2017"
   ]
  },
  {
   "cell_type": "code",
   "execution_count": 1,
   "metadata": {},
   "outputs": [],
   "source": [
    "model_id = \"rnn5-cudnngru\""
   ]
  },
  {
   "cell_type": "code",
   "execution_count": 2,
   "metadata": {},
   "outputs": [
    {
     "name": "stderr",
     "output_type": "stream",
     "text": [
      "Using TensorFlow backend.\n",
      "C:\\Users\\Xetrov\\AppData\\Local\\Continuum\\anaconda3\\lib\\site-packages\\tensorflow\\python\\framework\\dtypes.py:517: FutureWarning: Passing (type, 1) or '1type' as a synonym of type is deprecated; in a future version of numpy, it will be understood as (type, (1,)) / '(1,)type'.\n",
      "  _np_qint8 = np.dtype([(\"qint8\", np.int8, 1)])\n",
      "C:\\Users\\Xetrov\\AppData\\Local\\Continuum\\anaconda3\\lib\\site-packages\\tensorflow\\python\\framework\\dtypes.py:518: FutureWarning: Passing (type, 1) or '1type' as a synonym of type is deprecated; in a future version of numpy, it will be understood as (type, (1,)) / '(1,)type'.\n",
      "  _np_quint8 = np.dtype([(\"quint8\", np.uint8, 1)])\n",
      "C:\\Users\\Xetrov\\AppData\\Local\\Continuum\\anaconda3\\lib\\site-packages\\tensorflow\\python\\framework\\dtypes.py:519: FutureWarning: Passing (type, 1) or '1type' as a synonym of type is deprecated; in a future version of numpy, it will be understood as (type, (1,)) / '(1,)type'.\n",
      "  _np_qint16 = np.dtype([(\"qint16\", np.int16, 1)])\n",
      "C:\\Users\\Xetrov\\AppData\\Local\\Continuum\\anaconda3\\lib\\site-packages\\tensorflow\\python\\framework\\dtypes.py:520: FutureWarning: Passing (type, 1) or '1type' as a synonym of type is deprecated; in a future version of numpy, it will be understood as (type, (1,)) / '(1,)type'.\n",
      "  _np_quint16 = np.dtype([(\"quint16\", np.uint16, 1)])\n",
      "C:\\Users\\Xetrov\\AppData\\Local\\Continuum\\anaconda3\\lib\\site-packages\\tensorflow\\python\\framework\\dtypes.py:521: FutureWarning: Passing (type, 1) or '1type' as a synonym of type is deprecated; in a future version of numpy, it will be understood as (type, (1,)) / '(1,)type'.\n",
      "  _np_qint32 = np.dtype([(\"qint32\", np.int32, 1)])\n",
      "C:\\Users\\Xetrov\\AppData\\Local\\Continuum\\anaconda3\\lib\\site-packages\\tensorflow\\python\\framework\\dtypes.py:526: FutureWarning: Passing (type, 1) or '1type' as a synonym of type is deprecated; in a future version of numpy, it will be understood as (type, (1,)) / '(1,)type'.\n",
      "  np_resource = np.dtype([(\"resource\", np.ubyte, 1)])\n"
     ]
    }
   ],
   "source": [
    "import numpy as np\n",
    "np.random.seed(42)\n",
    "np.set_printoptions(suppress=True)\n",
    "import pandas as pd\n",
    "import matplotlib.pyplot as plt\n",
    "import seaborn as sns\n",
    "from tqdm import tqdm\n",
    "tqdm.pandas()\n",
    "\n",
    "import glob, time, os\n",
    "\n",
    "import keras"
   ]
  },
  {
   "cell_type": "code",
   "execution_count": 3,
   "metadata": {},
   "outputs": [],
   "source": [
    "NOTEBOOK_PATH = \"C:/Users/Xetrov/Desktop/SciFair20/Code/\""
   ]
  },
  {
   "cell_type": "code",
   "execution_count": 4,
   "metadata": {},
   "outputs": [],
   "source": [
    "x_scaled = pd.read_csv(NOTEBOOK_PATH + \"IDS2017/x_scaled_powertransform.csv\")\n",
    "y_df_enc = pd.read_csv(NOTEBOOK_PATH + \"IDS2017/y_grouped_1henc.csv\")"
   ]
  },
  {
   "cell_type": "code",
   "execution_count": 5,
   "metadata": {},
   "outputs": [],
   "source": [
    "x_scaled_npy = np.expand_dims(x_scaled.to_numpy(), axis=-1)"
   ]
  },
  {
   "cell_type": "code",
   "execution_count": 6,
   "metadata": {},
   "outputs": [
    {
     "data": {
      "text/plain": [
       "(2830743, 68, 1)"
      ]
     },
     "execution_count": 6,
     "metadata": {},
     "output_type": "execute_result"
    }
   ],
   "source": [
    "x_scaled_npy.shape"
   ]
  },
  {
   "cell_type": "markdown",
   "metadata": {},
   "source": [
    "# Split data into train and test"
   ]
  },
  {
   "cell_type": "code",
   "execution_count": 7,
   "metadata": {},
   "outputs": [],
   "source": [
    "from sklearn.model_selection import train_test_split"
   ]
  },
  {
   "cell_type": "code",
   "execution_count": 8,
   "metadata": {},
   "outputs": [],
   "source": [
    "x_train, x_valtest, y_train, y_valtest = train_test_split(x_scaled_npy, y_df_enc, test_size = 0.4, random_state = 42)"
   ]
  },
  {
   "cell_type": "code",
   "execution_count": 9,
   "metadata": {},
   "outputs": [],
   "source": [
    "x_val, x_test, y_val, y_test = train_test_split(x_valtest, y_valtest, test_size = 0.5, random_state = 42)"
   ]
  },
  {
   "cell_type": "code",
   "execution_count": 10,
   "metadata": {},
   "outputs": [],
   "source": [
    "del x_valtest \n",
    "del y_valtest"
   ]
  },
  {
   "cell_type": "code",
   "execution_count": 11,
   "metadata": {},
   "outputs": [
    {
     "data": {
      "text/plain": [
       "BENIGN          1364100\n",
       "Botnet             1185\n",
       "Brute Force        8273\n",
       "DoS/DDoS         228292\n",
       "Infiltration         24\n",
       "PortScan          95267\n",
       "Web Attack         1304\n",
       "dtype: int64"
      ]
     },
     "execution_count": 11,
     "metadata": {},
     "output_type": "execute_result"
    }
   ],
   "source": [
    "y_train.sum(axis=0)"
   ]
  },
  {
   "cell_type": "code",
   "execution_count": 12,
   "metadata": {},
   "outputs": [
    {
     "data": {
      "text/plain": [
       "BENIGN          454207\n",
       "Botnet             397\n",
       "Brute Force       2810\n",
       "DoS/DDoS         76510\n",
       "Infiltration         7\n",
       "PortScan         31787\n",
       "Web Attack         431\n",
       "dtype: int64"
      ]
     },
     "execution_count": 12,
     "metadata": {},
     "output_type": "execute_result"
    }
   ],
   "source": [
    "y_val.sum(axis=0)"
   ]
  },
  {
   "cell_type": "code",
   "execution_count": 13,
   "metadata": {},
   "outputs": [
    {
     "data": {
      "text/plain": [
       "BENIGN          454790\n",
       "Botnet             384\n",
       "Brute Force       2752\n",
       "DoS/DDoS         75897\n",
       "Infiltration         5\n",
       "PortScan         31876\n",
       "Web Attack         445\n",
       "dtype: int64"
      ]
     },
     "execution_count": 13,
     "metadata": {},
     "output_type": "execute_result"
    }
   ],
   "source": [
    "y_test.sum(axis=0)"
   ]
  },
  {
   "cell_type": "markdown",
   "metadata": {},
   "source": [
    "# Load ADASYN data"
   ]
  },
  {
   "cell_type": "code",
   "execution_count": 14,
   "metadata": {},
   "outputs": [],
   "source": [
    "x_train_res = pd.read_csv(NOTEBOOK_PATH + \"IDS2017/x_adasyn.csv\").to_numpy()"
   ]
  },
  {
   "cell_type": "code",
   "execution_count": 15,
   "metadata": {},
   "outputs": [],
   "source": [
    "y_train_res = pd.read_csv(NOTEBOOK_PATH + \"IDS2017/y_adasyn.csv\")\n",
    "\n",
    "y_train_res2 = pd.get_dummies(y_train_res[y_train_res.columns[0]])"
   ]
  },
  {
   "cell_type": "code",
   "execution_count": 16,
   "metadata": {},
   "outputs": [],
   "source": [
    "x_train_resnpy = np.expand_dims(x_train_res, axis=-1)"
   ]
  },
  {
   "cell_type": "markdown",
   "metadata": {},
   "source": [
    "# Train model"
   ]
  },
  {
   "cell_type": "code",
   "execution_count": 18,
   "metadata": {},
   "outputs": [],
   "source": [
    "from keras.models import Model, Sequential\n",
    "from keras.layers import Dense, LSTM, BatchNormalization, Dropout, InputLayer, GRU, CuDNNGRU\n",
    "from keras.optimizers import SGD, Adam"
   ]
  },
  {
   "cell_type": "code",
   "execution_count": 19,
   "metadata": {},
   "outputs": [
    {
     "data": {
      "text/plain": [
       "(68, 1)"
      ]
     },
     "execution_count": 19,
     "metadata": {},
     "output_type": "execute_result"
    }
   ],
   "source": [
    "x_train.shape[1:]"
   ]
  },
  {
   "cell_type": "code",
   "execution_count": 20,
   "metadata": {},
   "outputs": [],
   "source": [
    "def addDenseBlock(model, units, **params):\n",
    "    model.add(Dense(units=units, activation=params['hidden_activation'], input_dim=x_train.shape[1]))\n",
    "    if params['batch_normalization']: model.add(BatchNormalization())\n",
    "    if params['dropout_rate'] > 0: model.add(Dropout(params['dropout_rate']))\n",
    "\n",
    "def addLSTMBlock(model, units, return_sequences=False, **params):\n",
    "    model.add(LSTM(units=units, return_sequences=return_sequences, input_shape=x_train.shape[1:]))\n",
    "    if params['batch_normalization']: model.add(BatchNormalization())\n",
    "    if params['dropout_rate'] > 0: model.add(Dropout(params['dropout_rate']))\n",
    "\n",
    "def addGRUBlock(model, units, return_sequences=False, **params):\n",
    "    model.add(GRU(units=units, return_sequences=return_sequences, input_shape=x_train.shape[1:]))\n",
    "    if params['batch_normalization']: model.add(BatchNormalization())\n",
    "    if params['dropout_rate'] > 0: model.add(Dropout(params['dropout_rate']))\n",
    "        \n",
    "def addCuDNNGRUBlock(model, units, return_sequences=False, **params):\n",
    "    model.add(CuDNNGRU(units=units, return_sequences=return_sequences, input_shape=x_train.shape[1:]))\n",
    "    if params['batch_normalization']: model.add(BatchNormalization())\n",
    "    if params['dropout_rate'] > 0: model.add(Dropout(params['dropout_rate']))\n",
    "        \n",
    "def createModel(**in_params):\n",
    "    \"\"\"\n",
    "    Supported parameters:\n",
    "    batch_normalization - True or False\n",
    "    dropout_rate - 0 to 1\n",
    "    num_units - integer\n",
    "    learning_rate - float\n",
    "    activation_function - string\n",
    "    \"\"\"\n",
    "    \n",
    "    model = Sequential()\n",
    "\n",
    "    # Set default values\n",
    "    params = {\n",
    "        'batch_normalization': False,\n",
    "        'dropout_rate': 0,\n",
    "        'num_layers': 6,\n",
    "        'num_units': 128,\n",
    "        'learning_rate': 0.001,\n",
    "        'hidden_activation': 'relu',\n",
    "        'final_activation': 'softmax'\n",
    "    }\n",
    "    \n",
    "    # Replace defaults with specified parameters\n",
    "    for param in in_params:\n",
    "        params[param] = in_params[param]    \n",
    "    \n",
    "    # InputLayer causes serialization issues\n",
    "#     model.add( InputLayer(input_shape = (x_train.shape[1],) ) )\n",
    "    \n",
    "#     for i in range(params['num_layers']):\n",
    "#         addDenseBlock(model, params['num_units'], **params)\n",
    "\n",
    "    addCuDNNGRUBlock(model, 64, **params)\n",
    "\n",
    "    model.add(Dense(units=y_train.shape[1], activation=params['final_activation']))\n",
    "\n",
    "    # optim = SGD(lr=0.001, nesterov=True)\n",
    "    optim = Adam(lr=params['learning_rate'])\n",
    "\n",
    "    model.compile(loss='categorical_crossentropy', optimizer=optim, metrics=['accuracy'])\n",
    "    \n",
    "#     print(params)\n",
    "    \n",
    "    return model"
   ]
  },
  {
   "cell_type": "markdown",
   "metadata": {},
   "source": [
    "Ensure a GPU is available"
   ]
  },
  {
   "cell_type": "code",
   "execution_count": 21,
   "metadata": {},
   "outputs": [
    {
     "data": {
      "text/plain": [
       "['/job:localhost/replica:0/task:0/device:GPU:0']"
      ]
     },
     "execution_count": 21,
     "metadata": {},
     "output_type": "execute_result"
    }
   ],
   "source": [
    "import keras.backend as K\n",
    "\n",
    "K.tensorflow_backend._get_available_gpus()"
   ]
  },
  {
   "cell_type": "markdown",
   "metadata": {},
   "source": [
    "### Callbacks"
   ]
  },
  {
   "cell_type": "code",
   "execution_count": 22,
   "metadata": {},
   "outputs": [],
   "source": [
    "from keras.callbacks import CSVLogger, EarlyStopping, ModelCheckpoint\n",
    "\n",
    "def timestamp():\n",
    "    return time.strftime(\"%m-%d-%Y, %I%M%p\")\n",
    "\n",
    "csv_callback = CSVLogger(NOTEBOOK_PATH + 'Loss Logs/%s (%s)' % (model_id, timestamp()), append=True)\n",
    "early_stop = EarlyStopping(monitor = 'val_loss', min_delta=0.0001, patience=5)"
   ]
  },
  {
   "cell_type": "markdown",
   "metadata": {},
   "source": [
    "### Model Saving"
   ]
  },
  {
   "cell_type": "code",
   "execution_count": 23,
   "metadata": {},
   "outputs": [
    {
     "name": "stdout",
     "output_type": "stream",
     "text": [
      "Created C:/Users/Xetrov/Desktop/SciFair20/Code/Models/rnn5-cudnngru/\n"
     ]
    }
   ],
   "source": [
    "savedir = NOTEBOOK_PATH + \"Models/%s/\" % model_id\n",
    "if not os.path.exists(savedir):\n",
    "    os.makedirs(savedir)\n",
    "    print(\"Created \" + savedir)\n",
    "else:\n",
    "    print(\"Using \" + savedir)"
   ]
  },
  {
   "cell_type": "markdown",
   "metadata": {},
   "source": [
    "### Training"
   ]
  },
  {
   "cell_type": "code",
   "execution_count": 27,
   "metadata": {},
   "outputs": [],
   "source": [
    "import itertools\n",
    "\n",
    "trainEpochs = 20\n",
    "\n",
    "parameters = {'batch_size': 250, 'batch_normalization':True,'dropout_rate':0}"
   ]
  },
  {
   "cell_type": "code",
   "execution_count": 28,
   "metadata": {},
   "outputs": [
    {
     "name": "stdout",
     "output_type": "stream",
     "text": [
      "rnn5-cudnngru\n",
      "WARNING:tensorflow:From C:\\Users\\Xetrov\\AppData\\Local\\Continuum\\anaconda3\\lib\\site-packages\\tensorflow\\contrib\\learn\\python\\learn\\datasets\\base.py:198: retry (from tensorflow.contrib.learn.python.learn.datasets.base) is deprecated and will be removed in a future version.\n",
      "Instructions for updating:\n",
      "Use the retry module or similar alternatives.\n",
      "_________________________________________________________________\n",
      "Layer (type)                 Output Shape              Param #   \n",
      "=================================================================\n",
      "cu_dnngru_1 (CuDNNGRU)       (None, 64)                12864     \n",
      "_________________________________________________________________\n",
      "batch_normalization_1 (Batch (None, 64)                256       \n",
      "_________________________________________________________________\n",
      "dense_1 (Dense)              (None, 7)                 455       \n",
      "=================================================================\n",
      "Total params: 13,575\n",
      "Trainable params: 13,447\n",
      "Non-trainable params: 128\n",
      "_________________________________________________________________\n",
      "Train on 9549194 samples, validate on 566149 samples\n",
      "Epoch 1/20\n",
      " - 374s - loss: 0.0718 - acc: 0.9784 - val_loss: 0.0595 - val_acc: 0.9815\n",
      "Epoch 2/20\n",
      " - 370s - loss: 0.0273 - acc: 0.9917 - val_loss: 0.0401 - val_acc: 0.9896\n",
      "Epoch 3/20\n",
      " - 371s - loss: 0.0226 - acc: 0.9930 - val_loss: 0.0345 - val_acc: 0.9915\n",
      "Epoch 4/20\n",
      " - 370s - loss: 0.0206 - acc: 0.9937 - val_loss: 0.0296 - val_acc: 0.9927\n",
      "Epoch 5/20\n",
      " - 370s - loss: 0.0187 - acc: 0.9943 - val_loss: 0.0226 - val_acc: 0.9943\n",
      "Epoch 6/20\n",
      " - 371s - loss: 0.0180 - acc: 0.9945 - val_loss: 0.0332 - val_acc: 0.9923\n",
      "Epoch 7/20\n",
      " - 370s - loss: 0.0171 - acc: 0.9948 - val_loss: 0.0249 - val_acc: 0.9943\n",
      "Epoch 8/20\n",
      " - 370s - loss: 0.0164 - acc: 0.9950 - val_loss: 0.0237 - val_acc: 0.9944\n",
      "Epoch 9/20\n",
      " - 370s - loss: 0.0166 - acc: 0.9949 - val_loss: 0.0226 - val_acc: 0.9950\n",
      "Epoch 10/20\n",
      " - 371s - loss: 0.0169 - acc: 0.9948 - val_loss: 0.0216 - val_acc: 0.9954\n",
      "Epoch 11/20\n",
      " - 372s - loss: 0.0162 - acc: 0.9951 - val_loss: 0.0216 - val_acc: 0.9951\n",
      "Epoch 12/20\n",
      " - 371s - loss: 0.0154 - acc: 0.9953 - val_loss: 0.0216 - val_acc: 0.9946\n",
      "Epoch 13/20\n",
      " - 371s - loss: 0.0154 - acc: 0.9953 - val_loss: 0.0299 - val_acc: 0.9906\n",
      "Epoch 14/20\n",
      " - 370s - loss: 0.0156 - acc: 0.9954 - val_loss: 0.0205 - val_acc: 0.9956\n",
      "Epoch 15/20\n",
      " - 370s - loss: 0.0151 - acc: 0.9955 - val_loss: 0.0188 - val_acc: 0.9959\n",
      "Epoch 16/20\n",
      " - 371s - loss: 0.0147 - acc: 0.9956 - val_loss: 0.0194 - val_acc: 0.9955\n",
      "Epoch 17/20\n",
      " - 371s - loss: 0.0141 - acc: 0.9957 - val_loss: 0.0209 - val_acc: 0.9951\n",
      "Epoch 18/20\n",
      " - 370s - loss: 0.0148 - acc: 0.9955 - val_loss: 0.0494 - val_acc: 0.9864\n",
      "Epoch 19/20\n",
      " - 371s - loss: 0.0162 - acc: 0.9951 - val_loss: 0.0275 - val_acc: 0.9931\n",
      "Epoch 20/20\n",
      " - 371s - loss: 0.0154 - acc: 0.9952 - val_loss: 0.0215 - val_acc: 0.9949\n",
      "Wall time: 2h 3min 39s\n"
     ]
    },
    {
     "data": {
      "text/plain": [
       "<keras.callbacks.History at 0x1bb2b456cc0>"
      ]
     },
     "execution_count": 28,
     "metadata": {},
     "output_type": "execute_result"
    }
   ],
   "source": [
    "%%time\n",
    "print(model_id)\n",
    "# model = keras.models.load_model(NOTEBOOK_PATH + \"Models/%s/rnn(10).h5\" % model_id)\n",
    "model = createModel(**parameters)\n",
    "model.summary()\n",
    "model_checkpoint = ModelCheckpoint(NOTEBOOK_PATH + \"Models/%s/rnn({epoch}).h5\" % (model_id), monitor='val_loss')\n",
    "model.fit(x_train_resnpy, y_train_res2, validation_data=(x_val, y_val), batch_size=parameters['batch_size'], epochs=trainEpochs, verbose=2, callbacks=[csv_callback, model_checkpoint])"
   ]
  },
  {
   "cell_type": "markdown",
   "metadata": {},
   "source": [
    "# Graph the losses"
   ]
  },
  {
   "cell_type": "code",
   "execution_count": 29,
   "metadata": {},
   "outputs": [
    {
     "name": "stdout",
     "output_type": "stream",
     "text": [
      "C:/Users/Xetrov/Desktop/SciFair20/Code/Loss Logs\\rnn5-cudnngru (10-18-2019, 1056PM)\n"
     ]
    }
   ],
   "source": [
    "def most_recent_file(pattern):\n",
    "    return max(glob.iglob(pattern, recursive=True), key=os.path.getctime)\n",
    "\n",
    "logpath = most_recent_file(NOTEBOOK_PATH + \"Loss Logs/%s**\" % model_id)\n",
    "log_df = pd.read_csv(logpath)\n",
    "log_df['epoch'] += 1\n",
    "\n",
    "print(logpath)"
   ]
  },
  {
   "cell_type": "code",
   "execution_count": 30,
   "metadata": {},
   "outputs": [
    {
     "data": {
      "image/png": "[encoded data removed]",
      "text/plain": [
       "<Figure size 864x432 with 1 Axes>"
      ]
     },
     "metadata": {
      "needs_background": "light"
     },
     "output_type": "display_data"
    }
   ],
   "source": [
    "plot_df = log_df[:]\n",
    "\n",
    "metric = 'loss'\n",
    "\n",
    "plt.figure(figsize=(12,6))\n",
    "sns.lineplot(x='epoch', y=metric, data=plot_df, label=metric)\n",
    "sns.lineplot(x='epoch', y='val_'+metric, data=plot_df, label='val_'+metric)\n",
    "plt.legend()\n",
    "\n",
    "minEpoch = plot_df.loc[plot_df.idxmin()[metric]]\n",
    "plt.plot((minEpoch['epoch']), (minEpoch[metric]), 'go', markersize=8)\n",
    "minEpoch = plot_df.loc[plot_df.idxmin()['val_'+metric]]\n",
    "plt.plot((minEpoch['epoch']), (minEpoch['val_'+metric]), 'ro', markersize=8)\n",
    "\n",
    "plt.xticks(list(range(0, plot_df['epoch'].max()+1, 5)))\n",
    "# plt.yticks(list(np.arange(0.0,0.4,0.05)))\n",
    "\n",
    "plt.grid(True)"
   ]
  },
  {
   "cell_type": "markdown",
   "metadata": {},
   "source": [
    "# Test Data"
   ]
  },
  {
   "cell_type": "code",
   "execution_count": 31,
   "metadata": {},
   "outputs": [],
   "source": [
    "from sklearn.metrics import f1_score"
   ]
  },
  {
   "cell_type": "code",
   "execution_count": 32,
   "metadata": {},
   "outputs": [],
   "source": [
    "model = keras.models.load_model(NOTEBOOK_PATH + \"Models/%s/rnn(15).h5\" % model_id)"
   ]
  },
  {
   "cell_type": "code",
   "execution_count": 33,
   "metadata": {},
   "outputs": [],
   "source": [
    "pred = model.predict(x_test, batch_size=256).argmax(axis=1)\n",
    "pred_f1 = np.zeros((len(x_test), y_test.shape[1]))\n",
    "for j in range(len(pred)):\n",
    "    pred_f1[j,pred[j]] = 1"
   ]
  },
  {
   "cell_type": "code",
   "execution_count": 34,
   "metadata": {},
   "outputs": [
    {
     "name": "stdout",
     "output_type": "stream",
     "text": [
      "Micro: 0.9958862419610385\n",
      "Macro: 0.7686098217063249\n"
     ]
    }
   ],
   "source": [
    "f1_micro = f1_score(y_test, pred_f1.astype('uint8'), average='micro')\n",
    "f1_macro = f1_score(y_test, pred_f1.astype('uint8'), average='macro')\n",
    "print(\"Micro:\", f1_micro)\n",
    "print(\"Macro:\", f1_macro)"
   ]
  },
  {
   "cell_type": "code",
   "execution_count": 35,
   "metadata": {},
   "outputs": [
    {
     "name": "stdout",
     "output_type": "stream",
     "text": [
      "Done!\n"
     ]
    },
    {
     "data": {
      "text/html": [
       "<div>\n",
       "<style scoped>\n",
       "    .dataframe tbody tr th:only-of-type {\n",
       "        vertical-align: middle;\n",
       "    }\n",
       "\n",
       "    .dataframe tbody tr th {\n",
       "        vertical-align: top;\n",
       "    }\n",
       "\n",
       "    .dataframe thead th {\n",
       "        text-align: right;\n",
       "    }\n",
       "</style>\n",
       "<table border=\"1\" class=\"dataframe\">\n",
       "  <thead>\n",
       "    <tr style=\"text-align: right;\">\n",
       "      <th>Actual</th>\n",
       "      <th>BENIGN</th>\n",
       "      <th>Botnet</th>\n",
       "      <th>Brute Force</th>\n",
       "      <th>DoS/DDoS</th>\n",
       "      <th>Infiltration</th>\n",
       "      <th>PortScan</th>\n",
       "      <th>Web Attack</th>\n",
       "      <th>All</th>\n",
       "    </tr>\n",
       "    <tr>\n",
       "      <th>Pred</th>\n",
       "      <th></th>\n",
       "      <th></th>\n",
       "      <th></th>\n",
       "      <th></th>\n",
       "      <th></th>\n",
       "      <th></th>\n",
       "      <th></th>\n",
       "      <th></th>\n",
       "    </tr>\n",
       "  </thead>\n",
       "  <tbody>\n",
       "    <tr>\n",
       "      <th>BENIGN</th>\n",
       "      <td>452580</td>\n",
       "      <td>10</td>\n",
       "      <td>6</td>\n",
       "      <td>29</td>\n",
       "      <td>2</td>\n",
       "      <td>21</td>\n",
       "      <td>1</td>\n",
       "      <td>452649</td>\n",
       "    </tr>\n",
       "    <tr>\n",
       "      <th>Botnet</th>\n",
       "      <td>1171</td>\n",
       "      <td>374</td>\n",
       "      <td>0</td>\n",
       "      <td>0</td>\n",
       "      <td>0</td>\n",
       "      <td>0</td>\n",
       "      <td>0</td>\n",
       "      <td>1545</td>\n",
       "    </tr>\n",
       "    <tr>\n",
       "      <th>Brute Force</th>\n",
       "      <td>13</td>\n",
       "      <td>0</td>\n",
       "      <td>2745</td>\n",
       "      <td>0</td>\n",
       "      <td>0</td>\n",
       "      <td>0</td>\n",
       "      <td>0</td>\n",
       "      <td>2758</td>\n",
       "    </tr>\n",
       "    <tr>\n",
       "      <th>DoS/DDoS</th>\n",
       "      <td>672</td>\n",
       "      <td>0</td>\n",
       "      <td>1</td>\n",
       "      <td>75841</td>\n",
       "      <td>0</td>\n",
       "      <td>17</td>\n",
       "      <td>4</td>\n",
       "      <td>76535</td>\n",
       "    </tr>\n",
       "    <tr>\n",
       "      <th>Infiltration</th>\n",
       "      <td>102</td>\n",
       "      <td>0</td>\n",
       "      <td>0</td>\n",
       "      <td>0</td>\n",
       "      <td>3</td>\n",
       "      <td>0</td>\n",
       "      <td>0</td>\n",
       "      <td>105</td>\n",
       "    </tr>\n",
       "    <tr>\n",
       "      <th>PortScan</th>\n",
       "      <td>218</td>\n",
       "      <td>0</td>\n",
       "      <td>0</td>\n",
       "      <td>24</td>\n",
       "      <td>0</td>\n",
       "      <td>31837</td>\n",
       "      <td>0</td>\n",
       "      <td>32079</td>\n",
       "    </tr>\n",
       "    <tr>\n",
       "      <th>Web Attack</th>\n",
       "      <td>34</td>\n",
       "      <td>0</td>\n",
       "      <td>0</td>\n",
       "      <td>3</td>\n",
       "      <td>0</td>\n",
       "      <td>1</td>\n",
       "      <td>440</td>\n",
       "      <td>478</td>\n",
       "    </tr>\n",
       "    <tr>\n",
       "      <th>All</th>\n",
       "      <td>454790</td>\n",
       "      <td>384</td>\n",
       "      <td>2752</td>\n",
       "      <td>75897</td>\n",
       "      <td>5</td>\n",
       "      <td>31876</td>\n",
       "      <td>445</td>\n",
       "      <td>566149</td>\n",
       "    </tr>\n",
       "  </tbody>\n",
       "</table>\n",
       "</div>"
      ],
      "text/plain": [
       "Actual        BENIGN  Botnet  Brute Force  DoS/DDoS  Infiltration  PortScan  \\\n",
       "Pred                                                                          \n",
       "BENIGN        452580      10            6        29             2        21   \n",
       "Botnet          1171     374            0         0             0         0   \n",
       "Brute Force       13       0         2745         0             0         0   \n",
       "DoS/DDoS         672       0            1     75841             0        17   \n",
       "Infiltration     102       0            0         0             3         0   \n",
       "PortScan         218       0            0        24             0     31837   \n",
       "Web Attack        34       0            0         3             0         1   \n",
       "All           454790     384         2752     75897             5     31876   \n",
       "\n",
       "Actual        Web Attack     All  \n",
       "Pred                              \n",
       "BENIGN                 1  452649  \n",
       "Botnet                 0    1545  \n",
       "Brute Force            0    2758  \n",
       "DoS/DDoS               4   76535  \n",
       "Infiltration           0     105  \n",
       "PortScan               0   32079  \n",
       "Web Attack           440     478  \n",
       "All                  445  566149  "
      ]
     },
     "execution_count": 35,
     "metadata": {},
     "output_type": "execute_result"
    }
   ],
   "source": [
    "pred_index = pred\n",
    "y_index = list(np.argmax(y_test.to_numpy(), axis=1))\n",
    "\n",
    "atktypes = sorted(y_test.columns)\n",
    "pred_series = pd.Series(pred_index, name=\"Pred\").replace(dict(enumerate(atktypes)))\n",
    "y_series = pd.Series(y_index, name=\"Actual\").replace(dict(enumerate(atktypes)))\n",
    "\n",
    "matrix = pd.crosstab(pred_series, y_series, margins=True)\n",
    "print(\"Done!\")\n",
    "matrix.to_csv(NOTEBOOK_PATH + \"Confusion Matrices/%s.csv\" % model_id)\n",
    "matrix"
   ]
  },
  {
   "cell_type": "markdown",
   "metadata": {},
   "source": [
    "# Log results"
   ]
  },
  {
   "cell_type": "code",
   "execution_count": 72,
   "metadata": {},
   "outputs": [],
   "source": [
    "model_log = open(NOTEBOOK_PATH + \"model_log.txt\", \"a\")\n",
    "\n",
    "model_log.write(\"\\n\" + model_filename)\n",
    "model_log.write(\"\\n\\tF1 Micro: \" + str(f1_micro))\n",
    "model_log.write(\"\\n\\tF1 Macro: \" + str(f1_macro))\n",
    "\n",
    "model_log.close()"
   ]
  }
 ],
 "metadata": {
  "kernelspec": {
   "display_name": "Python 3",
   "language": "python",
   "name": "python3"
  },
  "language_info": {
   "codemirror_mode": {
    "name": "ipython",
    "version": 3
   },
   "file_extension": ".py",
   "mimetype": "text/x-python",
   "name": "python",
   "nbconvert_exporter": "python",
   "pygments_lexer": "ipython3",
   "version": "3.6.7"
  }
 },
 "nbformat": 4,
 "nbformat_minor": 4
}

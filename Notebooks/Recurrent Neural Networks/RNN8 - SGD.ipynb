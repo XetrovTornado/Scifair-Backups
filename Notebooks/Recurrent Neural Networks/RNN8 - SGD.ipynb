{
 "cells": [
  {
   "cell_type": "markdown",
   "metadata": {},
   "source": [
    "# CSE-CIC-IDS 2017"
   ]
  },
  {
   "cell_type": "code",
   "execution_count": 1,
   "metadata": {},
   "outputs": [],
   "source": [
    "model_id = \"rnn8-sgd\""
   ]
  },
  {
   "cell_type": "code",
   "execution_count": 2,
   "metadata": {},
   "outputs": [
    {
     "name": "stderr",
     "output_type": "stream",
     "text": [
      "Using TensorFlow backend.\n",
      "C:\\Users\\Xetrov\\AppData\\Local\\Continuum\\anaconda3\\lib\\site-packages\\tensorflow\\python\\framework\\dtypes.py:517: FutureWarning: Passing (type, 1) or '1type' as a synonym of type is deprecated; in a future version of numpy, it will be understood as (type, (1,)) / '(1,)type'.\n",
      "  _np_qint8 = np.dtype([(\"qint8\", np.int8, 1)])\n",
      "C:\\Users\\Xetrov\\AppData\\Local\\Continuum\\anaconda3\\lib\\site-packages\\tensorflow\\python\\framework\\dtypes.py:518: FutureWarning: Passing (type, 1) or '1type' as a synonym of type is deprecated; in a future version of numpy, it will be understood as (type, (1,)) / '(1,)type'.\n",
      "  _np_quint8 = np.dtype([(\"quint8\", np.uint8, 1)])\n",
      "C:\\Users\\Xetrov\\AppData\\Local\\Continuum\\anaconda3\\lib\\site-packages\\tensorflow\\python\\framework\\dtypes.py:519: FutureWarning: Passing (type, 1) or '1type' as a synonym of type is deprecated; in a future version of numpy, it will be understood as (type, (1,)) / '(1,)type'.\n",
      "  _np_qint16 = np.dtype([(\"qint16\", np.int16, 1)])\n",
      "C:\\Users\\Xetrov\\AppData\\Local\\Continuum\\anaconda3\\lib\\site-packages\\tensorflow\\python\\framework\\dtypes.py:520: FutureWarning: Passing (type, 1) or '1type' as a synonym of type is deprecated; in a future version of numpy, it will be understood as (type, (1,)) / '(1,)type'.\n",
      "  _np_quint16 = np.dtype([(\"quint16\", np.uint16, 1)])\n",
      "C:\\Users\\Xetrov\\AppData\\Local\\Continuum\\anaconda3\\lib\\site-packages\\tensorflow\\python\\framework\\dtypes.py:521: FutureWarning: Passing (type, 1) or '1type' as a synonym of type is deprecated; in a future version of numpy, it will be understood as (type, (1,)) / '(1,)type'.\n",
      "  _np_qint32 = np.dtype([(\"qint32\", np.int32, 1)])\n",
      "C:\\Users\\Xetrov\\AppData\\Local\\Continuum\\anaconda3\\lib\\site-packages\\tensorflow\\python\\framework\\dtypes.py:526: FutureWarning: Passing (type, 1) or '1type' as a synonym of type is deprecated; in a future version of numpy, it will be understood as (type, (1,)) / '(1,)type'.\n",
      "  np_resource = np.dtype([(\"resource\", np.ubyte, 1)])\n"
     ]
    }
   ],
   "source": [
    "import numpy as np\n",
    "np.random.seed(42)\n",
    "np.set_printoptions(suppress=True)\n",
    "import pandas as pd\n",
    "import matplotlib.pyplot as plt\n",
    "import seaborn as sns\n",
    "from tqdm import tqdm\n",
    "tqdm.pandas()\n",
    "\n",
    "import glob, time, os\n",
    "\n",
    "import keras"
   ]
  },
  {
   "cell_type": "code",
   "execution_count": 3,
   "metadata": {},
   "outputs": [],
   "source": [
    "NOTEBOOK_PATH = \"C:/Users/Xetrov/Desktop/SciFair20/Code/\""
   ]
  },
  {
   "cell_type": "code",
   "execution_count": 4,
   "metadata": {},
   "outputs": [],
   "source": [
    "x_scaled = pd.read_csv(NOTEBOOK_PATH + \"IDS2017/x_scaled_powertransform.csv\")\n",
    "y_df_enc = pd.read_csv(NOTEBOOK_PATH + \"IDS2017/y_grouped_1henc.csv\")"
   ]
  },
  {
   "cell_type": "code",
   "execution_count": 5,
   "metadata": {},
   "outputs": [],
   "source": [
    "x_scaled_npy = np.expand_dims(x_scaled.to_numpy(), axis=-1)"
   ]
  },
  {
   "cell_type": "code",
   "execution_count": 6,
   "metadata": {},
   "outputs": [
    {
     "data": {
      "text/plain": [
       "(2830743, 68, 1)"
      ]
     },
     "execution_count": 6,
     "metadata": {},
     "output_type": "execute_result"
    }
   ],
   "source": [
    "x_scaled_npy.shape"
   ]
  },
  {
   "cell_type": "markdown",
   "metadata": {},
   "source": [
    "# Split data into train and test"
   ]
  },
  {
   "cell_type": "code",
   "execution_count": 7,
   "metadata": {},
   "outputs": [],
   "source": [
    "from sklearn.model_selection import train_test_split"
   ]
  },
  {
   "cell_type": "code",
   "execution_count": 8,
   "metadata": {},
   "outputs": [],
   "source": [
    "x_train, x_valtest, y_train, y_valtest = train_test_split(x_scaled_npy, y_df_enc, test_size = 0.4, random_state = 42)"
   ]
  },
  {
   "cell_type": "code",
   "execution_count": 9,
   "metadata": {},
   "outputs": [],
   "source": [
    "x_val, x_test, y_val, y_test = train_test_split(x_valtest, y_valtest, test_size = 0.5, random_state = 42)"
   ]
  },
  {
   "cell_type": "code",
   "execution_count": 10,
   "metadata": {},
   "outputs": [],
   "source": [
    "del x_valtest \n",
    "del y_valtest"
   ]
  },
  {
   "cell_type": "code",
   "execution_count": 11,
   "metadata": {},
   "outputs": [
    {
     "data": {
      "text/plain": [
       "BENIGN          1364100\n",
       "Botnet             1185\n",
       "Brute Force        8273\n",
       "DoS/DDoS         228292\n",
       "Infiltration         24\n",
       "PortScan          95267\n",
       "Web Attack         1304\n",
       "dtype: int64"
      ]
     },
     "execution_count": 11,
     "metadata": {},
     "output_type": "execute_result"
    }
   ],
   "source": [
    "y_train.sum(axis=0)"
   ]
  },
  {
   "cell_type": "code",
   "execution_count": 12,
   "metadata": {},
   "outputs": [
    {
     "data": {
      "text/plain": [
       "BENIGN          454207\n",
       "Botnet             397\n",
       "Brute Force       2810\n",
       "DoS/DDoS         76510\n",
       "Infiltration         7\n",
       "PortScan         31787\n",
       "Web Attack         431\n",
       "dtype: int64"
      ]
     },
     "execution_count": 12,
     "metadata": {},
     "output_type": "execute_result"
    }
   ],
   "source": [
    "y_val.sum(axis=0)"
   ]
  },
  {
   "cell_type": "code",
   "execution_count": 13,
   "metadata": {},
   "outputs": [
    {
     "data": {
      "text/plain": [
       "BENIGN          454790\n",
       "Botnet             384\n",
       "Brute Force       2752\n",
       "DoS/DDoS         75897\n",
       "Infiltration         5\n",
       "PortScan         31876\n",
       "Web Attack         445\n",
       "dtype: int64"
      ]
     },
     "execution_count": 13,
     "metadata": {},
     "output_type": "execute_result"
    }
   ],
   "source": [
    "y_test.sum(axis=0)"
   ]
  },
  {
   "cell_type": "markdown",
   "metadata": {},
   "source": [
    "# Load ADASYN data"
   ]
  },
  {
   "cell_type": "code",
   "execution_count": 14,
   "metadata": {},
   "outputs": [],
   "source": [
    "x_train_res = pd.read_csv(NOTEBOOK_PATH + \"IDS2017/x_adasyn.csv\").to_numpy()"
   ]
  },
  {
   "cell_type": "code",
   "execution_count": 15,
   "metadata": {},
   "outputs": [],
   "source": [
    "y_train_res = pd.read_csv(NOTEBOOK_PATH + \"IDS2017/y_adasyn.csv\")\n",
    "\n",
    "y_train_res2 = pd.get_dummies(y_train_res[y_train_res.columns[0]])"
   ]
  },
  {
   "cell_type": "code",
   "execution_count": 16,
   "metadata": {},
   "outputs": [],
   "source": [
    "x_train_resnpy = np.expand_dims(x_train_res, axis=-1)"
   ]
  },
  {
   "cell_type": "markdown",
   "metadata": {},
   "source": [
    "# Train model"
   ]
  },
  {
   "cell_type": "code",
   "execution_count": 17,
   "metadata": {},
   "outputs": [],
   "source": [
    "from keras.models import Model, Sequential\n",
    "from keras.layers import Dense, LSTM, CuDNNLSTM, BatchNormalization, Dropout, InputLayer, GRU, CuDNNGRU\n",
    "from keras.optimizers import SGD, Adam"
   ]
  },
  {
   "cell_type": "code",
   "execution_count": 18,
   "metadata": {},
   "outputs": [
    {
     "data": {
      "text/plain": [
       "(68, 1)"
      ]
     },
     "execution_count": 18,
     "metadata": {},
     "output_type": "execute_result"
    }
   ],
   "source": [
    "x_train.shape[1:]"
   ]
  },
  {
   "cell_type": "code",
   "execution_count": 23,
   "metadata": {},
   "outputs": [],
   "source": [
    "def addDenseBlock(model, units, **params):\n",
    "    model.add(Dense(units=units, activation=params['hidden_activation'], input_dim=x_train.shape[1]))\n",
    "    if params['batch_normalization']: model.add(BatchNormalization())\n",
    "    if params['dropout_rate'] > 0: model.add(Dropout(params['dropout_rate']))\n",
    "\n",
    "def addLSTMBlock(model, units, return_sequences=False, **params):\n",
    "    model.add(LSTM(units=units, return_sequences=return_sequences, input_shape=x_train.shape[1:]))\n",
    "    if params['batch_normalization']: model.add(BatchNormalization())\n",
    "    if params['dropout_rate'] > 0: model.add(Dropout(params['dropout_rate']))\n",
    "        \n",
    "def addCuDNNLSTMBlock(model, units, return_sequences=False, **params):\n",
    "    model.add(CuDNNLSTM(units=units, return_sequences=return_sequences, input_shape=x_train.shape[1:]))\n",
    "    if params['batch_normalization']: model.add(BatchNormalization())\n",
    "    if params['dropout_rate'] > 0: model.add(Dropout(params['dropout_rate']))\n",
    "\n",
    "def addGRUBlock(model, units, return_sequences=False, **params):\n",
    "    model.add(GRU(units=units, return_sequences=return_sequences, input_shape=x_train.shape[1:]))\n",
    "    if params['batch_normalization']: model.add(BatchNormalization())\n",
    "    if params['dropout_rate'] > 0: model.add(Dropout(params['dropout_rate']))\n",
    "        \n",
    "def addCuDNNGRUBlock(model, units, return_sequences=False, **params):\n",
    "    model.add(CuDNNGRU(units=units, return_sequences=return_sequences, input_shape=x_train.shape[1:]))\n",
    "    if params['batch_normalization']: model.add(BatchNormalization())\n",
    "    if params['dropout_rate'] > 0: model.add(Dropout(params['dropout_rate']))\n",
    "        \n",
    "def createModel(**in_params):\n",
    "    \"\"\"\n",
    "    Supported parameters:\n",
    "    batch_normalization - True or False\n",
    "    dropout_rate - 0 to 1\n",
    "    num_units - integer\n",
    "    learning_rate - float\n",
    "    activation_function - string\n",
    "    \"\"\"\n",
    "    \n",
    "    model = Sequential()\n",
    "\n",
    "    # Set default values\n",
    "    params = {\n",
    "        'batch_normalization': False,\n",
    "        'dropout_rate': 0,\n",
    "        'num_layers': 6,\n",
    "        'num_units': 128,\n",
    "        'learning_rate': 0.001,\n",
    "        'hidden_activation': 'relu',\n",
    "        'final_activation': 'softmax'\n",
    "    }\n",
    "    \n",
    "    # Replace defaults with specified parameters\n",
    "    for param in in_params:\n",
    "        params[param] = in_params[param]    \n",
    "    \n",
    "    # InputLayer causes serialization issues\n",
    "#     model.add( InputLayer(input_shape = (x_train.shape[1],) ) )\n",
    "    \n",
    "#     for i in range(params['num_layers']):\n",
    "#         addDenseBlock(model, params['num_units'], **params)\n",
    "\n",
    "    addCuDNNLSTMBlock(model, 64, **params)\n",
    "\n",
    "    model.add(Dense(units=y_train.shape[1], activation=params['final_activation']))\n",
    "\n",
    "    optim = SGD(lr=params['learning_rate'], nesterov=True)\n",
    "#     optim = Adam(lr=params['learning_rate'])\n",
    "\n",
    "    model.compile(loss='categorical_crossentropy', optimizer=optim, metrics=['accuracy'])\n",
    "    \n",
    "#     print(params)\n",
    "    \n",
    "    return model"
   ]
  },
  {
   "cell_type": "markdown",
   "metadata": {},
   "source": [
    "Ensure a GPU is available"
   ]
  },
  {
   "cell_type": "code",
   "execution_count": 20,
   "metadata": {},
   "outputs": [
    {
     "data": {
      "text/plain": [
       "['/job:localhost/replica:0/task:0/device:GPU:0']"
      ]
     },
     "execution_count": 20,
     "metadata": {},
     "output_type": "execute_result"
    }
   ],
   "source": [
    "import keras.backend as K\n",
    "\n",
    "K.tensorflow_backend._get_available_gpus()"
   ]
  },
  {
   "cell_type": "markdown",
   "metadata": {},
   "source": [
    "### Callbacks"
   ]
  },
  {
   "cell_type": "code",
   "execution_count": 21,
   "metadata": {},
   "outputs": [],
   "source": [
    "from keras.callbacks import CSVLogger, EarlyStopping, ModelCheckpoint\n",
    "\n",
    "def timestamp():\n",
    "    return time.strftime(\"%m-%d-%Y, %I%M%p\")\n",
    "\n",
    "csv_callback = CSVLogger(NOTEBOOK_PATH + 'Loss Logs/%s (%s)' % (model_id, timestamp()), append=True)\n",
    "early_stop = EarlyStopping(monitor = 'val_loss', min_delta=0.0001, patience=5)"
   ]
  },
  {
   "cell_type": "markdown",
   "metadata": {},
   "source": [
    "### Model Saving"
   ]
  },
  {
   "cell_type": "code",
   "execution_count": 22,
   "metadata": {},
   "outputs": [
    {
     "name": "stdout",
     "output_type": "stream",
     "text": [
      "Using C:/Users/Xetrov/Desktop/SciFair20/Code/Models/rnn8-sgd/\n"
     ]
    }
   ],
   "source": [
    "savedir = NOTEBOOK_PATH + \"Models/%s/\" % model_id\n",
    "if not os.path.exists(savedir):\n",
    "    os.makedirs(savedir)\n",
    "    print(\"Created \" + savedir)\n",
    "else:\n",
    "    print(\"Using \" + savedir)"
   ]
  },
  {
   "cell_type": "markdown",
   "metadata": {},
   "source": [
    "### Training"
   ]
  },
  {
   "cell_type": "code",
   "execution_count": 25,
   "metadata": {},
   "outputs": [],
   "source": [
    "import itertools\n",
    "\n",
    "trainEpochs = 360\n",
    "\n",
    "parameters = {'batch_size': 250, 'batch_normalization':True,'dropout_rate':0}"
   ]
  },
  {
   "cell_type": "code",
   "execution_count": 26,
   "metadata": {},
   "outputs": [
    {
     "name": "stdout",
     "output_type": "stream",
     "text": [
      "rnn8-sgd\n",
      "WARNING:tensorflow:From C:\\Users\\Xetrov\\AppData\\Local\\Continuum\\anaconda3\\lib\\site-packages\\tensorflow\\contrib\\learn\\python\\learn\\datasets\\base.py:198: retry (from tensorflow.contrib.learn.python.learn.datasets.base) is deprecated and will be removed in a future version.\n",
      "Instructions for updating:\n",
      "Use the retry module or similar alternatives.\n",
      "_________________________________________________________________\n",
      "Layer (type)                 Output Shape              Param #   \n",
      "=================================================================\n",
      "cu_dnnlstm_1 (CuDNNLSTM)     (None, 64)                17152     \n",
      "_________________________________________________________________\n",
      "batch_normalization_1 (Batch (None, 64)                256       \n",
      "_________________________________________________________________\n",
      "dense_1 (Dense)              (None, 7)                 455       \n",
      "=================================================================\n",
      "Total params: 17,863\n",
      "Trainable params: 17,735\n",
      "Non-trainable params: 128\n",
      "_________________________________________________________________\n",
      "Train on 9549194 samples, validate on 566149 samples\n",
      "Epoch 86/360\n",
      " - 362s - loss: 0.0191 - acc: 0.9935 - val_loss: 0.0321 - val_acc: 0.9930\n",
      "Epoch 87/360\n",
      " - 357s - loss: 0.0191 - acc: 0.9935 - val_loss: 0.0294 - val_acc: 0.9936\n",
      "Epoch 88/360\n",
      " - 357s - loss: 0.0190 - acc: 0.9935 - val_loss: 0.0271 - val_acc: 0.9939\n",
      "Epoch 89/360\n",
      " - 358s - loss: 0.0191 - acc: 0.9935 - val_loss: 0.0353 - val_acc: 0.9926\n",
      "Epoch 90/360\n",
      " - 358s - loss: 0.0187 - acc: 0.9936 - val_loss: 0.0355 - val_acc: 0.9927\n",
      "Epoch 91/360\n",
      " - 357s - loss: 0.0186 - acc: 0.9936 - val_loss: 0.0306 - val_acc: 0.9933\n",
      "Epoch 92/360\n",
      " - 357s - loss: 0.0186 - acc: 0.9937 - val_loss: 0.0317 - val_acc: 0.9933\n",
      "Epoch 93/360\n",
      " - 358s - loss: 0.0185 - acc: 0.9937 - val_loss: 0.0332 - val_acc: 0.9930\n",
      "Epoch 94/360\n",
      " - 358s - loss: 0.0185 - acc: 0.9937 - val_loss: 0.0300 - val_acc: 0.9934\n",
      "Epoch 95/360\n",
      " - 358s - loss: 0.0183 - acc: 0.9938 - val_loss: 0.0301 - val_acc: 0.9931\n",
      "Epoch 96/360\n",
      " - 359s - loss: 0.0182 - acc: 0.9938 - val_loss: 0.0319 - val_acc: 0.9929\n",
      "Epoch 97/360\n",
      " - 362s - loss: 0.0182 - acc: 0.9939 - val_loss: 0.0282 - val_acc: 0.9940\n",
      "Epoch 98/360\n",
      " - 358s - loss: 0.0180 - acc: 0.9939 - val_loss: 0.0323 - val_acc: 0.9930\n",
      "Epoch 99/360\n",
      " - 358s - loss: 0.0179 - acc: 0.9940 - val_loss: 0.0314 - val_acc: 0.9934\n",
      "Epoch 100/360\n",
      " - 358s - loss: 0.0178 - acc: 0.9940 - val_loss: 0.0292 - val_acc: 0.9935\n",
      "Epoch 101/360\n",
      " - 358s - loss: 0.0182 - acc: 0.9939 - val_loss: 0.0301 - val_acc: 0.9934\n",
      "Epoch 102/360\n",
      " - 358s - loss: 0.0178 - acc: 0.9940 - val_loss: 0.0285 - val_acc: 0.9936\n",
      "Epoch 103/360\n",
      " - 358s - loss: 0.0176 - acc: 0.9941 - val_loss: 0.0312 - val_acc: 0.9934\n",
      "Epoch 104/360\n",
      " - 358s - loss: 0.0176 - acc: 0.9941 - val_loss: 0.0280 - val_acc: 0.9936\n",
      "Epoch 105/360\n",
      " - 358s - loss: 0.0174 - acc: 0.9941 - val_loss: 0.0277 - val_acc: 0.9939\n",
      "Epoch 106/360\n",
      " - 359s - loss: 0.0173 - acc: 0.9942 - val_loss: 0.0304 - val_acc: 0.9933\n",
      "Epoch 107/360\n",
      " - 358s - loss: 0.0215 - acc: 0.9931 - val_loss: 0.0295 - val_acc: 0.9934\n",
      "Epoch 108/360\n",
      " - 358s - loss: 0.0173 - acc: 0.9942 - val_loss: 0.0314 - val_acc: 0.9934\n",
      "Epoch 109/360\n",
      " - 360s - loss: 0.0172 - acc: 0.9942 - val_loss: 0.0334 - val_acc: 0.9931\n",
      "Epoch 110/360\n",
      " - 358s - loss: 0.0170 - acc: 0.9942 - val_loss: 0.0301 - val_acc: 0.9935\n",
      "Epoch 111/360\n",
      " - 358s - loss: 0.0169 - acc: 0.9943 - val_loss: 0.0301 - val_acc: 0.9937\n",
      "Epoch 112/360\n",
      " - 359s - loss: 0.0168 - acc: 0.9943 - val_loss: 0.0271 - val_acc: 0.9936\n",
      "Epoch 113/360\n",
      " - 358s - loss: 0.0167 - acc: 0.9944 - val_loss: 0.0297 - val_acc: 0.9935\n",
      "Epoch 114/360\n",
      " - 359s - loss: 0.0167 - acc: 0.9944 - val_loss: 0.0272 - val_acc: 0.9939\n",
      "Epoch 115/360\n",
      " - 359s - loss: 0.0166 - acc: 0.9944 - val_loss: 0.0282 - val_acc: 0.9938\n",
      "Epoch 116/360\n",
      " - 359s - loss: 0.0165 - acc: 0.9944 - val_loss: 0.0289 - val_acc: 0.9934\n",
      "Epoch 117/360\n",
      " - 359s - loss: 0.0164 - acc: 0.9945 - val_loss: 0.0262 - val_acc: 0.9944\n",
      "Epoch 118/360\n",
      " - 359s - loss: 0.0163 - acc: 0.9945 - val_loss: 0.0282 - val_acc: 0.9938\n",
      "Epoch 119/360\n",
      " - 359s - loss: 0.0166 - acc: 0.9944 - val_loss: 0.0269 - val_acc: 0.9940\n",
      "Epoch 120/360\n",
      " - 359s - loss: 0.0162 - acc: 0.9945 - val_loss: 0.0293 - val_acc: 0.9936\n",
      "Epoch 121/360\n",
      " - 359s - loss: 0.0160 - acc: 0.9946 - val_loss: 0.0279 - val_acc: 0.9939\n",
      "Epoch 122/360\n",
      " - 358s - loss: 0.0161 - acc: 0.9946 - val_loss: 0.0278 - val_acc: 0.9939\n",
      "Epoch 123/360\n",
      " - 359s - loss: 0.0160 - acc: 0.9947 - val_loss: 0.0273 - val_acc: 0.9941\n",
      "Epoch 124/360\n",
      " - 359s - loss: 0.0159 - acc: 0.9947 - val_loss: 0.0276 - val_acc: 0.9940\n",
      "Epoch 125/360\n",
      " - 359s - loss: 0.0156 - acc: 0.9947 - val_loss: 0.0270 - val_acc: 0.9939\n",
      "Epoch 126/360\n",
      " - 359s - loss: 0.0158 - acc: 0.9947 - val_loss: 0.0268 - val_acc: 0.9937\n",
      "Epoch 127/360\n",
      " - 359s - loss: 0.0156 - acc: 0.9948 - val_loss: 0.0256 - val_acc: 0.9944\n",
      "Epoch 128/360\n",
      " - 359s - loss: 0.0156 - acc: 0.9948 - val_loss: 0.0267 - val_acc: 0.9938\n",
      "Epoch 129/360\n",
      " - 360s - loss: 0.0154 - acc: 0.9949 - val_loss: 0.0250 - val_acc: 0.9941\n",
      "Epoch 130/360\n",
      " - 360s - loss: 0.0154 - acc: 0.9949 - val_loss: 0.0264 - val_acc: 0.9940\n",
      "Epoch 131/360\n",
      " - 359s - loss: 0.0153 - acc: 0.9949 - val_loss: 0.0262 - val_acc: 0.9945\n",
      "Epoch 132/360\n",
      " - 361s - loss: 0.0153 - acc: 0.9949 - val_loss: 0.0261 - val_acc: 0.9947\n",
      "Epoch 133/360\n",
      " - 359s - loss: 0.0151 - acc: 0.9950 - val_loss: 0.0292 - val_acc: 0.9937\n",
      "Epoch 134/360\n",
      " - 359s - loss: 0.0150 - acc: 0.9950 - val_loss: 0.0266 - val_acc: 0.9941\n",
      "Epoch 135/360\n",
      " - 360s - loss: 0.0151 - acc: 0.9950 - val_loss: 0.0265 - val_acc: 0.9941\n",
      "Epoch 136/360\n",
      " - 359s - loss: 0.0148 - acc: 0.9951 - val_loss: 0.0237 - val_acc: 0.9950\n",
      "Epoch 137/360\n",
      " - 359s - loss: 0.0148 - acc: 0.9951 - val_loss: 0.0306 - val_acc: 0.9934\n",
      "Epoch 138/360\n",
      " - 360s - loss: 0.0150 - acc: 0.9951 - val_loss: 0.0259 - val_acc: 0.9945\n",
      "Epoch 139/360\n",
      " - 359s - loss: 0.0146 - acc: 0.9952 - val_loss: 0.0263 - val_acc: 0.9941\n",
      "Epoch 140/360\n",
      " - 360s - loss: 0.0145 - acc: 0.9952 - val_loss: 0.0333 - val_acc: 0.9933\n",
      "Epoch 141/360\n",
      " - 359s - loss: 0.0150 - acc: 0.9951 - val_loss: 0.0241 - val_acc: 0.9948\n",
      "Epoch 142/360\n",
      " - 360s - loss: 0.0144 - acc: 0.9953 - val_loss: 0.0391 - val_acc: 0.9926\n",
      "Epoch 143/360\n",
      " - 359s - loss: 0.0146 - acc: 0.9952 - val_loss: 0.0254 - val_acc: 0.9943\n",
      "Epoch 144/360\n",
      " - 360s - loss: 0.0142 - acc: 0.9953 - val_loss: 0.0255 - val_acc: 0.9947\n",
      "Epoch 145/360\n",
      " - 360s - loss: 0.0144 - acc: 0.9953 - val_loss: 0.0237 - val_acc: 0.9949\n",
      "Epoch 146/360\n",
      " - 359s - loss: 0.0141 - acc: 0.9954 - val_loss: 0.0237 - val_acc: 0.9948\n",
      "Epoch 147/360\n",
      " - 360s - loss: 0.0142 - acc: 0.9954 - val_loss: 0.0229 - val_acc: 0.9950\n",
      "Epoch 148/360\n",
      " - 360s - loss: 0.0141 - acc: 0.9954 - val_loss: 0.0224 - val_acc: 0.9951\n",
      "Epoch 149/360\n",
      " - 360s - loss: 0.0138 - acc: 0.9955 - val_loss: 0.0224 - val_acc: 0.9945\n",
      "Epoch 150/360\n",
      " - 361s - loss: 0.0139 - acc: 0.9954 - val_loss: 0.0250 - val_acc: 0.9946\n",
      "Epoch 151/360\n",
      " - 359s - loss: 0.0179 - acc: 0.9943 - val_loss: 0.0275 - val_acc: 0.9941\n",
      "Epoch 152/360\n",
      " - 360s - loss: 0.0148 - acc: 0.9951 - val_loss: 0.0259 - val_acc: 0.9947\n",
      "Epoch 153/360\n",
      " - 360s - loss: 0.0146 - acc: 0.9952 - val_loss: 0.0255 - val_acc: 0.9947\n",
      "Epoch 154/360\n",
      " - 360s - loss: 0.0142 - acc: 0.9953 - val_loss: 0.0259 - val_acc: 0.9946\n",
      "Epoch 155/360\n",
      " - 360s - loss: 0.0150 - acc: 0.9952 - val_loss: 0.0236 - val_acc: 0.9947\n",
      "Epoch 156/360\n",
      " - 360s - loss: 0.0144 - acc: 0.9953 - val_loss: 0.0238 - val_acc: 0.9949\n",
      "Epoch 157/360\n",
      " - 360s - loss: 0.0140 - acc: 0.9954 - val_loss: 0.0248 - val_acc: 0.9943\n",
      "Epoch 158/360\n",
      " - 361s - loss: 0.0138 - acc: 0.9954 - val_loss: 0.0237 - val_acc: 0.9948\n",
      "Epoch 159/360\n",
      " - 361s - loss: 0.0137 - acc: 0.9955 - val_loss: 0.0247 - val_acc: 0.9941\n",
      "Epoch 160/360\n",
      " - 360s - loss: 0.0136 - acc: 0.9955 - val_loss: 0.0232 - val_acc: 0.9948\n",
      "Epoch 161/360\n",
      " - 360s - loss: 0.0138 - acc: 0.9955 - val_loss: 0.0225 - val_acc: 0.9948\n",
      "Epoch 162/360\n",
      " - 360s - loss: 0.0135 - acc: 0.9956 - val_loss: 0.0246 - val_acc: 0.9950\n",
      "Epoch 163/360\n",
      " - 360s - loss: 0.0134 - acc: 0.9956 - val_loss: 0.0255 - val_acc: 0.9941\n",
      "Epoch 164/360\n",
      " - 360s - loss: 0.0175 - acc: 0.9949 - val_loss: 0.0247 - val_acc: 0.9947\n",
      "Epoch 165/360\n",
      " - 360s - loss: 0.0140 - acc: 0.9955 - val_loss: 0.0239 - val_acc: 0.9950\n",
      "Epoch 166/360\n",
      " - 361s - loss: 0.0136 - acc: 0.9956 - val_loss: 0.0245 - val_acc: 0.9947\n",
      "Epoch 167/360\n",
      " - 360s - loss: 0.0135 - acc: 0.9956 - val_loss: 0.0259 - val_acc: 0.9940\n",
      "Epoch 168/360\n",
      " - 361s - loss: 0.0134 - acc: 0.9957 - val_loss: 0.0235 - val_acc: 0.9949\n",
      "Epoch 169/360\n",
      " - 360s - loss: 0.0134 - acc: 0.9957 - val_loss: 0.0244 - val_acc: 0.9944\n",
      "Epoch 170/360\n",
      " - 361s - loss: 0.0132 - acc: 0.9957 - val_loss: 0.0232 - val_acc: 0.9951\n",
      "Epoch 171/360\n",
      " - 360s - loss: 0.0131 - acc: 0.9957 - val_loss: 0.0242 - val_acc: 0.9946\n",
      "Epoch 172/360\n",
      " - 361s - loss: 0.0130 - acc: 0.9958 - val_loss: 0.0234 - val_acc: 0.9949\n",
      "Epoch 173/360\n",
      " - 360s - loss: 0.0131 - acc: 0.9957 - val_loss: 0.0230 - val_acc: 0.9943\n",
      "Epoch 174/360\n",
      " - 361s - loss: 0.0154 - acc: 0.9953 - val_loss: 0.0231 - val_acc: 0.9950\n",
      "Epoch 175/360\n",
      " - 360s - loss: 0.0143 - acc: 0.9956 - val_loss: 0.0247 - val_acc: 0.9950\n",
      "Epoch 176/360\n",
      " - 361s - loss: 0.0138 - acc: 0.9957 - val_loss: 0.0218 - val_acc: 0.9952\n",
      "Epoch 177/360\n",
      " - 363s - loss: 0.0135 - acc: 0.9957 - val_loss: 0.0232 - val_acc: 0.9950\n",
      "Epoch 178/360\n",
      " - 362s - loss: 0.0133 - acc: 0.9958 - val_loss: 0.0267 - val_acc: 0.9939\n",
      "Epoch 179/360\n",
      " - 361s - loss: 0.0133 - acc: 0.9958 - val_loss: 0.0207 - val_acc: 0.9953\n",
      "Epoch 180/360\n",
      " - 361s - loss: 0.0132 - acc: 0.9958 - val_loss: 0.0224 - val_acc: 0.9954\n",
      "Epoch 181/360\n",
      " - 361s - loss: 0.0133 - acc: 0.9958 - val_loss: 0.0232 - val_acc: 0.9951\n",
      "Epoch 182/360\n",
      " - 362s - loss: 0.0131 - acc: 0.9959 - val_loss: 0.0227 - val_acc: 0.9952\n",
      "Epoch 183/360\n",
      " - 361s - loss: 0.0132 - acc: 0.9958 - val_loss: 0.0232 - val_acc: 0.9950\n",
      "Epoch 184/360\n",
      " - 361s - loss: 0.0132 - acc: 0.9959 - val_loss: 0.0241 - val_acc: 0.9944\n",
      "Epoch 185/360\n",
      " - 361s - loss: 0.0128 - acc: 0.9959 - val_loss: 0.0217 - val_acc: 0.9953\n",
      "Epoch 186/360\n",
      " - 361s - loss: 0.0125 - acc: 0.9960 - val_loss: 0.0221 - val_acc: 0.9951\n",
      "Epoch 187/360\n",
      " - 361s - loss: 0.0127 - acc: 0.9960 - val_loss: 0.0220 - val_acc: 0.9951\n",
      "Epoch 188/360\n",
      " - 361s - loss: 0.0135 - acc: 0.9958 - val_loss: 0.0238 - val_acc: 0.9947\n",
      "Epoch 189/360\n",
      " - 361s - loss: 0.0130 - acc: 0.9959 - val_loss: 0.0248 - val_acc: 0.9945\n",
      "Epoch 190/360\n",
      " - 361s - loss: 0.0126 - acc: 0.9960 - val_loss: 0.0326 - val_acc: 0.9943\n",
      "Epoch 191/360\n",
      " - 362s - loss: 0.0127 - acc: 0.9960 - val_loss: 0.0212 - val_acc: 0.9955\n",
      "Epoch 192/360\n",
      " - 361s - loss: 0.0129 - acc: 0.9960 - val_loss: 0.0225 - val_acc: 0.9952\n",
      "Epoch 193/360\n",
      " - 361s - loss: 0.0127 - acc: 0.9960 - val_loss: 0.0220 - val_acc: 0.9954\n",
      "Epoch 194/360\n",
      " - 362s - loss: 0.0124 - acc: 0.9961 - val_loss: 0.0224 - val_acc: 0.9952\n",
      "Epoch 195/360\n",
      " - 361s - loss: 0.0125 - acc: 0.9961 - val_loss: 0.0211 - val_acc: 0.9953\n",
      "Epoch 196/360\n",
      " - 362s - loss: 0.0126 - acc: 0.9960 - val_loss: 0.0216 - val_acc: 0.9951\n",
      "Epoch 197/360\n",
      " - 362s - loss: 0.0121 - acc: 0.9962 - val_loss: 0.0221 - val_acc: 0.9951\n",
      "Epoch 198/360\n",
      " - 362s - loss: 0.0120 - acc: 0.9962 - val_loss: 0.0217 - val_acc: 0.9951\n",
      "Epoch 199/360\n",
      " - 361s - loss: 0.0119 - acc: 0.9962 - val_loss: 0.0205 - val_acc: 0.9952\n",
      "Epoch 200/360\n",
      " - 361s - loss: 0.0120 - acc: 0.9962 - val_loss: 0.0224 - val_acc: 0.9949\n",
      "Epoch 201/360\n",
      " - 361s - loss: 0.0120 - acc: 0.9962 - val_loss: 0.0208 - val_acc: 0.9956\n",
      "Epoch 202/360\n",
      " - 362s - loss: 0.0124 - acc: 0.9961 - val_loss: 0.0208 - val_acc: 0.9953\n",
      "Epoch 203/360\n",
      " - 361s - loss: 0.0117 - acc: 0.9963 - val_loss: 0.0208 - val_acc: 0.9953\n",
      "Epoch 204/360\n",
      " - 362s - loss: 0.0117 - acc: 0.9963 - val_loss: 0.0228 - val_acc: 0.9953\n",
      "Epoch 205/360\n",
      " - 361s - loss: 0.0118 - acc: 0.9963 - val_loss: 0.0209 - val_acc: 0.9955\n",
      "Epoch 206/360\n",
      " - 362s - loss: 0.0116 - acc: 0.9964 - val_loss: 0.0215 - val_acc: 0.9954\n",
      "Epoch 207/360\n",
      " - 362s - loss: 0.0117 - acc: 0.9963 - val_loss: 0.0195 - val_acc: 0.9959\n",
      "Epoch 208/360\n",
      " - 362s - loss: 0.0119 - acc: 0.9963 - val_loss: 0.0302 - val_acc: 0.9936\n",
      "Epoch 209/360\n",
      " - 362s - loss: 0.0127 - acc: 0.9961 - val_loss: 0.0204 - val_acc: 0.9955\n",
      "Epoch 210/360\n",
      " - 362s - loss: 0.0147 - acc: 0.9958 - val_loss: 0.0236 - val_acc: 0.9943\n",
      "Epoch 211/360\n",
      " - 362s - loss: 0.0124 - acc: 0.9962 - val_loss: 0.0209 - val_acc: 0.9958\n",
      "Epoch 212/360\n",
      " - 362s - loss: 0.0120 - acc: 0.9963 - val_loss: 0.0209 - val_acc: 0.9954\n",
      "Epoch 213/360\n",
      " - 363s - loss: 0.0118 - acc: 0.9964 - val_loss: 0.0224 - val_acc: 0.9950\n",
      "Epoch 214/360\n",
      " - 362s - loss: 0.0120 - acc: 0.9963 - val_loss: 0.0228 - val_acc: 0.9953\n",
      "Epoch 215/360\n",
      " - 362s - loss: 0.0131 - acc: 0.9960 - val_loss: 0.0229 - val_acc: 0.9951\n",
      "Epoch 216/360\n",
      " - 362s - loss: 0.0128 - acc: 0.9959 - val_loss: 0.0246 - val_acc: 0.9952\n",
      "Epoch 217/360\n",
      " - 362s - loss: 0.0118 - acc: 0.9964 - val_loss: 0.0228 - val_acc: 0.9953\n",
      "Epoch 218/360\n",
      " - 362s - loss: 0.0115 - acc: 0.9964 - val_loss: 0.0199 - val_acc: 0.9960\n",
      "Epoch 219/360\n",
      " - 362s - loss: 0.0113 - acc: 0.9965 - val_loss: 0.0211 - val_acc: 0.9956\n",
      "Epoch 220/360\n",
      " - 362s - loss: 0.0115 - acc: 0.9964 - val_loss: 0.0188 - val_acc: 0.9964\n",
      "Epoch 221/360\n",
      " - 362s - loss: 0.0113 - acc: 0.9965 - val_loss: 0.0201 - val_acc: 0.9956\n",
      "Epoch 222/360\n",
      " - 363s - loss: 0.0121 - acc: 0.9963 - val_loss: 0.0248 - val_acc: 0.9955\n",
      "Epoch 223/360\n",
      " - 362s - loss: 0.0114 - acc: 0.9964 - val_loss: 0.0187 - val_acc: 0.9963\n",
      "Epoch 224/360\n",
      " - 362s - loss: 0.0112 - acc: 0.9965 - val_loss: 0.0201 - val_acc: 0.9957\n",
      "Epoch 225/360\n",
      " - 362s - loss: 0.0110 - acc: 0.9965 - val_loss: 0.0183 - val_acc: 0.9964\n",
      "Epoch 226/360\n",
      " - 363s - loss: 0.0109 - acc: 0.9966 - val_loss: 0.0201 - val_acc: 0.9957\n",
      "Epoch 227/360\n",
      " - 363s - loss: 0.0112 - acc: 0.9965 - val_loss: 0.0303 - val_acc: 0.9944\n",
      "Epoch 228/360\n",
      " - 362s - loss: 0.0110 - acc: 0.9966 - val_loss: 0.0192 - val_acc: 0.9963\n",
      "Epoch 229/360\n",
      " - 362s - loss: 0.0111 - acc: 0.9965 - val_loss: 0.0247 - val_acc: 0.9934\n",
      "Epoch 230/360\n",
      " - 363s - loss: 0.0111 - acc: 0.9966 - val_loss: 0.0204 - val_acc: 0.9955\n",
      "Epoch 231/360\n",
      " - 362s - loss: 0.0114 - acc: 0.9965 - val_loss: 0.0214 - val_acc: 0.9955\n",
      "Epoch 232/360\n",
      " - 362s - loss: 0.0115 - acc: 0.9965 - val_loss: 0.0227 - val_acc: 0.9956\n",
      "Epoch 233/360\n",
      " - 362s - loss: 0.0109 - acc: 0.9966 - val_loss: 0.0208 - val_acc: 0.9956\n",
      "Epoch 234/360\n",
      " - 363s - loss: 0.0110 - acc: 0.9966 - val_loss: 0.0204 - val_acc: 0.9959\n",
      "Epoch 235/360\n",
      " - 363s - loss: 0.0111 - acc: 0.9965 - val_loss: 0.0195 - val_acc: 0.9962\n",
      "Epoch 236/360\n",
      " - 363s - loss: 0.0106 - acc: 0.9967 - val_loss: 0.0193 - val_acc: 0.9962\n",
      "Epoch 237/360\n",
      " - 362s - loss: 0.0106 - acc: 0.9967 - val_loss: 0.0189 - val_acc: 0.9963\n",
      "Epoch 238/360\n",
      " - 363s - loss: 0.0105 - acc: 0.9967 - val_loss: 0.0194 - val_acc: 0.9959\n",
      "Epoch 239/360\n",
      " - 363s - loss: 0.0107 - acc: 0.9967 - val_loss: 0.0188 - val_acc: 0.9962\n",
      "Epoch 240/360\n",
      " - 363s - loss: 0.0119 - acc: 0.9963 - val_loss: 0.0216 - val_acc: 0.9953\n",
      "Epoch 241/360\n",
      " - 363s - loss: 0.0113 - acc: 0.9965 - val_loss: 0.0209 - val_acc: 0.9955\n",
      "Epoch 242/360\n",
      " - 362s - loss: 0.0112 - acc: 0.9965 - val_loss: 0.0237 - val_acc: 0.9951\n",
      "Epoch 243/360\n",
      " - 362s - loss: 0.0110 - acc: 0.9966 - val_loss: 0.0198 - val_acc: 0.9956\n",
      "Epoch 244/360\n",
      " - 363s - loss: 0.0108 - acc: 0.9966 - val_loss: 0.0213 - val_acc: 0.9954\n",
      "Epoch 245/360\n",
      " - 362s - loss: 0.0112 - acc: 0.9965 - val_loss: 0.0211 - val_acc: 0.9957\n",
      "Epoch 246/360\n",
      " - 363s - loss: 0.0152 - acc: 0.9956 - val_loss: 0.0208 - val_acc: 0.9960\n",
      "Epoch 247/360\n",
      " - 363s - loss: 0.0122 - acc: 0.9963 - val_loss: 0.0210 - val_acc: 0.9955\n",
      "Epoch 248/360\n",
      " - 363s - loss: 0.0119 - acc: 0.9964 - val_loss: 0.0239 - val_acc: 0.9947\n",
      "Epoch 249/360\n",
      " - 363s - loss: 0.0124 - acc: 0.9963 - val_loss: 0.0377 - val_acc: 0.9893\n",
      "Epoch 250/360\n",
      " - 363s - loss: 0.0124 - acc: 0.9963 - val_loss: 0.0229 - val_acc: 0.9950\n",
      "Epoch 251/360\n",
      " - 363s - loss: 0.0126 - acc: 0.9962 - val_loss: 0.0216 - val_acc: 0.9951\n",
      "Epoch 252/360\n",
      " - 363s - loss: 0.0116 - acc: 0.9964 - val_loss: 0.0215 - val_acc: 0.9952\n",
      "Epoch 253/360\n",
      " - 363s - loss: 0.0114 - acc: 0.9965 - val_loss: 0.0199 - val_acc: 0.9955\n",
      "Epoch 254/360\n",
      " - 363s - loss: 0.0111 - acc: 0.9965 - val_loss: 0.0231 - val_acc: 0.9950\n",
      "Epoch 255/360\n",
      " - 363s - loss: 0.0111 - acc: 0.9965 - val_loss: 0.0212 - val_acc: 0.9950\n",
      "Epoch 256/360\n",
      " - 364s - loss: 0.0109 - acc: 0.9966 - val_loss: 0.0195 - val_acc: 0.9958\n",
      "Epoch 257/360\n",
      " - 363s - loss: 0.0108 - acc: 0.9966 - val_loss: 0.0198 - val_acc: 0.9956\n",
      "Epoch 258/360\n",
      " - 363s - loss: 0.0109 - acc: 0.9966 - val_loss: 0.0183 - val_acc: 0.9963\n",
      "Epoch 259/360\n",
      " - 363s - loss: 0.0106 - acc: 0.9967 - val_loss: 0.0210 - val_acc: 0.9946\n",
      "Epoch 260/360\n",
      " - 363s - loss: 0.0107 - acc: 0.9966 - val_loss: 0.0199 - val_acc: 0.9953\n",
      "Epoch 261/360\n",
      " - 364s - loss: 0.0107 - acc: 0.9967 - val_loss: 0.0205 - val_acc: 0.9955\n",
      "Epoch 262/360\n",
      " - 363s - loss: 0.0114 - acc: 0.9965 - val_loss: 0.0191 - val_acc: 0.9959\n",
      "Epoch 263/360\n",
      " - 363s - loss: 0.0105 - acc: 0.9967 - val_loss: 0.0221 - val_acc: 0.9949\n",
      "Epoch 264/360\n",
      " - 364s - loss: 0.0104 - acc: 0.9968 - val_loss: 0.0200 - val_acc: 0.9956\n",
      "Epoch 265/360\n",
      " - 364s - loss: 0.0105 - acc: 0.9967 - val_loss: 0.0214 - val_acc: 0.9953\n",
      "Epoch 266/360\n",
      " - 364s - loss: 0.0181 - acc: 0.9949 - val_loss: 0.0265 - val_acc: 0.9934\n",
      "Epoch 267/360\n",
      " - 363s - loss: 0.0134 - acc: 0.9960 - val_loss: 0.0251 - val_acc: 0.9939\n",
      "Epoch 268/360\n",
      " - 363s - loss: 0.0129 - acc: 0.9961 - val_loss: 0.0230 - val_acc: 0.9946\n",
      "Epoch 269/360\n",
      " - 364s - loss: 0.0120 - acc: 0.9963 - val_loss: 0.0217 - val_acc: 0.9953\n",
      "Epoch 270/360\n",
      " - 363s - loss: 0.0124 - acc: 0.9962 - val_loss: 0.0253 - val_acc: 0.9942\n",
      "Epoch 271/360\n",
      " - 363s - loss: 0.0119 - acc: 0.9963 - val_loss: 0.0217 - val_acc: 0.9948\n",
      "Epoch 272/360\n",
      " - 363s - loss: 0.0113 - acc: 0.9965 - val_loss: 0.0219 - val_acc: 0.9949\n",
      "Epoch 273/360\n",
      " - 364s - loss: 0.0114 - acc: 0.9965 - val_loss: 0.0212 - val_acc: 0.9953\n",
      "Epoch 274/360\n",
      " - 364s - loss: 0.0110 - acc: 0.9966 - val_loss: 0.0266 - val_acc: 0.9949\n",
      "Epoch 275/360\n",
      " - 363s - loss: 0.0109 - acc: 0.9966 - val_loss: 0.0203 - val_acc: 0.9953\n",
      "Epoch 276/360\n",
      " - 364s - loss: 0.0107 - acc: 0.9966 - val_loss: 0.0206 - val_acc: 0.9953\n",
      "Epoch 277/360\n",
      " - 364s - loss: 0.0108 - acc: 0.9966 - val_loss: 0.0209 - val_acc: 0.9953\n",
      "Epoch 278/360\n",
      " - 364s - loss: 0.0105 - acc: 0.9967 - val_loss: 0.0183 - val_acc: 0.9961\n",
      "Epoch 279/360\n",
      " - 364s - loss: 0.0104 - acc: 0.9967 - val_loss: 0.0197 - val_acc: 0.9957\n",
      "Epoch 280/360\n",
      " - 364s - loss: 0.0104 - acc: 0.9967 - val_loss: 0.0211 - val_acc: 0.9953\n",
      "Epoch 281/360\n",
      " - 364s - loss: 0.0104 - acc: 0.9967 - val_loss: 0.0192 - val_acc: 0.9958\n",
      "Epoch 282/360\n",
      " - 364s - loss: 0.0103 - acc: 0.9968 - val_loss: 0.0196 - val_acc: 0.9956\n",
      "Epoch 283/360\n",
      " - 364s - loss: 0.0104 - acc: 0.9967 - val_loss: 0.0182 - val_acc: 0.9961\n",
      "Epoch 284/360\n",
      " - 364s - loss: 0.0103 - acc: 0.9968 - val_loss: 0.0190 - val_acc: 0.9958\n",
      "Epoch 285/360\n",
      " - 364s - loss: 0.0102 - acc: 0.9968 - val_loss: 0.0200 - val_acc: 0.9957\n",
      "Epoch 286/360\n",
      " - 364s - loss: 0.0100 - acc: 0.9968 - val_loss: 0.0193 - val_acc: 0.9958\n",
      "Epoch 287/360\n",
      " - 364s - loss: 0.0101 - acc: 0.9969 - val_loss: 0.0195 - val_acc: 0.9954\n",
      "Epoch 288/360\n",
      " - 365s - loss: 0.0108 - acc: 0.9967 - val_loss: 0.0189 - val_acc: 0.9957\n",
      "Epoch 289/360\n",
      " - 364s - loss: 0.0100 - acc: 0.9969 - val_loss: 0.0193 - val_acc: 0.9958\n",
      "Epoch 290/360\n",
      " - 364s - loss: 0.0098 - acc: 0.9969 - val_loss: 0.0192 - val_acc: 0.9958\n",
      "Epoch 291/360\n",
      " - 364s - loss: 0.0100 - acc: 0.9969 - val_loss: 0.0184 - val_acc: 0.9962\n",
      "Epoch 292/360\n",
      " - 364s - loss: 0.0099 - acc: 0.9969 - val_loss: 0.0180 - val_acc: 0.9961\n",
      "Epoch 293/360\n",
      " - 366s - loss: 0.0097 - acc: 0.9969 - val_loss: 0.0195 - val_acc: 0.9954\n",
      "Epoch 294/360\n",
      " - 368s - loss: 0.0097 - acc: 0.9969 - val_loss: 0.0183 - val_acc: 0.9962\n",
      "Epoch 295/360\n",
      " - 365s - loss: 0.0096 - acc: 0.9970 - val_loss: 0.0181 - val_acc: 0.9960\n",
      "Epoch 296/360\n",
      " - 364s - loss: 0.0095 - acc: 0.9970 - val_loss: 0.0195 - val_acc: 0.9956\n",
      "Epoch 297/360\n",
      " - 364s - loss: 0.0098 - acc: 0.9969 - val_loss: 0.0188 - val_acc: 0.9957\n",
      "Epoch 298/360\n",
      " - 365s - loss: 0.0094 - acc: 0.9970 - val_loss: 0.0226 - val_acc: 0.9957\n",
      "Epoch 299/360\n",
      " - 364s - loss: 0.0094 - acc: 0.9970 - val_loss: 0.0178 - val_acc: 0.9962\n",
      "Epoch 300/360\n",
      " - 365s - loss: 0.0094 - acc: 0.9970 - val_loss: 0.0180 - val_acc: 0.9959\n",
      "Epoch 301/360\n",
      " - 366s - loss: 0.0093 - acc: 0.9971 - val_loss: 0.0175 - val_acc: 0.9961\n",
      "Epoch 302/360\n",
      " - 365s - loss: 0.0095 - acc: 0.9970 - val_loss: 0.0176 - val_acc: 0.9962\n",
      "Epoch 303/360\n",
      " - 365s - loss: 0.0094 - acc: 0.9971 - val_loss: 0.0191 - val_acc: 0.9957\n",
      "Epoch 304/360\n",
      " - 366s - loss: 0.0094 - acc: 0.9971 - val_loss: 0.0177 - val_acc: 0.9960\n",
      "Epoch 305/360\n",
      " - 365s - loss: 0.0093 - acc: 0.9971 - val_loss: 0.0176 - val_acc: 0.9963\n",
      "Epoch 306/360\n",
      " - 365s - loss: 0.0093 - acc: 0.9971 - val_loss: 0.0183 - val_acc: 0.9959\n",
      "Epoch 307/360\n",
      " - 365s - loss: 0.0092 - acc: 0.9971 - val_loss: 0.0194 - val_acc: 0.9960\n",
      "Epoch 308/360\n",
      " - 365s - loss: 0.0110 - acc: 0.9967 - val_loss: 0.0214 - val_acc: 0.9949\n",
      "Epoch 309/360\n",
      " - 364s - loss: 0.0100 - acc: 0.9969 - val_loss: 0.0176 - val_acc: 0.9964\n",
      "Epoch 310/360\n",
      " - 365s - loss: 0.0092 - acc: 0.9971 - val_loss: 0.0169 - val_acc: 0.9964\n",
      "Epoch 311/360\n"
     ]
    },
    {
     "ename": "KeyboardInterrupt",
     "evalue": "",
     "output_type": "error",
     "traceback": [
      "\u001b[1;31m---------------------------------------------------------------------------\u001b[0m",
      "\u001b[1;31mKeyboardInterrupt\u001b[0m                         Traceback (most recent call last)",
      "\u001b[1;32m<timed exec>\u001b[0m in \u001b[0;36m<module>\u001b[1;34m\u001b[0m\n",
      "\u001b[1;32m~\\AppData\\Local\\Continuum\\anaconda3\\lib\\site-packages\\keras\\engine\\training.py\u001b[0m in \u001b[0;36mfit\u001b[1;34m(self, x, y, batch_size, epochs, verbose, callbacks, validation_split, validation_data, shuffle, class_weight, sample_weight, initial_epoch, steps_per_epoch, validation_steps, **kwargs)\u001b[0m\n\u001b[0;32m   1040\u001b[0m                                         \u001b[0minitial_epoch\u001b[0m\u001b[1;33m=\u001b[0m\u001b[0minitial_epoch\u001b[0m\u001b[1;33m,\u001b[0m\u001b[1;33m\u001b[0m\u001b[1;33m\u001b[0m\u001b[0m\n\u001b[0;32m   1041\u001b[0m                                         \u001b[0msteps_per_epoch\u001b[0m\u001b[1;33m=\u001b[0m\u001b[0msteps_per_epoch\u001b[0m\u001b[1;33m,\u001b[0m\u001b[1;33m\u001b[0m\u001b[1;33m\u001b[0m\u001b[0m\n\u001b[1;32m-> 1042\u001b[1;33m                                         validation_steps=validation_steps)\n\u001b[0m\u001b[0;32m   1043\u001b[0m \u001b[1;33m\u001b[0m\u001b[0m\n\u001b[0;32m   1044\u001b[0m     def evaluate(self, x=None, y=None,\n",
      "\u001b[1;32m~\\AppData\\Local\\Continuum\\anaconda3\\lib\\site-packages\\keras\\engine\\training_arrays.py\u001b[0m in \u001b[0;36mfit_loop\u001b[1;34m(model, f, ins, out_labels, batch_size, epochs, verbose, callbacks, val_f, val_ins, shuffle, callback_metrics, initial_epoch, steps_per_epoch, validation_steps)\u001b[0m\n\u001b[0;32m    183\u001b[0m                         \u001b[1;31m# Do not slice the training phase flag.\u001b[0m\u001b[1;33m\u001b[0m\u001b[1;33m\u001b[0m\u001b[1;33m\u001b[0m\u001b[0m\n\u001b[0;32m    184\u001b[0m                         ins_batch = slice_arrays(\n\u001b[1;32m--> 185\u001b[1;33m                             ins[:-1], batch_ids) + [ins[-1]]\n\u001b[0m\u001b[0;32m    186\u001b[0m                     \u001b[1;32melse\u001b[0m\u001b[1;33m:\u001b[0m\u001b[1;33m\u001b[0m\u001b[1;33m\u001b[0m\u001b[0m\n\u001b[0;32m    187\u001b[0m                         \u001b[0mins_batch\u001b[0m \u001b[1;33m=\u001b[0m \u001b[0mslice_arrays\u001b[0m\u001b[1;33m(\u001b[0m\u001b[0mins\u001b[0m\u001b[1;33m,\u001b[0m \u001b[0mbatch_ids\u001b[0m\u001b[1;33m)\u001b[0m\u001b[1;33m\u001b[0m\u001b[1;33m\u001b[0m\u001b[0m\n",
      "\u001b[1;32m~\\AppData\\Local\\Continuum\\anaconda3\\lib\\site-packages\\keras\\utils\\generic_utils.py\u001b[0m in \u001b[0;36mslice_arrays\u001b[1;34m(arrays, start, stop)\u001b[0m\n\u001b[0;32m    505\u001b[0m             \u001b[1;32mif\u001b[0m \u001b[0mhasattr\u001b[0m\u001b[1;33m(\u001b[0m\u001b[0mstart\u001b[0m\u001b[1;33m,\u001b[0m \u001b[1;34m'shape'\u001b[0m\u001b[1;33m)\u001b[0m\u001b[1;33m:\u001b[0m\u001b[1;33m\u001b[0m\u001b[1;33m\u001b[0m\u001b[0m\n\u001b[0;32m    506\u001b[0m                 \u001b[0mstart\u001b[0m \u001b[1;33m=\u001b[0m \u001b[0mstart\u001b[0m\u001b[1;33m.\u001b[0m\u001b[0mtolist\u001b[0m\u001b[1;33m(\u001b[0m\u001b[1;33m)\u001b[0m\u001b[1;33m\u001b[0m\u001b[1;33m\u001b[0m\u001b[0m\n\u001b[1;32m--> 507\u001b[1;33m             \u001b[1;32mreturn\u001b[0m \u001b[1;33m[\u001b[0m\u001b[1;32mNone\u001b[0m \u001b[1;32mif\u001b[0m \u001b[0mx\u001b[0m \u001b[1;32mis\u001b[0m \u001b[1;32mNone\u001b[0m \u001b[1;32melse\u001b[0m \u001b[0mx\u001b[0m\u001b[1;33m[\u001b[0m\u001b[0mstart\u001b[0m\u001b[1;33m]\u001b[0m \u001b[1;32mfor\u001b[0m \u001b[0mx\u001b[0m \u001b[1;32min\u001b[0m \u001b[0marrays\u001b[0m\u001b[1;33m]\u001b[0m\u001b[1;33m\u001b[0m\u001b[1;33m\u001b[0m\u001b[0m\n\u001b[0m\u001b[0;32m    508\u001b[0m         \u001b[1;32melse\u001b[0m\u001b[1;33m:\u001b[0m\u001b[1;33m\u001b[0m\u001b[1;33m\u001b[0m\u001b[0m\n\u001b[0;32m    509\u001b[0m             \u001b[1;32mreturn\u001b[0m \u001b[1;33m[\u001b[0m\u001b[1;32mNone\u001b[0m \u001b[1;32mif\u001b[0m \u001b[0mx\u001b[0m \u001b[1;32mis\u001b[0m \u001b[1;32mNone\u001b[0m \u001b[1;32melse\u001b[0m \u001b[0mx\u001b[0m\u001b[1;33m[\u001b[0m\u001b[0mstart\u001b[0m\u001b[1;33m:\u001b[0m\u001b[0mstop\u001b[0m\u001b[1;33m]\u001b[0m \u001b[1;32mfor\u001b[0m \u001b[0mx\u001b[0m \u001b[1;32min\u001b[0m \u001b[0marrays\u001b[0m\u001b[1;33m]\u001b[0m\u001b[1;33m\u001b[0m\u001b[1;33m\u001b[0m\u001b[0m\n",
      "\u001b[1;32m~\\AppData\\Local\\Continuum\\anaconda3\\lib\\site-packages\\keras\\utils\\generic_utils.py\u001b[0m in \u001b[0;36m<listcomp>\u001b[1;34m(.0)\u001b[0m\n\u001b[0;32m    505\u001b[0m             \u001b[1;32mif\u001b[0m \u001b[0mhasattr\u001b[0m\u001b[1;33m(\u001b[0m\u001b[0mstart\u001b[0m\u001b[1;33m,\u001b[0m \u001b[1;34m'shape'\u001b[0m\u001b[1;33m)\u001b[0m\u001b[1;33m:\u001b[0m\u001b[1;33m\u001b[0m\u001b[1;33m\u001b[0m\u001b[0m\n\u001b[0;32m    506\u001b[0m                 \u001b[0mstart\u001b[0m \u001b[1;33m=\u001b[0m \u001b[0mstart\u001b[0m\u001b[1;33m.\u001b[0m\u001b[0mtolist\u001b[0m\u001b[1;33m(\u001b[0m\u001b[1;33m)\u001b[0m\u001b[1;33m\u001b[0m\u001b[1;33m\u001b[0m\u001b[0m\n\u001b[1;32m--> 507\u001b[1;33m             \u001b[1;32mreturn\u001b[0m \u001b[1;33m[\u001b[0m\u001b[1;32mNone\u001b[0m \u001b[1;32mif\u001b[0m \u001b[0mx\u001b[0m \u001b[1;32mis\u001b[0m \u001b[1;32mNone\u001b[0m \u001b[1;32melse\u001b[0m \u001b[0mx\u001b[0m\u001b[1;33m[\u001b[0m\u001b[0mstart\u001b[0m\u001b[1;33m]\u001b[0m \u001b[1;32mfor\u001b[0m \u001b[0mx\u001b[0m \u001b[1;32min\u001b[0m \u001b[0marrays\u001b[0m\u001b[1;33m]\u001b[0m\u001b[1;33m\u001b[0m\u001b[1;33m\u001b[0m\u001b[0m\n\u001b[0m\u001b[0;32m    508\u001b[0m         \u001b[1;32melse\u001b[0m\u001b[1;33m:\u001b[0m\u001b[1;33m\u001b[0m\u001b[1;33m\u001b[0m\u001b[0m\n\u001b[0;32m    509\u001b[0m             \u001b[1;32mreturn\u001b[0m \u001b[1;33m[\u001b[0m\u001b[1;32mNone\u001b[0m \u001b[1;32mif\u001b[0m \u001b[0mx\u001b[0m \u001b[1;32mis\u001b[0m \u001b[1;32mNone\u001b[0m \u001b[1;32melse\u001b[0m \u001b[0mx\u001b[0m\u001b[1;33m[\u001b[0m\u001b[0mstart\u001b[0m\u001b[1;33m:\u001b[0m\u001b[0mstop\u001b[0m\u001b[1;33m]\u001b[0m \u001b[1;32mfor\u001b[0m \u001b[0mx\u001b[0m \u001b[1;32min\u001b[0m \u001b[0marrays\u001b[0m\u001b[1;33m]\u001b[0m\u001b[1;33m\u001b[0m\u001b[1;33m\u001b[0m\u001b[0m\n",
      "\u001b[1;31mKeyboardInterrupt\u001b[0m: "
     ]
    }
   ],
   "source": [
    "%%time\n",
    "print(model_id)\n",
    "model = keras.models.load_model(NOTEBOOK_PATH + \"Models/%s/rnn(85).h5\" % model_id)\n",
    "# model = createModel(**parameters)\n",
    "model.summary()\n",
    "model_checkpoint = ModelCheckpoint(NOTEBOOK_PATH + \"Models/%s/rnn({epoch}).h5\" % (model_id), monitor='val_loss')\n",
    "model.fit(x_train_resnpy, y_train_res2, validation_data=(x_val, y_val), batch_size=parameters['batch_size'], initial_epoch=85, epochs=trainEpochs, verbose=2, callbacks=[csv_callback, model_checkpoint])"
   ]
  },
  {
   "cell_type": "markdown",
   "metadata": {},
   "source": [
    "# Graph the losses"
   ]
  },
  {
   "cell_type": "code",
   "execution_count": 49,
   "metadata": {},
   "outputs": [
    {
     "name": "stdout",
     "output_type": "stream",
     "text": [
      "C:/Users/Xetrov/Desktop/SciFair20/Code/Loss Logs\\rnn8-sgd-0_0001lr (10-23-2019, 0726AM)\n"
     ]
    }
   ],
   "source": [
    "def most_recent_file(pattern):\n",
    "    return max(glob.iglob(pattern, recursive=True), key=os.path.getctime)\n",
    "\n",
    "logpath = most_recent_file(NOTEBOOK_PATH + \"Loss Logs/%s**\" % model_id)\n",
    "log_df = pd.read_csv(logpath)\n",
    "log_df['epoch'] += 1\n",
    "\n",
    "print(logpath)"
   ]
  },
  {
   "cell_type": "code",
   "execution_count": 50,
   "metadata": {},
   "outputs": [
    {
     "data": {
      "image/png": "[encoded data removed]",
      "text/plain": [
       "<Figure size 864x432 with 1 Axes>"
      ]
     },
     "metadata": {
      "needs_background": "light"
     },
     "output_type": "display_data"
    }
   ],
   "source": [
    "plot_df = log_df[:]\n",
    "\n",
    "metric = 'loss'\n",
    "\n",
    "plt.figure(figsize=(12,6))\n",
    "sns.lineplot(x='epoch', y=metric, data=plot_df, label=metric)\n",
    "sns.lineplot(x='epoch', y='val_'+metric, data=plot_df, label='val_'+metric)\n",
    "plt.legend()\n",
    "\n",
    "minEpoch = plot_df.loc[plot_df.idxmin()[metric]]\n",
    "plt.plot((minEpoch['epoch']), (minEpoch[metric]), 'go', markersize=8)\n",
    "minEpoch = plot_df.loc[plot_df.idxmin()['val_'+metric]]\n",
    "plt.plot((minEpoch['epoch']), (minEpoch['val_'+metric]), 'ro', markersize=8)\n",
    "\n",
    "plt.xticks(list(range(0, plot_df['epoch'].max()+1, 5)))\n",
    "# plt.yticks(list(np.arange(0.0,0.4,0.05)))\n",
    "\n",
    "plt.grid(True)"
   ]
  },
  {
   "cell_type": "markdown",
   "metadata": {},
   "source": [
    "# Test Data"
   ]
  },
  {
   "cell_type": "code",
   "execution_count": 42,
   "metadata": {},
   "outputs": [],
   "source": [
    "from sklearn.metrics import f1_score"
   ]
  },
  {
   "cell_type": "code",
   "execution_count": 47,
   "metadata": {},
   "outputs": [],
   "source": [
    "model = keras.models.load_model(NOTEBOOK_PATH + \"Models/%s/rnn(85).h5\" % model_id)"
   ]
  },
  {
   "cell_type": "code",
   "execution_count": 48,
   "metadata": {},
   "outputs": [],
   "source": [
    "pred = model.predict(x_test, batch_size=256).argmax(axis=1)\n",
    "pred_f1 = np.zeros((len(x_test), y_test.shape[1]))\n",
    "for j in range(len(pred)):\n",
    "    pred_f1[j,pred[j]] = 1"
   ]
  },
  {
   "cell_type": "code",
   "execution_count": 49,
   "metadata": {},
   "outputs": [
    {
     "name": "stdout",
     "output_type": "stream",
     "text": [
      "Micro: 0.9933974978318428\n",
      "Macro: 0.7356681304024042\n"
     ]
    }
   ],
   "source": [
    "f1_micro = f1_score(y_test, pred_f1.astype('uint8'), average='micro')\n",
    "f1_macro = f1_score(y_test, pred_f1.astype('uint8'), average='macro')\n",
    "print(\"Micro:\", f1_micro)\n",
    "print(\"Macro:\", f1_macro)"
   ]
  },
  {
   "cell_type": "code",
   "execution_count": 50,
   "metadata": {},
   "outputs": [
    {
     "name": "stdout",
     "output_type": "stream",
     "text": [
      "Done!\n"
     ]
    },
    {
     "data": {
      "text/html": [
       "<div>\n",
       "<style scoped>\n",
       "    .dataframe tbody tr th:only-of-type {\n",
       "        vertical-align: middle;\n",
       "    }\n",
       "\n",
       "    .dataframe tbody tr th {\n",
       "        vertical-align: top;\n",
       "    }\n",
       "\n",
       "    .dataframe thead th {\n",
       "        text-align: right;\n",
       "    }\n",
       "</style>\n",
       "<table border=\"1\" class=\"dataframe\">\n",
       "  <thead>\n",
       "    <tr style=\"text-align: right;\">\n",
       "      <th>Actual</th>\n",
       "      <th>BENIGN</th>\n",
       "      <th>Botnet</th>\n",
       "      <th>Brute Force</th>\n",
       "      <th>DoS/DDoS</th>\n",
       "      <th>Infiltration</th>\n",
       "      <th>PortScan</th>\n",
       "      <th>Web Attack</th>\n",
       "      <th>All</th>\n",
       "    </tr>\n",
       "    <tr>\n",
       "      <th>Pred</th>\n",
       "      <th></th>\n",
       "      <th></th>\n",
       "      <th></th>\n",
       "      <th></th>\n",
       "      <th></th>\n",
       "      <th></th>\n",
       "      <th></th>\n",
       "      <th></th>\n",
       "    </tr>\n",
       "  </thead>\n",
       "  <tbody>\n",
       "    <tr>\n",
       "      <th>BENIGN</th>\n",
       "      <td>451225</td>\n",
       "      <td>16</td>\n",
       "      <td>4</td>\n",
       "      <td>50</td>\n",
       "      <td>3</td>\n",
       "      <td>12</td>\n",
       "      <td>3</td>\n",
       "      <td>451313</td>\n",
       "    </tr>\n",
       "    <tr>\n",
       "      <th>Botnet</th>\n",
       "      <td>1548</td>\n",
       "      <td>360</td>\n",
       "      <td>0</td>\n",
       "      <td>0</td>\n",
       "      <td>0</td>\n",
       "      <td>0</td>\n",
       "      <td>0</td>\n",
       "      <td>1908</td>\n",
       "    </tr>\n",
       "    <tr>\n",
       "      <th>Brute Force</th>\n",
       "      <td>468</td>\n",
       "      <td>0</td>\n",
       "      <td>2746</td>\n",
       "      <td>0</td>\n",
       "      <td>0</td>\n",
       "      <td>0</td>\n",
       "      <td>0</td>\n",
       "      <td>3214</td>\n",
       "    </tr>\n",
       "    <tr>\n",
       "      <th>DoS/DDoS</th>\n",
       "      <td>1125</td>\n",
       "      <td>0</td>\n",
       "      <td>2</td>\n",
       "      <td>75789</td>\n",
       "      <td>0</td>\n",
       "      <td>9</td>\n",
       "      <td>7</td>\n",
       "      <td>76932</td>\n",
       "    </tr>\n",
       "    <tr>\n",
       "      <th>Infiltration</th>\n",
       "      <td>90</td>\n",
       "      <td>8</td>\n",
       "      <td>0</td>\n",
       "      <td>0</td>\n",
       "      <td>2</td>\n",
       "      <td>0</td>\n",
       "      <td>0</td>\n",
       "      <td>100</td>\n",
       "    </tr>\n",
       "    <tr>\n",
       "      <th>PortScan</th>\n",
       "      <td>250</td>\n",
       "      <td>0</td>\n",
       "      <td>0</td>\n",
       "      <td>50</td>\n",
       "      <td>0</td>\n",
       "      <td>31854</td>\n",
       "      <td>0</td>\n",
       "      <td>32154</td>\n",
       "    </tr>\n",
       "    <tr>\n",
       "      <th>Web Attack</th>\n",
       "      <td>84</td>\n",
       "      <td>0</td>\n",
       "      <td>0</td>\n",
       "      <td>8</td>\n",
       "      <td>0</td>\n",
       "      <td>1</td>\n",
       "      <td>435</td>\n",
       "      <td>528</td>\n",
       "    </tr>\n",
       "    <tr>\n",
       "      <th>All</th>\n",
       "      <td>454790</td>\n",
       "      <td>384</td>\n",
       "      <td>2752</td>\n",
       "      <td>75897</td>\n",
       "      <td>5</td>\n",
       "      <td>31876</td>\n",
       "      <td>445</td>\n",
       "      <td>566149</td>\n",
       "    </tr>\n",
       "  </tbody>\n",
       "</table>\n",
       "</div>"
      ],
      "text/plain": [
       "Actual        BENIGN  Botnet  Brute Force  DoS/DDoS  Infiltration  PortScan  \\\n",
       "Pred                                                                          \n",
       "BENIGN        451225      16            4        50             3        12   \n",
       "Botnet          1548     360            0         0             0         0   \n",
       "Brute Force      468       0         2746         0             0         0   \n",
       "DoS/DDoS        1125       0            2     75789             0         9   \n",
       "Infiltration      90       8            0         0             2         0   \n",
       "PortScan         250       0            0        50             0     31854   \n",
       "Web Attack        84       0            0         8             0         1   \n",
       "All           454790     384         2752     75897             5     31876   \n",
       "\n",
       "Actual        Web Attack     All  \n",
       "Pred                              \n",
       "BENIGN                 3  451313  \n",
       "Botnet                 0    1908  \n",
       "Brute Force            0    3214  \n",
       "DoS/DDoS               7   76932  \n",
       "Infiltration           0     100  \n",
       "PortScan               0   32154  \n",
       "Web Attack           435     528  \n",
       "All                  445  566149  "
      ]
     },
     "execution_count": 50,
     "metadata": {},
     "output_type": "execute_result"
    }
   ],
   "source": [
    "pred_index = pred\n",
    "y_index = list(np.argmax(y_test.to_numpy(), axis=1))\n",
    "\n",
    "atktypes = sorted(y_test.columns)\n",
    "pred_series = pd.Series(pred_index, name=\"Pred\").replace(dict(enumerate(atktypes)))\n",
    "y_series = pd.Series(y_index, name=\"Actual\").replace(dict(enumerate(atktypes)))\n",
    "\n",
    "matrix = pd.crosstab(pred_series, y_series, margins=True)\n",
    "print(\"Done!\")\n",
    "matrix.to_csv(NOTEBOOK_PATH + \"Confusion Matrices/%s.csv\" % model_id)\n",
    "matrix"
   ]
  },
  {
   "cell_type": "markdown",
   "metadata": {},
   "source": [
    "# Log results"
   ]
  },
  {
   "cell_type": "code",
   "execution_count": 35,
   "metadata": {},
   "outputs": [],
   "source": [
    "model_log = open(NOTEBOOK_PATH + \"model_log.txt\", \"a\")\n",
    "\n",
    "model_log.write(\"\\n\" + model_id)\n",
    "model_log.write(\"\\n\\tF1 Micro: \" + str(f1_micro))\n",
    "model_log.write(\"\\n\\tF1 Macro: \" + str(f1_macro))\n",
    "\n",
    "model_log.close()"
   ]
  },
  {
   "cell_type": "code",
   "execution_count": null,
   "metadata": {},
   "outputs": [],
   "source": []
  }
 ],
 "metadata": {
  "kernelspec": {
   "display_name": "Python 3",
   "language": "python",
   "name": "python3"
  },
  "language_info": {
   "codemirror_mode": {
    "name": "ipython",
    "version": 3
   },
   "file_extension": ".py",
   "mimetype": "text/x-python",
   "name": "python",
   "nbconvert_exporter": "python",
   "pygments_lexer": "ipython3",
   "version": "3.6.7"
  }
 },
 "nbformat": 4,
 "nbformat_minor": 4
}

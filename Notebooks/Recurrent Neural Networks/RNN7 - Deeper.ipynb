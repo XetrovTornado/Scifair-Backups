{
 "cells": [
  {
   "cell_type": "markdown",
   "metadata": {},
   "source": [
    "# CSE-CIC-IDS 2017"
   ]
  },
  {
   "cell_type": "code",
   "execution_count": 1,
   "metadata": {},
   "outputs": [],
   "source": [
    "model_id = \"rnn7-5deepdrop\""
   ]
  },
  {
   "cell_type": "code",
   "execution_count": 2,
   "metadata": {},
   "outputs": [
    {
     "name": "stderr",
     "output_type": "stream",
     "text": [
      "Using TensorFlow backend.\n",
      "C:\\Users\\Xetrov\\AppData\\Local\\Continuum\\anaconda3\\lib\\site-packages\\tensorflow\\python\\framework\\dtypes.py:517: FutureWarning: Passing (type, 1) or '1type' as a synonym of type is deprecated; in a future version of numpy, it will be understood as (type, (1,)) / '(1,)type'.\n",
      "  _np_qint8 = np.dtype([(\"qint8\", np.int8, 1)])\n",
      "C:\\Users\\Xetrov\\AppData\\Local\\Continuum\\anaconda3\\lib\\site-packages\\tensorflow\\python\\framework\\dtypes.py:518: FutureWarning: Passing (type, 1) or '1type' as a synonym of type is deprecated; in a future version of numpy, it will be understood as (type, (1,)) / '(1,)type'.\n",
      "  _np_quint8 = np.dtype([(\"quint8\", np.uint8, 1)])\n",
      "C:\\Users\\Xetrov\\AppData\\Local\\Continuum\\anaconda3\\lib\\site-packages\\tensorflow\\python\\framework\\dtypes.py:519: FutureWarning: Passing (type, 1) or '1type' as a synonym of type is deprecated; in a future version of numpy, it will be understood as (type, (1,)) / '(1,)type'.\n",
      "  _np_qint16 = np.dtype([(\"qint16\", np.int16, 1)])\n",
      "C:\\Users\\Xetrov\\AppData\\Local\\Continuum\\anaconda3\\lib\\site-packages\\tensorflow\\python\\framework\\dtypes.py:520: FutureWarning: Passing (type, 1) or '1type' as a synonym of type is deprecated; in a future version of numpy, it will be understood as (type, (1,)) / '(1,)type'.\n",
      "  _np_quint16 = np.dtype([(\"quint16\", np.uint16, 1)])\n",
      "C:\\Users\\Xetrov\\AppData\\Local\\Continuum\\anaconda3\\lib\\site-packages\\tensorflow\\python\\framework\\dtypes.py:521: FutureWarning: Passing (type, 1) or '1type' as a synonym of type is deprecated; in a future version of numpy, it will be understood as (type, (1,)) / '(1,)type'.\n",
      "  _np_qint32 = np.dtype([(\"qint32\", np.int32, 1)])\n",
      "C:\\Users\\Xetrov\\AppData\\Local\\Continuum\\anaconda3\\lib\\site-packages\\tensorflow\\python\\framework\\dtypes.py:526: FutureWarning: Passing (type, 1) or '1type' as a synonym of type is deprecated; in a future version of numpy, it will be understood as (type, (1,)) / '(1,)type'.\n",
      "  np_resource = np.dtype([(\"resource\", np.ubyte, 1)])\n"
     ]
    }
   ],
   "source": [
    "import numpy as np\n",
    "np.random.seed(42)\n",
    "np.set_printoptions(suppress=True)\n",
    "import pandas as pd\n",
    "import matplotlib.pyplot as plt\n",
    "import seaborn as sns\n",
    "from tqdm import tqdm\n",
    "tqdm.pandas()\n",
    "\n",
    "import glob, time, os\n",
    "\n",
    "import keras"
   ]
  },
  {
   "cell_type": "code",
   "execution_count": 3,
   "metadata": {},
   "outputs": [],
   "source": [
    "NOTEBOOK_PATH = \"C:/Users/Xetrov/Desktop/SciFair20/Code/\""
   ]
  },
  {
   "cell_type": "code",
   "execution_count": 4,
   "metadata": {},
   "outputs": [],
   "source": [
    "x_scaled = pd.read_csv(NOTEBOOK_PATH + \"IDS2017/x_scaled_powertransform.csv\")\n",
    "y_df_enc = pd.read_csv(NOTEBOOK_PATH + \"IDS2017/y_grouped_1henc.csv\")"
   ]
  },
  {
   "cell_type": "code",
   "execution_count": 5,
   "metadata": {},
   "outputs": [],
   "source": [
    "x_scaled_npy = np.expand_dims(x_scaled.to_numpy(), axis=-1)"
   ]
  },
  {
   "cell_type": "code",
   "execution_count": 6,
   "metadata": {},
   "outputs": [
    {
     "data": {
      "text/plain": [
       "(2830743, 68, 1)"
      ]
     },
     "execution_count": 6,
     "metadata": {},
     "output_type": "execute_result"
    }
   ],
   "source": [
    "x_scaled_npy.shape"
   ]
  },
  {
   "cell_type": "markdown",
   "metadata": {},
   "source": [
    "# Split data into train and test"
   ]
  },
  {
   "cell_type": "code",
   "execution_count": 7,
   "metadata": {},
   "outputs": [],
   "source": [
    "from sklearn.model_selection import train_test_split"
   ]
  },
  {
   "cell_type": "code",
   "execution_count": 8,
   "metadata": {},
   "outputs": [],
   "source": [
    "x_train, x_valtest, y_train, y_valtest = train_test_split(x_scaled_npy, y_df_enc, test_size = 0.4, random_state = 42)"
   ]
  },
  {
   "cell_type": "code",
   "execution_count": 9,
   "metadata": {},
   "outputs": [],
   "source": [
    "x_val, x_test, y_val, y_test = train_test_split(x_valtest, y_valtest, test_size = 0.5, random_state = 42)"
   ]
  },
  {
   "cell_type": "code",
   "execution_count": 10,
   "metadata": {},
   "outputs": [],
   "source": [
    "del x_valtest \n",
    "del y_valtest"
   ]
  },
  {
   "cell_type": "code",
   "execution_count": 11,
   "metadata": {},
   "outputs": [
    {
     "data": {
      "text/plain": [
       "BENIGN          1364100\n",
       "Botnet             1185\n",
       "Brute Force        8273\n",
       "DoS/DDoS         228292\n",
       "Infiltration         24\n",
       "PortScan          95267\n",
       "Web Attack         1304\n",
       "dtype: int64"
      ]
     },
     "execution_count": 11,
     "metadata": {},
     "output_type": "execute_result"
    }
   ],
   "source": [
    "y_train.sum(axis=0)"
   ]
  },
  {
   "cell_type": "code",
   "execution_count": 12,
   "metadata": {},
   "outputs": [
    {
     "data": {
      "text/plain": [
       "BENIGN          454207\n",
       "Botnet             397\n",
       "Brute Force       2810\n",
       "DoS/DDoS         76510\n",
       "Infiltration         7\n",
       "PortScan         31787\n",
       "Web Attack         431\n",
       "dtype: int64"
      ]
     },
     "execution_count": 12,
     "metadata": {},
     "output_type": "execute_result"
    }
   ],
   "source": [
    "y_val.sum(axis=0)"
   ]
  },
  {
   "cell_type": "code",
   "execution_count": 13,
   "metadata": {},
   "outputs": [
    {
     "data": {
      "text/plain": [
       "BENIGN          454790\n",
       "Botnet             384\n",
       "Brute Force       2752\n",
       "DoS/DDoS         75897\n",
       "Infiltration         5\n",
       "PortScan         31876\n",
       "Web Attack         445\n",
       "dtype: int64"
      ]
     },
     "execution_count": 13,
     "metadata": {},
     "output_type": "execute_result"
    }
   ],
   "source": [
    "y_test.sum(axis=0)"
   ]
  },
  {
   "cell_type": "markdown",
   "metadata": {},
   "source": [
    "# Load ADASYN data"
   ]
  },
  {
   "cell_type": "code",
   "execution_count": 14,
   "metadata": {},
   "outputs": [],
   "source": [
    "x_train_res = pd.read_csv(NOTEBOOK_PATH + \"IDS2017/x_adasyn.csv\").to_numpy()"
   ]
  },
  {
   "cell_type": "code",
   "execution_count": 15,
   "metadata": {},
   "outputs": [],
   "source": [
    "y_train_res = pd.read_csv(NOTEBOOK_PATH + \"IDS2017/y_adasyn.csv\")\n",
    "\n",
    "y_train_res2 = pd.get_dummies(y_train_res[y_train_res.columns[0]])"
   ]
  },
  {
   "cell_type": "code",
   "execution_count": 16,
   "metadata": {},
   "outputs": [],
   "source": [
    "x_train_resnpy = np.expand_dims(x_train_res, axis=-1)"
   ]
  },
  {
   "cell_type": "markdown",
   "metadata": {},
   "source": [
    "# Train model"
   ]
  },
  {
   "cell_type": "code",
   "execution_count": 17,
   "metadata": {},
   "outputs": [],
   "source": [
    "from keras.models import Model, Sequential\n",
    "from keras.layers import Dense, LSTM, CuDNNLSTM, BatchNormalization, Dropout, InputLayer, GRU, CuDNNGRU\n",
    "from keras.optimizers import SGD, Adam"
   ]
  },
  {
   "cell_type": "code",
   "execution_count": 18,
   "metadata": {},
   "outputs": [
    {
     "data": {
      "text/plain": [
       "(68, 1)"
      ]
     },
     "execution_count": 18,
     "metadata": {},
     "output_type": "execute_result"
    }
   ],
   "source": [
    "x_train.shape[1:]"
   ]
  },
  {
   "cell_type": "code",
   "execution_count": 19,
   "metadata": {},
   "outputs": [],
   "source": [
    "def addDenseBlock(model, units, **params):\n",
    "    model.add(Dense(units=units, activation=params['hidden_activation'], input_dim=x_train.shape[1]))\n",
    "    if params['batch_normalization']: model.add(BatchNormalization())\n",
    "    if params['dropout_rate'] > 0: model.add(Dropout(params['dropout_rate']))\n",
    "\n",
    "def addLSTMBlock(model, units, return_sequences=False, **params):\n",
    "    model.add(LSTM(units=units, return_sequences=return_sequences, input_shape=x_train.shape[1:]))\n",
    "    if params['batch_normalization']: model.add(BatchNormalization())\n",
    "    if params['dropout_rate'] > 0: model.add(Dropout(params['dropout_rate']))\n",
    "        \n",
    "def addCuDNNLSTMBlock(model, units, return_sequences=False, **params):\n",
    "    model.add(CuDNNLSTM(units=units, return_sequences=return_sequences, input_shape=x_train.shape[1:]))\n",
    "    if params['batch_normalization']: model.add(BatchNormalization())\n",
    "    if params['dropout_rate'] > 0: model.add(Dropout(params['dropout_rate']))\n",
    "\n",
    "def addGRUBlock(model, units, return_sequences=False, **params):\n",
    "    model.add(GRU(units=units, return_sequences=return_sequences, input_shape=x_train.shape[1:]))\n",
    "    if params['batch_normalization']: model.add(BatchNormalization())\n",
    "    if params['dropout_rate'] > 0: model.add(Dropout(params['dropout_rate']))\n",
    "        \n",
    "def addCuDNNGRUBlock(model, units, return_sequences=False, **params):\n",
    "    model.add(CuDNNGRU(units=units, return_sequences=return_sequences, input_shape=x_train.shape[1:]))\n",
    "    if params['batch_normalization']: model.add(BatchNormalization())\n",
    "    if params['dropout_rate'] > 0: model.add(Dropout(params['dropout_rate']))\n",
    "        \n",
    "def createModel(**in_params):\n",
    "    \"\"\"\n",
    "    Supported parameters:\n",
    "    batch_normalization - True or False\n",
    "    dropout_rate - 0 to 1\n",
    "    num_units - integer\n",
    "    learning_rate - float\n",
    "    activation_function - string\n",
    "    \"\"\"\n",
    "    \n",
    "    model = Sequential()\n",
    "\n",
    "    # Set default values\n",
    "    params = {\n",
    "        'batch_normalization': True,\n",
    "        'dropout_rate': 0,\n",
    "        'learning_rate': 0.001,\n",
    "        'hidden_activation': 'relu',\n",
    "        'final_activation': 'softmax'\n",
    "    }\n",
    "    \n",
    "    # Replace defaults with specified parameters\n",
    "    for param in in_params:\n",
    "        params[param] = in_params[param]    \n",
    "    \n",
    "    # InputLayer causes serialization issues\n",
    "#     model.add( InputLayer(input_shape = (x_train.shape[1],) ) )\n",
    "    \n",
    "#     for i in range(params['num_layers']):\n",
    "#         addDenseBlock(model, params['num_units'], **params)\n",
    "\n",
    "    addCuDNNLSTMBlock(model, 64, return_sequences=True, **params)\n",
    "    addCuDNNLSTMBlock(model, 128, return_sequences=True, **params)\n",
    "    addCuDNNLSTMBlock(model, 256, return_sequences=True, **params)\n",
    "    addCuDNNLSTMBlock(model, 128, return_sequences=True, **params)\n",
    "    addCuDNNLSTMBlock(model, 64, return_sequences=False, **params)\n",
    "\n",
    "    model.add(Dense(units=y_train.shape[1], activation=params['final_activation']))\n",
    "\n",
    "    # optim = SGD(lr=0.001, nesterov=True)\n",
    "    optim = Adam(lr=params['learning_rate'])\n",
    "\n",
    "    model.compile(loss='categorical_crossentropy', optimizer=optim, metrics=['accuracy'])\n",
    "    \n",
    "#     print(params)\n",
    "    \n",
    "    return model"
   ]
  },
  {
   "cell_type": "markdown",
   "metadata": {},
   "source": [
    "Ensure a GPU is available"
   ]
  },
  {
   "cell_type": "code",
   "execution_count": 20,
   "metadata": {},
   "outputs": [
    {
     "data": {
      "text/plain": [
       "['/job:localhost/replica:0/task:0/device:GPU:0']"
      ]
     },
     "execution_count": 20,
     "metadata": {},
     "output_type": "execute_result"
    }
   ],
   "source": [
    "import keras.backend as K\n",
    "\n",
    "K.tensorflow_backend._get_available_gpus()"
   ]
  },
  {
   "cell_type": "markdown",
   "metadata": {},
   "source": [
    "### Callbacks"
   ]
  },
  {
   "cell_type": "code",
   "execution_count": 21,
   "metadata": {},
   "outputs": [],
   "source": [
    "from keras.callbacks import CSVLogger, EarlyStopping, ModelCheckpoint\n",
    "\n",
    "def timestamp():\n",
    "    return time.strftime(\"%m-%d-%Y, %I%M%p\")\n",
    "\n",
    "csv_callback = CSVLogger(NOTEBOOK_PATH + 'Loss Logs/%s (%s)' % (model_id, timestamp()), append=True)\n",
    "early_stop = EarlyStopping(monitor = 'val_loss', min_delta=0.0001, patience=5)"
   ]
  },
  {
   "cell_type": "markdown",
   "metadata": {},
   "source": [
    "### Model Saving"
   ]
  },
  {
   "cell_type": "code",
   "execution_count": 22,
   "metadata": {},
   "outputs": [
    {
     "name": "stdout",
     "output_type": "stream",
     "text": [
      "Created C:/Users/Xetrov/Desktop/SciFair20/Code/Models/rnn7-5deepdrop/\n"
     ]
    }
   ],
   "source": [
    "savedir = NOTEBOOK_PATH + \"Models/%s/\" % model_id\n",
    "if not os.path.exists(savedir):\n",
    "    os.makedirs(savedir)\n",
    "    print(\"Created \" + savedir)\n",
    "else:\n",
    "    print(\"Using \" + savedir)"
   ]
  },
  {
   "cell_type": "markdown",
   "metadata": {},
   "source": [
    "### Training"
   ]
  },
  {
   "cell_type": "code",
   "execution_count": 25,
   "metadata": {},
   "outputs": [],
   "source": [
    "import itertools\n",
    "\n",
    "trainEpochs = 40\n",
    "\n",
    "parameters = {'batch_size': 250, 'batch_normalization':True,'dropout_rate':0.25}"
   ]
  },
  {
   "cell_type": "code",
   "execution_count": 26,
   "metadata": {},
   "outputs": [
    {
     "name": "stdout",
     "output_type": "stream",
     "text": [
      "rnn7-5deepdrop\n",
      "_________________________________________________________________\n",
      "Layer (type)                 Output Shape              Param #   \n",
      "=================================================================\n",
      "cu_dnnlstm_6 (CuDNNLSTM)     (None, 68, 64)            17152     \n",
      "_________________________________________________________________\n",
      "batch_normalization_6 (Batch (None, 68, 64)            256       \n",
      "_________________________________________________________________\n",
      "dropout_6 (Dropout)          (None, 68, 64)            0         \n",
      "_________________________________________________________________\n",
      "cu_dnnlstm_7 (CuDNNLSTM)     (None, 68, 128)           99328     \n",
      "_________________________________________________________________\n",
      "batch_normalization_7 (Batch (None, 68, 128)           512       \n",
      "_________________________________________________________________\n",
      "dropout_7 (Dropout)          (None, 68, 128)           0         \n",
      "_________________________________________________________________\n",
      "cu_dnnlstm_8 (CuDNNLSTM)     (None, 68, 256)           395264    \n",
      "_________________________________________________________________\n",
      "batch_normalization_8 (Batch (None, 68, 256)           1024      \n",
      "_________________________________________________________________\n",
      "dropout_8 (Dropout)          (None, 68, 256)           0         \n",
      "_________________________________________________________________\n",
      "cu_dnnlstm_9 (CuDNNLSTM)     (None, 68, 128)           197632    \n",
      "_________________________________________________________________\n",
      "batch_normalization_9 (Batch (None, 68, 128)           512       \n",
      "_________________________________________________________________\n",
      "dropout_9 (Dropout)          (None, 68, 128)           0         \n",
      "_________________________________________________________________\n",
      "cu_dnnlstm_10 (CuDNNLSTM)    (None, 64)                49664     \n",
      "_________________________________________________________________\n",
      "batch_normalization_10 (Batc (None, 64)                256       \n",
      "_________________________________________________________________\n",
      "dropout_10 (Dropout)         (None, 64)                0         \n",
      "_________________________________________________________________\n",
      "dense_2 (Dense)              (None, 7)                 455       \n",
      "=================================================================\n",
      "Total params: 762,055\n",
      "Trainable params: 760,775\n",
      "Non-trainable params: 1,280\n",
      "_________________________________________________________________\n",
      "Train on 9549194 samples, validate on 566149 samples\n",
      "Epoch 1/40\n",
      " - 1756s - loss: 0.0548 - acc: 0.9832 - val_loss: 0.0489 - val_acc: 0.9864\n",
      "Epoch 2/40\n",
      " - 1754s - loss: 0.0314 - acc: 0.9895 - val_loss: 0.0385 - val_acc: 0.9917\n",
      "Epoch 3/40\n",
      " - 1754s - loss: 0.0297 - acc: 0.9899 - val_loss: 0.0433 - val_acc: 0.9904\n",
      "Epoch 4/40\n",
      " - 1756s - loss: 0.0291 - acc: 0.9901 - val_loss: 0.0402 - val_acc: 0.9915\n",
      "Epoch 5/40\n",
      " - 1757s - loss: 0.0294 - acc: 0.9900 - val_loss: 0.0439 - val_acc: 0.9906\n",
      "Epoch 6/40\n",
      " - 1756s - loss: 0.0309 - acc: 0.9895 - val_loss: 0.0436 - val_acc: 0.9900\n",
      "Epoch 7/40\n",
      " - 1758s - loss: 0.0327 - acc: 0.9890 - val_loss: 0.0535 - val_acc: 0.9877\n",
      "Epoch 8/40\n",
      " - 1756s - loss: 0.0348 - acc: 0.9884 - val_loss: 0.0519 - val_acc: 0.9859\n",
      "Epoch 9/40\n",
      " - 1758s - loss: 0.0384 - acc: 0.9873 - val_loss: 0.0604 - val_acc: 0.9831\n",
      "Epoch 10/40\n",
      " - 1757s - loss: 0.0475 - acc: 0.9847 - val_loss: 0.0855 - val_acc: 0.9781\n",
      "Epoch 11/40\n",
      " - 1758s - loss: 0.0532 - acc: 0.9831 - val_loss: 0.0801 - val_acc: 0.9764\n",
      "Epoch 12/40\n",
      " - 1762s - loss: 0.0500 - acc: 0.9839 - val_loss: 0.1170 - val_acc: 0.9654\n",
      "Epoch 13/40\n",
      " - 1760s - loss: 0.0538 - acc: 0.9828 - val_loss: 0.0845 - val_acc: 0.9763\n",
      "Epoch 14/40\n",
      " - 1761s - loss: 0.0685 - acc: 0.9786 - val_loss: 0.1719 - val_acc: 0.9517\n",
      "Epoch 15/40\n",
      " - 1763s - loss: 0.0793 - acc: 0.9762 - val_loss: 0.0868 - val_acc: 0.9747\n",
      "Epoch 16/40\n",
      " - 1760s - loss: 0.0452 - acc: 0.9854 - val_loss: 0.0870 - val_acc: 0.9769\n",
      "Epoch 17/40\n",
      " - 1763s - loss: 0.0609 - acc: 0.9813 - val_loss: 0.1159 - val_acc: 0.9686\n",
      "Epoch 18/40\n",
      " - 1762s - loss: 0.0526 - acc: 0.9838 - val_loss: 0.0742 - val_acc: 0.9803\n",
      "Epoch 19/40\n",
      " - 1762s - loss: 0.0421 - acc: 0.9865 - val_loss: 0.0583 - val_acc: 0.9860\n",
      "Epoch 20/40\n",
      " - 1771s - loss: 0.0363 - acc: 0.9880 - val_loss: 0.0542 - val_acc: 0.9864\n",
      "Epoch 21/40\n",
      " - 1765s - loss: 0.0336 - acc: 0.9888 - val_loss: 0.0530 - val_acc: 0.9873\n",
      "Epoch 22/40\n",
      " - 1766s - loss: 0.0362 - acc: 0.9880 - val_loss: 0.0527 - val_acc: 0.9866\n",
      "Epoch 23/40\n",
      " - 1768s - loss: 0.0328 - acc: 0.9890 - val_loss: 0.0413 - val_acc: 0.9891\n",
      "Epoch 24/40\n",
      " - 1767s - loss: 0.0313 - acc: 0.9894 - val_loss: 0.0486 - val_acc: 0.9884\n",
      "Epoch 25/40\n",
      " - 1768s - loss: 0.0293 - acc: 0.9900 - val_loss: 0.0393 - val_acc: 0.9896\n",
      "Epoch 26/40\n",
      " - 1773s - loss: 0.0315 - acc: 0.9894 - val_loss: 0.0424 - val_acc: 0.9889\n",
      "Epoch 27/40\n",
      " - 1773s - loss: 0.0375 - acc: 0.9875 - val_loss: 0.0426 - val_acc: 0.9878\n",
      "Epoch 28/40\n",
      " - 1773s - loss: 0.0284 - acc: 0.9902 - val_loss: 0.0376 - val_acc: 0.9900\n",
      "Epoch 29/40\n",
      " - 1775s - loss: 0.0275 - acc: 0.9905 - val_loss: 0.0419 - val_acc: 0.9897\n",
      "Epoch 30/40\n",
      " - 1774s - loss: 0.0291 - acc: 0.9900 - val_loss: 0.0422 - val_acc: 0.9893\n",
      "Epoch 31/40\n",
      " - 1774s - loss: 0.0284 - acc: 0.9902 - val_loss: 0.0562 - val_acc: 0.9872\n",
      "Epoch 32/40\n",
      " - 1777s - loss: 0.0287 - acc: 0.9902 - val_loss: 0.0351 - val_acc: 0.9905\n",
      "Epoch 33/40\n",
      " - 1776s - loss: 0.0282 - acc: 0.9903 - val_loss: 0.0393 - val_acc: 0.9900\n",
      "Epoch 34/40\n",
      " - 1775s - loss: 0.0271 - acc: 0.9906 - val_loss: 0.0344 - val_acc: 0.9911\n",
      "Epoch 35/40\n",
      " - 1777s - loss: 0.0262 - acc: 0.9908 - val_loss: 0.0399 - val_acc: 0.9907\n",
      "Epoch 36/40\n",
      " - 1778s - loss: 0.0266 - acc: 0.9907 - val_loss: 0.0325 - val_acc: 0.9918\n",
      "Epoch 37/40\n",
      " - 1784s - loss: 0.0335 - acc: 0.9885 - val_loss: 0.0428 - val_acc: 0.9889\n",
      "Epoch 38/40\n",
      " - 1802s - loss: 0.0276 - acc: 0.9904 - val_loss: 0.0478 - val_acc: 0.9875\n",
      "Epoch 39/40\n",
      " - 1834s - loss: 0.0274 - acc: 0.9904 - val_loss: 0.0334 - val_acc: 0.9928\n",
      "Epoch 40/40\n",
      " - 1787s - loss: 0.0264 - acc: 0.9907 - val_loss: 0.0370 - val_acc: 0.9910\n",
      "Wall time: 19h 39min 15s\n"
     ]
    },
    {
     "data": {
      "text/plain": [
       "<keras.callbacks.History at 0x261b12d76a0>"
      ]
     },
     "execution_count": 26,
     "metadata": {},
     "output_type": "execute_result"
    }
   ],
   "source": [
    "%%time\n",
    "print(model_id)\n",
    "# model = keras.models.load_model(NOTEBOOK_PATH + \"Models/%s/rnn(10).h5\" % model_id)\n",
    "model = createModel(**parameters)\n",
    "model.summary()\n",
    "model_checkpoint = ModelCheckpoint(NOTEBOOK_PATH + \"Models/%s/rnn({epoch}).h5\" % (model_id), monitor='val_loss')\n",
    "model.fit(x_train_resnpy, y_train_res2, validation_data=(x_val, y_val), batch_size=parameters['batch_size'], epochs=trainEpochs, verbose=2, callbacks=[csv_callback, model_checkpoint])"
   ]
  },
  {
   "cell_type": "markdown",
   "metadata": {},
   "source": [
    "# Graph the losses"
   ]
  },
  {
   "cell_type": "code",
   "execution_count": 27,
   "metadata": {},
   "outputs": [
    {
     "name": "stdout",
     "output_type": "stream",
     "text": [
      "C:/Users/Xetrov/Desktop/SciFair20/Code/Loss Logs\\rnn7-5deepdrop (10-20-2019, 0957PM)\n"
     ]
    }
   ],
   "source": [
    "def most_recent_file(pattern):\n",
    "    return max(glob.iglob(pattern, recursive=True), key=os.path.getctime)\n",
    "\n",
    "logpath = most_recent_file(NOTEBOOK_PATH + \"Loss Logs/%s**\" % model_id)\n",
    "log_df = pd.read_csv(logpath)\n",
    "log_df['epoch'] += 1\n",
    "\n",
    "print(logpath)"
   ]
  },
  {
   "cell_type": "code",
   "execution_count": 29,
   "metadata": {},
   "outputs": [
    {
     "data": {
      "image/png": "[encoded data removed]",
      "text/plain": [
       "<Figure size 864x432 with 1 Axes>"
      ]
     },
     "metadata": {
      "needs_background": "light"
     },
     "output_type": "display_data"
    }
   ],
   "source": [
    "plot_df = log_df[:]\n",
    "\n",
    "metric = 'loss'\n",
    "\n",
    "plt.figure(figsize=(12,6))\n",
    "sns.lineplot(x='epoch', y=metric, data=plot_df, label=metric)\n",
    "sns.lineplot(x='epoch', y='val_'+metric, data=plot_df, label='val_'+metric)\n",
    "plt.legend()\n",
    "\n",
    "minEpoch = plot_df.loc[plot_df.idxmin()[metric]]\n",
    "plt.plot((minEpoch['epoch']), (minEpoch[metric]), 'go', markersize=8)\n",
    "minEpoch = plot_df.loc[plot_df.idxmin()['val_'+metric]]\n",
    "plt.plot((minEpoch['epoch']), (minEpoch['val_'+metric]), 'ro', markersize=8)\n",
    "\n",
    "plt.xticks(list(range(0, plot_df['epoch'].max()+1, 5)))\n",
    "# plt.yticks(list(np.arange(0.0,0.4,0.05)))\n",
    "\n",
    "plt.grid(True)"
   ]
  },
  {
   "cell_type": "markdown",
   "metadata": {},
   "source": [
    "# Test Data"
   ]
  },
  {
   "cell_type": "code",
   "execution_count": 30,
   "metadata": {},
   "outputs": [],
   "source": [
    "from sklearn.metrics import f1_score"
   ]
  },
  {
   "cell_type": "code",
   "execution_count": 31,
   "metadata": {},
   "outputs": [],
   "source": [
    "model = keras.models.load_model(NOTEBOOK_PATH + \"Models/%s/rnn(36).h5\" % model_id)"
   ]
  },
  {
   "cell_type": "code",
   "execution_count": 32,
   "metadata": {},
   "outputs": [],
   "source": [
    "pred = model.predict(x_test, batch_size=256).argmax(axis=1)\n",
    "pred_f1 = np.zeros((len(x_test), y_test.shape[1]))\n",
    "for j in range(len(pred)):\n",
    "    pred_f1[j,pred[j]] = 1"
   ]
  },
  {
   "cell_type": "code",
   "execution_count": 33,
   "metadata": {},
   "outputs": [
    {
     "name": "stdout",
     "output_type": "stream",
     "text": [
      "Micro: 0.9918272398255583\n",
      "Macro: 0.7127737504537448\n"
     ]
    }
   ],
   "source": [
    "f1_micro = f1_score(y_test, pred_f1.astype('uint8'), average='micro')\n",
    "f1_macro = f1_score(y_test, pred_f1.astype('uint8'), average='macro')\n",
    "print(\"Micro:\", f1_micro)\n",
    "print(\"Macro:\", f1_macro)"
   ]
  },
  {
   "cell_type": "code",
   "execution_count": 34,
   "metadata": {},
   "outputs": [
    {
     "name": "stdout",
     "output_type": "stream",
     "text": [
      "Done!\n"
     ]
    },
    {
     "data": {
      "text/html": [
       "<div>\n",
       "<style scoped>\n",
       "    .dataframe tbody tr th:only-of-type {\n",
       "        vertical-align: middle;\n",
       "    }\n",
       "\n",
       "    .dataframe tbody tr th {\n",
       "        vertical-align: top;\n",
       "    }\n",
       "\n",
       "    .dataframe thead th {\n",
       "        text-align: right;\n",
       "    }\n",
       "</style>\n",
       "<table border=\"1\" class=\"dataframe\">\n",
       "  <thead>\n",
       "    <tr style=\"text-align: right;\">\n",
       "      <th>Actual</th>\n",
       "      <th>BENIGN</th>\n",
       "      <th>Botnet</th>\n",
       "      <th>Brute Force</th>\n",
       "      <th>DoS/DDoS</th>\n",
       "      <th>Infiltration</th>\n",
       "      <th>PortScan</th>\n",
       "      <th>Web Attack</th>\n",
       "      <th>All</th>\n",
       "    </tr>\n",
       "    <tr>\n",
       "      <th>Pred</th>\n",
       "      <th></th>\n",
       "      <th></th>\n",
       "      <th></th>\n",
       "      <th></th>\n",
       "      <th></th>\n",
       "      <th></th>\n",
       "      <th></th>\n",
       "      <th></th>\n",
       "    </tr>\n",
       "  </thead>\n",
       "  <tbody>\n",
       "    <tr>\n",
       "      <th>BENIGN</th>\n",
       "      <td>450286</td>\n",
       "      <td>9</td>\n",
       "      <td>4</td>\n",
       "      <td>7</td>\n",
       "      <td>1</td>\n",
       "      <td>16</td>\n",
       "      <td>0</td>\n",
       "      <td>450323</td>\n",
       "    </tr>\n",
       "    <tr>\n",
       "      <th>Botnet</th>\n",
       "      <td>1905</td>\n",
       "      <td>375</td>\n",
       "      <td>0</td>\n",
       "      <td>0</td>\n",
       "      <td>0</td>\n",
       "      <td>0</td>\n",
       "      <td>0</td>\n",
       "      <td>2280</td>\n",
       "    </tr>\n",
       "    <tr>\n",
       "      <th>Brute Force</th>\n",
       "      <td>525</td>\n",
       "      <td>0</td>\n",
       "      <td>2748</td>\n",
       "      <td>0</td>\n",
       "      <td>0</td>\n",
       "      <td>0</td>\n",
       "      <td>0</td>\n",
       "      <td>3273</td>\n",
       "    </tr>\n",
       "    <tr>\n",
       "      <th>DoS/DDoS</th>\n",
       "      <td>1403</td>\n",
       "      <td>0</td>\n",
       "      <td>0</td>\n",
       "      <td>75829</td>\n",
       "      <td>0</td>\n",
       "      <td>17</td>\n",
       "      <td>6</td>\n",
       "      <td>77255</td>\n",
       "    </tr>\n",
       "    <tr>\n",
       "      <th>Infiltration</th>\n",
       "      <td>243</td>\n",
       "      <td>0</td>\n",
       "      <td>0</td>\n",
       "      <td>0</td>\n",
       "      <td>4</td>\n",
       "      <td>0</td>\n",
       "      <td>0</td>\n",
       "      <td>247</td>\n",
       "    </tr>\n",
       "    <tr>\n",
       "      <th>PortScan</th>\n",
       "      <td>235</td>\n",
       "      <td>0</td>\n",
       "      <td>0</td>\n",
       "      <td>19</td>\n",
       "      <td>0</td>\n",
       "      <td>31841</td>\n",
       "      <td>0</td>\n",
       "      <td>32095</td>\n",
       "    </tr>\n",
       "    <tr>\n",
       "      <th>Web Attack</th>\n",
       "      <td>193</td>\n",
       "      <td>0</td>\n",
       "      <td>0</td>\n",
       "      <td>42</td>\n",
       "      <td>0</td>\n",
       "      <td>2</td>\n",
       "      <td>439</td>\n",
       "      <td>676</td>\n",
       "    </tr>\n",
       "    <tr>\n",
       "      <th>All</th>\n",
       "      <td>454790</td>\n",
       "      <td>384</td>\n",
       "      <td>2752</td>\n",
       "      <td>75897</td>\n",
       "      <td>5</td>\n",
       "      <td>31876</td>\n",
       "      <td>445</td>\n",
       "      <td>566149</td>\n",
       "    </tr>\n",
       "  </tbody>\n",
       "</table>\n",
       "</div>"
      ],
      "text/plain": [
       "Actual        BENIGN  Botnet  Brute Force  DoS/DDoS  Infiltration  PortScan  \\\n",
       "Pred                                                                          \n",
       "BENIGN        450286       9            4         7             1        16   \n",
       "Botnet          1905     375            0         0             0         0   \n",
       "Brute Force      525       0         2748         0             0         0   \n",
       "DoS/DDoS        1403       0            0     75829             0        17   \n",
       "Infiltration     243       0            0         0             4         0   \n",
       "PortScan         235       0            0        19             0     31841   \n",
       "Web Attack       193       0            0        42             0         2   \n",
       "All           454790     384         2752     75897             5     31876   \n",
       "\n",
       "Actual        Web Attack     All  \n",
       "Pred                              \n",
       "BENIGN                 0  450323  \n",
       "Botnet                 0    2280  \n",
       "Brute Force            0    3273  \n",
       "DoS/DDoS               6   77255  \n",
       "Infiltration           0     247  \n",
       "PortScan               0   32095  \n",
       "Web Attack           439     676  \n",
       "All                  445  566149  "
      ]
     },
     "execution_count": 34,
     "metadata": {},
     "output_type": "execute_result"
    }
   ],
   "source": [
    "pred_index = pred\n",
    "y_index = list(np.argmax(y_test.to_numpy(), axis=1))\n",
    "\n",
    "atktypes = sorted(y_test.columns)\n",
    "pred_series = pd.Series(pred_index, name=\"Pred\").replace(dict(enumerate(atktypes)))\n",
    "y_series = pd.Series(y_index, name=\"Actual\").replace(dict(enumerate(atktypes)))\n",
    "\n",
    "matrix = pd.crosstab(pred_series, y_series, margins=True)\n",
    "print(\"Done!\")\n",
    "matrix.to_csv(NOTEBOOK_PATH + \"Confusion Matrices/%s.csv\" % model_id)\n",
    "matrix"
   ]
  },
  {
   "cell_type": "markdown",
   "metadata": {},
   "source": [
    "# Log results"
   ]
  },
  {
   "cell_type": "code",
   "execution_count": 72,
   "metadata": {},
   "outputs": [],
   "source": [
    "model_log = open(NOTEBOOK_PATH + \"model_log.txt\", \"a\")\n",
    "\n",
    "model_log.write(\"\\n\" + model_filename)\n",
    "model_log.write(\"\\n\\tF1 Micro: \" + str(f1_micro))\n",
    "model_log.write(\"\\n\\tF1 Macro: \" + str(f1_macro))\n",
    "\n",
    "model_log.close()"
   ]
  }
 ],
 "metadata": {
  "kernelspec": {
   "display_name": "Python 3",
   "language": "python",
   "name": "python3"
  },
  "language_info": {
   "codemirror_mode": {
    "name": "ipython",
    "version": 3
   },
   "file_extension": ".py",
   "mimetype": "text/x-python",
   "name": "python",
   "nbconvert_exporter": "python",
   "pygments_lexer": "ipython3",
   "version": "3.6.7"
  }
 },
 "nbformat": 4,
 "nbformat_minor": 4
}

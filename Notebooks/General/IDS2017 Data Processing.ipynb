{
 "cells": [
  {
   "cell_type": "markdown",
   "metadata": {},
   "source": [
    "# CSE-CIC-IDS 2017"
   ]
  },
  {
   "cell_type": "code",
   "execution_count": 1,
   "metadata": {},
   "outputs": [
    {
     "name": "stderr",
     "output_type": "stream",
     "text": [
      "Using TensorFlow backend.\n",
      "C:\\Users\\Xetrov\\AppData\\Local\\Continuum\\anaconda3\\lib\\site-packages\\tensorflow\\python\\framework\\dtypes.py:517: FutureWarning: Passing (type, 1) or '1type' as a synonym of type is deprecated; in a future version of numpy, it will be understood as (type, (1,)) / '(1,)type'.\n",
      "  _np_qint8 = np.dtype([(\"qint8\", np.int8, 1)])\n",
      "C:\\Users\\Xetrov\\AppData\\Local\\Continuum\\anaconda3\\lib\\site-packages\\tensorflow\\python\\framework\\dtypes.py:518: FutureWarning: Passing (type, 1) or '1type' as a synonym of type is deprecated; in a future version of numpy, it will be understood as (type, (1,)) / '(1,)type'.\n",
      "  _np_quint8 = np.dtype([(\"quint8\", np.uint8, 1)])\n",
      "C:\\Users\\Xetrov\\AppData\\Local\\Continuum\\anaconda3\\lib\\site-packages\\tensorflow\\python\\framework\\dtypes.py:519: FutureWarning: Passing (type, 1) or '1type' as a synonym of type is deprecated; in a future version of numpy, it will be understood as (type, (1,)) / '(1,)type'.\n",
      "  _np_qint16 = np.dtype([(\"qint16\", np.int16, 1)])\n",
      "C:\\Users\\Xetrov\\AppData\\Local\\Continuum\\anaconda3\\lib\\site-packages\\tensorflow\\python\\framework\\dtypes.py:520: FutureWarning: Passing (type, 1) or '1type' as a synonym of type is deprecated; in a future version of numpy, it will be understood as (type, (1,)) / '(1,)type'.\n",
      "  _np_quint16 = np.dtype([(\"quint16\", np.uint16, 1)])\n",
      "C:\\Users\\Xetrov\\AppData\\Local\\Continuum\\anaconda3\\lib\\site-packages\\tensorflow\\python\\framework\\dtypes.py:521: FutureWarning: Passing (type, 1) or '1type' as a synonym of type is deprecated; in a future version of numpy, it will be understood as (type, (1,)) / '(1,)type'.\n",
      "  _np_qint32 = np.dtype([(\"qint32\", np.int32, 1)])\n",
      "C:\\Users\\Xetrov\\AppData\\Local\\Continuum\\anaconda3\\lib\\site-packages\\tensorflow\\python\\framework\\dtypes.py:526: FutureWarning: Passing (type, 1) or '1type' as a synonym of type is deprecated; in a future version of numpy, it will be understood as (type, (1,)) / '(1,)type'.\n",
      "  np_resource = np.dtype([(\"resource\", np.ubyte, 1)])\n"
     ]
    }
   ],
   "source": [
    "import numpy as np\n",
    "np.random.seed(42)\n",
    "np.set_printoptions(suppress=True)\n",
    "import pandas as pd\n",
    "import matplotlib.pyplot as plt\n",
    "import seaborn as sns\n",
    "from tqdm import tqdm\n",
    "\n",
    "import glob, time, os\n",
    "\n",
    "import keras"
   ]
  },
  {
   "cell_type": "code",
   "execution_count": 2,
   "metadata": {},
   "outputs": [],
   "source": [
    "NOTEBOOK_PATH = \"D:/Delta Stuff/Scifair20/\""
   ]
  },
  {
   "cell_type": "code",
   "execution_count": 3,
   "metadata": {},
   "outputs": [
    {
     "name": "stderr",
     "output_type": "stream",
     "text": [
      "  0%|                                                                                            | 0/8 [00:00<?, ?it/s]C:\\Users\\Xetrov\\AppData\\Local\\Continuum\\anaconda3\\lib\\site-packages\\pandas\\core\\reshape\\concat.py:255: DtypeWarning: Columns (14,15) have mixed types. Specify dtype option on import or set low_memory=False.\n",
      "  sort=sort,\n",
      " 38%|███████████████████████████████▌                                                    | 3/8 [00:02<00:04,  1.02it/s]C:\\Users\\Xetrov\\AppData\\Local\\Continuum\\anaconda3\\lib\\site-packages\\pandas\\core\\reshape\\concat.py:255: DtypeWarning: Columns (14) have mixed types. Specify dtype option on import or set low_memory=False.\n",
      "  sort=sort,\n",
      "100%|████████████████████████████████████████████████████████████████████████████████████| 8/8 [00:12<00:00,  1.52s/it]\n"
     ]
    }
   ],
   "source": [
    "f_names = glob.glob(NOTEBOOK_PATH + \"IDS2017/MachineLearningCVE/*.csv\")\n",
    "df = pd.concat(tqdm((pd.read_csv(f) for f in f_names), total=len(f_names)))"
   ]
  },
  {
   "cell_type": "code",
   "execution_count": 4,
   "metadata": {},
   "outputs": [],
   "source": [
    "df.reset_index(drop=True, inplace=True)"
   ]
  },
  {
   "cell_type": "code",
   "execution_count": 5,
   "metadata": {},
   "outputs": [],
   "source": [
    "df.columns = list(map(lambda x: x.strip(), df.columns))"
   ]
  },
  {
   "cell_type": "code",
   "execution_count": 6,
   "metadata": {},
   "outputs": [
    {
     "name": "stderr",
     "output_type": "stream",
     "text": [
      "100%|██████████████████████████████████████████████████████████████████████████████████| 79/79 [00:04<00:00, 19.08it/s]\n"
     ]
    }
   ],
   "source": [
    "# Remove variables with no variance\n",
    "remove_vars = []\n",
    "for i in tqdm(range(len(df.columns))):\n",
    "    col = df.columns[i]\n",
    "    unique = df[col].unique()\n",
    "    if len(unique) <= 1:\n",
    "        remove_vars.append(col)"
   ]
  },
  {
   "cell_type": "code",
   "execution_count": 7,
   "metadata": {},
   "outputs": [
    {
     "data": {
      "text/plain": [
       "['Bwd PSH Flags',\n",
       " 'Bwd URG Flags',\n",
       " 'Fwd Avg Bytes/Bulk',\n",
       " 'Fwd Avg Packets/Bulk',\n",
       " 'Fwd Avg Bulk Rate',\n",
       " 'Bwd Avg Bytes/Bulk',\n",
       " 'Bwd Avg Packets/Bulk',\n",
       " 'Bwd Avg Bulk Rate']"
      ]
     },
     "execution_count": 7,
     "metadata": {},
     "output_type": "execute_result"
    }
   ],
   "source": [
    "remove_vars"
   ]
  },
  {
   "cell_type": "code",
   "execution_count": 8,
   "metadata": {},
   "outputs": [],
   "source": [
    "df.drop(remove_vars, axis=1, inplace=True)\n",
    "\n",
    "df.drop([\"Flow Bytes/s\", \"Flow Packets/s\"], axis='columns', inplace=True)"
   ]
  },
  {
   "cell_type": "code",
   "execution_count": 9,
   "metadata": {},
   "outputs": [
    {
     "data": {
      "text/plain": [
       "(2830743, 69)"
      ]
     },
     "execution_count": 9,
     "metadata": {},
     "output_type": "execute_result"
    }
   ],
   "source": [
    "df.shape"
   ]
  },
  {
   "cell_type": "markdown",
   "metadata": {},
   "source": [
    "# Standardize data"
   ]
  },
  {
   "cell_type": "code",
   "execution_count": 10,
   "metadata": {},
   "outputs": [],
   "source": [
    "from sklearn.preprocessing import PowerTransformer, MinMaxScaler"
   ]
  },
  {
   "cell_type": "code",
   "execution_count": 11,
   "metadata": {},
   "outputs": [],
   "source": [
    "scaler = PowerTransformer(method='yeo-johnson', standardize=True)\n",
    "# scaler = MinMaxScaler()"
   ]
  },
  {
   "cell_type": "code",
   "execution_count": 12,
   "metadata": {},
   "outputs": [],
   "source": [
    "x_df = df.drop(\"Label\", axis=1)\n",
    "y_df = df.loc[:, \"Label\"]"
   ]
  },
  {
   "cell_type": "code",
   "execution_count": 13,
   "metadata": {},
   "outputs": [],
   "source": [
    "x_scaled = scaler.fit_transform(x_df, y_df)"
   ]
  },
  {
   "cell_type": "code",
   "execution_count": 14,
   "metadata": {},
   "outputs": [
    {
     "data": {
      "text/html": [
       "<div>\n",
       "<style scoped>\n",
       "    .dataframe tbody tr th:only-of-type {\n",
       "        vertical-align: middle;\n",
       "    }\n",
       "\n",
       "    .dataframe tbody tr th {\n",
       "        vertical-align: top;\n",
       "    }\n",
       "\n",
       "    .dataframe thead th {\n",
       "        text-align: right;\n",
       "    }\n",
       "</style>\n",
       "<table border=\"1\" class=\"dataframe\">\n",
       "  <thead>\n",
       "    <tr style=\"text-align: right;\">\n",
       "      <th></th>\n",
       "      <th>Destination Port</th>\n",
       "      <th>Flow Duration</th>\n",
       "      <th>Total Fwd Packets</th>\n",
       "      <th>Total Backward Packets</th>\n",
       "      <th>Total Length of Fwd Packets</th>\n",
       "      <th>Total Length of Bwd Packets</th>\n",
       "      <th>Fwd Packet Length Max</th>\n",
       "      <th>Fwd Packet Length Min</th>\n",
       "      <th>Fwd Packet Length Mean</th>\n",
       "      <th>Fwd Packet Length Std</th>\n",
       "      <th>...</th>\n",
       "      <th>act_data_pkt_fwd</th>\n",
       "      <th>min_seg_size_forward</th>\n",
       "      <th>Active Mean</th>\n",
       "      <th>Active Std</th>\n",
       "      <th>Active Max</th>\n",
       "      <th>Active Min</th>\n",
       "      <th>Idle Mean</th>\n",
       "      <th>Idle Std</th>\n",
       "      <th>Idle Max</th>\n",
       "      <th>Idle Min</th>\n",
       "    </tr>\n",
       "  </thead>\n",
       "  <tbody>\n",
       "    <tr>\n",
       "      <th>count</th>\n",
       "      <td>2.830743e+06</td>\n",
       "      <td>2.830743e+06</td>\n",
       "      <td>2.830743e+06</td>\n",
       "      <td>2.830743e+06</td>\n",
       "      <td>2.830743e+06</td>\n",
       "      <td>2.830743e+06</td>\n",
       "      <td>2.830743e+06</td>\n",
       "      <td>2.830743e+06</td>\n",
       "      <td>2.830743e+06</td>\n",
       "      <td>2.830743e+06</td>\n",
       "      <td>...</td>\n",
       "      <td>2.830743e+06</td>\n",
       "      <td>2.830743e+06</td>\n",
       "      <td>2.830743e+06</td>\n",
       "      <td>2.830743e+06</td>\n",
       "      <td>2.830743e+06</td>\n",
       "      <td>2.830743e+06</td>\n",
       "      <td>2.830743e+06</td>\n",
       "      <td>2.830743e+06</td>\n",
       "      <td>2.830743e+06</td>\n",
       "      <td>2.830743e+06</td>\n",
       "    </tr>\n",
       "    <tr>\n",
       "      <th>mean</th>\n",
       "      <td>5.614575e-17</td>\n",
       "      <td>-5.294087e-16</td>\n",
       "      <td>-1.481637e-15</td>\n",
       "      <td>-7.895848e-16</td>\n",
       "      <td>-6.103742e-16</td>\n",
       "      <td>4.526701e-16</td>\n",
       "      <td>-2.069120e-16</td>\n",
       "      <td>-5.198502e-16</td>\n",
       "      <td>-1.929056e-15</td>\n",
       "      <td>1.910080e-16</td>\n",
       "      <td>...</td>\n",
       "      <td>-6.024222e-18</td>\n",
       "      <td>-1.909197e-15</td>\n",
       "      <td>-2.522141e-16</td>\n",
       "      <td>8.514234e-18</td>\n",
       "      <td>2.377560e-17</td>\n",
       "      <td>1.824135e-16</td>\n",
       "      <td>8.731106e-17</td>\n",
       "      <td>-3.527785e-16</td>\n",
       "      <td>-2.910904e-16</td>\n",
       "      <td>1.681963e-16</td>\n",
       "    </tr>\n",
       "    <tr>\n",
       "      <th>std</th>\n",
       "      <td>1.000000e+00</td>\n",
       "      <td>1.000000e+00</td>\n",
       "      <td>1.000000e+00</td>\n",
       "      <td>1.000000e+00</td>\n",
       "      <td>1.000000e+00</td>\n",
       "      <td>1.000000e+00</td>\n",
       "      <td>1.000000e+00</td>\n",
       "      <td>1.000000e+00</td>\n",
       "      <td>1.000000e+00</td>\n",
       "      <td>1.000000e+00</td>\n",
       "      <td>...</td>\n",
       "      <td>1.000000e+00</td>\n",
       "      <td>1.000000e+00</td>\n",
       "      <td>1.000000e+00</td>\n",
       "      <td>1.000000e+00</td>\n",
       "      <td>1.000000e+00</td>\n",
       "      <td>1.000000e+00</td>\n",
       "      <td>1.000000e+00</td>\n",
       "      <td>1.000000e+00</td>\n",
       "      <td>1.000000e+00</td>\n",
       "      <td>1.000000e+00</td>\n",
       "    </tr>\n",
       "    <tr>\n",
       "      <th>min</th>\n",
       "      <td>-8.085491e+00</td>\n",
       "      <td>-2.286645e+01</td>\n",
       "      <td>-1.304010e+00</td>\n",
       "      <td>-1.655424e+00</td>\n",
       "      <td>-1.617208e+00</td>\n",
       "      <td>-1.349540e+00</td>\n",
       "      <td>-1.591983e+00</td>\n",
       "      <td>-9.953509e-01</td>\n",
       "      <td>-1.640853e+00</td>\n",
       "      <td>-7.155903e-01</td>\n",
       "      <td>...</td>\n",
       "      <td>-1.200386e+00</td>\n",
       "      <td>-2.752211e+01</td>\n",
       "      <td>-4.925726e-01</td>\n",
       "      <td>-2.797894e-01</td>\n",
       "      <td>-4.923377e-01</td>\n",
       "      <td>-4.926216e-01</td>\n",
       "      <td>-5.006239e-01</td>\n",
       "      <td>-2.968475e-01</td>\n",
       "      <td>-5.006238e-01</td>\n",
       "      <td>-5.006238e-01</td>\n",
       "    </tr>\n",
       "    <tr>\n",
       "      <th>25%</th>\n",
       "      <td>-8.738939e-01</td>\n",
       "      <td>-8.876095e-01</td>\n",
       "      <td>-2.338725e-01</td>\n",
       "      <td>-4.381973e-01</td>\n",
       "      <td>-5.559671e-01</td>\n",
       "      <td>-1.349540e+00</td>\n",
       "      <td>-6.855578e-01</td>\n",
       "      <td>-9.953509e-01</td>\n",
       "      <td>-6.405733e-01</td>\n",
       "      <td>-7.155903e-01</td>\n",
       "      <td>...</td>\n",
       "      <td>-1.200386e+00</td>\n",
       "      <td>-9.087109e-01</td>\n",
       "      <td>-4.925726e-01</td>\n",
       "      <td>-2.797894e-01</td>\n",
       "      <td>-4.923377e-01</td>\n",
       "      <td>-4.926216e-01</td>\n",
       "      <td>-5.006239e-01</td>\n",
       "      <td>-2.968475e-01</td>\n",
       "      <td>-5.006238e-01</td>\n",
       "      <td>-5.006238e-01</td>\n",
       "    </tr>\n",
       "    <tr>\n",
       "      <th>50%</th>\n",
       "      <td>-5.280598e-01</td>\n",
       "      <td>1.134869e-01</td>\n",
       "      <td>-2.338725e-01</td>\n",
       "      <td>1.225253e-01</td>\n",
       "      <td>1.168017e-01</td>\n",
       "      <td>1.793477e-01</td>\n",
       "      <td>1.106896e-01</td>\n",
       "      <td>-1.864637e-01</td>\n",
       "      <td>3.389061e-01</td>\n",
       "      <td>-7.155903e-01</td>\n",
       "      <td>...</td>\n",
       "      <td>1.163599e-01</td>\n",
       "      <td>-3.832149e-01</td>\n",
       "      <td>-4.925726e-01</td>\n",
       "      <td>-2.797894e-01</td>\n",
       "      <td>-4.923377e-01</td>\n",
       "      <td>-4.926216e-01</td>\n",
       "      <td>-5.006239e-01</td>\n",
       "      <td>-2.968475e-01</td>\n",
       "      <td>-5.006238e-01</td>\n",
       "      <td>-5.006238e-01</td>\n",
       "    </tr>\n",
       "    <tr>\n",
       "      <th>75%</th>\n",
       "      <td>5.271538e-01</td>\n",
       "      <td>9.319696e-01</td>\n",
       "      <td>8.888288e-01</td>\n",
       "      <td>7.029430e-01</td>\n",
       "      <td>5.919397e-01</td>\n",
       "      <td>5.791860e-01</td>\n",
       "      <td>4.752672e-01</td>\n",
       "      <td>1.140584e+00</td>\n",
       "      <td>5.905137e-01</td>\n",
       "      <td>1.240967e+00</td>\n",
       "      <td>...</td>\n",
       "      <td>6.579127e-01</td>\n",
       "      <td>8.493489e-01</td>\n",
       "      <td>-4.925726e-01</td>\n",
       "      <td>-2.797894e-01</td>\n",
       "      <td>-4.923377e-01</td>\n",
       "      <td>-4.926216e-01</td>\n",
       "      <td>-5.006239e-01</td>\n",
       "      <td>-2.968475e-01</td>\n",
       "      <td>-5.006238e-01</td>\n",
       "      <td>-5.006238e-01</td>\n",
       "    </tr>\n",
       "    <tr>\n",
       "      <th>max</th>\n",
       "      <td>1.713337e+00</td>\n",
       "      <td>1.538709e+00</td>\n",
       "      <td>2.168643e+00</td>\n",
       "      <td>3.041949e+00</td>\n",
       "      <td>5.883933e+00</td>\n",
       "      <td>4.035647e+00</td>\n",
       "      <td>3.233995e+00</td>\n",
       "      <td>2.329224e+00</td>\n",
       "      <td>4.685579e+00</td>\n",
       "      <td>1.704225e+00</td>\n",
       "      <td>...</td>\n",
       "      <td>2.511256e+00</td>\n",
       "      <td>3.492139e+01</td>\n",
       "      <td>2.093608e+00</td>\n",
       "      <td>3.576140e+00</td>\n",
       "      <td>2.098229e+00</td>\n",
       "      <td>2.092428e+00</td>\n",
       "      <td>2.006166e+00</td>\n",
       "      <td>3.369526e+00</td>\n",
       "      <td>2.006018e+00</td>\n",
       "      <td>2.006746e+00</td>\n",
       "    </tr>\n",
       "  </tbody>\n",
       "</table>\n",
       "<p>8 rows × 68 columns</p>\n",
       "</div>"
      ],
      "text/plain": [
       "       Destination Port  Flow Duration  Total Fwd Packets  \\\n",
       "count      2.830743e+06   2.830743e+06       2.830743e+06   \n",
       "mean       5.614575e-17  -5.294087e-16      -1.481637e-15   \n",
       "std        1.000000e+00   1.000000e+00       1.000000e+00   \n",
       "min       -8.085491e+00  -2.286645e+01      -1.304010e+00   \n",
       "25%       -8.738939e-01  -8.876095e-01      -2.338725e-01   \n",
       "50%       -5.280598e-01   1.134869e-01      -2.338725e-01   \n",
       "75%        5.271538e-01   9.319696e-01       8.888288e-01   \n",
       "max        1.713337e+00   1.538709e+00       2.168643e+00   \n",
       "\n",
       "       Total Backward Packets  Total Length of Fwd Packets  \\\n",
       "count            2.830743e+06                 2.830743e+06   \n",
       "mean            -7.895848e-16                -6.103742e-16   \n",
       "std              1.000000e+00                 1.000000e+00   \n",
       "min             -1.655424e+00                -1.617208e+00   \n",
       "25%             -4.381973e-01                -5.559671e-01   \n",
       "50%              1.225253e-01                 1.168017e-01   \n",
       "75%              7.029430e-01                 5.919397e-01   \n",
       "max              3.041949e+00                 5.883933e+00   \n",
       "\n",
       "       Total Length of Bwd Packets  Fwd Packet Length Max  \\\n",
       "count                 2.830743e+06           2.830743e+06   \n",
       "mean                  4.526701e-16          -2.069120e-16   \n",
       "std                   1.000000e+00           1.000000e+00   \n",
       "min                  -1.349540e+00          -1.591983e+00   \n",
       "25%                  -1.349540e+00          -6.855578e-01   \n",
       "50%                   1.793477e-01           1.106896e-01   \n",
       "75%                   5.791860e-01           4.752672e-01   \n",
       "max                   4.035647e+00           3.233995e+00   \n",
       "\n",
       "       Fwd Packet Length Min  Fwd Packet Length Mean  Fwd Packet Length Std  \\\n",
       "count           2.830743e+06            2.830743e+06           2.830743e+06   \n",
       "mean           -5.198502e-16           -1.929056e-15           1.910080e-16   \n",
       "std             1.000000e+00            1.000000e+00           1.000000e+00   \n",
       "min            -9.953509e-01           -1.640853e+00          -7.155903e-01   \n",
       "25%            -9.953509e-01           -6.405733e-01          -7.155903e-01   \n",
       "50%            -1.864637e-01            3.389061e-01          -7.155903e-01   \n",
       "75%             1.140584e+00            5.905137e-01           1.240967e+00   \n",
       "max             2.329224e+00            4.685579e+00           1.704225e+00   \n",
       "\n",
       "       ...  act_data_pkt_fwd  min_seg_size_forward   Active Mean  \\\n",
       "count  ...      2.830743e+06          2.830743e+06  2.830743e+06   \n",
       "mean   ...     -6.024222e-18         -1.909197e-15 -2.522141e-16   \n",
       "std    ...      1.000000e+00          1.000000e+00  1.000000e+00   \n",
       "min    ...     -1.200386e+00         -2.752211e+01 -4.925726e-01   \n",
       "25%    ...     -1.200386e+00         -9.087109e-01 -4.925726e-01   \n",
       "50%    ...      1.163599e-01         -3.832149e-01 -4.925726e-01   \n",
       "75%    ...      6.579127e-01          8.493489e-01 -4.925726e-01   \n",
       "max    ...      2.511256e+00          3.492139e+01  2.093608e+00   \n",
       "\n",
       "         Active Std    Active Max    Active Min     Idle Mean      Idle Std  \\\n",
       "count  2.830743e+06  2.830743e+06  2.830743e+06  2.830743e+06  2.830743e+06   \n",
       "mean   8.514234e-18  2.377560e-17  1.824135e-16  8.731106e-17 -3.527785e-16   \n",
       "std    1.000000e+00  1.000000e+00  1.000000e+00  1.000000e+00  1.000000e+00   \n",
       "min   -2.797894e-01 -4.923377e-01 -4.926216e-01 -5.006239e-01 -2.968475e-01   \n",
       "25%   -2.797894e-01 -4.923377e-01 -4.926216e-01 -5.006239e-01 -2.968475e-01   \n",
       "50%   -2.797894e-01 -4.923377e-01 -4.926216e-01 -5.006239e-01 -2.968475e-01   \n",
       "75%   -2.797894e-01 -4.923377e-01 -4.926216e-01 -5.006239e-01 -2.968475e-01   \n",
       "max    3.576140e+00  2.098229e+00  2.092428e+00  2.006166e+00  3.369526e+00   \n",
       "\n",
       "           Idle Max      Idle Min  \n",
       "count  2.830743e+06  2.830743e+06  \n",
       "mean  -2.910904e-16  1.681963e-16  \n",
       "std    1.000000e+00  1.000000e+00  \n",
       "min   -5.006238e-01 -5.006238e-01  \n",
       "25%   -5.006238e-01 -5.006238e-01  \n",
       "50%   -5.006238e-01 -5.006238e-01  \n",
       "75%   -5.006238e-01 -5.006238e-01  \n",
       "max    2.006018e+00  2.006746e+00  \n",
       "\n",
       "[8 rows x 68 columns]"
      ]
     },
     "execution_count": 14,
     "metadata": {},
     "output_type": "execute_result"
    }
   ],
   "source": [
    "scaled_summary = pd.DataFrame(x_scaled, columns=x_df.columns).describe()\n",
    "scaled_summary"
   ]
  },
  {
   "cell_type": "code",
   "execution_count": 15,
   "metadata": {},
   "outputs": [
    {
     "name": "stderr",
     "output_type": "stream",
     "text": [
      "100%|█████████████████████████████████████████████████████████████████████| 2830743/2830743 [01:30<00:00, 31352.03it/s]\n"
     ]
    }
   ],
   "source": [
    "y_df_group = y_df.copy()\n",
    "\n",
    "for i in tqdm(range(len(y_df_group))):\n",
    "    attack = y_df_group[i]\n",
    "    group = attack\n",
    "    if attack in (\"DoS Hulk\", \"DoS GoldenEye\", \"DoS slowloris\", \"DoS Slowhttptest\", \"DDoS\", \"Heartbleed\"):\n",
    "        group = \"DoS/DDoS\"\n",
    "    elif attack.startswith(\"Web Attack\"):\n",
    "        group = \"Web Attack\"\n",
    "    elif attack in (\"FTP-Patator\", \"SSH-Patator\"):\n",
    "        group = \"Brute Force\"\n",
    "    elif attack == \"Bot\":\n",
    "        group = \"Botnet\"\n",
    "    \n",
    "    \n",
    "    y_df_group[i] = group"
   ]
  },
  {
   "cell_type": "code",
   "execution_count": 16,
   "metadata": {},
   "outputs": [
    {
     "data": {
      "text/plain": [
       "BENIGN                        2273097\n",
       "DoS Hulk                       231073\n",
       "PortScan                       158930\n",
       "DDoS                           128027\n",
       "DoS GoldenEye                   10293\n",
       "FTP-Patator                      7938\n",
       "SSH-Patator                      5897\n",
       "DoS slowloris                    5796\n",
       "DoS Slowhttptest                 5499\n",
       "Bot                              1966\n",
       "Web Attack � Brute Force         1507\n",
       "Web Attack � XSS                  652\n",
       "Infiltration                       36\n",
       "Web Attack � Sql Injection         21\n",
       "Heartbleed                         11\n",
       "Name: Label, dtype: int64"
      ]
     },
     "execution_count": 16,
     "metadata": {},
     "output_type": "execute_result"
    }
   ],
   "source": [
    "y_df.value_counts()"
   ]
  },
  {
   "cell_type": "code",
   "execution_count": 17,
   "metadata": {},
   "outputs": [
    {
     "data": {
      "text/plain": [
       "BENIGN          2273097\n",
       "DoS/DDoS         380699\n",
       "PortScan         158930\n",
       "Brute Force       13835\n",
       "Web Attack         2180\n",
       "Botnet             1966\n",
       "Infiltration         36\n",
       "Name: Label, dtype: int64"
      ]
     },
     "execution_count": 17,
     "metadata": {},
     "output_type": "execute_result"
    }
   ],
   "source": [
    "y_df_group.value_counts()"
   ]
  },
  {
   "cell_type": "code",
   "execution_count": 18,
   "metadata": {},
   "outputs": [],
   "source": [
    "y_df_enc = pd.get_dummies(y_df_group)"
   ]
  },
  {
   "cell_type": "code",
   "execution_count": 19,
   "metadata": {},
   "outputs": [
    {
     "data": {
      "text/plain": [
       "(2830743, 68)"
      ]
     },
     "execution_count": 19,
     "metadata": {},
     "output_type": "execute_result"
    }
   ],
   "source": [
    "x_scaled.shape"
   ]
  },
  {
   "cell_type": "code",
   "execution_count": 20,
   "metadata": {},
   "outputs": [],
   "source": [
    "pd.DataFrame(x_scaled, columns=x_df.columns).to_csv(NOTEBOOK_PATH + \"IDS2017/x_scaled_powertransform.csv\", index=False)"
   ]
  },
  {
   "cell_type": "code",
   "execution_count": 21,
   "metadata": {},
   "outputs": [],
   "source": [
    "y_df_enc.to_csv(NOTEBOOK_PATH + \"IDS2017/y_grouped_1henc.csv\", index=False)"
   ]
  }
 ],
 "metadata": {
  "kernelspec": {
   "display_name": "Python 3",
   "language": "python",
   "name": "python3"
  },
  "language_info": {
   "codemirror_mode": {
    "name": "ipython",
    "version": 3
   },
   "file_extension": ".py",
   "mimetype": "text/x-python",
   "name": "python",
   "nbconvert_exporter": "python",
   "pygments_lexer": "ipython3",
   "version": "3.6.7"
  }
 },
 "nbformat": 4,
 "nbformat_minor": 4
}

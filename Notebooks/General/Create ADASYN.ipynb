{
 "cells": [
  {
   "cell_type": "markdown",
   "metadata": {},
   "source": [
    "# CSE-CIC-IDS 2017"
   ]
  },
  {
   "cell_type": "code",
   "execution_count": 3,
   "metadata": {},
   "outputs": [],
   "source": [
    "model_id = \"dnn4-adasyn\""
   ]
  },
  {
   "cell_type": "code",
   "execution_count": 4,
   "metadata": {},
   "outputs": [],
   "source": [
    "import numpy as np\n",
    "np.random.seed(42)\n",
    "np.set_printoptions(suppress=True)\n",
    "import pandas as pd\n",
    "import matplotlib.pyplot as plt\n",
    "import seaborn as sns\n",
    "from tqdm import tqdm\n",
    "\n",
    "import glob, time, os\n",
    "\n",
    "import keras"
   ]
  },
  {
   "cell_type": "code",
   "execution_count": 5,
   "metadata": {},
   "outputs": [],
   "source": [
    "NOTEBOOK_PATH = \"C:/Users/Xetrov/Desktop/SciFair20/Code/\""
   ]
  },
  {
   "cell_type": "code",
   "execution_count": 6,
   "metadata": {},
   "outputs": [],
   "source": [
    "x_scaled = pd.read_csv(NOTEBOOK_PATH + \"IDS2017/x_scaled_powertransform.csv\")"
   ]
  },
  {
   "cell_type": "code",
   "execution_count": 7,
   "metadata": {},
   "outputs": [],
   "source": [
    "y_df_enc = pd.read_csv(NOTEBOOK_PATH + \"IDS2017/y_grouped_1henc.csv\")"
   ]
  },
  {
   "cell_type": "markdown",
   "metadata": {},
   "source": [
    "# Split data into train and test"
   ]
  },
  {
   "cell_type": "code",
   "execution_count": 11,
   "metadata": {},
   "outputs": [],
   "source": [
    "from sklearn.model_selection import train_test_split\n",
    "\n",
    "x_train, x_valtest, y_train, y_valtest = train_test_split(x_scaled, y_df_enc, test_size = 0.4, random_state = 42)\n",
    "\n",
    "x_val, x_test, y_val, y_test = train_test_split(x_valtest, y_valtest, test_size = 0.5, random_state = 42)\n",
    "\n",
    "del x_valtest \n",
    "del y_valtest"
   ]
  },
  {
   "cell_type": "code",
   "execution_count": 12,
   "metadata": {},
   "outputs": [
    {
     "data": {
      "text/plain": [
       "BENIGN          1364100\n",
       "Botnet             1185\n",
       "Brute Force        8273\n",
       "DoS/DDoS         228292\n",
       "Infiltration         24\n",
       "PortScan          95267\n",
       "Web Attack         1304\n",
       "dtype: int64"
      ]
     },
     "execution_count": 12,
     "metadata": {},
     "output_type": "execute_result"
    }
   ],
   "source": [
    "y_train.sum(axis=0)"
   ]
  },
  {
   "cell_type": "code",
   "execution_count": 13,
   "metadata": {},
   "outputs": [
    {
     "data": {
      "text/plain": [
       "BENIGN          454207\n",
       "Botnet             397\n",
       "Brute Force       2810\n",
       "DoS/DDoS         76510\n",
       "Infiltration         7\n",
       "PortScan         31787\n",
       "Web Attack         431\n",
       "dtype: int64"
      ]
     },
     "execution_count": 13,
     "metadata": {},
     "output_type": "execute_result"
    }
   ],
   "source": [
    "y_val.sum(axis=0)"
   ]
  },
  {
   "cell_type": "code",
   "execution_count": 14,
   "metadata": {},
   "outputs": [
    {
     "data": {
      "text/plain": [
       "BENIGN          454790\n",
       "Botnet             384\n",
       "Brute Force       2752\n",
       "DoS/DDoS         75897\n",
       "Infiltration         5\n",
       "PortScan         31876\n",
       "Web Attack         445\n",
       "dtype: int64"
      ]
     },
     "execution_count": 14,
     "metadata": {},
     "output_type": "execute_result"
    }
   ],
   "source": [
    "y_test.sum(axis=0)"
   ]
  },
  {
   "cell_type": "markdown",
   "metadata": {},
   "source": [
    "# Oversampling\n"
   ]
  },
  {
   "cell_type": "code",
   "execution_count": 15,
   "metadata": {},
   "outputs": [],
   "source": [
    "from imblearn.over_sampling import ADASYN"
   ]
  },
  {
   "cell_type": "code",
   "execution_count": 17,
   "metadata": {},
   "outputs": [],
   "source": [
    "ada = ADASYN(random_state=42, n_jobs=-1)"
   ]
  },
  {
   "cell_type": "code",
   "execution_count": null,
   "metadata": {},
   "outputs": [],
   "source": [
    "x_train_res, y_train_res = ada.fit_resample(x_train, y_train.to_numpy().argmax(axis=1))"
   ]
  },
  {
   "cell_type": "code",
   "execution_count": 31,
   "metadata": {},
   "outputs": [],
   "source": [
    "np.savetxt(NOTEBOOK_PATH + \"IDS2017/x_adasyn.csv\", x_train_res, delimiter=\",\")"
   ]
  },
  {
   "cell_type": "code",
   "execution_count": 32,
   "metadata": {},
   "outputs": [],
   "source": [
    "np.savetxt(NOTEBOOK_PATH + \"IDS2017/y_adasyn.csv\", y_train_res, delimiter=\",\")"
   ]
  },
  {
   "cell_type": "code",
   "execution_count": null,
   "metadata": {},
   "outputs": [],
   "source": [
    "y_train_res2 = pd.get_dummies(y_train_res)"
   ]
  },
  {
   "cell_type": "markdown",
   "metadata": {},
   "source": [
    "# Train model"
   ]
  },
  {
   "cell_type": "code",
   "execution_count": null,
   "metadata": {},
   "outputs": [],
   "source": [
    "from keras.models import Model, Sequential\n",
    "from keras.layers import Dense, BatchNormalization, Dropout, InputLayer\n",
    "from keras.optimizers import SGD, Adam"
   ]
  },
  {
   "cell_type": "code",
   "execution_count": null,
   "metadata": {},
   "outputs": [],
   "source": [
    "def addDenseBlock(model, units, **params):\n",
    "    model.add(Dense(units=units, activation=params['hidden_activation'], input_dim=x_train.shape[1]))\n",
    "    if params['batch_normalization']: model.add(BatchNormalization())\n",
    "    if params['dropout_rate'] > 0: model.add(Dropout(params['dropout_rate']))\n",
    "\n",
    "def createModel(**in_params):\n",
    "    \"\"\"\n",
    "    Supported parameters:\n",
    "    batch_normalization - True or False\n",
    "    dropout_rate - 0 to 1\n",
    "    num_units - integer\n",
    "    learning_rate - float\n",
    "    activation_function - string\n",
    "    \"\"\"\n",
    "    \n",
    "    model = Sequential()\n",
    "\n",
    "    # Set default values\n",
    "    params = {\n",
    "        'batch_normalization': False,\n",
    "        'dropout_rate': 0,\n",
    "        'num_layers': 6,\n",
    "        'num_units': 128,\n",
    "        'learning_rate': 0.001,\n",
    "        'hidden_activation': 'relu',\n",
    "        'final_activation': 'softmax'\n",
    "    }\n",
    "    \n",
    "    # Replace defaults with specified parameters\n",
    "    for param in in_params:\n",
    "        params[param] = in_params[param]    \n",
    "    \n",
    "    # InputLayer causes serialization issues\n",
    "#     model.add( InputLayer(input_shape = (x_train.shape[1],) ) )\n",
    "    \n",
    "#     for i in range(params['num_layers']):\n",
    "#         addDenseBlock(model, params['num_units'], **params)\n",
    "\n",
    "    addDenseBlock(model, 128, **params)\n",
    "    addDenseBlock(model, 128, **params)\n",
    "    addDenseBlock(model, 256, **params)\n",
    "    addDenseBlock(model, 256, **params)\n",
    "    addDenseBlock(model, 128, **params)\n",
    "    addDenseBlock(model, 128, **params)\n",
    "\n",
    "    model.add(Dense(units=y_train.shape[1], activation=params['final_activation']))\n",
    "\n",
    "    # optim = SGD(lr=0.001, nesterov=True)\n",
    "    optim = Adam(lr=params['learning_rate'])\n",
    "\n",
    "    model.compile(loss='categorical_crossentropy', optimizer=optim, metrics=['accuracy'])\n",
    "    \n",
    "#     print(params)\n",
    "    \n",
    "    return model"
   ]
  },
  {
   "cell_type": "markdown",
   "metadata": {},
   "source": [
    "### Callbacks"
   ]
  },
  {
   "cell_type": "code",
   "execution_count": null,
   "metadata": {},
   "outputs": [],
   "source": [
    "from keras.callbacks import CSVLogger, EarlyStopping, ModelCheckpoint\n",
    "\n",
    "def timestamp():\n",
    "    return time.strftime(\"%m-%d-%Y, %I%M%p\")\n",
    "\n",
    "csv_callback = CSVLogger(NOTEBOOK_PATH + 'Loss Logs/%s (%s)' % (model_id, timestamp()), append=True)\n",
    "early_stop = EarlyStopping(monitor = 'val_loss', min_delta=0.0001, patience=5)"
   ]
  },
  {
   "cell_type": "markdown",
   "metadata": {},
   "source": [
    "### Model Saving"
   ]
  },
  {
   "cell_type": "code",
   "execution_count": null,
   "metadata": {},
   "outputs": [],
   "source": [
    "savedir = NOTEBOOK_PATH + \"Models/%s/\" % model_id\n",
    "if not os.path.exists(savedir):\n",
    "    os.makedirs(savedir)\n",
    "    print(\"Created \" + savedir)\n",
    "else:\n",
    "    print(\"Using \" + savedir)"
   ]
  },
  {
   "cell_type": "markdown",
   "metadata": {},
   "source": [
    "Ensure a GPU is available"
   ]
  },
  {
   "cell_type": "code",
   "execution_count": null,
   "metadata": {},
   "outputs": [],
   "source": [
    "import keras.backend as K\n",
    "\n",
    "K.tensorflow_backend._get_available_gpus()"
   ]
  },
  {
   "cell_type": "markdown",
   "metadata": {},
   "source": [
    "### Training"
   ]
  },
  {
   "cell_type": "code",
   "execution_count": null,
   "metadata": {},
   "outputs": [],
   "source": [
    "import itertools\n",
    "\n",
    "trainEpochs = 100\n",
    "\n",
    "parameters = {'batch_size': 250, 'batch_normalization':True,'dropout_rate':0}"
   ]
  },
  {
   "cell_type": "code",
   "execution_count": 23,
   "metadata": {},
   "outputs": [
    {
     "name": "stdout",
     "output_type": "stream",
     "text": [
      "dnn2-classweights\n",
      "_________________________________________________________________\n",
      "Layer (type)                 Output Shape              Param #   \n",
      "=================================================================\n",
      "dense_8 (Dense)              (None, 128)               8832      \n",
      "_________________________________________________________________\n",
      "batch_normalization_1 (Batch (None, 128)               512       \n",
      "_________________________________________________________________\n",
      "dense_9 (Dense)              (None, 128)               16512     \n",
      "_________________________________________________________________\n",
      "batch_normalization_2 (Batch (None, 128)               512       \n",
      "_________________________________________________________________\n",
      "dense_10 (Dense)             (None, 256)               33024     \n",
      "_________________________________________________________________\n",
      "batch_normalization_3 (Batch (None, 256)               1024      \n",
      "_________________________________________________________________\n",
      "dense_11 (Dense)             (None, 256)               65792     \n",
      "_________________________________________________________________\n",
      "batch_normalization_4 (Batch (None, 256)               1024      \n",
      "_________________________________________________________________\n",
      "dense_12 (Dense)             (None, 128)               32896     \n",
      "_________________________________________________________________\n",
      "batch_normalization_5 (Batch (None, 128)               512       \n",
      "_________________________________________________________________\n",
      "dense_13 (Dense)             (None, 128)               16512     \n",
      "_________________________________________________________________\n",
      "batch_normalization_6 (Batch (None, 128)               512       \n",
      "_________________________________________________________________\n",
      "dense_14 (Dense)             (None, 7)                 903       \n",
      "=================================================================\n",
      "Total params: 178,567\n",
      "Trainable params: 176,519\n",
      "Non-trainable params: 2,048\n",
      "_________________________________________________________________\n",
      "Train on 1698445 samples, validate on 566149 samples\n",
      "Epoch 1/100\n",
      " - 78s - loss: 0.7628 - acc: 0.7612 - val_loss: 1.4887 - val_acc: 0.8226\n",
      "Epoch 2/100\n",
      " - 78s - loss: 0.7420 - acc: 0.8179 - val_loss: 1.2678 - val_acc: 0.6590\n",
      "Epoch 3/100\n",
      " - 77s - loss: 0.4392 - acc: 0.8090 - val_loss: 0.3309 - val_acc: 0.9339\n",
      "Epoch 4/100\n",
      " - 78s - loss: 0.5442 - acc: 0.8175 - val_loss: 1.3293 - val_acc: 0.6950\n",
      "Epoch 5/100\n",
      " - 77s - loss: 0.3021 - acc: 0.8373 - val_loss: 1.5497 - val_acc: 0.5078\n",
      "Epoch 6/100\n",
      " - 77s - loss: 0.5708 - acc: 0.8156 - val_loss: 0.7681 - val_acc: 0.8039\n",
      "Epoch 7/100\n",
      " - 77s - loss: 0.3115 - acc: 0.8530 - val_loss: 0.2057 - val_acc: 0.9487\n",
      "Epoch 8/100\n",
      " - 77s - loss: 0.2689 - acc: 0.8764 - val_loss: 0.9524 - val_acc: 0.7000\n",
      "Epoch 9/100\n",
      " - 77s - loss: 0.3202 - acc: 0.8305 - val_loss: 0.4586 - val_acc: 0.8995\n",
      "Epoch 10/100\n",
      " - 78s - loss: 0.3773 - acc: 0.8583 - val_loss: 0.7550 - val_acc: 0.7472\n",
      "Epoch 11/100\n",
      " - 77s - loss: 0.2982 - acc: 0.8589 - val_loss: 0.3929 - val_acc: 0.8854\n",
      "Epoch 12/100\n",
      " - 77s - loss: 0.3006 - acc: 0.8668 - val_loss: 0.9730 - val_acc: 0.7596\n",
      "Epoch 13/100\n",
      " - 78s - loss: 0.2804 - acc: 0.8506 - val_loss: 0.5300 - val_acc: 0.8358\n",
      "Epoch 14/100\n",
      " - 77s - loss: 0.1527 - acc: 0.8933 - val_loss: 0.2277 - val_acc: 0.9468\n",
      "Epoch 15/100\n",
      " - 77s - loss: 0.2108 - acc: 0.8882 - val_loss: 0.1490 - val_acc: 0.9630\n",
      "Epoch 16/100\n",
      " - 78s - loss: 0.1202 - acc: 0.9342 - val_loss: 0.1986 - val_acc: 0.9470\n",
      "Epoch 17/100\n",
      " - 77s - loss: 0.2045 - acc: 0.9237 - val_loss: 1.1564 - val_acc: 0.7311\n",
      "Epoch 18/100\n",
      " - 77s - loss: 0.3458 - acc: 0.8559 - val_loss: 0.2395 - val_acc: 0.9273\n",
      "Epoch 19/100\n",
      " - 77s - loss: 0.1875 - acc: 0.9087 - val_loss: 0.2968 - val_acc: 0.9230\n",
      "Epoch 20/100\n",
      " - 77s - loss: 0.1103 - acc: 0.9229 - val_loss: 0.2414 - val_acc: 0.9463\n",
      "Epoch 21/100\n",
      " - 77s - loss: 0.1309 - acc: 0.9103 - val_loss: 0.1819 - val_acc: 0.9578\n",
      "Epoch 22/100\n",
      " - 77s - loss: 0.1287 - acc: 0.9427 - val_loss: 0.6636 - val_acc: 0.8656\n",
      "Epoch 23/100\n",
      " - 77s - loss: 0.1403 - acc: 0.9360 - val_loss: 0.2867 - val_acc: 0.9155\n",
      "Epoch 24/100\n",
      " - 77s - loss: 0.0953 - acc: 0.9343 - val_loss: 0.1022 - val_acc: 0.9684\n",
      "Epoch 25/100\n",
      " - 77s - loss: 0.1382 - acc: 0.9444 - val_loss: 0.2586 - val_acc: 0.9440\n",
      "Epoch 26/100\n",
      " - 78s - loss: 0.2125 - acc: 0.9414 - val_loss: 0.3022 - val_acc: 0.9250\n",
      "Epoch 27/100\n",
      " - 77s - loss: 0.2015 - acc: 0.9367 - val_loss: 0.1861 - val_acc: 0.9371\n",
      "Epoch 28/100\n",
      " - 77s - loss: 0.1134 - acc: 0.9263 - val_loss: 0.2379 - val_acc: 0.9393\n",
      "Epoch 29/100\n",
      " - 77s - loss: 0.0926 - acc: 0.9416 - val_loss: 0.4226 - val_acc: 0.8854\n",
      "Epoch 30/100\n",
      " - 77s - loss: 0.1548 - acc: 0.9142 - val_loss: 0.2414 - val_acc: 0.9295\n",
      "Epoch 31/100\n",
      " - 77s - loss: 0.0632 - acc: 0.9461 - val_loss: 0.0784 - val_acc: 0.9721\n",
      "Epoch 32/100\n",
      " - 77s - loss: 0.1994 - acc: 0.9009 - val_loss: 0.2392 - val_acc: 0.9246\n",
      "Epoch 33/100\n",
      " - 78s - loss: 0.0788 - acc: 0.9458 - val_loss: 0.2455 - val_acc: 0.9403\n",
      "Epoch 34/100\n",
      " - 77s - loss: 0.1046 - acc: 0.9522 - val_loss: 0.9867 - val_acc: 0.8381\n",
      "Epoch 35/100\n",
      " - 77s - loss: 0.0980 - acc: 0.9241 - val_loss: 0.3149 - val_acc: 0.9314\n",
      "Epoch 36/100\n",
      " - 78s - loss: 0.1086 - acc: 0.9432 - val_loss: 0.2347 - val_acc: 0.9377\n",
      "Epoch 37/100\n",
      " - 78s - loss: 0.0948 - acc: 0.9403 - val_loss: 0.1131 - val_acc: 0.9691\n",
      "Epoch 38/100\n",
      " - 77s - loss: 0.1091 - acc: 0.9453 - val_loss: 0.1281 - val_acc: 0.9679\n",
      "Epoch 39/100\n",
      " - 78s - loss: 0.1045 - acc: 0.9569 - val_loss: 0.1811 - val_acc: 0.9516\n",
      "Epoch 40/100\n",
      " - 77s - loss: 0.0902 - acc: 0.9363 - val_loss: 0.1534 - val_acc: 0.9705\n",
      "Epoch 41/100\n",
      " - 77s - loss: 0.1241 - acc: 0.9428 - val_loss: 1.3141 - val_acc: 0.8379\n",
      "Epoch 42/100\n",
      " - 77s - loss: 0.1333 - acc: 0.9291 - val_loss: 0.5145 - val_acc: 0.8741\n",
      "Epoch 43/100\n",
      " - 77s - loss: 0.0933 - acc: 0.9372 - val_loss: 0.1311 - val_acc: 0.9676\n",
      "Epoch 44/100\n",
      " - 78s - loss: 0.1105 - acc: 0.9466 - val_loss: 0.1239 - val_acc: 0.9672\n",
      "Epoch 45/100\n",
      " - 77s - loss: 0.0681 - acc: 0.9513 - val_loss: 0.1592 - val_acc: 0.9600\n",
      "Epoch 46/100\n",
      " - 77s - loss: 0.0788 - acc: 0.9607 - val_loss: 0.1223 - val_acc: 0.9735\n",
      "Epoch 47/100\n",
      " - 77s - loss: 0.0773 - acc: 0.9603 - val_loss: 0.4143 - val_acc: 0.9123\n",
      "Epoch 48/100\n",
      " - 77s - loss: 0.0857 - acc: 0.9618 - val_loss: 0.1295 - val_acc: 0.9627\n",
      "Epoch 49/100\n",
      " - 77s - loss: 0.1006 - acc: 0.9486 - val_loss: 0.2829 - val_acc: 0.9322\n",
      "Epoch 50/100\n",
      " - 77s - loss: 0.0893 - acc: 0.9427 - val_loss: 0.1411 - val_acc: 0.9678\n",
      "Epoch 51/100\n",
      " - 77s - loss: 0.0529 - acc: 0.9591 - val_loss: 0.1238 - val_acc: 0.9693\n",
      "Epoch 52/100\n",
      " - 77s - loss: 0.0685 - acc: 0.9625 - val_loss: 1.0763 - val_acc: 0.8596\n",
      "Epoch 53/100\n",
      " - 77s - loss: 0.0922 - acc: 0.9504 - val_loss: 0.1732 - val_acc: 0.9545\n",
      "Epoch 54/100\n",
      " - 78s - loss: 0.0394 - acc: 0.9662 - val_loss: 0.1266 - val_acc: 0.9745\n",
      "Epoch 55/100\n",
      " - 77s - loss: 0.0527 - acc: 0.9681 - val_loss: 0.1300 - val_acc: 0.9670\n",
      "Epoch 56/100\n",
      " - 78s - loss: 0.0623 - acc: 0.9642 - val_loss: 0.1566 - val_acc: 0.9670\n",
      "Epoch 57/100\n",
      " - 77s - loss: 0.0628 - acc: 0.9590 - val_loss: 0.1062 - val_acc: 0.9726\n",
      "Epoch 58/100\n",
      " - 78s - loss: 0.0493 - acc: 0.9684 - val_loss: 0.0931 - val_acc: 0.9772\n",
      "Epoch 59/100\n",
      " - 78s - loss: 0.0590 - acc: 0.9688 - val_loss: 0.2434 - val_acc: 0.9559\n",
      "Epoch 60/100\n",
      " - 78s - loss: 0.0931 - acc: 0.9520 - val_loss: 0.2480 - val_acc: 0.9582\n",
      "Epoch 61/100\n",
      " - 77s - loss: 0.0351 - acc: 0.9703 - val_loss: 0.1197 - val_acc: 0.9783\n",
      "Epoch 62/100\n",
      " - 77s - loss: 0.1464 - acc: 0.9601 - val_loss: 0.1053 - val_acc: 0.9729\n",
      "Epoch 63/100\n",
      " - 78s - loss: 0.0525 - acc: 0.9673 - val_loss: 0.1181 - val_acc: 0.9721\n",
      "Epoch 64/100\n",
      " - 78s - loss: 0.0856 - acc: 0.9673 - val_loss: 0.2559 - val_acc: 0.9460\n",
      "Epoch 65/100\n",
      " - 78s - loss: 0.0274 - acc: 0.9739 - val_loss: 0.0964 - val_acc: 0.9778\n",
      "Epoch 66/100\n",
      " - 78s - loss: 0.0708 - acc: 0.9640 - val_loss: 0.3426 - val_acc: 0.9062\n",
      "Epoch 67/100\n",
      " - 77s - loss: 0.0983 - acc: 0.9611 - val_loss: 0.2890 - val_acc: 0.9490\n",
      "Epoch 68/100\n",
      " - 78s - loss: 0.0558 - acc: 0.9645 - val_loss: 0.1419 - val_acc: 0.9703\n",
      "Epoch 69/100\n",
      " - 78s - loss: 0.0484 - acc: 0.9696 - val_loss: 0.0709 - val_acc: 0.9775\n",
      "Epoch 70/100\n",
      " - 78s - loss: 0.0877 - acc: 0.9614 - val_loss: 0.4398 - val_acc: 0.9208\n",
      "Epoch 71/100\n",
      " - 78s - loss: 0.0733 - acc: 0.9696 - val_loss: 0.0697 - val_acc: 0.9811\n",
      "Epoch 72/100\n",
      " - 78s - loss: 0.0818 - acc: 0.9653 - val_loss: 0.1095 - val_acc: 0.9734\n",
      "Epoch 73/100\n",
      " - 78s - loss: 0.0634 - acc: 0.9720 - val_loss: 0.1160 - val_acc: 0.9687\n",
      "Epoch 74/100\n",
      " - 78s - loss: 0.0464 - acc: 0.9646 - val_loss: 0.1374 - val_acc: 0.9705\n",
      "Epoch 75/100\n",
      " - 77s - loss: 0.0387 - acc: 0.9676 - val_loss: 0.1107 - val_acc: 0.9677\n",
      "Epoch 76/100\n",
      " - 78s - loss: 0.0840 - acc: 0.9672 - val_loss: 0.0691 - val_acc: 0.9834\n",
      "Epoch 77/100\n",
      " - 77s - loss: 0.0360 - acc: 0.9716 - val_loss: 0.1041 - val_acc: 0.9715\n",
      "Epoch 78/100\n",
      " - 77s - loss: 0.0676 - acc: 0.9719 - val_loss: 0.1087 - val_acc: 0.9752\n",
      "Epoch 79/100\n",
      " - 78s - loss: 0.0470 - acc: 0.9715 - val_loss: 0.1038 - val_acc: 0.9734\n",
      "Epoch 80/100\n",
      " - 78s - loss: 0.0412 - acc: 0.9668 - val_loss: 0.0491 - val_acc: 0.9862\n",
      "Epoch 81/100\n",
      " - 78s - loss: 0.0928 - acc: 0.9600 - val_loss: 0.2564 - val_acc: 0.9455\n",
      "Epoch 82/100\n",
      " - 78s - loss: 0.1001 - acc: 0.9602 - val_loss: 0.1182 - val_acc: 0.9738\n",
      "Epoch 83/100\n",
      " - 78s - loss: 0.0759 - acc: 0.9630 - val_loss: 0.2276 - val_acc: 0.9365\n",
      "Epoch 84/100\n",
      " - 78s - loss: 0.0443 - acc: 0.9655 - val_loss: 0.0807 - val_acc: 0.9790\n",
      "Epoch 85/100\n",
      " - 77s - loss: 0.0683 - acc: 0.9602 - val_loss: 0.0919 - val_acc: 0.9700\n",
      "Epoch 86/100\n",
      " - 77s - loss: 0.0571 - acc: 0.9678 - val_loss: 0.5787 - val_acc: 0.9057\n",
      "Epoch 87/100\n",
      " - 78s - loss: 0.0377 - acc: 0.9678 - val_loss: 0.0945 - val_acc: 0.9754\n",
      "Epoch 88/100\n",
      " - 78s - loss: 0.0746 - acc: 0.9734 - val_loss: 0.0818 - val_acc: 0.9773\n",
      "Epoch 89/100\n",
      " - 78s - loss: 0.0821 - acc: 0.9620 - val_loss: 0.0903 - val_acc: 0.9774\n",
      "Epoch 90/100\n",
      " - 78s - loss: 0.0771 - acc: 0.9603 - val_loss: 0.1078 - val_acc: 0.9810\n",
      "Epoch 91/100\n",
      " - 78s - loss: 0.0578 - acc: 0.9710 - val_loss: 0.1233 - val_acc: 0.9753\n",
      "Epoch 92/100\n",
      " - 78s - loss: 0.0267 - acc: 0.9771 - val_loss: 0.0588 - val_acc: 0.9835\n",
      "Epoch 93/100\n",
      " - 78s - loss: 0.1466 - acc: 0.9592 - val_loss: 0.3877 - val_acc: 0.9207\n",
      "Epoch 94/100\n",
      " - 78s - loss: 0.0355 - acc: 0.9702 - val_loss: 0.0620 - val_acc: 0.9823\n",
      "Epoch 95/100\n",
      " - 78s - loss: 0.0590 - acc: 0.9624 - val_loss: 0.0644 - val_acc: 0.9827\n",
      "Epoch 96/100\n",
      " - 78s - loss: 0.1051 - acc: 0.9637 - val_loss: 0.1375 - val_acc: 0.9650\n",
      "Epoch 97/100\n",
      " - 78s - loss: 0.0422 - acc: 0.9746 - val_loss: 0.0528 - val_acc: 0.9833\n",
      "Epoch 98/100\n",
      " - 77s - loss: 0.0547 - acc: 0.9735 - val_loss: 0.1170 - val_acc: 0.9737\n",
      "Epoch 99/100\n",
      " - 77s - loss: 0.0233 - acc: 0.9789 - val_loss: 0.0797 - val_acc: 0.9793\n",
      "Epoch 100/100\n",
      " - 78s - loss: 0.0491 - acc: 0.9704 - val_loss: 0.0744 - val_acc: 0.9731\n",
      "Wall time: 2h 9min 17s\n"
     ]
    },
    {
     "data": {
      "text/plain": [
       "<keras.callbacks.History at 0x2f1d10ebb00>"
      ]
     },
     "execution_count": 23,
     "metadata": {},
     "output_type": "execute_result"
    }
   ],
   "source": [
    "%%time\n",
    "print(model_id)\n",
    "model = createModel(**parameters)\n",
    "model.summary()\n",
    "model_checkpoint = ModelCheckpoint(NOTEBOOK_PATH + \"Models/%s/dnn({epoch}).h5\" % (model_id), monitor='val_loss')\n",
    "model.fit(x_train_res, y_train, validation_data=(x_val, y_val), \n",
    "          batch_size=parameters['batch_size'], \n",
    "          epochs=trainEpochs, \n",
    "          verbose=2, \n",
    "          callbacks=[csv_callback, model_checkpoint]\n",
    "         )"
   ]
  },
  {
   "cell_type": "markdown",
   "metadata": {},
   "source": [
    "# Graph the losses"
   ]
  },
  {
   "cell_type": "code",
   "execution_count": 24,
   "metadata": {},
   "outputs": [
    {
     "name": "stdout",
     "output_type": "stream",
     "text": [
      "C:/Users/Xetrov/Desktop/SciFair20/Code/Loss Logs\\dnn2-classweights (10-13-2019, 0527PM)\n"
     ]
    }
   ],
   "source": [
    "def most_recent_file(pattern):\n",
    "    return max(glob.iglob(pattern, recursive=True), key=os.path.getctime)\n",
    "\n",
    "logpath = most_recent_file(NOTEBOOK_PATH + \"Loss Logs/%s**\" % model_id)\n",
    "log_df = pd.read_csv(logpath)\n",
    "log_df['epoch'] += 1\n",
    "\n",
    "print(logpath)"
   ]
  },
  {
   "cell_type": "code",
   "execution_count": 26,
   "metadata": {},
   "outputs": [
    {
     "data": {
      "image/png": "[encoded data removed]",
      "text/plain": [
       "<Figure size 864x432 with 1 Axes>"
      ]
     },
     "metadata": {
      "needs_background": "light"
     },
     "output_type": "display_data"
    }
   ],
   "source": [
    "plot_df = log_df[:]\n",
    "\n",
    "metric = 'loss'\n",
    "\n",
    "plt.figure(figsize=(12,6))\n",
    "sns.lineplot(x='epoch', y=metric, data=plot_df, label=metric)\n",
    "sns.lineplot(x='epoch', y='val_'+metric, data=plot_df, label='val_'+metric)\n",
    "plt.legend()\n",
    "\n",
    "minEpoch = plot_df.loc[plot_df.idxmin()[metric]]\n",
    "plt.plot((minEpoch['epoch']), (minEpoch[metric]), 'go', markersize=8)\n",
    "minEpoch = plot_df.loc[plot_df.idxmin()['val_'+metric]]\n",
    "plt.plot((minEpoch['epoch']), (minEpoch['val_'+metric]), 'ro', markersize=8)\n",
    "\n",
    "plt.xticks(list(range(0, plot_df['epoch'].max()+1, 5)))\n",
    "# plt.yticks(list(np.arange(0.0,0.4,0.05)))\n",
    "\n",
    "plt.grid(True)"
   ]
  },
  {
   "cell_type": "markdown",
   "metadata": {},
   "source": [
    "# View confusion matrix"
   ]
  },
  {
   "cell_type": "code",
   "execution_count": 27,
   "metadata": {},
   "outputs": [
    {
     "name": "stdout",
     "output_type": "stream",
     "text": [
      "Loading...\n",
      "Predicting...\n",
      "Plotting...\n",
      "Done!\n"
     ]
    },
    {
     "data": {
      "text/html": [
       "<div>\n",
       "<style scoped>\n",
       "    .dataframe tbody tr th:only-of-type {\n",
       "        vertical-align: middle;\n",
       "    }\n",
       "\n",
       "    .dataframe tbody tr th {\n",
       "        vertical-align: top;\n",
       "    }\n",
       "\n",
       "    .dataframe thead th {\n",
       "        text-align: right;\n",
       "    }\n",
       "</style>\n",
       "<table border=\"1\" class=\"dataframe\">\n",
       "  <thead>\n",
       "    <tr style=\"text-align: right;\">\n",
       "      <th>Actual</th>\n",
       "      <th>BENIGN</th>\n",
       "      <th>Botnet</th>\n",
       "      <th>Brute Force</th>\n",
       "      <th>DoS/DDoS</th>\n",
       "      <th>Infiltration</th>\n",
       "      <th>PortScan</th>\n",
       "      <th>Web Attack</th>\n",
       "      <th>All</th>\n",
       "    </tr>\n",
       "    <tr>\n",
       "      <th>Pred</th>\n",
       "      <th></th>\n",
       "      <th></th>\n",
       "      <th></th>\n",
       "      <th></th>\n",
       "      <th></th>\n",
       "      <th></th>\n",
       "      <th></th>\n",
       "      <th></th>\n",
       "    </tr>\n",
       "  </thead>\n",
       "  <tbody>\n",
       "    <tr>\n",
       "      <th>BENIGN</th>\n",
       "      <td>446502</td>\n",
       "      <td>6</td>\n",
       "      <td>0</td>\n",
       "      <td>23</td>\n",
       "      <td>0</td>\n",
       "      <td>2</td>\n",
       "      <td>1</td>\n",
       "      <td>446534</td>\n",
       "    </tr>\n",
       "    <tr>\n",
       "      <th>Botnet</th>\n",
       "      <td>5044</td>\n",
       "      <td>391</td>\n",
       "      <td>0</td>\n",
       "      <td>0</td>\n",
       "      <td>0</td>\n",
       "      <td>0</td>\n",
       "      <td>0</td>\n",
       "      <td>5435</td>\n",
       "    </tr>\n",
       "    <tr>\n",
       "      <th>Brute Force</th>\n",
       "      <td>495</td>\n",
       "      <td>0</td>\n",
       "      <td>2810</td>\n",
       "      <td>0</td>\n",
       "      <td>0</td>\n",
       "      <td>0</td>\n",
       "      <td>0</td>\n",
       "      <td>3305</td>\n",
       "    </tr>\n",
       "    <tr>\n",
       "      <th>DoS/DDoS</th>\n",
       "      <td>898</td>\n",
       "      <td>0</td>\n",
       "      <td>0</td>\n",
       "      <td>76444</td>\n",
       "      <td>0</td>\n",
       "      <td>13</td>\n",
       "      <td>0</td>\n",
       "      <td>77355</td>\n",
       "    </tr>\n",
       "    <tr>\n",
       "      <th>Infiltration</th>\n",
       "      <td>454</td>\n",
       "      <td>0</td>\n",
       "      <td>0</td>\n",
       "      <td>0</td>\n",
       "      <td>7</td>\n",
       "      <td>0</td>\n",
       "      <td>0</td>\n",
       "      <td>461</td>\n",
       "    </tr>\n",
       "    <tr>\n",
       "      <th>PortScan</th>\n",
       "      <td>208</td>\n",
       "      <td>0</td>\n",
       "      <td>0</td>\n",
       "      <td>1</td>\n",
       "      <td>0</td>\n",
       "      <td>31769</td>\n",
       "      <td>0</td>\n",
       "      <td>31978</td>\n",
       "    </tr>\n",
       "    <tr>\n",
       "      <th>Web Attack</th>\n",
       "      <td>606</td>\n",
       "      <td>0</td>\n",
       "      <td>0</td>\n",
       "      <td>42</td>\n",
       "      <td>0</td>\n",
       "      <td>3</td>\n",
       "      <td>430</td>\n",
       "      <td>1081</td>\n",
       "    </tr>\n",
       "    <tr>\n",
       "      <th>All</th>\n",
       "      <td>454207</td>\n",
       "      <td>397</td>\n",
       "      <td>2810</td>\n",
       "      <td>76510</td>\n",
       "      <td>7</td>\n",
       "      <td>31787</td>\n",
       "      <td>431</td>\n",
       "      <td>566149</td>\n",
       "    </tr>\n",
       "  </tbody>\n",
       "</table>\n",
       "</div>"
      ],
      "text/plain": [
       "Actual        BENIGN  Botnet  Brute Force  DoS/DDoS  Infiltration  PortScan  \\\n",
       "Pred                                                                          \n",
       "BENIGN        446502       6            0        23             0         2   \n",
       "Botnet          5044     391            0         0             0         0   \n",
       "Brute Force      495       0         2810         0             0         0   \n",
       "DoS/DDoS         898       0            0     76444             0        13   \n",
       "Infiltration     454       0            0         0             7         0   \n",
       "PortScan         208       0            0         1             0     31769   \n",
       "Web Attack       606       0            0        42             0         3   \n",
       "All           454207     397         2810     76510             7     31787   \n",
       "\n",
       "Actual        Web Attack     All  \n",
       "Pred                              \n",
       "BENIGN                 1  446534  \n",
       "Botnet                 0    5435  \n",
       "Brute Force            0    3305  \n",
       "DoS/DDoS               0   77355  \n",
       "Infiltration           0     461  \n",
       "PortScan               0   31978  \n",
       "Web Attack           430    1081  \n",
       "All                  431  566149  "
      ]
     },
     "execution_count": 27,
     "metadata": {},
     "output_type": "execute_result"
    }
   ],
   "source": [
    "print(\"Loading...\")\n",
    "model = keras.models.load_model(NOTEBOOK_PATH + \"Models/%s/dnn(80).h5\" % model_id)\n",
    "print(\"Predicting...\")\n",
    "pred = model.predict(x_val)\n",
    "\n",
    "print(\"Plotting...\")\n",
    "pred_index = list(pred.argmax(1))\n",
    "y_index = list(np.argmax(y_val.to_numpy(), axis=1))\n",
    "\n",
    "atktypes = sorted(y_val.columns)\n",
    "pred_series = pd.Series(pred_index, name=\"Pred\").replace(dict(enumerate(atktypes)))\n",
    "y_series = pd.Series(y_index, name=\"Actual\").replace(dict(enumerate(atktypes)))\n",
    "\n",
    "matrix = pd.crosstab(pred_series, y_series, margins=True)\n",
    "print(\"Done!\")\n",
    "matrix"
   ]
  },
  {
   "cell_type": "markdown",
   "metadata": {},
   "source": [
    "# F1 Score"
   ]
  },
  {
   "cell_type": "code",
   "execution_count": 28,
   "metadata": {},
   "outputs": [],
   "source": [
    "from sklearn.metrics import f1_score"
   ]
  },
  {
   "cell_type": "code",
   "execution_count": 29,
   "metadata": {},
   "outputs": [
    {
     "name": "stdout",
     "output_type": "stream",
     "text": [
      "Micro: 0.9862862956571503\n",
      "Macro: 0.6569235867310287\n"
     ]
    }
   ],
   "source": [
    "pred = model.predict(x_test, batch_size=256).argmax(axis=1)\n",
    "pred_f1 = np.zeros((len(x_test), y_test.shape[1]))\n",
    "for j in range(len(pred)):\n",
    "    pred_f1[j,pred[j]] = 1\n",
    "f1_micro = f1_score(y_test, pred_f1.astype('uint8'), average='micro')\n",
    "f1_macro = f1_score(y_test, pred_f1.astype('uint8'), average='macro')\n",
    "print(\"Micro:\", f1_micro)\n",
    "print(\"Macro:\", f1_macro)"
   ]
  },
  {
   "cell_type": "code",
   "execution_count": 34,
   "metadata": {},
   "outputs": [
    {
     "name": "stdout",
     "output_type": "stream",
     "text": [
      "Done!\n"
     ]
    },
    {
     "data": {
      "text/html": [
       "<div>\n",
       "<style scoped>\n",
       "    .dataframe tbody tr th:only-of-type {\n",
       "        vertical-align: middle;\n",
       "    }\n",
       "\n",
       "    .dataframe tbody tr th {\n",
       "        vertical-align: top;\n",
       "    }\n",
       "\n",
       "    .dataframe thead th {\n",
       "        text-align: right;\n",
       "    }\n",
       "</style>\n",
       "<table border=\"1\" class=\"dataframe\">\n",
       "  <thead>\n",
       "    <tr style=\"text-align: right;\">\n",
       "      <th>Actual</th>\n",
       "      <th>BENIGN</th>\n",
       "      <th>Botnet</th>\n",
       "      <th>Brute Force</th>\n",
       "      <th>DoS/DDoS</th>\n",
       "      <th>Infiltration</th>\n",
       "      <th>PortScan</th>\n",
       "      <th>Web Attack</th>\n",
       "      <th>All</th>\n",
       "    </tr>\n",
       "    <tr>\n",
       "      <th>Pred</th>\n",
       "      <th></th>\n",
       "      <th></th>\n",
       "      <th></th>\n",
       "      <th></th>\n",
       "      <th></th>\n",
       "      <th></th>\n",
       "      <th></th>\n",
       "      <th></th>\n",
       "    </tr>\n",
       "  </thead>\n",
       "  <tbody>\n",
       "    <tr>\n",
       "      <th>BENIGN</th>\n",
       "      <td>447118</td>\n",
       "      <td>1</td>\n",
       "      <td>2</td>\n",
       "      <td>19</td>\n",
       "      <td>2</td>\n",
       "      <td>3</td>\n",
       "      <td>0</td>\n",
       "      <td>447145</td>\n",
       "    </tr>\n",
       "    <tr>\n",
       "      <th>Botnet</th>\n",
       "      <td>4974</td>\n",
       "      <td>383</td>\n",
       "      <td>0</td>\n",
       "      <td>0</td>\n",
       "      <td>0</td>\n",
       "      <td>0</td>\n",
       "      <td>0</td>\n",
       "      <td>5357</td>\n",
       "    </tr>\n",
       "    <tr>\n",
       "      <th>Brute Force</th>\n",
       "      <td>512</td>\n",
       "      <td>0</td>\n",
       "      <td>2749</td>\n",
       "      <td>0</td>\n",
       "      <td>0</td>\n",
       "      <td>0</td>\n",
       "      <td>0</td>\n",
       "      <td>3261</td>\n",
       "    </tr>\n",
       "    <tr>\n",
       "      <th>DoS/DDoS</th>\n",
       "      <td>871</td>\n",
       "      <td>0</td>\n",
       "      <td>0</td>\n",
       "      <td>75826</td>\n",
       "      <td>0</td>\n",
       "      <td>9</td>\n",
       "      <td>2</td>\n",
       "      <td>76708</td>\n",
       "    </tr>\n",
       "    <tr>\n",
       "      <th>Infiltration</th>\n",
       "      <td>444</td>\n",
       "      <td>0</td>\n",
       "      <td>0</td>\n",
       "      <td>1</td>\n",
       "      <td>3</td>\n",
       "      <td>0</td>\n",
       "      <td>0</td>\n",
       "      <td>448</td>\n",
       "    </tr>\n",
       "    <tr>\n",
       "      <th>PortScan</th>\n",
       "      <td>218</td>\n",
       "      <td>0</td>\n",
       "      <td>0</td>\n",
       "      <td>0</td>\n",
       "      <td>0</td>\n",
       "      <td>31863</td>\n",
       "      <td>0</td>\n",
       "      <td>32081</td>\n",
       "    </tr>\n",
       "    <tr>\n",
       "      <th>Web Attack</th>\n",
       "      <td>653</td>\n",
       "      <td>0</td>\n",
       "      <td>1</td>\n",
       "      <td>51</td>\n",
       "      <td>0</td>\n",
       "      <td>1</td>\n",
       "      <td>443</td>\n",
       "      <td>1149</td>\n",
       "    </tr>\n",
       "    <tr>\n",
       "      <th>All</th>\n",
       "      <td>454790</td>\n",
       "      <td>384</td>\n",
       "      <td>2752</td>\n",
       "      <td>75897</td>\n",
       "      <td>5</td>\n",
       "      <td>31876</td>\n",
       "      <td>445</td>\n",
       "      <td>566149</td>\n",
       "    </tr>\n",
       "  </tbody>\n",
       "</table>\n",
       "</div>"
      ],
      "text/plain": [
       "Actual        BENIGN  Botnet  Brute Force  DoS/DDoS  Infiltration  PortScan  \\\n",
       "Pred                                                                          \n",
       "BENIGN        447118       1            2        19             2         3   \n",
       "Botnet          4974     383            0         0             0         0   \n",
       "Brute Force      512       0         2749         0             0         0   \n",
       "DoS/DDoS         871       0            0     75826             0         9   \n",
       "Infiltration     444       0            0         1             3         0   \n",
       "PortScan         218       0            0         0             0     31863   \n",
       "Web Attack       653       0            1        51             0         1   \n",
       "All           454790     384         2752     75897             5     31876   \n",
       "\n",
       "Actual        Web Attack     All  \n",
       "Pred                              \n",
       "BENIGN                 0  447145  \n",
       "Botnet                 0    5357  \n",
       "Brute Force            0    3261  \n",
       "DoS/DDoS               2   76708  \n",
       "Infiltration           0     448  \n",
       "PortScan               0   32081  \n",
       "Web Attack           443    1149  \n",
       "All                  445  566149  "
      ]
     },
     "execution_count": 34,
     "metadata": {},
     "output_type": "execute_result"
    }
   ],
   "source": [
    "pred_index = pred\n",
    "y_index = list(np.argmax(y_test.to_numpy(), axis=1))\n",
    "\n",
    "atktypes = sorted(y_test.columns)\n",
    "pred_series = pd.Series(pred_index, name=\"Pred\").replace(dict(enumerate(atktypes)))\n",
    "y_series = pd.Series(y_index, name=\"Actual\").replace(dict(enumerate(atktypes)))\n",
    "\n",
    "matrix = pd.crosstab(pred_series, y_series, margins=True)\n",
    "print(\"Done!\")\n",
    "matrix.to_csv(NOTEBOOK_PATH + \"Confusion Matrices/%s.csv\" % model_id)\n",
    "matrix"
   ]
  },
  {
   "cell_type": "markdown",
   "metadata": {},
   "source": [
    "# Log results"
   ]
  },
  {
   "cell_type": "code",
   "execution_count": 45,
   "metadata": {},
   "outputs": [],
   "source": [
    "model_log = open(NOTEBOOK_PATH + \"model_log.txt\", \"a\")\n",
    "\n",
    "model_log.write(\"\\n\" + model_id)\n",
    "model_log.write(\"\\n\\tF1 Micro: \" + str(f1_micro))\n",
    "model_log.write(\"\\n\\tF1 Macro: \" + str(f1_macro))\n",
    "\n",
    "model_log.close()"
   ]
  }
 ],
 "metadata": {
  "kernelspec": {
   "display_name": "Python 3",
   "language": "python",
   "name": "python3"
  },
  "language_info": {
   "codemirror_mode": {
    "name": "ipython",
    "version": 3
   },
   "file_extension": ".py",
   "mimetype": "text/x-python",
   "name": "python",
   "nbconvert_exporter": "python",
   "pygments_lexer": "ipython3",
   "version": "3.6.7"
  }
 },
 "nbformat": 4,
 "nbformat_minor": 4
}

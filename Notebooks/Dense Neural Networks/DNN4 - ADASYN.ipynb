{
 "cells": [
  {
   "cell_type": "markdown",
   "metadata": {},
   "source": [
    "# CSE-CIC-IDS 2017"
   ]
  },
  {
   "cell_type": "code",
   "execution_count": 1,
   "metadata": {},
   "outputs": [],
   "source": [
    "model_id = \"dnn4-adasyn\""
   ]
  },
  {
   "cell_type": "code",
   "execution_count": 2,
   "metadata": {},
   "outputs": [
    {
     "name": "stderr",
     "output_type": "stream",
     "text": [
      "Using TensorFlow backend.\n",
      "C:\\Users\\Xetrov\\AppData\\Local\\Continuum\\anaconda3\\lib\\site-packages\\tensorflow\\python\\framework\\dtypes.py:517: FutureWarning: Passing (type, 1) or '1type' as a synonym of type is deprecated; in a future version of numpy, it will be understood as (type, (1,)) / '(1,)type'.\n",
      "  _np_qint8 = np.dtype([(\"qint8\", np.int8, 1)])\n",
      "C:\\Users\\Xetrov\\AppData\\Local\\Continuum\\anaconda3\\lib\\site-packages\\tensorflow\\python\\framework\\dtypes.py:518: FutureWarning: Passing (type, 1) or '1type' as a synonym of type is deprecated; in a future version of numpy, it will be understood as (type, (1,)) / '(1,)type'.\n",
      "  _np_quint8 = np.dtype([(\"quint8\", np.uint8, 1)])\n",
      "C:\\Users\\Xetrov\\AppData\\Local\\Continuum\\anaconda3\\lib\\site-packages\\tensorflow\\python\\framework\\dtypes.py:519: FutureWarning: Passing (type, 1) or '1type' as a synonym of type is deprecated; in a future version of numpy, it will be understood as (type, (1,)) / '(1,)type'.\n",
      "  _np_qint16 = np.dtype([(\"qint16\", np.int16, 1)])\n",
      "C:\\Users\\Xetrov\\AppData\\Local\\Continuum\\anaconda3\\lib\\site-packages\\tensorflow\\python\\framework\\dtypes.py:520: FutureWarning: Passing (type, 1) or '1type' as a synonym of type is deprecated; in a future version of numpy, it will be understood as (type, (1,)) / '(1,)type'.\n",
      "  _np_quint16 = np.dtype([(\"quint16\", np.uint16, 1)])\n",
      "C:\\Users\\Xetrov\\AppData\\Local\\Continuum\\anaconda3\\lib\\site-packages\\tensorflow\\python\\framework\\dtypes.py:521: FutureWarning: Passing (type, 1) or '1type' as a synonym of type is deprecated; in a future version of numpy, it will be understood as (type, (1,)) / '(1,)type'.\n",
      "  _np_qint32 = np.dtype([(\"qint32\", np.int32, 1)])\n",
      "C:\\Users\\Xetrov\\AppData\\Local\\Continuum\\anaconda3\\lib\\site-packages\\tensorflow\\python\\framework\\dtypes.py:526: FutureWarning: Passing (type, 1) or '1type' as a synonym of type is deprecated; in a future version of numpy, it will be understood as (type, (1,)) / '(1,)type'.\n",
      "  np_resource = np.dtype([(\"resource\", np.ubyte, 1)])\n"
     ]
    }
   ],
   "source": [
    "import numpy as np\n",
    "np.random.seed(42)\n",
    "np.set_printoptions(suppress=True)\n",
    "import pandas as pd\n",
    "import matplotlib.pyplot as plt\n",
    "import seaborn as sns\n",
    "from tqdm import tqdm\n",
    "\n",
    "import glob, time, os\n",
    "\n",
    "import keras"
   ]
  },
  {
   "cell_type": "code",
   "execution_count": 3,
   "metadata": {},
   "outputs": [],
   "source": [
    "NOTEBOOK_PATH = \"C:/Users/Xetrov/Desktop/SciFair20/Code/\""
   ]
  },
  {
   "cell_type": "code",
   "execution_count": 4,
   "metadata": {},
   "outputs": [],
   "source": [
    "x_scaled = pd.read_csv(NOTEBOOK_PATH + \"IDS2017/x_scaled_powertransform.csv\")"
   ]
  },
  {
   "cell_type": "code",
   "execution_count": 5,
   "metadata": {},
   "outputs": [],
   "source": [
    "y_df_enc = pd.read_csv(NOTEBOOK_PATH + \"IDS2017/y_grouped_1henc.csv\")"
   ]
  },
  {
   "cell_type": "markdown",
   "metadata": {},
   "source": [
    "# Split data into train and test"
   ]
  },
  {
   "cell_type": "code",
   "execution_count": 6,
   "metadata": {},
   "outputs": [],
   "source": [
    "from sklearn.model_selection import train_test_split"
   ]
  },
  {
   "cell_type": "code",
   "execution_count": 7,
   "metadata": {},
   "outputs": [],
   "source": [
    "x_train, x_valtest, y_train, y_valtest = train_test_split(x_scaled, y_df_enc, test_size = 0.4, random_state = 42)"
   ]
  },
  {
   "cell_type": "code",
   "execution_count": 8,
   "metadata": {},
   "outputs": [],
   "source": [
    "x_val, x_test, y_val, y_test = train_test_split(x_valtest, y_valtest, test_size = 0.5, random_state = 42)"
   ]
  },
  {
   "cell_type": "code",
   "execution_count": 9,
   "metadata": {},
   "outputs": [],
   "source": [
    "del x_valtest \n",
    "del y_valtest"
   ]
  },
  {
   "cell_type": "code",
   "execution_count": 10,
   "metadata": {},
   "outputs": [
    {
     "data": {
      "text/plain": [
       "BENIGN          1364100\n",
       "Botnet             1185\n",
       "Brute Force        8273\n",
       "DoS/DDoS         228292\n",
       "Infiltration         24\n",
       "PortScan          95267\n",
       "Web Attack         1304\n",
       "dtype: int64"
      ]
     },
     "execution_count": 10,
     "metadata": {},
     "output_type": "execute_result"
    }
   ],
   "source": [
    "y_train.sum(axis=0)"
   ]
  },
  {
   "cell_type": "code",
   "execution_count": 11,
   "metadata": {},
   "outputs": [
    {
     "data": {
      "text/plain": [
       "BENIGN          454207\n",
       "Botnet             397\n",
       "Brute Force       2810\n",
       "DoS/DDoS         76510\n",
       "Infiltration         7\n",
       "PortScan         31787\n",
       "Web Attack         431\n",
       "dtype: int64"
      ]
     },
     "execution_count": 11,
     "metadata": {},
     "output_type": "execute_result"
    }
   ],
   "source": [
    "y_val.sum(axis=0)"
   ]
  },
  {
   "cell_type": "code",
   "execution_count": 12,
   "metadata": {},
   "outputs": [
    {
     "data": {
      "text/plain": [
       "BENIGN          454790\n",
       "Botnet             384\n",
       "Brute Force       2752\n",
       "DoS/DDoS         75897\n",
       "Infiltration         5\n",
       "PortScan         31876\n",
       "Web Attack         445\n",
       "dtype: int64"
      ]
     },
     "execution_count": 12,
     "metadata": {},
     "output_type": "execute_result"
    }
   ],
   "source": [
    "y_test.sum(axis=0)"
   ]
  },
  {
   "cell_type": "markdown",
   "metadata": {},
   "source": [
    "# Oversampling\n"
   ]
  },
  {
   "cell_type": "code",
   "execution_count": 29,
   "metadata": {},
   "outputs": [],
   "source": [
    "x_train_res = pd.read_csv(NOTEBOOK_PATH + \"IDS2017/x_adasyn.csv\").to_numpy()\n",
    "\n",
    "y_train_res = pd.read_csv(NOTEBOOK_PATH + \"IDS2017/y_adasyn.csv\")\n",
    "\n",
    "y_train_res2 = pd.get_dummies(y_train_res[y_train_res.columns[0]])"
   ]
  },
  {
   "cell_type": "markdown",
   "metadata": {},
   "source": [
    "# Train model"
   ]
  },
  {
   "cell_type": "code",
   "execution_count": 31,
   "metadata": {},
   "outputs": [],
   "source": [
    "from keras.models import Model, Sequential\n",
    "from keras.layers import Dense, BatchNormalization, Dropout, InputLayer\n",
    "from keras.optimizers import SGD, Adam"
   ]
  },
  {
   "cell_type": "code",
   "execution_count": 32,
   "metadata": {},
   "outputs": [],
   "source": [
    "def addDenseBlock(model, units, **params):\n",
    "    model.add(Dense(units=units, activation=params['hidden_activation'], input_dim=x_train.shape[1]))\n",
    "    if params['batch_normalization']: model.add(BatchNormalization())\n",
    "    if params['dropout_rate'] > 0: model.add(Dropout(params['dropout_rate']))\n",
    "\n",
    "def createModel(**in_params):\n",
    "    \"\"\"\n",
    "    Supported parameters:\n",
    "    batch_normalization - True or False\n",
    "    dropout_rate - 0 to 1\n",
    "    num_units - integer\n",
    "    learning_rate - float\n",
    "    activation_function - string\n",
    "    \"\"\"\n",
    "    \n",
    "    model = Sequential()\n",
    "\n",
    "    # Set default values\n",
    "    params = {\n",
    "        'batch_normalization': False,\n",
    "        'dropout_rate': 0,\n",
    "        'num_layers': 6,\n",
    "        'num_units': 128,\n",
    "        'learning_rate': 0.001,\n",
    "        'hidden_activation': 'relu',\n",
    "        'final_activation': 'softmax'\n",
    "    }\n",
    "    \n",
    "    # Replace defaults with specified parameters\n",
    "    for param in in_params:\n",
    "        params[param] = in_params[param]    \n",
    "    \n",
    "    # InputLayer causes serialization issues\n",
    "#     model.add( InputLayer(input_shape = (x_train.shape[1],) ) )\n",
    "    \n",
    "#     for i in range(params['num_layers']):\n",
    "#         addDenseBlock(model, params['num_units'], **params)\n",
    "\n",
    "    addDenseBlock(model, 128, **params)\n",
    "    addDenseBlock(model, 128, **params)\n",
    "    addDenseBlock(model, 256, **params)\n",
    "    addDenseBlock(model, 256, **params)\n",
    "    addDenseBlock(model, 128, **params)\n",
    "    addDenseBlock(model, 128, **params)\n",
    "\n",
    "    model.add(Dense(units=y_train.shape[1], activation=params['final_activation']))\n",
    "\n",
    "    # optim = SGD(lr=0.001, nesterov=True)\n",
    "    optim = Adam(lr=params['learning_rate'])\n",
    "\n",
    "    model.compile(loss='categorical_crossentropy', optimizer=optim, metrics=['accuracy'])\n",
    "    \n",
    "#     print(params)\n",
    "    \n",
    "    return model"
   ]
  },
  {
   "cell_type": "markdown",
   "metadata": {},
   "source": [
    "### Callbacks"
   ]
  },
  {
   "cell_type": "code",
   "execution_count": 33,
   "metadata": {},
   "outputs": [],
   "source": [
    "from keras.callbacks import CSVLogger, EarlyStopping, ModelCheckpoint\n",
    "\n",
    "def timestamp():\n",
    "    return time.strftime(\"%m-%d-%Y, %I%M%p\")\n",
    "\n",
    "csv_callback = CSVLogger(NOTEBOOK_PATH + 'Loss Logs/%s (%s)' % (model_id, timestamp()), append=True)\n",
    "early_stop = EarlyStopping(monitor = 'val_loss', min_delta=0.0001, patience=5)"
   ]
  },
  {
   "cell_type": "markdown",
   "metadata": {},
   "source": [
    "### Model Saving"
   ]
  },
  {
   "cell_type": "code",
   "execution_count": 34,
   "metadata": {},
   "outputs": [
    {
     "name": "stdout",
     "output_type": "stream",
     "text": [
      "Using C:/Users/Xetrov/Desktop/SciFair20/Code/Models/dnn4-adasyn/\n"
     ]
    }
   ],
   "source": [
    "savedir = NOTEBOOK_PATH + \"Models/%s/\" % model_id\n",
    "if not os.path.exists(savedir):\n",
    "    os.makedirs(savedir)\n",
    "    print(\"Created \" + savedir)\n",
    "else:\n",
    "    print(\"Using \" + savedir)"
   ]
  },
  {
   "cell_type": "markdown",
   "metadata": {},
   "source": [
    "Ensure a GPU is available"
   ]
  },
  {
   "cell_type": "code",
   "execution_count": 35,
   "metadata": {},
   "outputs": [
    {
     "data": {
      "text/plain": [
       "['/job:localhost/replica:0/task:0/device:GPU:0']"
      ]
     },
     "execution_count": 35,
     "metadata": {},
     "output_type": "execute_result"
    }
   ],
   "source": [
    "import keras.backend as K\n",
    "\n",
    "K.tensorflow_backend._get_available_gpus()"
   ]
  },
  {
   "cell_type": "markdown",
   "metadata": {},
   "source": [
    "### Training"
   ]
  },
  {
   "cell_type": "code",
   "execution_count": 36,
   "metadata": {},
   "outputs": [],
   "source": [
    "import itertools\n",
    "\n",
    "trainEpochs = 100\n",
    "\n",
    "parameters = {'batch_size': 250, 'batch_normalization':True,'dropout_rate':0}"
   ]
  },
  {
   "cell_type": "code",
   "execution_count": 37,
   "metadata": {},
   "outputs": [
    {
     "name": "stdout",
     "output_type": "stream",
     "text": [
      "dnn4-adasyn\n",
      "_________________________________________________________________\n",
      "Layer (type)                 Output Shape              Param #   \n",
      "=================================================================\n",
      "dense_1 (Dense)              (None, 128)               8832      \n",
      "_________________________________________________________________\n",
      "batch_normalization_1 (Batch (None, 128)               512       \n",
      "_________________________________________________________________\n",
      "dense_2 (Dense)              (None, 128)               16512     \n",
      "_________________________________________________________________\n",
      "batch_normalization_2 (Batch (None, 128)               512       \n",
      "_________________________________________________________________\n",
      "dense_3 (Dense)              (None, 256)               33024     \n",
      "_________________________________________________________________\n",
      "batch_normalization_3 (Batch (None, 256)               1024      \n",
      "_________________________________________________________________\n",
      "dense_4 (Dense)              (None, 256)               65792     \n",
      "_________________________________________________________________\n",
      "batch_normalization_4 (Batch (None, 256)               1024      \n",
      "_________________________________________________________________\n",
      "dense_5 (Dense)              (None, 128)               32896     \n",
      "_________________________________________________________________\n",
      "batch_normalization_5 (Batch (None, 128)               512       \n",
      "_________________________________________________________________\n",
      "dense_6 (Dense)              (None, 128)               16512     \n",
      "_________________________________________________________________\n",
      "batch_normalization_6 (Batch (None, 128)               512       \n",
      "_________________________________________________________________\n",
      "dense_7 (Dense)              (None, 7)                 903       \n",
      "=================================================================\n",
      "Total params: 178,567\n",
      "Trainable params: 176,519\n",
      "Non-trainable params: 2,048\n",
      "_________________________________________________________________\n",
      "Train on 9549194 samples, validate on 566149 samples\n",
      "Epoch 1/100\n",
      " - 416s - loss: 0.0327 - acc: 0.9891 - val_loss: 0.0441 - val_acc: 0.9904\n",
      "Epoch 2/100\n",
      " - 413s - loss: 0.0236 - acc: 0.9919 - val_loss: 0.0418 - val_acc: 0.9891\n",
      "Epoch 3/100\n",
      " - 413s - loss: 0.0212 - acc: 0.9928 - val_loss: 0.0773 - val_acc: 0.9890\n",
      "Epoch 4/100\n",
      " - 412s - loss: 0.0191 - acc: 0.9935 - val_loss: 0.0255 - val_acc: 0.9939\n",
      "Epoch 5/100\n",
      " - 413s - loss: 0.0184 - acc: 0.9938 - val_loss: 0.0534 - val_acc: 0.9899\n",
      "Epoch 6/100\n",
      " - 412s - loss: 0.0177 - acc: 0.9940 - val_loss: 0.0493 - val_acc: 0.9912\n",
      "Epoch 7/100\n",
      " - 412s - loss: 0.0170 - acc: 0.9943 - val_loss: 0.0331 - val_acc: 0.9929\n",
      "Epoch 8/100\n",
      " - 413s - loss: 0.0166 - acc: 0.9944 - val_loss: 0.0198 - val_acc: 0.9952\n",
      "Epoch 9/100\n",
      " - 412s - loss: 0.0157 - acc: 0.9947 - val_loss: 0.0250 - val_acc: 0.9943\n",
      "Epoch 10/100\n",
      " - 413s - loss: 0.0154 - acc: 0.9947 - val_loss: 0.0367 - val_acc: 0.9920\n",
      "Epoch 11/100\n",
      " - 413s - loss: 0.0163 - acc: 0.9943 - val_loss: 0.0273 - val_acc: 0.9947\n",
      "Epoch 12/100\n",
      " - 413s - loss: 0.0159 - acc: 0.9945 - val_loss: 0.0694 - val_acc: 0.9907\n",
      "Epoch 13/100\n",
      " - 413s - loss: 0.0145 - acc: 0.9950 - val_loss: 0.0211 - val_acc: 0.9955\n",
      "Epoch 14/100\n",
      " - 413s - loss: 0.0141 - acc: 0.9951 - val_loss: 0.0313 - val_acc: 0.9945\n",
      "Epoch 15/100\n",
      " - 413s - loss: 0.0144 - acc: 0.9951 - val_loss: 0.0164 - val_acc: 0.9966\n",
      "Epoch 16/100\n",
      " - 416s - loss: 0.0134 - acc: 0.9954 - val_loss: 0.0292 - val_acc: 0.9952\n",
      "Epoch 17/100\n",
      " - 412s - loss: 0.0138 - acc: 0.9955 - val_loss: 0.0197 - val_acc: 0.9959\n",
      "Epoch 18/100\n",
      " - 412s - loss: 0.0130 - acc: 0.9957 - val_loss: 0.0174 - val_acc: 0.9964\n",
      "Epoch 19/100\n",
      " - 412s - loss: 0.0128 - acc: 0.9958 - val_loss: 0.0268 - val_acc: 0.9944\n",
      "Epoch 20/100\n",
      " - 412s - loss: 0.0124 - acc: 0.9959 - val_loss: 0.1507 - val_acc: 0.9853\n",
      "Epoch 21/100\n",
      " - 412s - loss: 0.0126 - acc: 0.9960 - val_loss: 0.0220 - val_acc: 0.9956\n",
      "Epoch 22/100\n",
      " - 412s - loss: 0.0121 - acc: 0.9960 - val_loss: 0.0262 - val_acc: 0.9959\n",
      "Epoch 23/100\n",
      " - 412s - loss: 0.0116 - acc: 0.9962 - val_loss: 0.0202 - val_acc: 0.9961\n",
      "Epoch 24/100\n",
      " - 412s - loss: 0.0114 - acc: 0.9963 - val_loss: 0.0197 - val_acc: 0.9963\n",
      "Epoch 25/100\n",
      " - 412s - loss: 0.0112 - acc: 0.9963 - val_loss: 0.0212 - val_acc: 0.9961\n",
      "Epoch 26/100\n",
      " - 412s - loss: 0.0108 - acc: 0.9964 - val_loss: 0.0154 - val_acc: 0.9969\n",
      "Epoch 27/100\n",
      " - 412s - loss: 0.0107 - acc: 0.9965 - val_loss: 0.0223 - val_acc: 0.9963\n",
      "Epoch 28/100\n",
      " - 412s - loss: 0.0106 - acc: 0.9965 - val_loss: 0.0263 - val_acc: 0.9940\n",
      "Epoch 29/100\n",
      " - 412s - loss: 0.0104 - acc: 0.9966 - val_loss: 0.0175 - val_acc: 0.9964\n",
      "Epoch 30/100\n",
      " - 412s - loss: 0.0102 - acc: 0.9966 - val_loss: 0.0238 - val_acc: 0.9956\n",
      "Epoch 31/100\n",
      " - 412s - loss: 0.0099 - acc: 0.9967 - val_loss: 0.0370 - val_acc: 0.9944\n",
      "Epoch 32/100\n",
      " - 412s - loss: 0.0096 - acc: 0.9968 - val_loss: 0.0171 - val_acc: 0.9965\n",
      "Epoch 33/100\n",
      " - 412s - loss: 0.0095 - acc: 0.9969 - val_loss: 0.0175 - val_acc: 0.9944\n",
      "Epoch 34/100\n",
      " - 412s - loss: 0.0093 - acc: 0.9969 - val_loss: 0.0543 - val_acc: 0.9946\n",
      "Epoch 35/100\n",
      " - 411s - loss: 0.0091 - acc: 0.9970 - val_loss: 0.0221 - val_acc: 0.9959\n",
      "Epoch 36/100\n",
      " - 412s - loss: 0.0092 - acc: 0.9970 - val_loss: 0.0560 - val_acc: 0.9939\n",
      "Epoch 37/100\n",
      " - 412s - loss: 0.0090 - acc: 0.9971 - val_loss: 0.0145 - val_acc: 0.9968\n",
      "Epoch 38/100\n",
      " - 412s - loss: 0.0090 - acc: 0.9971 - val_loss: 0.0391 - val_acc: 0.9925\n",
      "Epoch 39/100\n",
      " - 411s - loss: 0.0089 - acc: 0.9971 - val_loss: 0.0155 - val_acc: 0.9968\n",
      "Epoch 40/100\n",
      " - 411s - loss: 0.0088 - acc: 0.9971 - val_loss: 0.0129 - val_acc: 0.9973\n",
      "Epoch 41/100\n",
      " - 412s - loss: 0.0086 - acc: 0.9972 - val_loss: 0.0216 - val_acc: 0.9961\n",
      "Epoch 42/100\n",
      " - 412s - loss: 0.0085 - acc: 0.9972 - val_loss: 0.0125 - val_acc: 0.9973\n",
      "Epoch 43/100\n",
      " - 413s - loss: 0.0084 - acc: 0.9973 - val_loss: 0.0214 - val_acc: 0.9962\n",
      "Epoch 44/100\n",
      " - 413s - loss: 0.0090 - acc: 0.9971 - val_loss: 0.0204 - val_acc: 0.9964\n",
      "Epoch 45/100\n",
      " - 412s - loss: 0.0084 - acc: 0.9973 - val_loss: 0.0231 - val_acc: 0.9959\n",
      "Epoch 46/100\n",
      " - 411s - loss: 0.0083 - acc: 0.9973 - val_loss: 0.0163 - val_acc: 0.9966\n",
      "Epoch 47/100\n",
      " - 412s - loss: 0.0082 - acc: 0.9974 - val_loss: 0.0137 - val_acc: 0.9971\n",
      "Epoch 48/100\n",
      " - 412s - loss: 0.0082 - acc: 0.9974 - val_loss: 0.0151 - val_acc: 0.9966\n",
      "Epoch 49/100\n",
      " - 412s - loss: 0.0083 - acc: 0.9973 - val_loss: 0.0213 - val_acc: 0.9960\n",
      "Epoch 50/100\n",
      " - 412s - loss: 0.0083 - acc: 0.9973 - val_loss: 0.0641 - val_acc: 0.9938\n",
      "Epoch 51/100\n",
      " - 412s - loss: 0.0082 - acc: 0.9974 - val_loss: 0.0231 - val_acc: 0.9964\n",
      "Epoch 52/100\n",
      " - 412s - loss: 0.0081 - acc: 0.9974 - val_loss: 0.0614 - val_acc: 0.9941\n",
      "Epoch 53/100\n",
      " - 412s - loss: 0.0079 - acc: 0.9975 - val_loss: 0.0613 - val_acc: 0.9938\n",
      "Epoch 54/100\n",
      " - 412s - loss: 0.0081 - acc: 0.9974 - val_loss: 0.0155 - val_acc: 0.9967\n",
      "Epoch 55/100\n",
      " - 411s - loss: 0.0079 - acc: 0.9975 - val_loss: 0.0188 - val_acc: 0.9968\n",
      "Epoch 56/100\n",
      " - 412s - loss: 0.0079 - acc: 0.9975 - val_loss: 0.0393 - val_acc: 0.9955\n",
      "Epoch 57/100\n",
      " - 412s - loss: 0.0078 - acc: 0.9975 - val_loss: 0.0175 - val_acc: 0.9966\n",
      "Epoch 58/100\n",
      " - 411s - loss: 0.0078 - acc: 0.9975 - val_loss: 0.0205 - val_acc: 0.9963\n",
      "Epoch 59/100\n",
      " - 411s - loss: 0.0081 - acc: 0.9974 - val_loss: 0.0220 - val_acc: 0.9960\n",
      "Epoch 60/100\n",
      " - 411s - loss: 0.0077 - acc: 0.9975 - val_loss: 0.0609 - val_acc: 0.9938\n",
      "Epoch 61/100\n",
      " - 411s - loss: 0.0076 - acc: 0.9976 - val_loss: 0.0180 - val_acc: 0.9968\n",
      "Epoch 62/100\n",
      " - 411s - loss: 0.0076 - acc: 0.9976 - val_loss: 0.0250 - val_acc: 0.9957\n",
      "Epoch 63/100\n",
      " - 411s - loss: 0.0074 - acc: 0.9977 - val_loss: 0.0141 - val_acc: 0.9973\n",
      "Epoch 64/100\n",
      " - 411s - loss: 0.0080 - acc: 0.9974 - val_loss: 0.0177 - val_acc: 0.9967\n",
      "Epoch 65/100\n",
      " - 411s - loss: 0.0077 - acc: 0.9976 - val_loss: 0.0216 - val_acc: 0.9965\n",
      "Epoch 66/100\n",
      " - 412s - loss: 0.0074 - acc: 0.9976 - val_loss: 0.0146 - val_acc: 0.9972\n",
      "Epoch 67/100\n",
      " - 411s - loss: 0.0075 - acc: 0.9976 - val_loss: 0.0144 - val_acc: 0.9972\n",
      "Epoch 68/100\n",
      " - 412s - loss: 0.0073 - acc: 0.9977 - val_loss: 0.0218 - val_acc: 0.9967\n",
      "Epoch 69/100\n",
      " - 411s - loss: 0.0072 - acc: 0.9977 - val_loss: 0.0136 - val_acc: 0.9972\n",
      "Epoch 70/100\n",
      " - 411s - loss: 0.0072 - acc: 0.9977 - val_loss: 0.0440 - val_acc: 0.9936\n",
      "Epoch 71/100\n",
      " - 411s - loss: 0.0071 - acc: 0.9978 - val_loss: 0.0206 - val_acc: 0.9967\n",
      "Epoch 72/100\n",
      " - 411s - loss: 0.0070 - acc: 0.9978 - val_loss: 0.0131 - val_acc: 0.9974\n",
      "Epoch 73/100\n",
      " - 411s - loss: 0.0070 - acc: 0.9978 - val_loss: 0.0124 - val_acc: 0.9975\n",
      "Epoch 74/100\n",
      " - 412s - loss: 0.0071 - acc: 0.9977 - val_loss: 0.0235 - val_acc: 0.9960\n",
      "Epoch 75/100\n",
      " - 414s - loss: 0.0074 - acc: 0.9977 - val_loss: 0.0133 - val_acc: 0.9974\n",
      "Epoch 76/100\n",
      " - 414s - loss: 0.0073 - acc: 0.9977 - val_loss: 0.0180 - val_acc: 0.9972\n",
      "Epoch 77/100\n",
      " - 413s - loss: 0.0071 - acc: 0.9977 - val_loss: 0.0184 - val_acc: 0.9968\n",
      "Epoch 78/100\n",
      " - 413s - loss: 0.0069 - acc: 0.9978 - val_loss: 0.0394 - val_acc: 0.9951\n",
      "Epoch 79/100\n",
      " - 413s - loss: 0.0068 - acc: 0.9978 - val_loss: 0.0207 - val_acc: 0.9965\n",
      "Epoch 80/100\n",
      " - 413s - loss: 0.0068 - acc: 0.9979 - val_loss: 0.0135 - val_acc: 0.9974\n",
      "Epoch 81/100\n",
      " - 414s - loss: 0.0066 - acc: 0.9980 - val_loss: 0.0201 - val_acc: 0.9964\n",
      "Epoch 82/100\n",
      " - 413s - loss: 0.0067 - acc: 0.9979 - val_loss: 0.0138 - val_acc: 0.9971\n",
      "Epoch 83/100\n",
      " - 412s - loss: 0.0067 - acc: 0.9979 - val_loss: 0.0153 - val_acc: 0.9972\n",
      "Epoch 84/100\n",
      " - 413s - loss: 0.0066 - acc: 0.9979 - val_loss: 0.0182 - val_acc: 0.9963\n",
      "Epoch 85/100\n",
      " - 413s - loss: 0.0065 - acc: 0.9980 - val_loss: 0.0174 - val_acc: 0.9969\n",
      "Epoch 86/100\n",
      " - 413s - loss: 0.0064 - acc: 0.9980 - val_loss: 0.0141 - val_acc: 0.9974\n",
      "Epoch 87/100\n",
      " - 412s - loss: 0.0064 - acc: 0.9980 - val_loss: 0.0197 - val_acc: 0.9968\n",
      "Epoch 88/100\n",
      " - 413s - loss: 0.0063 - acc: 0.9980 - val_loss: 0.0126 - val_acc: 0.9974\n",
      "Epoch 89/100\n",
      " - 412s - loss: 0.0062 - acc: 0.9981 - val_loss: 0.0208 - val_acc: 0.9967\n",
      "Epoch 90/100\n",
      " - 413s - loss: 0.0063 - acc: 0.9980 - val_loss: 0.0200 - val_acc: 0.9966\n",
      "Epoch 91/100\n",
      " - 412s - loss: 0.0062 - acc: 0.9981 - val_loss: 0.0184 - val_acc: 0.9971\n",
      "Epoch 92/100\n",
      " - 413s - loss: 0.0063 - acc: 0.9981 - val_loss: 0.0128 - val_acc: 0.9974\n",
      "Epoch 93/100\n",
      " - 414s - loss: 0.0062 - acc: 0.9981 - val_loss: 0.0145 - val_acc: 0.9973\n",
      "Epoch 94/100\n",
      " - 414s - loss: 0.0062 - acc: 0.9981 - val_loss: 0.0151 - val_acc: 0.9973\n",
      "Epoch 95/100\n",
      " - 413s - loss: 0.0061 - acc: 0.9981 - val_loss: 0.0178 - val_acc: 0.9967\n",
      "Epoch 96/100\n",
      " - 413s - loss: 0.0061 - acc: 0.9981 - val_loss: 0.0586 - val_acc: 0.9945\n",
      "Epoch 97/100\n",
      " - 413s - loss: 0.0062 - acc: 0.9981 - val_loss: 0.0112 - val_acc: 0.9977\n",
      "Epoch 98/100\n",
      " - 414s - loss: 0.0061 - acc: 0.9981 - val_loss: 0.0133 - val_acc: 0.9974\n",
      "Epoch 99/100\n",
      " - 413s - loss: 0.0061 - acc: 0.9981 - val_loss: 0.0137 - val_acc: 0.9973\n",
      "Epoch 100/100\n",
      " - 413s - loss: 0.0061 - acc: 0.9981 - val_loss: 0.0160 - val_acc: 0.9970\n",
      "Wall time: 11h 27min 14s\n"
     ]
    },
    {
     "data": {
      "text/plain": [
       "<keras.callbacks.History at 0x1dbfacf3438>"
      ]
     },
     "execution_count": 37,
     "metadata": {},
     "output_type": "execute_result"
    }
   ],
   "source": [
    "%%time\n",
    "print(model_id)\n",
    "model = createModel(**parameters)\n",
    "model.summary()\n",
    "model_checkpoint = ModelCheckpoint(NOTEBOOK_PATH + \"Models/%s/dnn({epoch}).h5\" % (model_id), monitor='val_loss')\n",
    "model.fit(x_train_res, y_train_res2, validation_data=(x_val, y_val), \n",
    "          batch_size=parameters['batch_size'], \n",
    "          epochs=trainEpochs, \n",
    "          verbose=2, \n",
    "          callbacks=[csv_callback, model_checkpoint]\n",
    "         )"
   ]
  },
  {
   "cell_type": "markdown",
   "metadata": {},
   "source": [
    "# Graph the losses"
   ]
  },
  {
   "cell_type": "code",
   "execution_count": 38,
   "metadata": {},
   "outputs": [
    {
     "name": "stdout",
     "output_type": "stream",
     "text": [
      "C:/Users/Xetrov/Desktop/SciFair20/Code/Loss Logs\\dnn4-adasyn (10-14-2019, 1028PM)\n"
     ]
    }
   ],
   "source": [
    "def most_recent_file(pattern):\n",
    "    return max(glob.iglob(pattern, recursive=True), key=os.path.getctime)\n",
    "\n",
    "logpath = most_recent_file(NOTEBOOK_PATH + \"Loss Logs/%s**\" % model_id)\n",
    "log_df = pd.read_csv(logpath)\n",
    "log_df['epoch'] += 1\n",
    "\n",
    "print(logpath)"
   ]
  },
  {
   "cell_type": "code",
   "execution_count": 39,
   "metadata": {},
   "outputs": [
    {
     "data": {
      "image/png": "[encoded data removed]",
      "text/plain": [
       "<Figure size 864x432 with 1 Axes>"
      ]
     },
     "metadata": {
      "needs_background": "light"
     },
     "output_type": "display_data"
    }
   ],
   "source": [
    "plot_df = log_df[:]\n",
    "\n",
    "metric = 'loss'\n",
    "\n",
    "plt.figure(figsize=(12,6))\n",
    "sns.lineplot(x='epoch', y=metric, data=plot_df, label=metric)\n",
    "sns.lineplot(x='epoch', y='val_'+metric, data=plot_df, label='val_'+metric)\n",
    "plt.legend()\n",
    "\n",
    "minEpoch = plot_df.loc[plot_df.idxmin()[metric]]\n",
    "plt.plot((minEpoch['epoch']), (minEpoch[metric]), 'go', markersize=8)\n",
    "minEpoch = plot_df.loc[plot_df.idxmin()['val_'+metric]]\n",
    "plt.plot((minEpoch['epoch']), (minEpoch['val_'+metric]), 'ro', markersize=8)\n",
    "\n",
    "plt.xticks(list(range(0, plot_df['epoch'].max()+1, 5)))\n",
    "# plt.yticks(list(np.arange(0.0,0.4,0.05)))\n",
    "\n",
    "plt.grid(True)"
   ]
  },
  {
   "cell_type": "markdown",
   "metadata": {},
   "source": [
    "# View confusion matrix"
   ]
  },
  {
   "cell_type": "code",
   "execution_count": 40,
   "metadata": {},
   "outputs": [
    {
     "name": "stdout",
     "output_type": "stream",
     "text": [
      "Loading...\n",
      "Predicting...\n",
      "Plotting...\n",
      "Done!\n"
     ]
    },
    {
     "data": {
      "text/html": [
       "<div>\n",
       "<style scoped>\n",
       "    .dataframe tbody tr th:only-of-type {\n",
       "        vertical-align: middle;\n",
       "    }\n",
       "\n",
       "    .dataframe tbody tr th {\n",
       "        vertical-align: top;\n",
       "    }\n",
       "\n",
       "    .dataframe thead th {\n",
       "        text-align: right;\n",
       "    }\n",
       "</style>\n",
       "<table border=\"1\" class=\"dataframe\">\n",
       "  <thead>\n",
       "    <tr style=\"text-align: right;\">\n",
       "      <th>Actual</th>\n",
       "      <th>BENIGN</th>\n",
       "      <th>Botnet</th>\n",
       "      <th>Brute Force</th>\n",
       "      <th>DoS/DDoS</th>\n",
       "      <th>Infiltration</th>\n",
       "      <th>PortScan</th>\n",
       "      <th>Web Attack</th>\n",
       "      <th>All</th>\n",
       "    </tr>\n",
       "    <tr>\n",
       "      <th>Pred</th>\n",
       "      <th></th>\n",
       "      <th></th>\n",
       "      <th></th>\n",
       "      <th></th>\n",
       "      <th></th>\n",
       "      <th></th>\n",
       "      <th></th>\n",
       "      <th></th>\n",
       "    </tr>\n",
       "  </thead>\n",
       "  <tbody>\n",
       "    <tr>\n",
       "      <th>BENIGN</th>\n",
       "      <td>453039</td>\n",
       "      <td>3</td>\n",
       "      <td>0</td>\n",
       "      <td>13</td>\n",
       "      <td>0</td>\n",
       "      <td>2</td>\n",
       "      <td>1</td>\n",
       "      <td>453058</td>\n",
       "    </tr>\n",
       "    <tr>\n",
       "      <th>Botnet</th>\n",
       "      <td>626</td>\n",
       "      <td>394</td>\n",
       "      <td>0</td>\n",
       "      <td>0</td>\n",
       "      <td>0</td>\n",
       "      <td>0</td>\n",
       "      <td>0</td>\n",
       "      <td>1020</td>\n",
       "    </tr>\n",
       "    <tr>\n",
       "      <th>Brute Force</th>\n",
       "      <td>2</td>\n",
       "      <td>0</td>\n",
       "      <td>2810</td>\n",
       "      <td>0</td>\n",
       "      <td>0</td>\n",
       "      <td>0</td>\n",
       "      <td>1</td>\n",
       "      <td>2813</td>\n",
       "    </tr>\n",
       "    <tr>\n",
       "      <th>DoS/DDoS</th>\n",
       "      <td>321</td>\n",
       "      <td>0</td>\n",
       "      <td>0</td>\n",
       "      <td>76469</td>\n",
       "      <td>0</td>\n",
       "      <td>4</td>\n",
       "      <td>38</td>\n",
       "      <td>76832</td>\n",
       "    </tr>\n",
       "    <tr>\n",
       "      <th>Infiltration</th>\n",
       "      <td>12</td>\n",
       "      <td>0</td>\n",
       "      <td>0</td>\n",
       "      <td>0</td>\n",
       "      <td>7</td>\n",
       "      <td>0</td>\n",
       "      <td>0</td>\n",
       "      <td>19</td>\n",
       "    </tr>\n",
       "    <tr>\n",
       "      <th>PortScan</th>\n",
       "      <td>196</td>\n",
       "      <td>0</td>\n",
       "      <td>0</td>\n",
       "      <td>25</td>\n",
       "      <td>0</td>\n",
       "      <td>31780</td>\n",
       "      <td>47</td>\n",
       "      <td>32048</td>\n",
       "    </tr>\n",
       "    <tr>\n",
       "      <th>Web Attack</th>\n",
       "      <td>11</td>\n",
       "      <td>0</td>\n",
       "      <td>0</td>\n",
       "      <td>3</td>\n",
       "      <td>0</td>\n",
       "      <td>1</td>\n",
       "      <td>344</td>\n",
       "      <td>359</td>\n",
       "    </tr>\n",
       "    <tr>\n",
       "      <th>All</th>\n",
       "      <td>454207</td>\n",
       "      <td>397</td>\n",
       "      <td>2810</td>\n",
       "      <td>76510</td>\n",
       "      <td>7</td>\n",
       "      <td>31787</td>\n",
       "      <td>431</td>\n",
       "      <td>566149</td>\n",
       "    </tr>\n",
       "  </tbody>\n",
       "</table>\n",
       "</div>"
      ],
      "text/plain": [
       "Actual        BENIGN  Botnet  Brute Force  DoS/DDoS  Infiltration  PortScan  \\\n",
       "Pred                                                                          \n",
       "BENIGN        453039       3            0        13             0         2   \n",
       "Botnet           626     394            0         0             0         0   \n",
       "Brute Force        2       0         2810         0             0         0   \n",
       "DoS/DDoS         321       0            0     76469             0         4   \n",
       "Infiltration      12       0            0         0             7         0   \n",
       "PortScan         196       0            0        25             0     31780   \n",
       "Web Attack        11       0            0         3             0         1   \n",
       "All           454207     397         2810     76510             7     31787   \n",
       "\n",
       "Actual        Web Attack     All  \n",
       "Pred                              \n",
       "BENIGN                 1  453058  \n",
       "Botnet                 0    1020  \n",
       "Brute Force            1    2813  \n",
       "DoS/DDoS              38   76832  \n",
       "Infiltration           0      19  \n",
       "PortScan              47   32048  \n",
       "Web Attack           344     359  \n",
       "All                  431  566149  "
      ]
     },
     "execution_count": 40,
     "metadata": {},
     "output_type": "execute_result"
    }
   ],
   "source": [
    "print(\"Loading...\")\n",
    "model = keras.models.load_model(NOTEBOOK_PATH + \"Models/%s/dnn(97).h5\" % model_id)\n",
    "print(\"Predicting...\")\n",
    "pred = model.predict(x_val)\n",
    "\n",
    "print(\"Plotting...\")\n",
    "pred_index = list(pred.argmax(1))\n",
    "y_index = list(np.argmax(y_val.to_numpy(), axis=1))\n",
    "\n",
    "atktypes = sorted(y_val.columns)\n",
    "pred_series = pd.Series(pred_index, name=\"Pred\").replace(dict(enumerate(atktypes)))\n",
    "y_series = pd.Series(y_index, name=\"Actual\").replace(dict(enumerate(atktypes)))\n",
    "\n",
    "matrix = pd.crosstab(pred_series, y_series, margins=True)\n",
    "print(\"Done!\")\n",
    "matrix"
   ]
  },
  {
   "cell_type": "markdown",
   "metadata": {},
   "source": [
    "# F1 Score"
   ]
  },
  {
   "cell_type": "code",
   "execution_count": 41,
   "metadata": {},
   "outputs": [],
   "source": [
    "from sklearn.metrics import f1_score"
   ]
  },
  {
   "cell_type": "code",
   "execution_count": 42,
   "metadata": {},
   "outputs": [
    {
     "name": "stdout",
     "output_type": "stream",
     "text": [
      "Micro: 0.997687887817518\n",
      "Macro: 0.8284667743064432\n"
     ]
    }
   ],
   "source": [
    "pred = model.predict(x_test, batch_size=256).argmax(axis=1)\n",
    "pred_f1 = np.zeros((len(x_test), y_test.shape[1]))\n",
    "for j in range(len(pred)):\n",
    "    pred_f1[j,pred[j]] = 1\n",
    "f1_micro = f1_score(y_test, pred_f1.astype('uint8'), average='micro')\n",
    "f1_macro = f1_score(y_test, pred_f1.astype('uint8'), average='macro')\n",
    "print(\"Micro:\", f1_micro)\n",
    "print(\"Macro:\", f1_macro)"
   ]
  },
  {
   "cell_type": "code",
   "execution_count": 43,
   "metadata": {},
   "outputs": [
    {
     "name": "stdout",
     "output_type": "stream",
     "text": [
      "Done!\n"
     ]
    },
    {
     "data": {
      "text/html": [
       "<div>\n",
       "<style scoped>\n",
       "    .dataframe tbody tr th:only-of-type {\n",
       "        vertical-align: middle;\n",
       "    }\n",
       "\n",
       "    .dataframe tbody tr th {\n",
       "        vertical-align: top;\n",
       "    }\n",
       "\n",
       "    .dataframe thead th {\n",
       "        text-align: right;\n",
       "    }\n",
       "</style>\n",
       "<table border=\"1\" class=\"dataframe\">\n",
       "  <thead>\n",
       "    <tr style=\"text-align: right;\">\n",
       "      <th>Actual</th>\n",
       "      <th>BENIGN</th>\n",
       "      <th>Botnet</th>\n",
       "      <th>Brute Force</th>\n",
       "      <th>DoS/DDoS</th>\n",
       "      <th>Infiltration</th>\n",
       "      <th>PortScan</th>\n",
       "      <th>Web Attack</th>\n",
       "      <th>All</th>\n",
       "    </tr>\n",
       "    <tr>\n",
       "      <th>Pred</th>\n",
       "      <th></th>\n",
       "      <th></th>\n",
       "      <th></th>\n",
       "      <th></th>\n",
       "      <th></th>\n",
       "      <th></th>\n",
       "      <th></th>\n",
       "      <th></th>\n",
       "    </tr>\n",
       "  </thead>\n",
       "  <tbody>\n",
       "    <tr>\n",
       "      <th>BENIGN</th>\n",
       "      <td>453610</td>\n",
       "      <td>1</td>\n",
       "      <td>4</td>\n",
       "      <td>11</td>\n",
       "      <td>2</td>\n",
       "      <td>3</td>\n",
       "      <td>1</td>\n",
       "      <td>453632</td>\n",
       "    </tr>\n",
       "    <tr>\n",
       "      <th>Botnet</th>\n",
       "      <td>617</td>\n",
       "      <td>383</td>\n",
       "      <td>0</td>\n",
       "      <td>0</td>\n",
       "      <td>0</td>\n",
       "      <td>0</td>\n",
       "      <td>0</td>\n",
       "      <td>1000</td>\n",
       "    </tr>\n",
       "    <tr>\n",
       "      <th>Brute Force</th>\n",
       "      <td>4</td>\n",
       "      <td>0</td>\n",
       "      <td>2748</td>\n",
       "      <td>0</td>\n",
       "      <td>0</td>\n",
       "      <td>0</td>\n",
       "      <td>1</td>\n",
       "      <td>2753</td>\n",
       "    </tr>\n",
       "    <tr>\n",
       "      <th>DoS/DDoS</th>\n",
       "      <td>345</td>\n",
       "      <td>0</td>\n",
       "      <td>0</td>\n",
       "      <td>75867</td>\n",
       "      <td>0</td>\n",
       "      <td>4</td>\n",
       "      <td>53</td>\n",
       "      <td>76269</td>\n",
       "    </tr>\n",
       "    <tr>\n",
       "      <th>Infiltration</th>\n",
       "      <td>8</td>\n",
       "      <td>0</td>\n",
       "      <td>0</td>\n",
       "      <td>0</td>\n",
       "      <td>3</td>\n",
       "      <td>0</td>\n",
       "      <td>0</td>\n",
       "      <td>11</td>\n",
       "    </tr>\n",
       "    <tr>\n",
       "      <th>PortScan</th>\n",
       "      <td>195</td>\n",
       "      <td>0</td>\n",
       "      <td>0</td>\n",
       "      <td>17</td>\n",
       "      <td>0</td>\n",
       "      <td>31868</td>\n",
       "      <td>29</td>\n",
       "      <td>32109</td>\n",
       "    </tr>\n",
       "    <tr>\n",
       "      <th>Web Attack</th>\n",
       "      <td>11</td>\n",
       "      <td>0</td>\n",
       "      <td>0</td>\n",
       "      <td>2</td>\n",
       "      <td>0</td>\n",
       "      <td>1</td>\n",
       "      <td>361</td>\n",
       "      <td>375</td>\n",
       "    </tr>\n",
       "    <tr>\n",
       "      <th>All</th>\n",
       "      <td>454790</td>\n",
       "      <td>384</td>\n",
       "      <td>2752</td>\n",
       "      <td>75897</td>\n",
       "      <td>5</td>\n",
       "      <td>31876</td>\n",
       "      <td>445</td>\n",
       "      <td>566149</td>\n",
       "    </tr>\n",
       "  </tbody>\n",
       "</table>\n",
       "</div>"
      ],
      "text/plain": [
       "Actual        BENIGN  Botnet  Brute Force  DoS/DDoS  Infiltration  PortScan  \\\n",
       "Pred                                                                          \n",
       "BENIGN        453610       1            4        11             2         3   \n",
       "Botnet           617     383            0         0             0         0   \n",
       "Brute Force        4       0         2748         0             0         0   \n",
       "DoS/DDoS         345       0            0     75867             0         4   \n",
       "Infiltration       8       0            0         0             3         0   \n",
       "PortScan         195       0            0        17             0     31868   \n",
       "Web Attack        11       0            0         2             0         1   \n",
       "All           454790     384         2752     75897             5     31876   \n",
       "\n",
       "Actual        Web Attack     All  \n",
       "Pred                              \n",
       "BENIGN                 1  453632  \n",
       "Botnet                 0    1000  \n",
       "Brute Force            1    2753  \n",
       "DoS/DDoS              53   76269  \n",
       "Infiltration           0      11  \n",
       "PortScan              29   32109  \n",
       "Web Attack           361     375  \n",
       "All                  445  566149  "
      ]
     },
     "execution_count": 43,
     "metadata": {},
     "output_type": "execute_result"
    }
   ],
   "source": [
    "pred_index = pred\n",
    "y_index = list(np.argmax(y_test.to_numpy(), axis=1))\n",
    "\n",
    "atktypes = sorted(y_test.columns)\n",
    "pred_series = pd.Series(pred_index, name=\"Pred\").replace(dict(enumerate(atktypes)))\n",
    "y_series = pd.Series(y_index, name=\"Actual\").replace(dict(enumerate(atktypes)))\n",
    "\n",
    "matrix = pd.crosstab(pred_series, y_series, margins=True)\n",
    "print(\"Done!\")\n",
    "matrix.to_csv(NOTEBOOK_PATH + \"Confusion Matrices/%s.csv\" % model_id)\n",
    "matrix"
   ]
  },
  {
   "cell_type": "markdown",
   "metadata": {},
   "source": [
    "# Log results"
   ]
  },
  {
   "cell_type": "code",
   "execution_count": 45,
   "metadata": {},
   "outputs": [],
   "source": [
    "model_log = open(NOTEBOOK_PATH + \"model_log.txt\", \"a\")\n",
    "\n",
    "model_log.write(\"\\n\" + model_id)\n",
    "model_log.write(\"\\n\\tF1 Micro: \" + str(f1_micro))\n",
    "model_log.write(\"\\n\\tF1 Macro: \" + str(f1_macro))\n",
    "\n",
    "model_log.close()"
   ]
  }
 ],
 "metadata": {
  "kernelspec": {
   "display_name": "Python 3",
   "language": "python",
   "name": "python3"
  },
  "language_info": {
   "codemirror_mode": {
    "name": "ipython",
    "version": 3
   },
   "file_extension": ".py",
   "mimetype": "text/x-python",
   "name": "python",
   "nbconvert_exporter": "python",
   "pygments_lexer": "ipython3",
   "version": "3.6.7"
  }
 },
 "nbformat": 4,
 "nbformat_minor": 4
}

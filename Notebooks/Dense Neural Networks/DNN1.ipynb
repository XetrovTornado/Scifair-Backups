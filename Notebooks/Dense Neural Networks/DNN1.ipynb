{
 "cells": [
  {
   "cell_type": "markdown",
   "metadata": {},
   "source": [
    "# CSE-CIC-IDS 2017"
   ]
  },
  {
   "cell_type": "code",
   "execution_count": 1,
   "metadata": {},
   "outputs": [],
   "source": [
    "model_id = \"dnn1\""
   ]
  },
  {
   "cell_type": "code",
   "execution_count": 2,
   "metadata": {},
   "outputs": [
    {
     "name": "stderr",
     "output_type": "stream",
     "text": [
      "Using TensorFlow backend.\n",
      "C:\\Users\\Xetrov\\AppData\\Local\\Continuum\\anaconda3\\lib\\site-packages\\tensorflow\\python\\framework\\dtypes.py:517: FutureWarning: Passing (type, 1) or '1type' as a synonym of type is deprecated; in a future version of numpy, it will be understood as (type, (1,)) / '(1,)type'.\n",
      "  _np_qint8 = np.dtype([(\"qint8\", np.int8, 1)])\n",
      "C:\\Users\\Xetrov\\AppData\\Local\\Continuum\\anaconda3\\lib\\site-packages\\tensorflow\\python\\framework\\dtypes.py:518: FutureWarning: Passing (type, 1) or '1type' as a synonym of type is deprecated; in a future version of numpy, it will be understood as (type, (1,)) / '(1,)type'.\n",
      "  _np_quint8 = np.dtype([(\"quint8\", np.uint8, 1)])\n",
      "C:\\Users\\Xetrov\\AppData\\Local\\Continuum\\anaconda3\\lib\\site-packages\\tensorflow\\python\\framework\\dtypes.py:519: FutureWarning: Passing (type, 1) or '1type' as a synonym of type is deprecated; in a future version of numpy, it will be understood as (type, (1,)) / '(1,)type'.\n",
      "  _np_qint16 = np.dtype([(\"qint16\", np.int16, 1)])\n",
      "C:\\Users\\Xetrov\\AppData\\Local\\Continuum\\anaconda3\\lib\\site-packages\\tensorflow\\python\\framework\\dtypes.py:520: FutureWarning: Passing (type, 1) or '1type' as a synonym of type is deprecated; in a future version of numpy, it will be understood as (type, (1,)) / '(1,)type'.\n",
      "  _np_quint16 = np.dtype([(\"quint16\", np.uint16, 1)])\n",
      "C:\\Users\\Xetrov\\AppData\\Local\\Continuum\\anaconda3\\lib\\site-packages\\tensorflow\\python\\framework\\dtypes.py:521: FutureWarning: Passing (type, 1) or '1type' as a synonym of type is deprecated; in a future version of numpy, it will be understood as (type, (1,)) / '(1,)type'.\n",
      "  _np_qint32 = np.dtype([(\"qint32\", np.int32, 1)])\n",
      "C:\\Users\\Xetrov\\AppData\\Local\\Continuum\\anaconda3\\lib\\site-packages\\tensorflow\\python\\framework\\dtypes.py:526: FutureWarning: Passing (type, 1) or '1type' as a synonym of type is deprecated; in a future version of numpy, it will be understood as (type, (1,)) / '(1,)type'.\n",
      "  np_resource = np.dtype([(\"resource\", np.ubyte, 1)])\n"
     ]
    }
   ],
   "source": [
    "import numpy as np\n",
    "np.random.seed(42)\n",
    "np.set_printoptions(suppress=True)\n",
    "import pandas as pd\n",
    "import matplotlib.pyplot as plt\n",
    "import seaborn as sns\n",
    "from tqdm import tqdm\n",
    "\n",
    "import glob, time, os\n",
    "\n",
    "import keras"
   ]
  },
  {
   "cell_type": "code",
   "execution_count": 3,
   "metadata": {},
   "outputs": [],
   "source": [
    "NOTEBOOK_PATH = \"D:/Delta Stuff/Scifair20/\""
   ]
  },
  {
   "cell_type": "code",
   "execution_count": 4,
   "metadata": {},
   "outputs": [
    {
     "name": "stderr",
     "output_type": "stream",
     "text": [
      "  0%|                                                                                            | 0/8 [00:00<?, ?it/s]C:\\Users\\Xetrov\\AppData\\Local\\Continuum\\anaconda3\\lib\\site-packages\\pandas\\core\\reshape\\concat.py:255: DtypeWarning: Columns (14,15) have mixed types. Specify dtype option on import or set low_memory=False.\n",
      "  sort=sort,\n",
      " 38%|███████████████████████████████▌                                                    | 3/8 [00:03<00:05,  1.05s/it]C:\\Users\\Xetrov\\AppData\\Local\\Continuum\\anaconda3\\lib\\site-packages\\pandas\\core\\reshape\\concat.py:255: DtypeWarning: Columns (14) have mixed types. Specify dtype option on import or set low_memory=False.\n",
      "  sort=sort,\n",
      "100%|████████████████████████████████████████████████████████████████████████████████████| 8/8 [00:13<00:00,  1.71s/it]\n"
     ]
    }
   ],
   "source": [
    "f_names = glob.glob(NOTEBOOK_PATH + \"IDS2017/MachineLearningCVE/*.csv\")\n",
    "df = pd.concat(tqdm((pd.read_csv(f) for f in f_names), total=len(f_names)))"
   ]
  },
  {
   "cell_type": "code",
   "execution_count": 5,
   "metadata": {},
   "outputs": [],
   "source": [
    "df.reset_index(drop=True, inplace=True)"
   ]
  },
  {
   "cell_type": "code",
   "execution_count": 6,
   "metadata": {},
   "outputs": [],
   "source": [
    "df.columns = list(map(lambda x: x.strip(), df.columns))"
   ]
  },
  {
   "cell_type": "code",
   "execution_count": 7,
   "metadata": {},
   "outputs": [
    {
     "name": "stderr",
     "output_type": "stream",
     "text": [
      "100%|██████████████████████████████████████████████████████████████████████████████████| 79/79 [00:04<00:00, 18.06it/s]\n"
     ]
    }
   ],
   "source": [
    "# Remove variables with no variance\n",
    "remove_vars = []\n",
    "for i in tqdm(range(len(df.columns))):\n",
    "    col = df.columns[i]\n",
    "    unique = df[col].unique()\n",
    "    if len(unique) <= 1:\n",
    "        remove_vars.append(col)"
   ]
  },
  {
   "cell_type": "code",
   "execution_count": 8,
   "metadata": {},
   "outputs": [
    {
     "data": {
      "text/plain": [
       "['Bwd PSH Flags',\n",
       " 'Bwd URG Flags',\n",
       " 'Fwd Avg Bytes/Bulk',\n",
       " 'Fwd Avg Packets/Bulk',\n",
       " 'Fwd Avg Bulk Rate',\n",
       " 'Bwd Avg Bytes/Bulk',\n",
       " 'Bwd Avg Packets/Bulk',\n",
       " 'Bwd Avg Bulk Rate']"
      ]
     },
     "execution_count": 8,
     "metadata": {},
     "output_type": "execute_result"
    }
   ],
   "source": [
    "remove_vars"
   ]
  },
  {
   "cell_type": "code",
   "execution_count": 9,
   "metadata": {},
   "outputs": [],
   "source": [
    "df.drop(remove_vars, axis=1, inplace=True)\n",
    "\n",
    "df.drop([\"Flow Bytes/s\", \"Flow Packets/s\"], axis='columns', inplace=True)"
   ]
  },
  {
   "cell_type": "code",
   "execution_count": 10,
   "metadata": {},
   "outputs": [
    {
     "data": {
      "text/plain": [
       "(2830743, 69)"
      ]
     },
     "execution_count": 10,
     "metadata": {},
     "output_type": "execute_result"
    }
   ],
   "source": [
    "df.shape"
   ]
  },
  {
   "cell_type": "markdown",
   "metadata": {},
   "source": [
    "# Standardize data"
   ]
  },
  {
   "cell_type": "code",
   "execution_count": 11,
   "metadata": {},
   "outputs": [],
   "source": [
    "from sklearn.preprocessing import PowerTransformer, MinMaxScaler"
   ]
  },
  {
   "cell_type": "code",
   "execution_count": 12,
   "metadata": {},
   "outputs": [],
   "source": [
    "scaler = PowerTransformer(method='yeo-johnson', standardize=True)\n",
    "# scaler = MinMaxScaler()"
   ]
  },
  {
   "cell_type": "code",
   "execution_count": 13,
   "metadata": {},
   "outputs": [],
   "source": [
    "x_df = df.drop(\"Label\", axis=1)\n",
    "y_df = df.loc[:, \"Label\"]"
   ]
  },
  {
   "cell_type": "code",
   "execution_count": 14,
   "metadata": {},
   "outputs": [],
   "source": [
    "x_scaled = scaler.fit_transform(x_df, y_df)"
   ]
  },
  {
   "cell_type": "code",
   "execution_count": 15,
   "metadata": {},
   "outputs": [
    {
     "data": {
      "text/html": [
       "<div>\n",
       "<style scoped>\n",
       "    .dataframe tbody tr th:only-of-type {\n",
       "        vertical-align: middle;\n",
       "    }\n",
       "\n",
       "    .dataframe tbody tr th {\n",
       "        vertical-align: top;\n",
       "    }\n",
       "\n",
       "    .dataframe thead th {\n",
       "        text-align: right;\n",
       "    }\n",
       "</style>\n",
       "<table border=\"1\" class=\"dataframe\">\n",
       "  <thead>\n",
       "    <tr style=\"text-align: right;\">\n",
       "      <th></th>\n",
       "      <th>Destination Port</th>\n",
       "      <th>Flow Duration</th>\n",
       "      <th>Total Fwd Packets</th>\n",
       "      <th>Total Backward Packets</th>\n",
       "      <th>Total Length of Fwd Packets</th>\n",
       "      <th>Total Length of Bwd Packets</th>\n",
       "      <th>Fwd Packet Length Max</th>\n",
       "      <th>Fwd Packet Length Min</th>\n",
       "      <th>Fwd Packet Length Mean</th>\n",
       "      <th>Fwd Packet Length Std</th>\n",
       "      <th>...</th>\n",
       "      <th>act_data_pkt_fwd</th>\n",
       "      <th>min_seg_size_forward</th>\n",
       "      <th>Active Mean</th>\n",
       "      <th>Active Std</th>\n",
       "      <th>Active Max</th>\n",
       "      <th>Active Min</th>\n",
       "      <th>Idle Mean</th>\n",
       "      <th>Idle Std</th>\n",
       "      <th>Idle Max</th>\n",
       "      <th>Idle Min</th>\n",
       "    </tr>\n",
       "  </thead>\n",
       "  <tbody>\n",
       "    <tr>\n",
       "      <th>count</th>\n",
       "      <td>2.830743e+06</td>\n",
       "      <td>2.830743e+06</td>\n",
       "      <td>2.830743e+06</td>\n",
       "      <td>2.830743e+06</td>\n",
       "      <td>2.830743e+06</td>\n",
       "      <td>2.830743e+06</td>\n",
       "      <td>2.830743e+06</td>\n",
       "      <td>2.830743e+06</td>\n",
       "      <td>2.830743e+06</td>\n",
       "      <td>2.830743e+06</td>\n",
       "      <td>...</td>\n",
       "      <td>2.830743e+06</td>\n",
       "      <td>2.830743e+06</td>\n",
       "      <td>2.830743e+06</td>\n",
       "      <td>2.830743e+06</td>\n",
       "      <td>2.830743e+06</td>\n",
       "      <td>2.830743e+06</td>\n",
       "      <td>2.830743e+06</td>\n",
       "      <td>2.830743e+06</td>\n",
       "      <td>2.830743e+06</td>\n",
       "      <td>2.830743e+06</td>\n",
       "    </tr>\n",
       "    <tr>\n",
       "      <th>mean</th>\n",
       "      <td>5.614575e-17</td>\n",
       "      <td>-5.294087e-16</td>\n",
       "      <td>-1.481637e-15</td>\n",
       "      <td>-7.895848e-16</td>\n",
       "      <td>-6.103742e-16</td>\n",
       "      <td>4.526701e-16</td>\n",
       "      <td>-2.069120e-16</td>\n",
       "      <td>-5.198502e-16</td>\n",
       "      <td>-1.929056e-15</td>\n",
       "      <td>1.910080e-16</td>\n",
       "      <td>...</td>\n",
       "      <td>-6.024222e-18</td>\n",
       "      <td>-1.909197e-15</td>\n",
       "      <td>-2.522141e-16</td>\n",
       "      <td>8.514234e-18</td>\n",
       "      <td>2.377560e-17</td>\n",
       "      <td>1.824135e-16</td>\n",
       "      <td>8.731106e-17</td>\n",
       "      <td>-3.527785e-16</td>\n",
       "      <td>-2.910904e-16</td>\n",
       "      <td>1.681963e-16</td>\n",
       "    </tr>\n",
       "    <tr>\n",
       "      <th>std</th>\n",
       "      <td>1.000000e+00</td>\n",
       "      <td>1.000000e+00</td>\n",
       "      <td>1.000000e+00</td>\n",
       "      <td>1.000000e+00</td>\n",
       "      <td>1.000000e+00</td>\n",
       "      <td>1.000000e+00</td>\n",
       "      <td>1.000000e+00</td>\n",
       "      <td>1.000000e+00</td>\n",
       "      <td>1.000000e+00</td>\n",
       "      <td>1.000000e+00</td>\n",
       "      <td>...</td>\n",
       "      <td>1.000000e+00</td>\n",
       "      <td>1.000000e+00</td>\n",
       "      <td>1.000000e+00</td>\n",
       "      <td>1.000000e+00</td>\n",
       "      <td>1.000000e+00</td>\n",
       "      <td>1.000000e+00</td>\n",
       "      <td>1.000000e+00</td>\n",
       "      <td>1.000000e+00</td>\n",
       "      <td>1.000000e+00</td>\n",
       "      <td>1.000000e+00</td>\n",
       "    </tr>\n",
       "    <tr>\n",
       "      <th>min</th>\n",
       "      <td>-8.085491e+00</td>\n",
       "      <td>-2.286645e+01</td>\n",
       "      <td>-1.304010e+00</td>\n",
       "      <td>-1.655424e+00</td>\n",
       "      <td>-1.617208e+00</td>\n",
       "      <td>-1.349540e+00</td>\n",
       "      <td>-1.591983e+00</td>\n",
       "      <td>-9.953509e-01</td>\n",
       "      <td>-1.640853e+00</td>\n",
       "      <td>-7.155903e-01</td>\n",
       "      <td>...</td>\n",
       "      <td>-1.200386e+00</td>\n",
       "      <td>-2.752211e+01</td>\n",
       "      <td>-4.925726e-01</td>\n",
       "      <td>-2.797894e-01</td>\n",
       "      <td>-4.923377e-01</td>\n",
       "      <td>-4.926216e-01</td>\n",
       "      <td>-5.006239e-01</td>\n",
       "      <td>-2.968475e-01</td>\n",
       "      <td>-5.006238e-01</td>\n",
       "      <td>-5.006238e-01</td>\n",
       "    </tr>\n",
       "    <tr>\n",
       "      <th>25%</th>\n",
       "      <td>-8.738939e-01</td>\n",
       "      <td>-8.876095e-01</td>\n",
       "      <td>-2.338725e-01</td>\n",
       "      <td>-4.381973e-01</td>\n",
       "      <td>-5.559671e-01</td>\n",
       "      <td>-1.349540e+00</td>\n",
       "      <td>-6.855578e-01</td>\n",
       "      <td>-9.953509e-01</td>\n",
       "      <td>-6.405733e-01</td>\n",
       "      <td>-7.155903e-01</td>\n",
       "      <td>...</td>\n",
       "      <td>-1.200386e+00</td>\n",
       "      <td>-9.087109e-01</td>\n",
       "      <td>-4.925726e-01</td>\n",
       "      <td>-2.797894e-01</td>\n",
       "      <td>-4.923377e-01</td>\n",
       "      <td>-4.926216e-01</td>\n",
       "      <td>-5.006239e-01</td>\n",
       "      <td>-2.968475e-01</td>\n",
       "      <td>-5.006238e-01</td>\n",
       "      <td>-5.006238e-01</td>\n",
       "    </tr>\n",
       "    <tr>\n",
       "      <th>50%</th>\n",
       "      <td>-5.280598e-01</td>\n",
       "      <td>1.134869e-01</td>\n",
       "      <td>-2.338725e-01</td>\n",
       "      <td>1.225253e-01</td>\n",
       "      <td>1.168017e-01</td>\n",
       "      <td>1.793477e-01</td>\n",
       "      <td>1.106896e-01</td>\n",
       "      <td>-1.864637e-01</td>\n",
       "      <td>3.389061e-01</td>\n",
       "      <td>-7.155903e-01</td>\n",
       "      <td>...</td>\n",
       "      <td>1.163599e-01</td>\n",
       "      <td>-3.832149e-01</td>\n",
       "      <td>-4.925726e-01</td>\n",
       "      <td>-2.797894e-01</td>\n",
       "      <td>-4.923377e-01</td>\n",
       "      <td>-4.926216e-01</td>\n",
       "      <td>-5.006239e-01</td>\n",
       "      <td>-2.968475e-01</td>\n",
       "      <td>-5.006238e-01</td>\n",
       "      <td>-5.006238e-01</td>\n",
       "    </tr>\n",
       "    <tr>\n",
       "      <th>75%</th>\n",
       "      <td>5.271538e-01</td>\n",
       "      <td>9.319696e-01</td>\n",
       "      <td>8.888288e-01</td>\n",
       "      <td>7.029430e-01</td>\n",
       "      <td>5.919397e-01</td>\n",
       "      <td>5.791860e-01</td>\n",
       "      <td>4.752672e-01</td>\n",
       "      <td>1.140584e+00</td>\n",
       "      <td>5.905137e-01</td>\n",
       "      <td>1.240967e+00</td>\n",
       "      <td>...</td>\n",
       "      <td>6.579127e-01</td>\n",
       "      <td>8.493489e-01</td>\n",
       "      <td>-4.925726e-01</td>\n",
       "      <td>-2.797894e-01</td>\n",
       "      <td>-4.923377e-01</td>\n",
       "      <td>-4.926216e-01</td>\n",
       "      <td>-5.006239e-01</td>\n",
       "      <td>-2.968475e-01</td>\n",
       "      <td>-5.006238e-01</td>\n",
       "      <td>-5.006238e-01</td>\n",
       "    </tr>\n",
       "    <tr>\n",
       "      <th>max</th>\n",
       "      <td>1.713337e+00</td>\n",
       "      <td>1.538709e+00</td>\n",
       "      <td>2.168643e+00</td>\n",
       "      <td>3.041949e+00</td>\n",
       "      <td>5.883933e+00</td>\n",
       "      <td>4.035647e+00</td>\n",
       "      <td>3.233995e+00</td>\n",
       "      <td>2.329224e+00</td>\n",
       "      <td>4.685579e+00</td>\n",
       "      <td>1.704225e+00</td>\n",
       "      <td>...</td>\n",
       "      <td>2.511256e+00</td>\n",
       "      <td>3.492139e+01</td>\n",
       "      <td>2.093608e+00</td>\n",
       "      <td>3.576140e+00</td>\n",
       "      <td>2.098229e+00</td>\n",
       "      <td>2.092428e+00</td>\n",
       "      <td>2.006166e+00</td>\n",
       "      <td>3.369526e+00</td>\n",
       "      <td>2.006018e+00</td>\n",
       "      <td>2.006746e+00</td>\n",
       "    </tr>\n",
       "  </tbody>\n",
       "</table>\n",
       "<p>8 rows × 68 columns</p>\n",
       "</div>"
      ],
      "text/plain": [
       "       Destination Port  Flow Duration  Total Fwd Packets  \\\n",
       "count      2.830743e+06   2.830743e+06       2.830743e+06   \n",
       "mean       5.614575e-17  -5.294087e-16      -1.481637e-15   \n",
       "std        1.000000e+00   1.000000e+00       1.000000e+00   \n",
       "min       -8.085491e+00  -2.286645e+01      -1.304010e+00   \n",
       "25%       -8.738939e-01  -8.876095e-01      -2.338725e-01   \n",
       "50%       -5.280598e-01   1.134869e-01      -2.338725e-01   \n",
       "75%        5.271538e-01   9.319696e-01       8.888288e-01   \n",
       "max        1.713337e+00   1.538709e+00       2.168643e+00   \n",
       "\n",
       "       Total Backward Packets  Total Length of Fwd Packets  \\\n",
       "count            2.830743e+06                 2.830743e+06   \n",
       "mean            -7.895848e-16                -6.103742e-16   \n",
       "std              1.000000e+00                 1.000000e+00   \n",
       "min             -1.655424e+00                -1.617208e+00   \n",
       "25%             -4.381973e-01                -5.559671e-01   \n",
       "50%              1.225253e-01                 1.168017e-01   \n",
       "75%              7.029430e-01                 5.919397e-01   \n",
       "max              3.041949e+00                 5.883933e+00   \n",
       "\n",
       "       Total Length of Bwd Packets  Fwd Packet Length Max  \\\n",
       "count                 2.830743e+06           2.830743e+06   \n",
       "mean                  4.526701e-16          -2.069120e-16   \n",
       "std                   1.000000e+00           1.000000e+00   \n",
       "min                  -1.349540e+00          -1.591983e+00   \n",
       "25%                  -1.349540e+00          -6.855578e-01   \n",
       "50%                   1.793477e-01           1.106896e-01   \n",
       "75%                   5.791860e-01           4.752672e-01   \n",
       "max                   4.035647e+00           3.233995e+00   \n",
       "\n",
       "       Fwd Packet Length Min  Fwd Packet Length Mean  Fwd Packet Length Std  \\\n",
       "count           2.830743e+06            2.830743e+06           2.830743e+06   \n",
       "mean           -5.198502e-16           -1.929056e-15           1.910080e-16   \n",
       "std             1.000000e+00            1.000000e+00           1.000000e+00   \n",
       "min            -9.953509e-01           -1.640853e+00          -7.155903e-01   \n",
       "25%            -9.953509e-01           -6.405733e-01          -7.155903e-01   \n",
       "50%            -1.864637e-01            3.389061e-01          -7.155903e-01   \n",
       "75%             1.140584e+00            5.905137e-01           1.240967e+00   \n",
       "max             2.329224e+00            4.685579e+00           1.704225e+00   \n",
       "\n",
       "       ...  act_data_pkt_fwd  min_seg_size_forward   Active Mean  \\\n",
       "count  ...      2.830743e+06          2.830743e+06  2.830743e+06   \n",
       "mean   ...     -6.024222e-18         -1.909197e-15 -2.522141e-16   \n",
       "std    ...      1.000000e+00          1.000000e+00  1.000000e+00   \n",
       "min    ...     -1.200386e+00         -2.752211e+01 -4.925726e-01   \n",
       "25%    ...     -1.200386e+00         -9.087109e-01 -4.925726e-01   \n",
       "50%    ...      1.163599e-01         -3.832149e-01 -4.925726e-01   \n",
       "75%    ...      6.579127e-01          8.493489e-01 -4.925726e-01   \n",
       "max    ...      2.511256e+00          3.492139e+01  2.093608e+00   \n",
       "\n",
       "         Active Std    Active Max    Active Min     Idle Mean      Idle Std  \\\n",
       "count  2.830743e+06  2.830743e+06  2.830743e+06  2.830743e+06  2.830743e+06   \n",
       "mean   8.514234e-18  2.377560e-17  1.824135e-16  8.731106e-17 -3.527785e-16   \n",
       "std    1.000000e+00  1.000000e+00  1.000000e+00  1.000000e+00  1.000000e+00   \n",
       "min   -2.797894e-01 -4.923377e-01 -4.926216e-01 -5.006239e-01 -2.968475e-01   \n",
       "25%   -2.797894e-01 -4.923377e-01 -4.926216e-01 -5.006239e-01 -2.968475e-01   \n",
       "50%   -2.797894e-01 -4.923377e-01 -4.926216e-01 -5.006239e-01 -2.968475e-01   \n",
       "75%   -2.797894e-01 -4.923377e-01 -4.926216e-01 -5.006239e-01 -2.968475e-01   \n",
       "max    3.576140e+00  2.098229e+00  2.092428e+00  2.006166e+00  3.369526e+00   \n",
       "\n",
       "           Idle Max      Idle Min  \n",
       "count  2.830743e+06  2.830743e+06  \n",
       "mean  -2.910904e-16  1.681963e-16  \n",
       "std    1.000000e+00  1.000000e+00  \n",
       "min   -5.006238e-01 -5.006238e-01  \n",
       "25%   -5.006238e-01 -5.006238e-01  \n",
       "50%   -5.006238e-01 -5.006238e-01  \n",
       "75%   -5.006238e-01 -5.006238e-01  \n",
       "max    2.006018e+00  2.006746e+00  \n",
       "\n",
       "[8 rows x 68 columns]"
      ]
     },
     "execution_count": 15,
     "metadata": {},
     "output_type": "execute_result"
    }
   ],
   "source": [
    "scaled_summary = pd.DataFrame(x_scaled, columns=x_df.columns).describe()\n",
    "scaled_summary"
   ]
  },
  {
   "cell_type": "code",
   "execution_count": 16,
   "metadata": {},
   "outputs": [
    {
     "name": "stderr",
     "output_type": "stream",
     "text": [
      "100%|█████████████████████████████████████████████████████████████████████| 2830743/2830743 [02:20<00:00, 20081.11it/s]\n"
     ]
    }
   ],
   "source": [
    "y_df_group = y_df.copy()\n",
    "\n",
    "for i in tqdm(range(len(y_df_group))):\n",
    "    attack = y_df_group[i]\n",
    "    group = attack\n",
    "    if attack in (\"DoS Hulk\", \"DoS GoldenEye\", \"DoS slowloris\", \"DoS Slowhttptest\"):\n",
    "        group = \"DoS\"\n",
    "    elif attack.startswith(\"Web Attack\"):\n",
    "        group = \"Web Attack\"\n",
    "    elif attack == \"FTP-Patator\":\n",
    "        group = \"Brute Force FTP\"\n",
    "    elif attack == \"SSH-Patator\":\n",
    "        group = \"Brute Force SSH\"\n",
    "    \n",
    "    y_df_group[i] = group"
   ]
  },
  {
   "cell_type": "code",
   "execution_count": 17,
   "metadata": {},
   "outputs": [
    {
     "data": {
      "text/plain": [
       "BENIGN                        2273097\n",
       "DoS Hulk                       231073\n",
       "PortScan                       158930\n",
       "DDoS                           128027\n",
       "DoS GoldenEye                   10293\n",
       "FTP-Patator                      7938\n",
       "SSH-Patator                      5897\n",
       "DoS slowloris                    5796\n",
       "DoS Slowhttptest                 5499\n",
       "Bot                              1966\n",
       "Web Attack � Brute Force         1507\n",
       "Web Attack � XSS                  652\n",
       "Infiltration                       36\n",
       "Web Attack � Sql Injection         21\n",
       "Heartbleed                         11\n",
       "Name: Label, dtype: int64"
      ]
     },
     "execution_count": 17,
     "metadata": {},
     "output_type": "execute_result"
    }
   ],
   "source": [
    "y_df.value_counts()"
   ]
  },
  {
   "cell_type": "code",
   "execution_count": 18,
   "metadata": {},
   "outputs": [
    {
     "data": {
      "text/plain": [
       "BENIGN             2273097\n",
       "DoS                 252661\n",
       "PortScan            158930\n",
       "DDoS                128027\n",
       "Brute Force FTP       7938\n",
       "Brute Force SSH       5897\n",
       "Web Attack            2180\n",
       "Bot                   1966\n",
       "Infiltration            36\n",
       "Heartbleed              11\n",
       "Name: Label, dtype: int64"
      ]
     },
     "execution_count": 18,
     "metadata": {},
     "output_type": "execute_result"
    }
   ],
   "source": [
    "y_df_group.value_counts()"
   ]
  },
  {
   "cell_type": "code",
   "execution_count": 19,
   "metadata": {},
   "outputs": [],
   "source": [
    "y_df_enc = pd.get_dummies(y_df_group)"
   ]
  },
  {
   "cell_type": "code",
   "execution_count": 29,
   "metadata": {},
   "outputs": [
    {
     "ename": "AttributeError",
     "evalue": "'numpy.ndarray' object has no attribute 'to_csv'",
     "output_type": "error",
     "traceback": [
      "\u001b[1;31m---------------------------------------------------------------------------\u001b[0m",
      "\u001b[1;31mAttributeError\u001b[0m                            Traceback (most recent call last)",
      "\u001b[1;32m<ipython-input-29-ef631ce5489a>\u001b[0m in \u001b[0;36m<module>\u001b[1;34m\u001b[0m\n\u001b[1;32m----> 1\u001b[1;33m \u001b[0mx_scaled\u001b[0m\u001b[1;33m.\u001b[0m\u001b[0mto_csv\u001b[0m\u001b[1;33m(\u001b[0m\u001b[0mNOTEBOOK_PATH\u001b[0m \u001b[1;33m+\u001b[0m \u001b[1;34m\"IDS2017/x_tranformed.csv\"\u001b[0m\u001b[1;33m)\u001b[0m\u001b[1;33m\u001b[0m\u001b[1;33m\u001b[0m\u001b[0m\n\u001b[0m",
      "\u001b[1;31mAttributeError\u001b[0m: 'numpy.ndarray' object has no attribute 'to_csv'"
     ]
    }
   ],
   "source": [
    "x_scaled.to_csv(NOTEBOOK_PATH + \"IDS2017/x_tranformed.csv\")"
   ]
  },
  {
   "cell_type": "code",
   "execution_count": 30,
   "metadata": {},
   "outputs": [
    {
     "data": {
      "text/plain": [
       "(2830743, 68)"
      ]
     },
     "execution_count": 30,
     "metadata": {},
     "output_type": "execute_result"
    }
   ],
   "source": [
    "x_scaled.shape"
   ]
  },
  {
   "cell_type": "code",
   "execution_count": 33,
   "metadata": {},
   "outputs": [],
   "source": [
    "pd.DataFrame(x_scaled, columns=x_df.columns).to_csv(NOTEBOOK_PATH + \"IDS2017/x_scaled_powertransform.csv\", index=False)"
   ]
  },
  {
   "cell_type": "code",
   "execution_count": 34,
   "metadata": {},
   "outputs": [],
   "source": [
    "y_df_enc.to_csv(NOTEBOOK_PATH + \"IDS2017/y_1henc.csv\", index=False)"
   ]
  },
  {
   "cell_type": "markdown",
   "metadata": {},
   "source": [
    "# Split data into train and test"
   ]
  },
  {
   "cell_type": "code",
   "execution_count": 20,
   "metadata": {},
   "outputs": [],
   "source": [
    "from sklearn.model_selection import train_test_split"
   ]
  },
  {
   "cell_type": "code",
   "execution_count": 21,
   "metadata": {},
   "outputs": [],
   "source": [
    "x_train, x_val, y_train, y_val = train_test_split(x_scaled, y_df_enc, test_size = 0.1, random_state = 42)"
   ]
  },
  {
   "cell_type": "code",
   "execution_count": 22,
   "metadata": {},
   "outputs": [
    {
     "data": {
      "text/plain": [
       "BENIGN             2045803\n",
       "Bot                   1772\n",
       "Brute Force FTP       7113\n",
       "Brute Force SSH       5326\n",
       "DDoS                115176\n",
       "DoS                 227435\n",
       "Heartbleed               9\n",
       "Infiltration            33\n",
       "PortScan            143020\n",
       "Web Attack            1981\n",
       "dtype: int64"
      ]
     },
     "execution_count": 22,
     "metadata": {},
     "output_type": "execute_result"
    }
   ],
   "source": [
    "y_train.sum(axis=0)"
   ]
  },
  {
   "cell_type": "code",
   "execution_count": 23,
   "metadata": {},
   "outputs": [
    {
     "data": {
      "text/plain": [
       "BENIGN             227294\n",
       "Bot                   194\n",
       "Brute Force FTP       825\n",
       "Brute Force SSH       571\n",
       "DDoS                12851\n",
       "DoS                 25226\n",
       "Heartbleed              2\n",
       "Infiltration            3\n",
       "PortScan            15910\n",
       "Web Attack            199\n",
       "dtype: int64"
      ]
     },
     "execution_count": 23,
     "metadata": {},
     "output_type": "execute_result"
    }
   ],
   "source": [
    "y_val.sum(axis=0)"
   ]
  },
  {
   "cell_type": "markdown",
   "metadata": {},
   "source": [
    "# Train model"
   ]
  },
  {
   "cell_type": "code",
   "execution_count": 24,
   "metadata": {},
   "outputs": [],
   "source": [
    "from keras.models import Model, Sequential\n",
    "from keras.layers import Dense, BatchNormalization, Dropout, InputLayer\n",
    "from keras.optimizers import SGD, Adam"
   ]
  },
  {
   "cell_type": "code",
   "execution_count": 27,
   "metadata": {},
   "outputs": [],
   "source": [
    "def addDenseBlock(model, units, **params):\n",
    "    model.add(Dense(units=units, activation=params['hidden_activation'], input_dim=x_train.shape[1]))\n",
    "    if params['batch_normalization']: model.add(BatchNormalization())\n",
    "    if params['dropout_rate'] > 0: model.add(Dropout(params['dropout_rate']))\n",
    "\n",
    "def createModel(**in_params):\n",
    "    \"\"\"\n",
    "    Supported parameters:\n",
    "    batch_normalization - True or False\n",
    "    dropout_rate - 0 to 1\n",
    "    num_units - integer\n",
    "    learning_rate - float\n",
    "    activation_function - string\n",
    "    \"\"\"\n",
    "    \n",
    "    model = Sequential()\n",
    "\n",
    "    # Set default values\n",
    "    params = {\n",
    "        'batch_normalization': False,\n",
    "        'dropout_rate': 0,\n",
    "        'num_layers': 6,\n",
    "        'num_units': 128,\n",
    "        'learning_rate': 0.001,\n",
    "        'hidden_activation': 'relu',\n",
    "        'final_activation': 'softmax'\n",
    "    }\n",
    "    \n",
    "    # Replace defaults with specified parameters\n",
    "    for param in in_params:\n",
    "        params[param] = in_params[param]    \n",
    "    \n",
    "    # InputLayer causes serialization issues\n",
    "#     model.add( InputLayer(input_shape = (x_train.shape[1],) ) )\n",
    "    \n",
    "#     for i in range(params['num_layers']):\n",
    "#         addDenseBlock(model, params['num_units'], **params)\n",
    "\n",
    "    addDenseBlock(model, 128, **params)\n",
    "    addDenseBlock(model, 128, **params)\n",
    "    addDenseBlock(model, 256, **params)\n",
    "    addDenseBlock(model, 256, **params)\n",
    "    addDenseBlock(model, 128, **params)\n",
    "    addDenseBlock(model, 128, **params)\n",
    "\n",
    "    model.add(Dense(units=y_train.shape[1], activation=params['final_activation']))\n",
    "\n",
    "    # optim = SGD(lr=0.001, nesterov=True)\n",
    "    optim = Adam(lr=params['learning_rate'])\n",
    "\n",
    "    model.compile(loss='categorical_crossentropy', optimizer=optim, metrics=['accuracy'])\n",
    "    \n",
    "#     print(params)\n",
    "    \n",
    "    return model"
   ]
  },
  {
   "cell_type": "markdown",
   "metadata": {},
   "source": [
    "Ensure a GPU is available"
   ]
  },
  {
   "cell_type": "code",
   "execution_count": 26,
   "metadata": {},
   "outputs": [
    {
     "data": {
      "text/plain": [
       "['/job:localhost/replica:0/task:0/device:GPU:0']"
      ]
     },
     "execution_count": 26,
     "metadata": {},
     "output_type": "execute_result"
    }
   ],
   "source": [
    "import keras.backend as K\n",
    "\n",
    "K.tensorflow_backend._get_available_gpus()"
   ]
  },
  {
   "cell_type": "markdown",
   "metadata": {},
   "source": [
    "### Callbacks"
   ]
  },
  {
   "cell_type": "code",
   "execution_count": 30,
   "metadata": {},
   "outputs": [],
   "source": [
    "from keras.callbacks import CSVLogger, EarlyStopping, ModelCheckpoint\n",
    "\n",
    "def timestamp():\n",
    "    return time.strftime(\"%m-%d-%Y, %I%M%p\")\n",
    "\n",
    "csv_callback = CSVLogger(NOTEBOOK_PATH + 'Loss Logs/%s (%s)' % (model_id, timestamp()), append=True)\n",
    "early_stop = EarlyStopping(monitor = 'val_loss', min_delta=0.0001, patience=5)"
   ]
  },
  {
   "cell_type": "markdown",
   "metadata": {},
   "source": [
    "### Model Saving"
   ]
  },
  {
   "cell_type": "code",
   "execution_count": 33,
   "metadata": {},
   "outputs": [
    {
     "name": "stdout",
     "output_type": "stream",
     "text": [
      "Created D:/Delta Stuff/Scifair20/Models/dnn1/\n"
     ]
    }
   ],
   "source": [
    "savedir = NOTEBOOK_PATH + \"Models/%s/\" % model_id\n",
    "if not os.path.exists(savedir):\n",
    "    os.makedirs(savedir)\n",
    "    print(\"Created \" + savedir)\n",
    "else:\n",
    "    print(\"Using \" + savedir)"
   ]
  },
  {
   "cell_type": "markdown",
   "metadata": {},
   "source": [
    "### Training"
   ]
  },
  {
   "cell_type": "code",
   "execution_count": 35,
   "metadata": {},
   "outputs": [],
   "source": [
    "import itertools\n",
    "\n",
    "trainEpochs = 40\n",
    "\n",
    "parameters = {'batch_size': 250, 'num_layers':5, 'num_units':256, 'dropout_rate':0}"
   ]
  },
  {
   "cell_type": "code",
   "execution_count": 38,
   "metadata": {},
   "outputs": [
    {
     "name": "stdout",
     "output_type": "stream",
     "text": [
      "dnn1\n",
      "_________________________________________________________________\n",
      "Layer (type)                 Output Shape              Param #   \n",
      "=================================================================\n",
      "dense_15 (Dense)             (None, 128)               8832      \n",
      "_________________________________________________________________\n",
      "dense_16 (Dense)             (None, 128)               16512     \n",
      "_________________________________________________________________\n",
      "dense_17 (Dense)             (None, 256)               33024     \n",
      "_________________________________________________________________\n",
      "dense_18 (Dense)             (None, 256)               65792     \n",
      "_________________________________________________________________\n",
      "dense_19 (Dense)             (None, 128)               32896     \n",
      "_________________________________________________________________\n",
      "dense_20 (Dense)             (None, 128)               16512     \n",
      "_________________________________________________________________\n",
      "dense_21 (Dense)             (None, 10)                1290      \n",
      "=================================================================\n",
      "Total params: 174,858\n",
      "Trainable params: 174,858\n",
      "Non-trainable params: 0\n",
      "_________________________________________________________________\n",
      "Train on 2547668 samples, validate on 283075 samples\n",
      "Epoch 1/40\n",
      " - 60s - loss: 0.0178 - acc: 0.9950 - val_loss: 0.0110 - val_acc: 0.9967\n",
      "Epoch 2/40\n",
      " - 59s - loss: 0.0107 - acc: 0.9970 - val_loss: 0.0090 - val_acc: 0.9974\n",
      "Epoch 3/40\n",
      " - 59s - loss: 0.0102 - acc: 0.9972 - val_loss: 0.0090 - val_acc: 0.9973\n",
      "Epoch 4/40\n",
      " - 59s - loss: 0.0104 - acc: 0.9974 - val_loss: 0.0091 - val_acc: 0.9973\n",
      "Epoch 5/40\n",
      " - 59s - loss: 0.0099 - acc: 0.9973 - val_loss: 0.0077 - val_acc: 0.9976\n",
      "Epoch 6/40\n",
      " - 59s - loss: 0.0118 - acc: 0.9972 - val_loss: 0.0181 - val_acc: 0.9970\n",
      "Epoch 7/40\n",
      " - 59s - loss: 0.0102 - acc: 0.9973 - val_loss: 0.0089 - val_acc: 0.9976\n",
      "Epoch 8/40\n",
      " - 59s - loss: 0.0128 - acc: 0.9973 - val_loss: 0.0080 - val_acc: 0.9975\n",
      "Epoch 9/40\n",
      " - 59s - loss: 0.0097 - acc: 0.9974 - val_loss: 0.0080 - val_acc: 0.9976\n",
      "Epoch 10/40\n",
      " - 59s - loss: 0.0098 - acc: 0.9974 - val_loss: 0.0079 - val_acc: 0.9978\n",
      "Epoch 11/40\n",
      " - 59s - loss: 0.0297 - acc: 0.9962 - val_loss: 0.0075 - val_acc: 0.9978\n",
      "Epoch 12/40\n",
      " - 59s - loss: 0.0109 - acc: 0.9974 - val_loss: 0.0121 - val_acc: 0.9975\n",
      "Epoch 13/40\n",
      " - 59s - loss: 0.0090 - acc: 0.9975 - val_loss: 0.0096 - val_acc: 0.9974\n",
      "Epoch 14/40\n",
      " - 59s - loss: 0.0103 - acc: 0.9975 - val_loss: 0.0132 - val_acc: 0.9975\n",
      "Epoch 15/40\n",
      " - 59s - loss: 0.0115 - acc: 0.9974 - val_loss: 0.0075 - val_acc: 0.9975\n",
      "Epoch 16/40\n",
      " - 59s - loss: 0.0122 - acc: 0.9973 - val_loss: 0.0166 - val_acc: 0.9972\n",
      "Epoch 17/40\n",
      " - 58s - loss: 0.0114 - acc: 0.9975 - val_loss: 0.0166 - val_acc: 0.9966\n",
      "Epoch 18/40\n",
      " - 59s - loss: 0.0254 - acc: 0.9967 - val_loss: 0.0108 - val_acc: 0.9977\n",
      "Epoch 19/40\n",
      " - 59s - loss: 0.0189 - acc: 0.9969 - val_loss: 0.0074 - val_acc: 0.9978\n",
      "Epoch 20/40\n",
      " - 59s - loss: 0.0089 - acc: 0.9977 - val_loss: 0.0088 - val_acc: 0.9974\n",
      "Epoch 21/40\n",
      " - 59s - loss: 0.0123 - acc: 0.9976 - val_loss: 0.0112 - val_acc: 0.9979\n",
      "Epoch 22/40\n",
      " - 59s - loss: 0.0139 - acc: 0.9974 - val_loss: 0.0108 - val_acc: 0.9980\n",
      "Epoch 23/40\n",
      " - 58s - loss: 0.0129 - acc: 0.9976 - val_loss: 0.0094 - val_acc: 0.9979\n",
      "Epoch 24/40\n",
      " - 59s - loss: 0.0135 - acc: 0.9976 - val_loss: 0.0156 - val_acc: 0.9954\n",
      "Epoch 25/40\n",
      " - 59s - loss: 0.0158 - acc: 0.9973 - val_loss: 0.0096 - val_acc: 0.9973\n",
      "Epoch 26/40\n",
      " - 59s - loss: 0.0119 - acc: 0.9974 - val_loss: 0.0135 - val_acc: 0.9975\n",
      "Epoch 27/40\n",
      " - 59s - loss: 0.0109 - acc: 0.9976 - val_loss: 0.0103 - val_acc: 0.9980\n",
      "Epoch 28/40\n",
      " - 59s - loss: 0.0107 - acc: 0.9976 - val_loss: 0.0082 - val_acc: 0.9982\n",
      "Epoch 29/40\n",
      " - 59s - loss: 0.0102 - acc: 0.9977 - val_loss: 0.0075 - val_acc: 0.9981\n",
      "Epoch 30/40\n",
      " - 59s - loss: 0.0200 - acc: 0.9971 - val_loss: 0.0608 - val_acc: 0.9947\n",
      "Epoch 31/40\n",
      " - 59s - loss: 0.0334 - acc: 0.9965 - val_loss: 0.0282 - val_acc: 0.9967\n",
      "Epoch 32/40\n",
      " - 59s - loss: 0.0180 - acc: 0.9973 - val_loss: 0.0154 - val_acc: 0.9977\n",
      "Epoch 33/40\n",
      " - 59s - loss: 0.0146 - acc: 0.9976 - val_loss: 0.0076 - val_acc: 0.9979\n",
      "Epoch 34/40\n",
      " - 59s - loss: 0.0189 - acc: 0.9972 - val_loss: 0.3357 - val_acc: 0.9781\n",
      "Epoch 35/40\n",
      " - 59s - loss: 0.0362 - acc: 0.9963 - val_loss: 0.0108 - val_acc: 0.9977\n",
      "Epoch 36/40\n",
      " - 59s - loss: 0.0104 - acc: 0.9978 - val_loss: 0.0142 - val_acc: 0.9981\n",
      "Epoch 37/40\n",
      " - 59s - loss: 0.0229 - acc: 0.9970 - val_loss: 0.1337 - val_acc: 0.9901\n",
      "Epoch 38/40\n",
      " - 59s - loss: 0.0231 - acc: 0.9972 - val_loss: 0.0138 - val_acc: 0.9980\n",
      "Epoch 39/40\n",
      " - 59s - loss: 0.0113 - acc: 0.9977 - val_loss: 0.0094 - val_acc: 0.9977\n",
      "Epoch 40/40\n",
      " - 59s - loss: 0.0161 - acc: 0.9975 - val_loss: 0.0277 - val_acc: 0.9967\n",
      "Wall time: 39min 18s\n"
     ]
    },
    {
     "data": {
      "text/plain": [
       "<keras.callbacks.History at 0x27292abe518>"
      ]
     },
     "execution_count": 38,
     "metadata": {},
     "output_type": "execute_result"
    }
   ],
   "source": [
    "%%time\n",
    "print(model_id)\n",
    "model = createModel(**parameters)\n",
    "model.summary()\n",
    "model_checkpoint = ModelCheckpoint(NOTEBOOK_PATH + \"Models/%s/dnn({epoch}).h5\" % (model_id), monitor='val_loss')\n",
    "model.fit(x_train, y_train, validation_data=(x_val, y_val), batch_size=parameters['batch_size'], epochs=trainEpochs, verbose=2, callbacks=[csv_callback, model_checkpoint])"
   ]
  },
  {
   "cell_type": "markdown",
   "metadata": {},
   "source": [
    "# F1 Score"
   ]
  },
  {
   "cell_type": "code",
   "execution_count": 40,
   "metadata": {},
   "outputs": [],
   "source": [
    "from sklearn.metrics import f1_score"
   ]
  },
  {
   "cell_type": "code",
   "execution_count": 41,
   "metadata": {},
   "outputs": [
    {
     "name": "stdout",
     "output_type": "stream",
     "text": [
      "40\n"
     ]
    }
   ],
   "source": [
    "model_names = glob.glob(NOTEBOOK_PATH + f\"Models/{model_id}/*.h5\")\n",
    "# print(model_names)\n",
    "print(len(model_names))"
   ]
  },
  {
   "cell_type": "code",
   "execution_count": 45,
   "metadata": {},
   "outputs": [
    {
     "name": "stderr",
     "output_type": "stream",
     "text": [
      "  0%|                                                                                           | 0/40 [00:00<?, ?it/s]C:\\Users\\Xetrov\\AppData\\Local\\Continuum\\anaconda3\\lib\\site-packages\\sklearn\\metrics\\classification.py:1437: UndefinedMetricWarning: F-score is ill-defined and being set to 0.0 in labels with no predicted samples.\n",
      "  'precision', 'predicted', average, warn_for)\n",
      "100%|██████████████████████████████████████████████████████████████████████████████████| 40/40 [09:39<00:00, 14.48s/it]\n"
     ]
    }
   ],
   "source": [
    "f1_micro = np.zeros((len(model_names)))\n",
    "f1_macro = np.zeros((len(model_names)))\n",
    "for i in tqdm(range(len(model_names))):\n",
    "    epoch_model = keras.models.load_model(model_names[i])\n",
    "    pred = epoch_model.predict(x_val).argmax(axis=1)\n",
    "    pred_f1 = np.zeros((len(x_val), y_val.shape[1]))\n",
    "    for j in range(len(pred)):\n",
    "        pred_f1[j,pred[j]] = 1\n",
    "    f1_micro[i-1] = f1_score(y_val, pred_f1.astype('uint8'), average='micro')\n",
    "    f1_macro[i-1] = f1_score(y_val, pred_f1.astype('uint8'), average='macro')"
   ]
  },
  {
   "cell_type": "code",
   "execution_count": 47,
   "metadata": {},
   "outputs": [
    {
     "name": "stdout",
     "output_type": "stream",
     "text": [
      "F1 Micro\n",
      "D:/Delta Stuff/Scifair20/Models/dnn1\\dnn(27).h5\n",
      "0.9982160204892696\n",
      "F1 Macro\n",
      "D:/Delta Stuff/Scifair20/Models/dnn1\\dnn(17).h5\n",
      "0.7544766158354702\n"
     ]
    }
   ],
   "source": [
    "print(\"F1 Micro\")\n",
    "print(model_names[f1_micro.argmax()])\n",
    "print(f1_micro.max())\n",
    "\n",
    "print(\"F1 Macro\")\n",
    "print(model_names[f1_macro.argmax()])\n",
    "print(f1_macro.max())"
   ]
  },
  {
   "cell_type": "code",
   "execution_count": 49,
   "metadata": {},
   "outputs": [
    {
     "data": {
      "text/html": [
       "<div>\n",
       "<style scoped>\n",
       "    .dataframe tbody tr th:only-of-type {\n",
       "        vertical-align: middle;\n",
       "    }\n",
       "\n",
       "    .dataframe tbody tr th {\n",
       "        vertical-align: top;\n",
       "    }\n",
       "\n",
       "    .dataframe thead th {\n",
       "        text-align: right;\n",
       "    }\n",
       "</style>\n",
       "<table border=\"1\" class=\"dataframe\">\n",
       "  <thead>\n",
       "    <tr style=\"text-align: right;\">\n",
       "      <th>Actual</th>\n",
       "      <th>BENIGN</th>\n",
       "      <th>Bot</th>\n",
       "      <th>Brute Force FTP</th>\n",
       "      <th>Brute Force SSH</th>\n",
       "      <th>DDoS</th>\n",
       "      <th>DoS</th>\n",
       "      <th>Heartbleed</th>\n",
       "      <th>Infiltration</th>\n",
       "      <th>PortScan</th>\n",
       "      <th>Web Attack</th>\n",
       "      <th>All</th>\n",
       "    </tr>\n",
       "    <tr>\n",
       "      <th>Pred</th>\n",
       "      <th></th>\n",
       "      <th></th>\n",
       "      <th></th>\n",
       "      <th></th>\n",
       "      <th></th>\n",
       "      <th></th>\n",
       "      <th></th>\n",
       "      <th></th>\n",
       "      <th></th>\n",
       "      <th></th>\n",
       "      <th></th>\n",
       "    </tr>\n",
       "  </thead>\n",
       "  <tbody>\n",
       "    <tr>\n",
       "      <th>BENIGN</th>\n",
       "      <td>226915</td>\n",
       "      <td>118</td>\n",
       "      <td>0</td>\n",
       "      <td>3</td>\n",
       "      <td>9</td>\n",
       "      <td>37</td>\n",
       "      <td>2</td>\n",
       "      <td>3</td>\n",
       "      <td>0</td>\n",
       "      <td>7</td>\n",
       "      <td>227094</td>\n",
       "    </tr>\n",
       "    <tr>\n",
       "      <th>Bot</th>\n",
       "      <td>0</td>\n",
       "      <td>76</td>\n",
       "      <td>0</td>\n",
       "      <td>0</td>\n",
       "      <td>0</td>\n",
       "      <td>0</td>\n",
       "      <td>0</td>\n",
       "      <td>0</td>\n",
       "      <td>0</td>\n",
       "      <td>0</td>\n",
       "      <td>76</td>\n",
       "    </tr>\n",
       "    <tr>\n",
       "      <th>Brute Force FTP</th>\n",
       "      <td>1</td>\n",
       "      <td>0</td>\n",
       "      <td>823</td>\n",
       "      <td>5</td>\n",
       "      <td>0</td>\n",
       "      <td>0</td>\n",
       "      <td>0</td>\n",
       "      <td>0</td>\n",
       "      <td>0</td>\n",
       "      <td>0</td>\n",
       "      <td>829</td>\n",
       "    </tr>\n",
       "    <tr>\n",
       "      <th>Brute Force SSH</th>\n",
       "      <td>12</td>\n",
       "      <td>0</td>\n",
       "      <td>1</td>\n",
       "      <td>563</td>\n",
       "      <td>0</td>\n",
       "      <td>0</td>\n",
       "      <td>0</td>\n",
       "      <td>0</td>\n",
       "      <td>0</td>\n",
       "      <td>0</td>\n",
       "      <td>576</td>\n",
       "    </tr>\n",
       "    <tr>\n",
       "      <th>DDoS</th>\n",
       "      <td>1</td>\n",
       "      <td>0</td>\n",
       "      <td>0</td>\n",
       "      <td>0</td>\n",
       "      <td>12842</td>\n",
       "      <td>0</td>\n",
       "      <td>0</td>\n",
       "      <td>0</td>\n",
       "      <td>0</td>\n",
       "      <td>0</td>\n",
       "      <td>12843</td>\n",
       "    </tr>\n",
       "    <tr>\n",
       "      <th>DoS</th>\n",
       "      <td>261</td>\n",
       "      <td>0</td>\n",
       "      <td>1</td>\n",
       "      <td>0</td>\n",
       "      <td>0</td>\n",
       "      <td>25189</td>\n",
       "      <td>0</td>\n",
       "      <td>0</td>\n",
       "      <td>6</td>\n",
       "      <td>2</td>\n",
       "      <td>25459</td>\n",
       "    </tr>\n",
       "    <tr>\n",
       "      <th>PortScan</th>\n",
       "      <td>91</td>\n",
       "      <td>0</td>\n",
       "      <td>0</td>\n",
       "      <td>0</td>\n",
       "      <td>0</td>\n",
       "      <td>0</td>\n",
       "      <td>0</td>\n",
       "      <td>0</td>\n",
       "      <td>15904</td>\n",
       "      <td>0</td>\n",
       "      <td>15995</td>\n",
       "    </tr>\n",
       "    <tr>\n",
       "      <th>Web Attack</th>\n",
       "      <td>13</td>\n",
       "      <td>0</td>\n",
       "      <td>0</td>\n",
       "      <td>0</td>\n",
       "      <td>0</td>\n",
       "      <td>0</td>\n",
       "      <td>0</td>\n",
       "      <td>0</td>\n",
       "      <td>0</td>\n",
       "      <td>190</td>\n",
       "      <td>203</td>\n",
       "    </tr>\n",
       "    <tr>\n",
       "      <th>All</th>\n",
       "      <td>227294</td>\n",
       "      <td>194</td>\n",
       "      <td>825</td>\n",
       "      <td>571</td>\n",
       "      <td>12851</td>\n",
       "      <td>25226</td>\n",
       "      <td>2</td>\n",
       "      <td>3</td>\n",
       "      <td>15910</td>\n",
       "      <td>199</td>\n",
       "      <td>283075</td>\n",
       "    </tr>\n",
       "  </tbody>\n",
       "</table>\n",
       "</div>"
      ],
      "text/plain": [
       "Actual           BENIGN  Bot  Brute Force FTP  Brute Force SSH   DDoS    DoS  \\\n",
       "Pred                                                                           \n",
       "BENIGN           226915  118                0                3      9     37   \n",
       "Bot                   0   76                0                0      0      0   \n",
       "Brute Force FTP       1    0              823                5      0      0   \n",
       "Brute Force SSH      12    0                1              563      0      0   \n",
       "DDoS                  1    0                0                0  12842      0   \n",
       "DoS                 261    0                1                0      0  25189   \n",
       "PortScan             91    0                0                0      0      0   \n",
       "Web Attack           13    0                0                0      0      0   \n",
       "All              227294  194              825              571  12851  25226   \n",
       "\n",
       "Actual           Heartbleed  Infiltration  PortScan  Web Attack     All  \n",
       "Pred                                                                     \n",
       "BENIGN                    2             3         0           7  227094  \n",
       "Bot                       0             0         0           0      76  \n",
       "Brute Force FTP           0             0         0           0     829  \n",
       "Brute Force SSH           0             0         0           0     576  \n",
       "DDoS                      0             0         0           0   12843  \n",
       "DoS                       0             0         6           2   25459  \n",
       "PortScan                  0             0     15904           0   15995  \n",
       "Web Attack                0             0         0         190     203  \n",
       "All                       2             3     15910         199  283075  "
      ]
     },
     "execution_count": 49,
     "metadata": {},
     "output_type": "execute_result"
    }
   ],
   "source": [
    "model = keras.models.load_model(\"D:/Delta Stuff/Scifair20/Models/dnn1\\dnn(27).h5\")\n",
    "pred = model.predict(x_val)\n",
    "\n",
    "pred_index = list(pred.argmax(1))\n",
    "y_index = list(np.argmax(y_val.to_numpy(), axis=1))\n",
    "\n",
    "atktypes = sorted(y_val.columns)\n",
    "pred_series = pd.Series(pred_index, name=\"Pred\").replace(dict(enumerate(atktypes)))\n",
    "y_series = pd.Series(y_index, name=\"Actual\").replace(dict(enumerate(atktypes)))\n",
    "\n",
    "matrix = pd.crosstab(pred_series, y_series, margins=True)\n",
    "matrix"
   ]
  },
  {
   "cell_type": "markdown",
   "metadata": {},
   "source": [
    "# Log results"
   ]
  },
  {
   "cell_type": "code",
   "execution_count": 72,
   "metadata": {},
   "outputs": [],
   "source": [
    "model_log = open(NOTEBOOK_PATH + \"model_log.txt\", \"a\")\n",
    "\n",
    "model_log.write(\"\\n\" + model_filename)\n",
    "model_log.write(\"\\n\\tF1 Micro: \" + str(f1_micro))\n",
    "model_log.write(\"\\n\\tF1 Macro: \" + str(f1_macro))\n",
    "\n",
    "model_log.close()"
   ]
  }
 ],
 "metadata": {
  "kernelspec": {
   "display_name": "Python 3",
   "language": "python",
   "name": "python3"
  },
  "language_info": {
   "codemirror_mode": {
    "name": "ipython",
    "version": 3
   },
   "file_extension": ".py",
   "mimetype": "text/x-python",
   "name": "python",
   "nbconvert_exporter": "python",
   "pygments_lexer": "ipython3",
   "version": "3.6.7"
  }
 },
 "nbformat": 4,
 "nbformat_minor": 4
}
